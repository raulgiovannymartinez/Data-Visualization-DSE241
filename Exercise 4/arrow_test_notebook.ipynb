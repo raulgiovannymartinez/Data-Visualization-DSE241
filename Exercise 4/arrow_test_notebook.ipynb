{
 "cells": [
  {
   "cell_type": "code",
   "execution_count": null,
   "id": "animal-berry",
   "metadata": {},
   "outputs": [
    {
     "name": "stdout",
     "output_type": "stream",
     "text": [
      "[-1.0, 0.614224237061109]\n",
      "[0.7921535304551556, -0.48696757917747696]\n",
      "[0.7921535304551556, -0.48696757917747696]\n",
      "[0.1311760040428576, -0.3852801592244819]\n",
      "[0.1311760040428576, -0.3852801592244819]\n",
      "[0.4008009241966756, 0.05863767690527721]\n",
      "Dash is running on http://127.0.0.1:8050/\n",
      "\n",
      "Dash is running on http://127.0.0.1:8050/\n",
      "\n",
      "Dash is running on http://127.0.0.1:8050/\n",
      "\n",
      " * Serving Flask app \"__main__\" (lazy loading)\n",
      " * Environment: production\n",
      "   WARNING: This is a development server. Do not use it in a production deployment.\n",
      "   Use a production WSGI server instead.\n",
      " * Debug mode: on\n"
     ]
    }
   ],
   "source": [
    "import plotly.graph_objects as go\n",
    "import networkx as nx\n",
    "import dash\n",
    "import dash_core_components as dcc\n",
    "import dash_html_components as html\n",
    "from addEdge import addEdge\n",
    "\n",
    "# Controls for how the graph is drawn\n",
    "nodeColor = 'Blue'\n",
    "nodeSize = 20\n",
    "lineWidth = 2\n",
    "lineColor = '#000000'\n",
    "\n",
    "# Make a random graph using networkx\n",
    "G = nx.random_geometric_graph(5, .5)\n",
    "pos = nx.layout.spring_layout(G)\n",
    "for node in G.nodes:\n",
    "    G.nodes[node]['pos'] = list(pos[node])\n",
    "\n",
    "# Make list of nodes for plotly\n",
    "node_x = []\n",
    "node_y = []\n",
    "for node in G.nodes():\n",
    "    x, y = G.nodes[node]['pos']\n",
    "    node_x.append(x)\n",
    "    node_y.append(y)\n",
    "\n",
    "# Make a list of edges for plotly, including line segments that result in arrowheads\n",
    "edge_x = []\n",
    "edge_y = []\n",
    "for edge in G.edges():\n",
    "    # addEdge(start, end, edge_x, edge_y, lengthFrac=1, arrowPos = None, arrowLength=0.025, arrowAngle = 30, dotSize=20)\n",
    "    start = G.nodes[edge[0]]['pos']\n",
    "    end = G.nodes[edge[1]]['pos']\n",
    "    edge_x, edge_y = addEdge(start, end, edge_x, edge_y, .8, 'end', .04, 30, nodeSize)\n",
    "\n",
    "\n",
    "edge_trace = go.Scatter(x=edge_x, y=edge_y, line=dict(width=lineWidth, color=lineColor), hoverinfo='none', mode='lines')\n",
    "\n",
    "\n",
    "node_trace = go.Scatter(x=node_x, y=node_y, mode='markers', hoverinfo='text', marker=dict(showscale=False, color = nodeColor, size=nodeSize))\n",
    "\n",
    "fig = go.Figure(data=[edge_trace, node_trace],\n",
    "             layout=go.Layout(\n",
    "                showlegend=False,\n",
    "                hovermode='closest',\n",
    "                margin=dict(b=20,l=5,r=5,t=40),\n",
    "                xaxis=dict(showgrid=False, zeroline=False, showticklabels=False),\n",
    "                yaxis=dict(showgrid=False, zeroline=False, showticklabels=False))\n",
    "                )\n",
    "\n",
    "# Note: if you don't use fixed ratio axes, the arrows won't be symmetrical\n",
    "fig.update_layout(yaxis = dict(scaleanchor = \"x\", scaleratio = 1), plot_bgcolor='rgb(255,255,255)')\n",
    "\n",
    "app = dash.Dash()\n",
    "app.layout = html.Div([dcc.Graph(figure=fig)])\n",
    "\n",
    "app.run_server(debug=True, use_reloader=False)"
   ]
  }
 ],
 "metadata": {
  "kernelspec": {
   "display_name": "Python 3",
   "language": "python",
   "name": "python3"
  },
  "language_info": {
   "codemirror_mode": {
    "name": "ipython",
    "version": 3
   },
   "file_extension": ".py",
   "mimetype": "text/x-python",
   "name": "python",
   "nbconvert_exporter": "python",
   "pygments_lexer": "ipython3",
   "version": "3.8.5"
  }
 },
 "nbformat": 4,
 "nbformat_minor": 5
}
