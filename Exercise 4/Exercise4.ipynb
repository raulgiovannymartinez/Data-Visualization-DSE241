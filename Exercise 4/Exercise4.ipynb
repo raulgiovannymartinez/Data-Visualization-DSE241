{
 "cells": [
  {
   "cell_type": "markdown",
   "id": "available-arlington",
   "metadata": {},
   "source": [
    "# Exercise 4"
   ]
  },
  {
   "cell_type": "markdown",
   "id": "faced-company",
   "metadata": {},
   "source": [
    "Create a visualization of the provided sheep data. You may create either an adjacency matrix visualization, or a node-link visualization."
   ]
  },
  {
   "cell_type": "markdown",
   "id": "important-nerve",
   "metadata": {},
   "source": [
    "- Data - sheep_data.zip, sheep_ml.graphml\n",
    "- Tools - Python NetworkX reccomended, D3 force layout may also be used (for node-link visualization).\n",
    "- Report - Up to 3 pages (anything beyond three pages will not be graded). Discuss the expressiveness and effectiveness of your chosen visual idiom. Describe any findings that can be identified or learned from the visualization. See report format\n",
    "- Notes - The edge weights are non-symmetric, meaning that the network has directed edges. You are NOT required to visualize the weights on both directions of each edge as this can get very complicated (specifically with node-link visualizations). You are allowed to simply pick one value for each edge.\n",
    "- Grading - Since implementing interativity with NetworkX solutions is a significant challenge, for NetworkX solutions without interactivity, interactivity points will be awarded in one of two ways: If the data is augmented (i.e. extra properties of the data are computed and used for visualization) the interactivity portion of the grade will be assigned to the expressiveness and effectiveness of the visualization of this augmentation (please also discuss the augmentation in your report).<br>Otherwise, the interactivity points will be evenly split between the effectiveness and report sections (making them 40% and 30% respectively). This means if you choose not to use interactivity or augmentation, please put extra attention into your report and the justification of the effectiveness of the choices you made in your visualization.\n",
    "- Due Date - Feb 20th, 1am PT Refer to submission instructions"
   ]
  },
  {
   "cell_type": "markdown",
   "id": "sought-linux",
   "metadata": {},
   "source": [
    "## Explore the Dataset"
   ]
  },
  {
   "cell_type": "code",
   "execution_count": 1,
   "id": "wrong-period",
   "metadata": {},
   "outputs": [],
   "source": [
    "import pandas as pd\n",
    "import matplotlib.pyplot as plt"
   ]
  },
  {
   "cell_type": "code",
   "execution_count": 2,
   "id": "figured-domestic",
   "metadata": {},
   "outputs": [
    {
     "name": "stdout",
     "output_type": "stream",
     "text": [
      "DSE 241: Exercise 4 Data\n",
      "\n",
      "HAAS -- BIGHORN SHEEP DOMINANCE\n",
      "\n",
      "Source: http://moreno.ss.uci.edu/data.html#sheep\n",
      "\n",
      "Description: \n",
      "    - sheep_age.csv:  \n",
      "        - Two Columns: Sheep_ID, Sheep_Age\n",
      "    - sheep_edges.csv: \n",
      "        - Three Columns: Source_Sheep_ID, Target_Sheep_ID, Weight\n",
      "\n",
      "Background:\n",
      "    Data record wins and losses for 28 female bighorn sheep observed on the National Bison Range in 1984. The 'Weight' entry is the number of occasions on which the Source sheep was observed dominating the Target sheep. Ages are listed, but those assigned an age of 9 are at least 9 years old; they may be older.\n",
      "\n",
      "Reference:\n",
      "    Christine Hass, \"Social status in female bighorn sheep (Ovis canadensis): expression, development and reproductive correlates.\" Journal of the Zoological Society of London, 1991, 225: 509-523.Station, Technical Bulletin 73. \n"
     ]
    }
   ],
   "source": [
    "with open('Data/sheep_data/README.txt') as f:\n",
    "    print(f.read())"
   ]
  },
  {
   "cell_type": "code",
   "execution_count": 3,
   "id": "personal-courtesy",
   "metadata": {},
   "outputs": [],
   "source": [
    "age_df = pd.read_csv('Data/sheep_data/sheep_age.csv')\n",
    "edges_df = pd.read_csv('Data/sheep_data/sheep_edges.csv')"
   ]
  },
  {
   "cell_type": "code",
   "execution_count": 4,
   "id": "crude-proxy",
   "metadata": {},
   "outputs": [
    {
     "name": "stdout",
     "output_type": "stream",
     "text": [
      "Number of entries in the \"age\" dataset:  28\n"
     ]
    },
    {
     "data": {
      "text/html": [
       "<div>\n",
       "<style scoped>\n",
       "    .dataframe tbody tr th:only-of-type {\n",
       "        vertical-align: middle;\n",
       "    }\n",
       "\n",
       "    .dataframe tbody tr th {\n",
       "        vertical-align: top;\n",
       "    }\n",
       "\n",
       "    .dataframe thead th {\n",
       "        text-align: right;\n",
       "    }\n",
       "</style>\n",
       "<table border=\"1\" class=\"dataframe\">\n",
       "  <thead>\n",
       "    <tr style=\"text-align: right;\">\n",
       "      <th></th>\n",
       "      <th>id</th>\n",
       "      <th>age</th>\n",
       "    </tr>\n",
       "  </thead>\n",
       "  <tbody>\n",
       "    <tr>\n",
       "      <th>0</th>\n",
       "      <td>1</td>\n",
       "      <td>8</td>\n",
       "    </tr>\n",
       "    <tr>\n",
       "      <th>1</th>\n",
       "      <td>2</td>\n",
       "      <td>8</td>\n",
       "    </tr>\n",
       "    <tr>\n",
       "      <th>2</th>\n",
       "      <td>3</td>\n",
       "      <td>4</td>\n",
       "    </tr>\n",
       "    <tr>\n",
       "      <th>3</th>\n",
       "      <td>4</td>\n",
       "      <td>7</td>\n",
       "    </tr>\n",
       "    <tr>\n",
       "      <th>4</th>\n",
       "      <td>5</td>\n",
       "      <td>8</td>\n",
       "    </tr>\n",
       "  </tbody>\n",
       "</table>\n",
       "</div>"
      ],
      "text/plain": [
       "   id  age\n",
       "0   1    8\n",
       "1   2    8\n",
       "2   3    4\n",
       "3   4    7\n",
       "4   5    8"
      ]
     },
     "execution_count": 4,
     "metadata": {},
     "output_type": "execute_result"
    }
   ],
   "source": [
    "print('Number of entries in the \"age\" dataset: ',len(age_df))\n",
    "age_df.head()"
   ]
  },
  {
   "cell_type": "code",
   "execution_count": 5,
   "id": "minus-representative",
   "metadata": {},
   "outputs": [
    {
     "name": "stdout",
     "output_type": "stream",
     "text": [
      "Number of entries in the \"edges\" dataset:  250\n"
     ]
    },
    {
     "data": {
      "text/html": [
       "<div>\n",
       "<style scoped>\n",
       "    .dataframe tbody tr th:only-of-type {\n",
       "        vertical-align: middle;\n",
       "    }\n",
       "\n",
       "    .dataframe tbody tr th {\n",
       "        vertical-align: top;\n",
       "    }\n",
       "\n",
       "    .dataframe thead th {\n",
       "        text-align: right;\n",
       "    }\n",
       "</style>\n",
       "<table border=\"1\" class=\"dataframe\">\n",
       "  <thead>\n",
       "    <tr style=\"text-align: right;\">\n",
       "      <th></th>\n",
       "      <th>source</th>\n",
       "      <th>target</th>\n",
       "      <th>weight</th>\n",
       "    </tr>\n",
       "  </thead>\n",
       "  <tbody>\n",
       "    <tr>\n",
       "      <th>0</th>\n",
       "      <td>1</td>\n",
       "      <td>2</td>\n",
       "      <td>1</td>\n",
       "    </tr>\n",
       "    <tr>\n",
       "      <th>1</th>\n",
       "      <td>1</td>\n",
       "      <td>3</td>\n",
       "      <td>1</td>\n",
       "    </tr>\n",
       "    <tr>\n",
       "      <th>2</th>\n",
       "      <td>1</td>\n",
       "      <td>4</td>\n",
       "      <td>1</td>\n",
       "    </tr>\n",
       "    <tr>\n",
       "      <th>3</th>\n",
       "      <td>1</td>\n",
       "      <td>5</td>\n",
       "      <td>1</td>\n",
       "    </tr>\n",
       "    <tr>\n",
       "      <th>4</th>\n",
       "      <td>1</td>\n",
       "      <td>6</td>\n",
       "      <td>1</td>\n",
       "    </tr>\n",
       "  </tbody>\n",
       "</table>\n",
       "</div>"
      ],
      "text/plain": [
       "   source  target  weight\n",
       "0       1       2       1\n",
       "1       1       3       1\n",
       "2       1       4       1\n",
       "3       1       5       1\n",
       "4       1       6       1"
      ]
     },
     "execution_count": 5,
     "metadata": {},
     "output_type": "execute_result"
    }
   ],
   "source": [
    "print('Number of entries in the \"edges\" dataset: ',len(edges_df))\n",
    "edges_df.head()"
   ]
  },
  {
   "cell_type": "markdown",
   "id": "expressed-impossible",
   "metadata": {},
   "source": [
    "## Generate Graph using NetworkX"
   ]
  },
  {
   "cell_type": "code",
   "execution_count": 90,
   "id": "informed-photography",
   "metadata": {},
   "outputs": [],
   "source": [
    "import networkx as nx\n",
    "import matplotlib.pyplot as plt\n",
    "%matplotlib inline"
   ]
  },
  {
   "cell_type": "code",
   "execution_count": 91,
   "id": "temporal-florida",
   "metadata": {},
   "outputs": [],
   "source": [
    "# Initialize the graph\n",
    "G = nx.DiGraph()"
   ]
  },
  {
   "cell_type": "code",
   "execution_count": 92,
   "id": "caroline-clearance",
   "metadata": {},
   "outputs": [],
   "source": [
    "# Generate Dictionary with Sheep ID and Age\n",
    "nodes_list = []\n",
    "for i,age in zip(age_df['id'],age_df['age']):\n",
    "    nodes_list.append((i, {\"age\": age}))"
   ]
  },
  {
   "cell_type": "code",
   "execution_count": 93,
   "id": "homeless-inspiration",
   "metadata": {},
   "outputs": [],
   "source": [
    "# Generate Dictionary with Edges with values Source - Target - Weight\n",
    "edges_list = []\n",
    "for s,t,w in zip(edges_df['source'],edges_df['target'],edges_df['weight']):\n",
    "    edges_list.append((s,t,{\"weight\": w}))"
   ]
  },
  {
   "cell_type": "code",
   "execution_count": 94,
   "id": "chinese-priority",
   "metadata": {},
   "outputs": [],
   "source": [
    "# Add Nodes and Edges to the Graph\n",
    "G.add_nodes_from(nodes_list)\n",
    "G.add_weighted_edges_from(edges_list)"
   ]
  },
  {
   "cell_type": "code",
   "execution_count": 95,
   "id": "technological-buffer",
   "metadata": {},
   "outputs": [],
   "source": [
    "pos = nx.circular_layout(G)"
   ]
  },
  {
   "cell_type": "code",
   "execution_count": 96,
   "id": "liberal-coffee",
   "metadata": {},
   "outputs": [],
   "source": [
    "weight_list = []\n",
    "for edge in G.edges():\n",
    "    weight_list.append(G.get_edge_data(edge[0],edge[1])['weight']['weight'])"
   ]
  },
  {
   "cell_type": "code",
   "execution_count": 131,
   "id": "usual-petite",
   "metadata": {},
   "outputs": [],
   "source": [
    "import plotly.graph_objects as go\n",
    "\n",
    "edge_x = []\n",
    "edge_y = []\n",
    "for edge in G.edges():\n",
    "    x0, y0 = pos[edge[0]]\n",
    "    x1, y1 = pos[edge[1]]\n",
    "    edge_x.append(x0)\n",
    "    edge_x.append(x1)\n",
    "    edge_x.append(None)\n",
    "    edge_y.append(y0)\n",
    "    edge_y.append(y1)\n",
    "    edge_y.append(None)\n",
    "    \n",
    "edge_trace = go.Scatter(\n",
    "    x=edge_x, y=edge_y,\n",
    "    line=dict(width=0.5, color='#888'),\n",
    "    hoverinfo='none',\n",
    "    mode='lines')\n",
    "\n",
    "node_x = []\n",
    "node_y = []\n",
    "for node in G.nodes():\n",
    "    x, y = pos[node]\n",
    "    node_x.append(x)\n",
    "    node_y.append(y)\n",
    "\n",
    "node_trace = go.Scatter(\n",
    "    x=node_x, y=node_y,\n",
    "    mode='markers',\n",
    "    hoverinfo='text',\n",
    "    textposition='top center',\n",
    "    marker=dict(\n",
    "        showscale=True,\n",
    "        # colorscale options\n",
    "        #'Greys' | 'YlGnBu' | 'Greens' | 'YlOrRd' | 'Bluered' | 'RdBu' |\n",
    "        #'Reds' | 'Blues' | 'Picnic' | 'Rainbow' | 'Portland' | 'Jet' |\n",
    "        #'Hot' | 'Blackbody' | 'Earth' | 'Electric' | 'Viridis' |\n",
    "        colorscale='Earth',\n",
    "        reversescale=True,\n",
    "        color=[],\n",
    "        size=[1, 2, 3, 4, 5, 6, 7, 8, 9, 10, 11, 12, 13, 14, 15, 16, 17, 18, 19, 20, 21, 22, 23, 24, 25, 26, 27, 28],\n",
    "        colorbar=dict(\n",
    "            thickness=15,\n",
    "            title='Dominance Count',\n",
    "            xanchor='left',\n",
    "            titleside='right'\n",
    "        ),\n",
    "        line_width=1))"
   ]
  },
  {
   "cell_type": "code",
   "execution_count": 145,
   "id": "innovative-hungary",
   "metadata": {},
   "outputs": [],
   "source": [
    "node_adjacencies = []\n",
    "node_text = []\n",
    "for node, adjacencies in enumerate(G.adjacency()):\n",
    "    node_adjacencies.append(len(adjacencies[1]))\n",
    "    node_text.append('Dominance Count: '+ str(len(adjacencies[1])) + '<br>Age: '+ str(50))\n",
    "\n",
    "node_trace.marker.color = node_adjacencies\n",
    "node_trace.text = node_text"
   ]
  },
  {
   "cell_type": "code",
   "execution_count": 146,
   "id": "charitable-parks",
   "metadata": {},
   "outputs": [
    {
     "data": {
      "application/vnd.plotly.v1+json": {
       "config": {
        "plotlyServerURL": "https://plot.ly"
       },
       "data": [
        {
         "hoverinfo": "none",
         "line": {
          "color": "#888",
          "width": 0.5
         },
         "mode": "lines",
         "type": "scatter",
         "x": [
          1,
          0.9749279023302002,
          null,
          1,
          0.9009688500876064,
          null,
          1,
          0.7818315038587358,
          null,
          1,
          0.6234897987449894,
          null,
          1,
          0.43388375884949737,
          null,
          0.9749279023302002,
          0.22252098062387454,
          null,
          0.9749279023302002,
          1.6253218954272222e-08,
          null,
          0.9749279023302002,
          0.9749279023302002,
          null,
          0.9749279023302002,
          -3.9383049730156167e-08,
          null,
          0.9749279023302002,
          -0.22252094216487556,
          null,
          0.9749279023302002,
          0.7818315038587358,
          null,
          0.9749279023302002,
          -0.7818314952020591,
          null,
          0.9749279023302002,
          -0.9009688414309297,
          null,
          0.9749279023302002,
          -0.9999999913433233,
          null,
          0.9749279023302002,
          0.22252104022851904,
          null,
          0.9749279023302002,
          0.43388390786110864,
          null,
          0.9749279023302002,
          0.7818314442540912,
          null,
          0.9749279023302002,
          0.9009688500876064,
          null,
          0.9749279023302002,
          -0.22252100176952005,
          null,
          0.9009688500876064,
          0.9749279023302002,
          null,
          0.9009688500876064,
          -3.9383049730156167e-08,
          null,
          0.9009688500876064,
          -0.22252094216487556,
          null,
          0.9009688500876064,
          0.9749279023302002,
          null,
          0.9009688500876064,
          0.7818315038587358,
          null,
          0.9009688500876064,
          -0.9749278936735235,
          null,
          0.9009688500876064,
          -0.9999999913433233,
          null,
          0.9009688500876064,
          0.22252104022851904,
          null,
          0.9009688500876064,
          -0.9749278936735235,
          null,
          0.9009688500876064,
          -0.7818315548067036,
          null,
          0.9009688500876064,
          0.43388390786110864,
          null,
          0.9009688500876064,
          0.6234896795357004,
          null,
          0.9009688500876064,
          0.6234897987449894,
          null,
          0.9009688500876064,
          -0.6234896112743792,
          null,
          0.9009688500876064,
          0.7818314442540912,
          null,
          0.9009688500876064,
          -0.4338838992044319,
          null,
          0.9009688500876064,
          -0.22252100176952005,
          null,
          0.9009688500876064,
          0.43388375884949737,
          null,
          0.7818315038587358,
          0.9749279023302002,
          null,
          0.7818315038587358,
          0.9009688500876064,
          null,
          0.7818315038587358,
          -0.6234897900883127,
          null,
          0.7818315038587358,
          -0.7818314952020591,
          null,
          0.7818315038587358,
          -0.9999999913433233,
          null,
          0.7818315038587358,
          0.22252104022851904,
          null,
          0.7818315038587358,
          -0.9749278936735235,
          null,
          0.7818315038587358,
          -0.7818315548067036,
          null,
          0.7818315038587358,
          0.43388390786110864,
          null,
          0.7818315038587358,
          0.6234896795357004,
          null,
          0.7818315038587358,
          0.6234897987449894,
          null,
          0.7818315038587358,
          -0.6234896112743792,
          null,
          0.7818315038587358,
          0.7818314442540912,
          null,
          0.7818315038587358,
          -0.4338838992044319,
          null,
          0.7818315038587358,
          0.9009688500876064,
          null,
          0.7818315038587358,
          -0.22252100176952005,
          null,
          0.7818315038587358,
          0.43388375884949737,
          null,
          0.6234897987449894,
          -0.9749278936735235,
          null,
          0.6234897987449894,
          -0.22252100176952005,
          null,
          0.22252098062387454,
          -3.9383049730156167e-08,
          null,
          0.22252098062387454,
          -0.22252094216487556,
          null,
          0.22252098062387454,
          -0.4338838395997873,
          null,
          0.22252098062387454,
          0.9009688500876064,
          null,
          0.22252098062387454,
          -0.6234897900883127,
          null,
          0.22252098062387454,
          0.7818315038587358,
          null,
          0.22252098062387454,
          -0.7818314952020591,
          null,
          0.22252098062387454,
          -0.9009688414309297,
          null,
          0.22252098062387454,
          -0.9749278936735235,
          null,
          0.22252098062387454,
          -0.9999999913433233,
          null,
          0.22252098062387454,
          -0.9749278936735235,
          null,
          0.22252098062387454,
          -0.9009688414309297,
          null,
          0.22252098062387454,
          -0.7818315548067036,
          null,
          0.22252098062387454,
          -0.6234896112743792,
          null,
          0.22252098062387454,
          -0.4338838992044319,
          null,
          0.22252098062387454,
          -0.22252100176952005,
          null,
          -3.9383049730156167e-08,
          -0.22252094216487556,
          null,
          -3.9383049730156167e-08,
          0.9009688500876064,
          null,
          -3.9383049730156167e-08,
          0.7818315038587358,
          null,
          -3.9383049730156167e-08,
          -0.9009688414309297,
          null,
          -3.9383049730156167e-08,
          -0.9999999913433233,
          null,
          -3.9383049730156167e-08,
          0.22252104022851904,
          null,
          -3.9383049730156167e-08,
          -0.9749278936735235,
          null,
          -3.9383049730156167e-08,
          -0.9009688414309297,
          null,
          -3.9383049730156167e-08,
          -0.7818315548067036,
          null,
          -3.9383049730156167e-08,
          0.43388390786110864,
          null,
          -3.9383049730156167e-08,
          -0.6234896112743792,
          null,
          -3.9383049730156167e-08,
          0.7818314442540912,
          null,
          -3.9383049730156167e-08,
          -0.22252100176952005,
          null,
          -3.9383049730156167e-08,
          0.43388375884949737,
          null,
          -0.22252094216487556,
          0.9749279023302002,
          null,
          -0.22252094216487556,
          -0.6234897900883127,
          null,
          -0.22252094216487556,
          0.7818315038587358,
          null,
          -0.22252094216487556,
          -0.9009688414309297,
          null,
          -0.22252094216487556,
          -0.9749278936735235,
          null,
          -0.22252094216487556,
          -0.9999999913433233,
          null,
          -0.22252094216487556,
          0.22252104022851904,
          null,
          -0.22252094216487556,
          -0.9749278936735235,
          null,
          -0.22252094216487556,
          -0.9009688414309297,
          null,
          -0.22252094216487556,
          -0.7818315548067036,
          null,
          -0.22252094216487556,
          0.6234896795357004,
          null,
          -0.22252094216487556,
          -0.6234896112743792,
          null,
          -0.22252094216487556,
          0.7818314442540912,
          null,
          -0.22252094216487556,
          -0.4338838992044319,
          null,
          -0.22252094216487556,
          -0.22252100176952005,
          null,
          -0.22252094216487556,
          0.43388375884949737,
          null,
          -0.4338838395997873,
          1.6253218954272222e-08,
          null,
          -0.4338838395997873,
          -0.9749278936735235,
          null,
          -0.4338838395997873,
          0.9009688500876064,
          null,
          -0.6234897900883127,
          0.9009688500876064,
          null,
          -0.6234897900883127,
          -0.9749278936735235,
          null,
          -0.6234897900883127,
          0.22252104022851904,
          null,
          -0.6234897900883127,
          -0.9749278936735235,
          null,
          -0.6234897900883127,
          -0.9009688414309297,
          null,
          -0.6234897900883127,
          -0.7818315548067036,
          null,
          -0.6234897900883127,
          0.6234896795357004,
          null,
          -0.6234897900883127,
          0.6234897987449894,
          null,
          -0.6234897900883127,
          0.7818314442540912,
          null,
          -0.6234897900883127,
          -0.22252100176952005,
          null,
          -0.7818314952020591,
          -0.22252094216487556,
          null,
          -0.7818314952020591,
          0.9749279023302002,
          null,
          -0.7818314952020591,
          -0.9749278936735235,
          null,
          -0.7818314952020591,
          0.6234897987449894,
          null,
          -0.7818314952020591,
          0.7818314442540912,
          null,
          -0.7818314952020591,
          -0.4338838992044319,
          null,
          -0.7818314952020591,
          -0.22252100176952005,
          null,
          -0.9009688414309297,
          0.9009688500876064,
          null,
          -0.9009688414309297,
          -0.6234897900883127,
          null,
          -0.9009688414309297,
          -0.9749278936735235,
          null,
          -0.9009688414309297,
          -0.9999999913433233,
          null,
          -0.9009688414309297,
          0.22252104022851904,
          null,
          -0.9009688414309297,
          -0.9009688414309297,
          null,
          -0.9009688414309297,
          -0.7818315548067036,
          null,
          -0.9009688414309297,
          0.43388390786110864,
          null,
          -0.9009688414309297,
          0.6234896795357004,
          null,
          -0.9009688414309297,
          -0.6234896112743792,
          null,
          -0.9009688414309297,
          0.7818314442540912,
          null,
          -0.9009688414309297,
          -0.4338838992044319,
          null,
          -0.9009688414309297,
          0.9009688500876064,
          null,
          -0.9009688414309297,
          0.43388375884949737,
          null,
          -0.9749278936735235,
          -0.6234897900883127,
          null,
          -0.9749278936735235,
          0.7818315038587358,
          null,
          -0.9749278936735235,
          -0.9009688414309297,
          null,
          -0.9749278936735235,
          -0.9009688414309297,
          null,
          -0.9749278936735235,
          0.43388390786110864,
          null,
          -0.9749278936735235,
          0.6234896795357004,
          null,
          -0.9749278936735235,
          -0.6234896112743792,
          null,
          -0.9749278936735235,
          0.7818314442540912,
          null,
          -0.9749278936735235,
          -0.4338838992044319,
          null,
          -0.9749278936735235,
          -0.22252100176952005,
          null,
          -0.9749278936735235,
          0.43388375884949737,
          null,
          -0.9999999913433233,
          -0.9749278936735235,
          null,
          -0.9999999913433233,
          0.22252104022851904,
          null,
          -0.9999999913433233,
          -0.9009688414309297,
          null,
          -0.9999999913433233,
          -0.7818315548067036,
          null,
          -0.9999999913433233,
          0.43388390786110864,
          null,
          -0.9999999913433233,
          -0.6234896112743792,
          null,
          -0.9999999913433233,
          0.7818314442540912,
          null,
          -0.9999999913433233,
          -0.4338838992044319,
          null,
          -0.9999999913433233,
          0.9009688500876064,
          null,
          -0.9999999913433233,
          -0.22252100176952005,
          null,
          -0.9999999913433233,
          0.43388375884949737,
          null,
          -0.9749278936735235,
          0.9749279023302002,
          null,
          -0.9749278936735235,
          -0.9999999913433233,
          null,
          -0.9749278936735235,
          -0.9009688414309297,
          null,
          -0.9749278936735235,
          -0.7818315548067036,
          null,
          -0.9749278936735235,
          -0.6234896112743792,
          null,
          -0.9749278936735235,
          0.7818314442540912,
          null,
          -0.9749278936735235,
          -0.4338838992044319,
          null,
          -0.9749278936735235,
          -0.22252100176952005,
          null,
          -0.9749278936735235,
          0.43388375884949737,
          null,
          -0.9009688414309297,
          -0.9009688414309297,
          null,
          -0.9009688414309297,
          -0.9749278936735235,
          null,
          -0.9009688414309297,
          0.6234896795357004,
          null,
          -0.9009688414309297,
          -0.4338838992044319,
          null,
          -0.9009688414309297,
          0.9009688500876064,
          null,
          -0.9009688414309297,
          -0.22252100176952005,
          null,
          -0.9009688414309297,
          0.43388375884949737,
          null,
          -0.7818315548067036,
          0.7818315038587358,
          null,
          -0.7818315548067036,
          0.22252104022851904,
          null,
          -0.7818315548067036,
          0.43388390786110864,
          null,
          -0.7818315548067036,
          0.6234896795357004,
          null,
          -0.7818315548067036,
          -0.6234896112743792,
          null,
          -0.7818315548067036,
          0.7818314442540912,
          null,
          -0.7818315548067036,
          -0.4338838992044319,
          null,
          -0.7818315548067036,
          0.9009688500876064,
          null,
          -0.7818315548067036,
          -0.22252100176952005,
          null,
          -0.7818315548067036,
          0.43388375884949737,
          null,
          -0.6234896112743792,
          -0.7818315548067036,
          null,
          -0.6234896112743792,
          0.43388390786110864,
          null,
          -0.6234896112743792,
          0.6234896795357004,
          null,
          -0.6234896112743792,
          0.7818314442540912,
          null,
          -0.6234896112743792,
          -0.4338838992044319,
          null,
          -0.6234896112743792,
          0.9009688500876064,
          null,
          -0.6234896112743792,
          0.43388375884949737,
          null,
          -0.4338838992044319,
          0.7818314442540912,
          null,
          -0.4338838992044319,
          -0.22252100176952005,
          null,
          -0.22252100176952005,
          0.43388375884949737,
          null,
          1.6253218954272222e-08,
          -3.9383049730156167e-08,
          null,
          1.6253218954272222e-08,
          -0.22252094216487556,
          null,
          1.6253218954272222e-08,
          0.9009688500876064,
          null,
          1.6253218954272222e-08,
          0.7818315038587358,
          null,
          1.6253218954272222e-08,
          -0.9009688414309297,
          null,
          1.6253218954272222e-08,
          -0.9749278936735235,
          null,
          1.6253218954272222e-08,
          -0.9999999913433233,
          null,
          1.6253218954272222e-08,
          0.22252104022851904,
          null,
          1.6253218954272222e-08,
          -0.7818315548067036,
          null,
          1.6253218954272222e-08,
          0.43388390786110864,
          null,
          1.6253218954272222e-08,
          0.6234896795357004,
          null,
          1.6253218954272222e-08,
          -0.6234896112743792,
          null,
          1.6253218954272222e-08,
          0.7818314442540912,
          null,
          1.6253218954272222e-08,
          0.9009688500876064,
          null,
          1.6253218954272222e-08,
          -0.22252100176952005,
          null,
          1.6253218954272222e-08,
          0.43388375884949737,
          null,
          0.22252104022851904,
          -0.9749278936735235,
          null,
          0.22252104022851904,
          -0.9009688414309297,
          null,
          0.22252104022851904,
          0.6234896795357004,
          null,
          0.22252104022851904,
          -0.6234896112743792,
          null,
          0.22252104022851904,
          0.7818314442540912,
          null,
          0.22252104022851904,
          -0.4338838992044319,
          null,
          0.22252104022851904,
          0.9009688500876064,
          null,
          0.22252104022851904,
          -0.22252100176952005,
          null,
          0.22252104022851904,
          0.43388375884949737,
          null,
          0.43388390786110864,
          0.22252104022851904,
          null,
          0.43388390786110864,
          -0.7818315548067036,
          null,
          0.43388390786110864,
          0.7818314442540912,
          null,
          0.43388390786110864,
          -0.4338838992044319,
          null,
          0.43388390786110864,
          -0.22252100176952005,
          null,
          0.43388390786110864,
          0.43388375884949737,
          null,
          0.6234896795357004,
          -0.9749278936735235,
          null,
          0.6234896795357004,
          -0.7818315548067036,
          null,
          0.6234896795357004,
          0.43388390786110864,
          null,
          0.6234896795357004,
          -0.4338838992044319,
          null,
          0.6234896795357004,
          -0.22252100176952005,
          null,
          0.6234896795357004,
          0.43388375884949737,
          null,
          0.7818314442540912,
          -0.4338838992044319,
          null,
          0.7818314442540912,
          -0.22252100176952005,
          null,
          0.7818314442540912,
          0.43388375884949737,
          null,
          0.9009688500876064,
          0.7818314442540912,
          null,
          0.9749279023302002,
          1.6253218954272222e-08,
          null,
          0.9749279023302002,
          0.9009688500876064,
          null,
          0.9749279023302002,
          -0.6234897900883127,
          null,
          0.9749279023302002,
          -0.7818314952020591,
          null,
          0.9749279023302002,
          -0.9749278936735235,
          null,
          0.9749279023302002,
          0.22252104022851904,
          null,
          0.9749279023302002,
          -0.9749278936735235,
          null,
          0.9749279023302002,
          -0.9009688414309297,
          null,
          0.9749279023302002,
          0.6234896795357004,
          null,
          0.9749279023302002,
          -0.6234896112743792,
          null,
          0.9749279023302002,
          0.7818314442540912,
          null,
          0.9749279023302002,
          -0.4338838992044319,
          null,
          0.9749279023302002,
          0.9009688500876064,
          null,
          0.9749279023302002,
          -0.22252100176952005,
          null,
          0.9749279023302002,
          0.43388375884949737,
          null
         ],
         "y": [
          2.5900576809189324e-09,
          0.22252093418211047,
          null,
          2.5900576809189324e-09,
          0.43388375711121663,
          null,
          2.5900576809189324e-09,
          0.6234897970067088,
          null,
          2.5900576809189324e-09,
          0.7818315021204552,
          null,
          2.5900576809189324e-09,
          0.9009688483493258,
          null,
          0.22252093418211047,
          0.9749279005919196,
          null,
          0.22252093418211047,
          -0.9999999930816039,
          null,
          0.22252093418211047,
          -0.22252085449618944,
          null,
          0.22252093418211047,
          0.9999999982617194,
          null,
          0.22252093418211047,
          0.9749279005919196,
          null,
          0.22252093418211047,
          0.6234897970067088,
          null,
          0.22252093418211047,
          0.6234897374020644,
          null,
          0.22252093418211047,
          0.4338838167158611,
          null,
          0.22252093418211047,
          -8.483271851416157e-08,
          null,
          0.22252093418211047,
          -0.9749278954118041,
          null,
          0.22252093418211047,
          -0.9009687835645658,
          null,
          0.22252093418211047,
          -0.6234898514312379,
          null,
          0.22252093418211047,
          -0.4338837519311013,
          null,
          0.22252093418211047,
          -0.9749278954118041,
          null,
          0.43388375711121663,
          -0.22252085449618944,
          null,
          0.43388375711121663,
          0.9999999982617194,
          null,
          0.43388375711121663,
          0.9749279005919196,
          null,
          0.43388375711121663,
          0.22252093418211047,
          null,
          0.43388375711121663,
          0.6234897970067088,
          null,
          0.43388375711121663,
          0.22252093418211047,
          null,
          0.43388375711121663,
          -8.483271851416157e-08,
          null,
          0.43388375711121663,
          -0.9749278954118041,
          null,
          0.43388375711121663,
          -0.22252086939735058,
          null,
          0.43388375711121663,
          -0.6234897322219489,
          null,
          0.43388375711121663,
          -0.9009687835645658,
          null,
          0.43388375711121663,
          -0.7818316161496287,
          null,
          0.43388375711121663,
          0.7818315021204552,
          null,
          0.43388375711121663,
          -0.7818316161496287,
          null,
          0.43388375711121663,
          -0.6234898514312379,
          null,
          0.43388375711121663,
          -0.9009687835645658,
          null,
          0.43388375711121663,
          -0.9749278954118041,
          null,
          0.43388375711121663,
          0.9009688483493258,
          null,
          0.6234897970067088,
          0.22252093418211047,
          null,
          0.6234897970067088,
          0.43388375711121663,
          null,
          0.6234897970067088,
          0.7818315021204552,
          null,
          0.6234897970067088,
          0.6234897374020644,
          null,
          0.6234897970067088,
          -8.483271851416157e-08,
          null,
          0.6234897970067088,
          -0.9749278954118041,
          null,
          0.6234897970067088,
          -0.22252086939735058,
          null,
          0.6234897970067088,
          -0.6234897322219489,
          null,
          0.6234897970067088,
          -0.9009687835645658,
          null,
          0.6234897970067088,
          -0.7818316161496287,
          null,
          0.6234897970067088,
          0.7818315021204552,
          null,
          0.6234897970067088,
          -0.7818316161496287,
          null,
          0.6234897970067088,
          -0.6234898514312379,
          null,
          0.6234897970067088,
          -0.9009687835645658,
          null,
          0.6234897970067088,
          -0.4338837519311013,
          null,
          0.6234897970067088,
          -0.9749278954118041,
          null,
          0.6234897970067088,
          0.9009688483493258,
          null,
          0.7818315021204552,
          -0.22252086939735058,
          null,
          0.7818315021204552,
          -0.9749278954118041,
          null,
          0.9749279005919196,
          0.9999999982617194,
          null,
          0.9749279005919196,
          0.9749279005919196,
          null,
          0.9749279005919196,
          0.9009688483493258,
          null,
          0.9749279005919196,
          0.43388375711121663,
          null,
          0.9749279005919196,
          0.7818315021204552,
          null,
          0.9749279005919196,
          0.6234897970067088,
          null,
          0.9749279005919196,
          0.6234897374020644,
          null,
          0.9749279005919196,
          0.4338838167158611,
          null,
          0.9749279005919196,
          0.22252093418211047,
          null,
          0.9749279005919196,
          -8.483271851416157e-08,
          null,
          0.9749279005919196,
          -0.22252086939735058,
          null,
          0.9749279005919196,
          -0.4338837519311013,
          null,
          0.9749279005919196,
          -0.6234897322219489,
          null,
          0.9749279005919196,
          -0.7818316161496287,
          null,
          0.9749279005919196,
          -0.9009687835645658,
          null,
          0.9749279005919196,
          -0.9749278954118041,
          null,
          0.9999999982617194,
          0.9749279005919196,
          null,
          0.9999999982617194,
          0.43388375711121663,
          null,
          0.9999999982617194,
          0.6234897970067088,
          null,
          0.9999999982617194,
          0.4338838167158611,
          null,
          0.9999999982617194,
          -8.483271851416157e-08,
          null,
          0.9999999982617194,
          -0.9749278954118041,
          null,
          0.9999999982617194,
          -0.22252086939735058,
          null,
          0.9999999982617194,
          -0.4338837519311013,
          null,
          0.9999999982617194,
          -0.6234897322219489,
          null,
          0.9999999982617194,
          -0.9009687835645658,
          null,
          0.9999999982617194,
          -0.7818316161496287,
          null,
          0.9999999982617194,
          -0.6234898514312379,
          null,
          0.9999999982617194,
          -0.9749278954118041,
          null,
          0.9999999982617194,
          0.9009688483493258,
          null,
          0.9749279005919196,
          -0.22252085449618944,
          null,
          0.9749279005919196,
          0.7818315021204552,
          null,
          0.9749279005919196,
          0.6234897970067088,
          null,
          0.9749279005919196,
          0.4338838167158611,
          null,
          0.9749279005919196,
          0.22252093418211047,
          null,
          0.9749279005919196,
          -8.483271851416157e-08,
          null,
          0.9749279005919196,
          -0.9749278954118041,
          null,
          0.9749279005919196,
          -0.22252086939735058,
          null,
          0.9749279005919196,
          -0.4338837519311013,
          null,
          0.9749279005919196,
          -0.6234897322219489,
          null,
          0.9749279005919196,
          -0.7818316161496287,
          null,
          0.9749279005919196,
          -0.7818316161496287,
          null,
          0.9749279005919196,
          -0.6234898514312379,
          null,
          0.9749279005919196,
          -0.9009687835645658,
          null,
          0.9749279005919196,
          -0.9749278954118041,
          null,
          0.9749279005919196,
          0.9009688483493258,
          null,
          0.9009688483493258,
          -0.9999999930816039,
          null,
          0.9009688483493258,
          -0.22252086939735058,
          null,
          0.9009688483493258,
          -0.4338837519311013,
          null,
          0.7818315021204552,
          0.43388375711121663,
          null,
          0.7818315021204552,
          0.22252093418211047,
          null,
          0.7818315021204552,
          -0.9749278954118041,
          null,
          0.7818315021204552,
          -0.22252086939735058,
          null,
          0.7818315021204552,
          -0.4338837519311013,
          null,
          0.7818315021204552,
          -0.6234897322219489,
          null,
          0.7818315021204552,
          -0.7818316161496287,
          null,
          0.7818315021204552,
          0.7818315021204552,
          null,
          0.7818315021204552,
          -0.6234898514312379,
          null,
          0.7818315021204552,
          -0.9749278954118041,
          null,
          0.6234897374020644,
          0.9749279005919196,
          null,
          0.6234897374020644,
          0.22252093418211047,
          null,
          0.6234897374020644,
          -0.22252086939735058,
          null,
          0.6234897374020644,
          0.7818315021204552,
          null,
          0.6234897374020644,
          -0.6234898514312379,
          null,
          0.6234897374020644,
          -0.9009687835645658,
          null,
          0.6234897374020644,
          -0.9749278954118041,
          null,
          0.4338838167158611,
          0.43388375711121663,
          null,
          0.4338838167158611,
          0.7818315021204552,
          null,
          0.4338838167158611,
          0.22252093418211047,
          null,
          0.4338838167158611,
          -8.483271851416157e-08,
          null,
          0.4338838167158611,
          -0.9749278954118041,
          null,
          0.4338838167158611,
          -0.4338837519311013,
          null,
          0.4338838167158611,
          -0.6234897322219489,
          null,
          0.4338838167158611,
          -0.9009687835645658,
          null,
          0.4338838167158611,
          -0.7818316161496287,
          null,
          0.4338838167158611,
          -0.7818316161496287,
          null,
          0.4338838167158611,
          -0.6234898514312379,
          null,
          0.4338838167158611,
          -0.9009687835645658,
          null,
          0.4338838167158611,
          -0.4338837519311013,
          null,
          0.4338838167158611,
          0.9009688483493258,
          null,
          0.22252093418211047,
          0.7818315021204552,
          null,
          0.22252093418211047,
          0.6234897970067088,
          null,
          0.22252093418211047,
          0.4338838167158611,
          null,
          0.22252093418211047,
          -0.4338837519311013,
          null,
          0.22252093418211047,
          -0.9009687835645658,
          null,
          0.22252093418211047,
          -0.7818316161496287,
          null,
          0.22252093418211047,
          -0.7818316161496287,
          null,
          0.22252093418211047,
          -0.6234898514312379,
          null,
          0.22252093418211047,
          -0.9009687835645658,
          null,
          0.22252093418211047,
          -0.9749278954118041,
          null,
          0.22252093418211047,
          0.9009688483493258,
          null,
          -8.483271851416157e-08,
          0.22252093418211047,
          null,
          -8.483271851416157e-08,
          -0.9749278954118041,
          null,
          -8.483271851416157e-08,
          -0.4338837519311013,
          null,
          -8.483271851416157e-08,
          -0.6234897322219489,
          null,
          -8.483271851416157e-08,
          -0.9009687835645658,
          null,
          -8.483271851416157e-08,
          -0.7818316161496287,
          null,
          -8.483271851416157e-08,
          -0.6234898514312379,
          null,
          -8.483271851416157e-08,
          -0.9009687835645658,
          null,
          -8.483271851416157e-08,
          -0.4338837519311013,
          null,
          -8.483271851416157e-08,
          -0.9749278954118041,
          null,
          -8.483271851416157e-08,
          0.9009688483493258,
          null,
          -0.22252086939735058,
          0.22252093418211047,
          null,
          -0.22252086939735058,
          -8.483271851416157e-08,
          null,
          -0.22252086939735058,
          -0.4338837519311013,
          null,
          -0.22252086939735058,
          -0.6234897322219489,
          null,
          -0.22252086939735058,
          -0.7818316161496287,
          null,
          -0.22252086939735058,
          -0.6234898514312379,
          null,
          -0.22252086939735058,
          -0.9009687835645658,
          null,
          -0.22252086939735058,
          -0.9749278954118041,
          null,
          -0.22252086939735058,
          0.9009688483493258,
          null,
          -0.4338837519311013,
          0.4338838167158611,
          null,
          -0.4338837519311013,
          0.22252093418211047,
          null,
          -0.4338837519311013,
          -0.7818316161496287,
          null,
          -0.4338837519311013,
          -0.9009687835645658,
          null,
          -0.4338837519311013,
          -0.4338837519311013,
          null,
          -0.4338837519311013,
          -0.9749278954118041,
          null,
          -0.4338837519311013,
          0.9009688483493258,
          null,
          -0.6234897322219489,
          0.6234897970067088,
          null,
          -0.6234897322219489,
          -0.9749278954118041,
          null,
          -0.6234897322219489,
          -0.9009687835645658,
          null,
          -0.6234897322219489,
          -0.7818316161496287,
          null,
          -0.6234897322219489,
          -0.7818316161496287,
          null,
          -0.6234897322219489,
          -0.6234898514312379,
          null,
          -0.6234897322219489,
          -0.9009687835645658,
          null,
          -0.6234897322219489,
          -0.4338837519311013,
          null,
          -0.6234897322219489,
          -0.9749278954118041,
          null,
          -0.6234897322219489,
          0.9009688483493258,
          null,
          -0.7818316161496287,
          -0.6234897322219489,
          null,
          -0.7818316161496287,
          -0.9009687835645658,
          null,
          -0.7818316161496287,
          -0.7818316161496287,
          null,
          -0.7818316161496287,
          -0.6234898514312379,
          null,
          -0.7818316161496287,
          -0.9009687835645658,
          null,
          -0.7818316161496287,
          -0.4338837519311013,
          null,
          -0.7818316161496287,
          0.9009688483493258,
          null,
          -0.9009687835645658,
          -0.6234898514312379,
          null,
          -0.9009687835645658,
          -0.9749278954118041,
          null,
          -0.9749278954118041,
          0.9009688483493258,
          null,
          -0.9999999930816039,
          0.9999999982617194,
          null,
          -0.9999999930816039,
          0.9749279005919196,
          null,
          -0.9999999930816039,
          0.43388375711121663,
          null,
          -0.9999999930816039,
          0.6234897970067088,
          null,
          -0.9999999930816039,
          0.4338838167158611,
          null,
          -0.9999999930816039,
          0.22252093418211047,
          null,
          -0.9999999930816039,
          -8.483271851416157e-08,
          null,
          -0.9999999930816039,
          -0.9749278954118041,
          null,
          -0.9999999930816039,
          -0.6234897322219489,
          null,
          -0.9999999930816039,
          -0.9009687835645658,
          null,
          -0.9999999930816039,
          -0.7818316161496287,
          null,
          -0.9999999930816039,
          -0.7818316161496287,
          null,
          -0.9999999930816039,
          -0.6234898514312379,
          null,
          -0.9999999930816039,
          -0.4338837519311013,
          null,
          -0.9999999930816039,
          -0.9749278954118041,
          null,
          -0.9999999930816039,
          0.9009688483493258,
          null,
          -0.9749278954118041,
          0.22252093418211047,
          null,
          -0.9749278954118041,
          -0.4338837519311013,
          null,
          -0.9749278954118041,
          -0.7818316161496287,
          null,
          -0.9749278954118041,
          -0.7818316161496287,
          null,
          -0.9749278954118041,
          -0.6234898514312379,
          null,
          -0.9749278954118041,
          -0.9009687835645658,
          null,
          -0.9749278954118041,
          -0.4338837519311013,
          null,
          -0.9749278954118041,
          -0.9749278954118041,
          null,
          -0.9749278954118041,
          0.9009688483493258,
          null,
          -0.9009687835645658,
          -0.9749278954118041,
          null,
          -0.9009687835645658,
          -0.6234897322219489,
          null,
          -0.9009687835645658,
          -0.6234898514312379,
          null,
          -0.9009687835645658,
          -0.9009687835645658,
          null,
          -0.9009687835645658,
          -0.9749278954118041,
          null,
          -0.9009687835645658,
          0.9009688483493258,
          null,
          -0.7818316161496287,
          0.22252093418211047,
          null,
          -0.7818316161496287,
          -0.6234897322219489,
          null,
          -0.7818316161496287,
          -0.9009687835645658,
          null,
          -0.7818316161496287,
          -0.9009687835645658,
          null,
          -0.7818316161496287,
          -0.9749278954118041,
          null,
          -0.7818316161496287,
          0.9009688483493258,
          null,
          -0.6234898514312379,
          -0.9009687835645658,
          null,
          -0.6234898514312379,
          -0.9749278954118041,
          null,
          -0.6234898514312379,
          0.9009688483493258,
          null,
          -0.4338837519311013,
          -0.6234898514312379,
          null,
          -0.22252085449618944,
          -0.9999999930816039,
          null,
          -0.22252085449618944,
          0.43388375711121663,
          null,
          -0.22252085449618944,
          0.7818315021204552,
          null,
          -0.22252085449618944,
          0.6234897374020644,
          null,
          -0.22252085449618944,
          0.22252093418211047,
          null,
          -0.22252085449618944,
          -0.9749278954118041,
          null,
          -0.22252085449618944,
          -0.22252086939735058,
          null,
          -0.22252085449618944,
          -0.4338837519311013,
          null,
          -0.22252085449618944,
          -0.7818316161496287,
          null,
          -0.22252085449618944,
          -0.7818316161496287,
          null,
          -0.22252085449618944,
          -0.6234898514312379,
          null,
          -0.22252085449618944,
          -0.9009687835645658,
          null,
          -0.22252085449618944,
          -0.4338837519311013,
          null,
          -0.22252085449618944,
          -0.9749278954118041,
          null,
          -0.22252085449618944,
          0.9009688483493258,
          null
         ]
        },
        {
         "hoverinfo": "text",
         "marker": {
          "color": [
           5,
           14,
           18,
           17,
           2,
           0,
           16,
           14,
           16,
           3,
           10,
           7,
           14,
           11,
           11,
           9,
           7,
           10,
           7,
           2,
           1,
           16,
           9,
           6,
           6,
           3,
           1,
           15
          ],
          "colorbar": {
           "thickness": 15,
           "title": {
            "side": "right",
            "text": "Dominance Count"
           },
           "xanchor": "left"
          },
          "colorscale": [
           [
            0,
            "rgb(161, 105, 40)"
           ],
           [
            0.16666666666666666,
            "rgb(189, 146, 90)"
           ],
           [
            0.3333333333333333,
            "rgb(214, 189, 141)"
           ],
           [
            0.5,
            "rgb(237, 234, 194)"
           ],
           [
            0.6666666666666666,
            "rgb(181, 200, 184)"
           ],
           [
            0.8333333333333334,
            "rgb(121, 167, 172)"
           ],
           [
            1,
            "rgb(40, 135, 161)"
           ]
          ],
          "line": {
           "width": 1
          },
          "reversescale": true,
          "showscale": true,
          "size": [
           1,
           2,
           3,
           4,
           5,
           6,
           7,
           8,
           9,
           10,
           11,
           12,
           13,
           14,
           15,
           16,
           17,
           18,
           19,
           20,
           21,
           22,
           23,
           24,
           25,
           26,
           27,
           28
          ]
         },
         "mode": "markers",
         "text": [
          "Dominance Count: 5<br>Age: 50",
          "Dominance Count: 14<br>Age: 50",
          "Dominance Count: 18<br>Age: 50",
          "Dominance Count: 17<br>Age: 50",
          "Dominance Count: 2<br>Age: 50",
          "Dominance Count: 0<br>Age: 50",
          "Dominance Count: 16<br>Age: 50",
          "Dominance Count: 14<br>Age: 50",
          "Dominance Count: 16<br>Age: 50",
          "Dominance Count: 3<br>Age: 50",
          "Dominance Count: 10<br>Age: 50",
          "Dominance Count: 7<br>Age: 50",
          "Dominance Count: 14<br>Age: 50",
          "Dominance Count: 11<br>Age: 50",
          "Dominance Count: 11<br>Age: 50",
          "Dominance Count: 9<br>Age: 50",
          "Dominance Count: 7<br>Age: 50",
          "Dominance Count: 10<br>Age: 50",
          "Dominance Count: 7<br>Age: 50",
          "Dominance Count: 2<br>Age: 50",
          "Dominance Count: 1<br>Age: 50",
          "Dominance Count: 16<br>Age: 50",
          "Dominance Count: 9<br>Age: 50",
          "Dominance Count: 6<br>Age: 50",
          "Dominance Count: 6<br>Age: 50",
          "Dominance Count: 3<br>Age: 50",
          "Dominance Count: 1<br>Age: 50",
          "Dominance Count: 15<br>Age: 50"
         ],
         "textposition": "top center",
         "type": "scatter",
         "x": [
          1,
          0.9749279023302002,
          0.9009688500876064,
          0.7818315038587358,
          0.6234897987449894,
          0.43388375884949737,
          0.22252098062387454,
          -3.9383049730156167e-08,
          -0.22252094216487556,
          -0.4338838395997873,
          -0.6234897900883127,
          -0.7818314952020591,
          -0.9009688414309297,
          -0.9749278936735235,
          -0.9999999913433233,
          -0.9749278936735235,
          -0.9009688414309297,
          -0.7818315548067036,
          -0.6234896112743792,
          -0.4338838992044319,
          -0.22252100176952005,
          1.6253218954272222e-08,
          0.22252104022851904,
          0.43388390786110864,
          0.6234896795357004,
          0.7818314442540912,
          0.9009688500876064,
          0.9749279023302002
         ],
         "y": [
          2.5900576809189324e-09,
          0.22252093418211047,
          0.43388375711121663,
          0.6234897970067088,
          0.7818315021204552,
          0.9009688483493258,
          0.9749279005919196,
          0.9999999982617194,
          0.9749279005919196,
          0.9009688483493258,
          0.7818315021204552,
          0.6234897374020644,
          0.4338838167158611,
          0.22252093418211047,
          -8.483271851416157e-08,
          -0.22252086939735058,
          -0.4338837519311013,
          -0.6234897322219489,
          -0.7818316161496287,
          -0.9009687835645658,
          -0.9749278954118041,
          -0.9999999930816039,
          -0.9749278954118041,
          -0.9009687835645658,
          -0.7818316161496287,
          -0.6234898514312379,
          -0.4338837519311013,
          -0.22252085449618944
         ]
        }
       ],
       "layout": {
        "annotations": [
         {
          "showarrow": false,
          "text": "Reference:\n    Christine Hass, \"Social status in female bighorn sheep (Ovis canadensis): expression, development and reproductive correlates.\"<br> \n    Journal of the Zoological Society of London, 1991, 225: 509-523.Station, Technical Bulletin 73.",
          "x": 0.005,
          "xref": "paper",
          "y": -0.08,
          "yref": "paper"
         }
        ],
        "hovermode": "closest",
        "margin": {
         "b": 40,
         "l": 5,
         "r": 5,
         "t": 30
        },
        "showlegend": false,
        "template": {
         "data": {
          "bar": [
           {
            "error_x": {
             "color": "#2a3f5f"
            },
            "error_y": {
             "color": "#2a3f5f"
            },
            "marker": {
             "line": {
              "color": "#E5ECF6",
              "width": 0.5
             }
            },
            "type": "bar"
           }
          ],
          "barpolar": [
           {
            "marker": {
             "line": {
              "color": "#E5ECF6",
              "width": 0.5
             }
            },
            "type": "barpolar"
           }
          ],
          "carpet": [
           {
            "aaxis": {
             "endlinecolor": "#2a3f5f",
             "gridcolor": "white",
             "linecolor": "white",
             "minorgridcolor": "white",
             "startlinecolor": "#2a3f5f"
            },
            "baxis": {
             "endlinecolor": "#2a3f5f",
             "gridcolor": "white",
             "linecolor": "white",
             "minorgridcolor": "white",
             "startlinecolor": "#2a3f5f"
            },
            "type": "carpet"
           }
          ],
          "choropleth": [
           {
            "colorbar": {
             "outlinewidth": 0,
             "ticks": ""
            },
            "type": "choropleth"
           }
          ],
          "contour": [
           {
            "colorbar": {
             "outlinewidth": 0,
             "ticks": ""
            },
            "colorscale": [
             [
              0,
              "#0d0887"
             ],
             [
              0.1111111111111111,
              "#46039f"
             ],
             [
              0.2222222222222222,
              "#7201a8"
             ],
             [
              0.3333333333333333,
              "#9c179e"
             ],
             [
              0.4444444444444444,
              "#bd3786"
             ],
             [
              0.5555555555555556,
              "#d8576b"
             ],
             [
              0.6666666666666666,
              "#ed7953"
             ],
             [
              0.7777777777777778,
              "#fb9f3a"
             ],
             [
              0.8888888888888888,
              "#fdca26"
             ],
             [
              1,
              "#f0f921"
             ]
            ],
            "type": "contour"
           }
          ],
          "contourcarpet": [
           {
            "colorbar": {
             "outlinewidth": 0,
             "ticks": ""
            },
            "type": "contourcarpet"
           }
          ],
          "heatmap": [
           {
            "colorbar": {
             "outlinewidth": 0,
             "ticks": ""
            },
            "colorscale": [
             [
              0,
              "#0d0887"
             ],
             [
              0.1111111111111111,
              "#46039f"
             ],
             [
              0.2222222222222222,
              "#7201a8"
             ],
             [
              0.3333333333333333,
              "#9c179e"
             ],
             [
              0.4444444444444444,
              "#bd3786"
             ],
             [
              0.5555555555555556,
              "#d8576b"
             ],
             [
              0.6666666666666666,
              "#ed7953"
             ],
             [
              0.7777777777777778,
              "#fb9f3a"
             ],
             [
              0.8888888888888888,
              "#fdca26"
             ],
             [
              1,
              "#f0f921"
             ]
            ],
            "type": "heatmap"
           }
          ],
          "heatmapgl": [
           {
            "colorbar": {
             "outlinewidth": 0,
             "ticks": ""
            },
            "colorscale": [
             [
              0,
              "#0d0887"
             ],
             [
              0.1111111111111111,
              "#46039f"
             ],
             [
              0.2222222222222222,
              "#7201a8"
             ],
             [
              0.3333333333333333,
              "#9c179e"
             ],
             [
              0.4444444444444444,
              "#bd3786"
             ],
             [
              0.5555555555555556,
              "#d8576b"
             ],
             [
              0.6666666666666666,
              "#ed7953"
             ],
             [
              0.7777777777777778,
              "#fb9f3a"
             ],
             [
              0.8888888888888888,
              "#fdca26"
             ],
             [
              1,
              "#f0f921"
             ]
            ],
            "type": "heatmapgl"
           }
          ],
          "histogram": [
           {
            "marker": {
             "colorbar": {
              "outlinewidth": 0,
              "ticks": ""
             }
            },
            "type": "histogram"
           }
          ],
          "histogram2d": [
           {
            "colorbar": {
             "outlinewidth": 0,
             "ticks": ""
            },
            "colorscale": [
             [
              0,
              "#0d0887"
             ],
             [
              0.1111111111111111,
              "#46039f"
             ],
             [
              0.2222222222222222,
              "#7201a8"
             ],
             [
              0.3333333333333333,
              "#9c179e"
             ],
             [
              0.4444444444444444,
              "#bd3786"
             ],
             [
              0.5555555555555556,
              "#d8576b"
             ],
             [
              0.6666666666666666,
              "#ed7953"
             ],
             [
              0.7777777777777778,
              "#fb9f3a"
             ],
             [
              0.8888888888888888,
              "#fdca26"
             ],
             [
              1,
              "#f0f921"
             ]
            ],
            "type": "histogram2d"
           }
          ],
          "histogram2dcontour": [
           {
            "colorbar": {
             "outlinewidth": 0,
             "ticks": ""
            },
            "colorscale": [
             [
              0,
              "#0d0887"
             ],
             [
              0.1111111111111111,
              "#46039f"
             ],
             [
              0.2222222222222222,
              "#7201a8"
             ],
             [
              0.3333333333333333,
              "#9c179e"
             ],
             [
              0.4444444444444444,
              "#bd3786"
             ],
             [
              0.5555555555555556,
              "#d8576b"
             ],
             [
              0.6666666666666666,
              "#ed7953"
             ],
             [
              0.7777777777777778,
              "#fb9f3a"
             ],
             [
              0.8888888888888888,
              "#fdca26"
             ],
             [
              1,
              "#f0f921"
             ]
            ],
            "type": "histogram2dcontour"
           }
          ],
          "mesh3d": [
           {
            "colorbar": {
             "outlinewidth": 0,
             "ticks": ""
            },
            "type": "mesh3d"
           }
          ],
          "parcoords": [
           {
            "line": {
             "colorbar": {
              "outlinewidth": 0,
              "ticks": ""
             }
            },
            "type": "parcoords"
           }
          ],
          "pie": [
           {
            "automargin": true,
            "type": "pie"
           }
          ],
          "scatter": [
           {
            "marker": {
             "colorbar": {
              "outlinewidth": 0,
              "ticks": ""
             }
            },
            "type": "scatter"
           }
          ],
          "scatter3d": [
           {
            "line": {
             "colorbar": {
              "outlinewidth": 0,
              "ticks": ""
             }
            },
            "marker": {
             "colorbar": {
              "outlinewidth": 0,
              "ticks": ""
             }
            },
            "type": "scatter3d"
           }
          ],
          "scattercarpet": [
           {
            "marker": {
             "colorbar": {
              "outlinewidth": 0,
              "ticks": ""
             }
            },
            "type": "scattercarpet"
           }
          ],
          "scattergeo": [
           {
            "marker": {
             "colorbar": {
              "outlinewidth": 0,
              "ticks": ""
             }
            },
            "type": "scattergeo"
           }
          ],
          "scattergl": [
           {
            "marker": {
             "colorbar": {
              "outlinewidth": 0,
              "ticks": ""
             }
            },
            "type": "scattergl"
           }
          ],
          "scattermapbox": [
           {
            "marker": {
             "colorbar": {
              "outlinewidth": 0,
              "ticks": ""
             }
            },
            "type": "scattermapbox"
           }
          ],
          "scatterpolar": [
           {
            "marker": {
             "colorbar": {
              "outlinewidth": 0,
              "ticks": ""
             }
            },
            "type": "scatterpolar"
           }
          ],
          "scatterpolargl": [
           {
            "marker": {
             "colorbar": {
              "outlinewidth": 0,
              "ticks": ""
             }
            },
            "type": "scatterpolargl"
           }
          ],
          "scatterternary": [
           {
            "marker": {
             "colorbar": {
              "outlinewidth": 0,
              "ticks": ""
             }
            },
            "type": "scatterternary"
           }
          ],
          "surface": [
           {
            "colorbar": {
             "outlinewidth": 0,
             "ticks": ""
            },
            "colorscale": [
             [
              0,
              "#0d0887"
             ],
             [
              0.1111111111111111,
              "#46039f"
             ],
             [
              0.2222222222222222,
              "#7201a8"
             ],
             [
              0.3333333333333333,
              "#9c179e"
             ],
             [
              0.4444444444444444,
              "#bd3786"
             ],
             [
              0.5555555555555556,
              "#d8576b"
             ],
             [
              0.6666666666666666,
              "#ed7953"
             ],
             [
              0.7777777777777778,
              "#fb9f3a"
             ],
             [
              0.8888888888888888,
              "#fdca26"
             ],
             [
              1,
              "#f0f921"
             ]
            ],
            "type": "surface"
           }
          ],
          "table": [
           {
            "cells": {
             "fill": {
              "color": "#EBF0F8"
             },
             "line": {
              "color": "white"
             }
            },
            "header": {
             "fill": {
              "color": "#C8D4E3"
             },
             "line": {
              "color": "white"
             }
            },
            "type": "table"
           }
          ]
         },
         "layout": {
          "annotationdefaults": {
           "arrowcolor": "#2a3f5f",
           "arrowhead": 0,
           "arrowwidth": 1
          },
          "autotypenumbers": "strict",
          "coloraxis": {
           "colorbar": {
            "outlinewidth": 0,
            "ticks": ""
           }
          },
          "colorscale": {
           "diverging": [
            [
             0,
             "#8e0152"
            ],
            [
             0.1,
             "#c51b7d"
            ],
            [
             0.2,
             "#de77ae"
            ],
            [
             0.3,
             "#f1b6da"
            ],
            [
             0.4,
             "#fde0ef"
            ],
            [
             0.5,
             "#f7f7f7"
            ],
            [
             0.6,
             "#e6f5d0"
            ],
            [
             0.7,
             "#b8e186"
            ],
            [
             0.8,
             "#7fbc41"
            ],
            [
             0.9,
             "#4d9221"
            ],
            [
             1,
             "#276419"
            ]
           ],
           "sequential": [
            [
             0,
             "#0d0887"
            ],
            [
             0.1111111111111111,
             "#46039f"
            ],
            [
             0.2222222222222222,
             "#7201a8"
            ],
            [
             0.3333333333333333,
             "#9c179e"
            ],
            [
             0.4444444444444444,
             "#bd3786"
            ],
            [
             0.5555555555555556,
             "#d8576b"
            ],
            [
             0.6666666666666666,
             "#ed7953"
            ],
            [
             0.7777777777777778,
             "#fb9f3a"
            ],
            [
             0.8888888888888888,
             "#fdca26"
            ],
            [
             1,
             "#f0f921"
            ]
           ],
           "sequentialminus": [
            [
             0,
             "#0d0887"
            ],
            [
             0.1111111111111111,
             "#46039f"
            ],
            [
             0.2222222222222222,
             "#7201a8"
            ],
            [
             0.3333333333333333,
             "#9c179e"
            ],
            [
             0.4444444444444444,
             "#bd3786"
            ],
            [
             0.5555555555555556,
             "#d8576b"
            ],
            [
             0.6666666666666666,
             "#ed7953"
            ],
            [
             0.7777777777777778,
             "#fb9f3a"
            ],
            [
             0.8888888888888888,
             "#fdca26"
            ],
            [
             1,
             "#f0f921"
            ]
           ]
          },
          "colorway": [
           "#636efa",
           "#EF553B",
           "#00cc96",
           "#ab63fa",
           "#FFA15A",
           "#19d3f3",
           "#FF6692",
           "#B6E880",
           "#FF97FF",
           "#FECB52"
          ],
          "font": {
           "color": "#2a3f5f"
          },
          "geo": {
           "bgcolor": "white",
           "lakecolor": "white",
           "landcolor": "#E5ECF6",
           "showlakes": true,
           "showland": true,
           "subunitcolor": "white"
          },
          "hoverlabel": {
           "align": "left"
          },
          "hovermode": "closest",
          "mapbox": {
           "style": "light"
          },
          "paper_bgcolor": "white",
          "plot_bgcolor": "#E5ECF6",
          "polar": {
           "angularaxis": {
            "gridcolor": "white",
            "linecolor": "white",
            "ticks": ""
           },
           "bgcolor": "#E5ECF6",
           "radialaxis": {
            "gridcolor": "white",
            "linecolor": "white",
            "ticks": ""
           }
          },
          "scene": {
           "xaxis": {
            "backgroundcolor": "#E5ECF6",
            "gridcolor": "white",
            "gridwidth": 2,
            "linecolor": "white",
            "showbackground": true,
            "ticks": "",
            "zerolinecolor": "white"
           },
           "yaxis": {
            "backgroundcolor": "#E5ECF6",
            "gridcolor": "white",
            "gridwidth": 2,
            "linecolor": "white",
            "showbackground": true,
            "ticks": "",
            "zerolinecolor": "white"
           },
           "zaxis": {
            "backgroundcolor": "#E5ECF6",
            "gridcolor": "white",
            "gridwidth": 2,
            "linecolor": "white",
            "showbackground": true,
            "ticks": "",
            "zerolinecolor": "white"
           }
          },
          "shapedefaults": {
           "line": {
            "color": "#2a3f5f"
           }
          },
          "ternary": {
           "aaxis": {
            "gridcolor": "white",
            "linecolor": "white",
            "ticks": ""
           },
           "baxis": {
            "gridcolor": "white",
            "linecolor": "white",
            "ticks": ""
           },
           "bgcolor": "#E5ECF6",
           "caxis": {
            "gridcolor": "white",
            "linecolor": "white",
            "ticks": ""
           }
          },
          "title": {
           "x": 0.05
          },
          "xaxis": {
           "automargin": true,
           "gridcolor": "white",
           "linecolor": "white",
           "ticks": "",
           "title": {
            "standoff": 15
           },
           "zerolinecolor": "white",
           "zerolinewidth": 2
          },
          "yaxis": {
           "automargin": true,
           "gridcolor": "white",
           "linecolor": "white",
           "ticks": "",
           "title": {
            "standoff": 15
           },
           "zerolinecolor": "white",
           "zerolinewidth": 2
          }
         }
        },
        "title": {
         "font": {
          "size": 18
         },
         "text": "HAAS--BIGHORN SHEEP DOMINANCE",
         "x": 0.45
        },
        "xaxis": {
         "showgrid": false,
         "showticklabels": false,
         "zeroline": false
        },
        "yaxis": {
         "showgrid": false,
         "showticklabels": false,
         "zeroline": false
        }
       }
      },
      "text/html": [
       "<div>                            <div id=\"fafc4d17-2e89-4f3e-bbb8-078e7655336e\" class=\"plotly-graph-div\" style=\"height:525px; width:100%;\"></div>            <script type=\"text/javascript\">                require([\"plotly\"], function(Plotly) {                    window.PLOTLYENV=window.PLOTLYENV || {};                                    if (document.getElementById(\"fafc4d17-2e89-4f3e-bbb8-078e7655336e\")) {                    Plotly.newPlot(                        \"fafc4d17-2e89-4f3e-bbb8-078e7655336e\",                        [{\"hoverinfo\": \"none\", \"line\": {\"color\": \"#888\", \"width\": 0.5}, \"mode\": \"lines\", \"type\": \"scatter\", \"x\": [1.0, 0.9749279023302002, null, 1.0, 0.9009688500876064, null, 1.0, 0.7818315038587358, null, 1.0, 0.6234897987449894, null, 1.0, 0.43388375884949737, null, 0.9749279023302002, 0.22252098062387454, null, 0.9749279023302002, 1.6253218954272222e-08, null, 0.9749279023302002, 0.9749279023302002, null, 0.9749279023302002, -3.9383049730156167e-08, null, 0.9749279023302002, -0.22252094216487556, null, 0.9749279023302002, 0.7818315038587358, null, 0.9749279023302002, -0.7818314952020591, null, 0.9749279023302002, -0.9009688414309297, null, 0.9749279023302002, -0.9999999913433233, null, 0.9749279023302002, 0.22252104022851904, null, 0.9749279023302002, 0.43388390786110864, null, 0.9749279023302002, 0.7818314442540912, null, 0.9749279023302002, 0.9009688500876064, null, 0.9749279023302002, -0.22252100176952005, null, 0.9009688500876064, 0.9749279023302002, null, 0.9009688500876064, -3.9383049730156167e-08, null, 0.9009688500876064, -0.22252094216487556, null, 0.9009688500876064, 0.9749279023302002, null, 0.9009688500876064, 0.7818315038587358, null, 0.9009688500876064, -0.9749278936735235, null, 0.9009688500876064, -0.9999999913433233, null, 0.9009688500876064, 0.22252104022851904, null, 0.9009688500876064, -0.9749278936735235, null, 0.9009688500876064, -0.7818315548067036, null, 0.9009688500876064, 0.43388390786110864, null, 0.9009688500876064, 0.6234896795357004, null, 0.9009688500876064, 0.6234897987449894, null, 0.9009688500876064, -0.6234896112743792, null, 0.9009688500876064, 0.7818314442540912, null, 0.9009688500876064, -0.4338838992044319, null, 0.9009688500876064, -0.22252100176952005, null, 0.9009688500876064, 0.43388375884949737, null, 0.7818315038587358, 0.9749279023302002, null, 0.7818315038587358, 0.9009688500876064, null, 0.7818315038587358, -0.6234897900883127, null, 0.7818315038587358, -0.7818314952020591, null, 0.7818315038587358, -0.9999999913433233, null, 0.7818315038587358, 0.22252104022851904, null, 0.7818315038587358, -0.9749278936735235, null, 0.7818315038587358, -0.7818315548067036, null, 0.7818315038587358, 0.43388390786110864, null, 0.7818315038587358, 0.6234896795357004, null, 0.7818315038587358, 0.6234897987449894, null, 0.7818315038587358, -0.6234896112743792, null, 0.7818315038587358, 0.7818314442540912, null, 0.7818315038587358, -0.4338838992044319, null, 0.7818315038587358, 0.9009688500876064, null, 0.7818315038587358, -0.22252100176952005, null, 0.7818315038587358, 0.43388375884949737, null, 0.6234897987449894, -0.9749278936735235, null, 0.6234897987449894, -0.22252100176952005, null, 0.22252098062387454, -3.9383049730156167e-08, null, 0.22252098062387454, -0.22252094216487556, null, 0.22252098062387454, -0.4338838395997873, null, 0.22252098062387454, 0.9009688500876064, null, 0.22252098062387454, -0.6234897900883127, null, 0.22252098062387454, 0.7818315038587358, null, 0.22252098062387454, -0.7818314952020591, null, 0.22252098062387454, -0.9009688414309297, null, 0.22252098062387454, -0.9749278936735235, null, 0.22252098062387454, -0.9999999913433233, null, 0.22252098062387454, -0.9749278936735235, null, 0.22252098062387454, -0.9009688414309297, null, 0.22252098062387454, -0.7818315548067036, null, 0.22252098062387454, -0.6234896112743792, null, 0.22252098062387454, -0.4338838992044319, null, 0.22252098062387454, -0.22252100176952005, null, -3.9383049730156167e-08, -0.22252094216487556, null, -3.9383049730156167e-08, 0.9009688500876064, null, -3.9383049730156167e-08, 0.7818315038587358, null, -3.9383049730156167e-08, -0.9009688414309297, null, -3.9383049730156167e-08, -0.9999999913433233, null, -3.9383049730156167e-08, 0.22252104022851904, null, -3.9383049730156167e-08, -0.9749278936735235, null, -3.9383049730156167e-08, -0.9009688414309297, null, -3.9383049730156167e-08, -0.7818315548067036, null, -3.9383049730156167e-08, 0.43388390786110864, null, -3.9383049730156167e-08, -0.6234896112743792, null, -3.9383049730156167e-08, 0.7818314442540912, null, -3.9383049730156167e-08, -0.22252100176952005, null, -3.9383049730156167e-08, 0.43388375884949737, null, -0.22252094216487556, 0.9749279023302002, null, -0.22252094216487556, -0.6234897900883127, null, -0.22252094216487556, 0.7818315038587358, null, -0.22252094216487556, -0.9009688414309297, null, -0.22252094216487556, -0.9749278936735235, null, -0.22252094216487556, -0.9999999913433233, null, -0.22252094216487556, 0.22252104022851904, null, -0.22252094216487556, -0.9749278936735235, null, -0.22252094216487556, -0.9009688414309297, null, -0.22252094216487556, -0.7818315548067036, null, -0.22252094216487556, 0.6234896795357004, null, -0.22252094216487556, -0.6234896112743792, null, -0.22252094216487556, 0.7818314442540912, null, -0.22252094216487556, -0.4338838992044319, null, -0.22252094216487556, -0.22252100176952005, null, -0.22252094216487556, 0.43388375884949737, null, -0.4338838395997873, 1.6253218954272222e-08, null, -0.4338838395997873, -0.9749278936735235, null, -0.4338838395997873, 0.9009688500876064, null, -0.6234897900883127, 0.9009688500876064, null, -0.6234897900883127, -0.9749278936735235, null, -0.6234897900883127, 0.22252104022851904, null, -0.6234897900883127, -0.9749278936735235, null, -0.6234897900883127, -0.9009688414309297, null, -0.6234897900883127, -0.7818315548067036, null, -0.6234897900883127, 0.6234896795357004, null, -0.6234897900883127, 0.6234897987449894, null, -0.6234897900883127, 0.7818314442540912, null, -0.6234897900883127, -0.22252100176952005, null, -0.7818314952020591, -0.22252094216487556, null, -0.7818314952020591, 0.9749279023302002, null, -0.7818314952020591, -0.9749278936735235, null, -0.7818314952020591, 0.6234897987449894, null, -0.7818314952020591, 0.7818314442540912, null, -0.7818314952020591, -0.4338838992044319, null, -0.7818314952020591, -0.22252100176952005, null, -0.9009688414309297, 0.9009688500876064, null, -0.9009688414309297, -0.6234897900883127, null, -0.9009688414309297, -0.9749278936735235, null, -0.9009688414309297, -0.9999999913433233, null, -0.9009688414309297, 0.22252104022851904, null, -0.9009688414309297, -0.9009688414309297, null, -0.9009688414309297, -0.7818315548067036, null, -0.9009688414309297, 0.43388390786110864, null, -0.9009688414309297, 0.6234896795357004, null, -0.9009688414309297, -0.6234896112743792, null, -0.9009688414309297, 0.7818314442540912, null, -0.9009688414309297, -0.4338838992044319, null, -0.9009688414309297, 0.9009688500876064, null, -0.9009688414309297, 0.43388375884949737, null, -0.9749278936735235, -0.6234897900883127, null, -0.9749278936735235, 0.7818315038587358, null, -0.9749278936735235, -0.9009688414309297, null, -0.9749278936735235, -0.9009688414309297, null, -0.9749278936735235, 0.43388390786110864, null, -0.9749278936735235, 0.6234896795357004, null, -0.9749278936735235, -0.6234896112743792, null, -0.9749278936735235, 0.7818314442540912, null, -0.9749278936735235, -0.4338838992044319, null, -0.9749278936735235, -0.22252100176952005, null, -0.9749278936735235, 0.43388375884949737, null, -0.9999999913433233, -0.9749278936735235, null, -0.9999999913433233, 0.22252104022851904, null, -0.9999999913433233, -0.9009688414309297, null, -0.9999999913433233, -0.7818315548067036, null, -0.9999999913433233, 0.43388390786110864, null, -0.9999999913433233, -0.6234896112743792, null, -0.9999999913433233, 0.7818314442540912, null, -0.9999999913433233, -0.4338838992044319, null, -0.9999999913433233, 0.9009688500876064, null, -0.9999999913433233, -0.22252100176952005, null, -0.9999999913433233, 0.43388375884949737, null, -0.9749278936735235, 0.9749279023302002, null, -0.9749278936735235, -0.9999999913433233, null, -0.9749278936735235, -0.9009688414309297, null, -0.9749278936735235, -0.7818315548067036, null, -0.9749278936735235, -0.6234896112743792, null, -0.9749278936735235, 0.7818314442540912, null, -0.9749278936735235, -0.4338838992044319, null, -0.9749278936735235, -0.22252100176952005, null, -0.9749278936735235, 0.43388375884949737, null, -0.9009688414309297, -0.9009688414309297, null, -0.9009688414309297, -0.9749278936735235, null, -0.9009688414309297, 0.6234896795357004, null, -0.9009688414309297, -0.4338838992044319, null, -0.9009688414309297, 0.9009688500876064, null, -0.9009688414309297, -0.22252100176952005, null, -0.9009688414309297, 0.43388375884949737, null, -0.7818315548067036, 0.7818315038587358, null, -0.7818315548067036, 0.22252104022851904, null, -0.7818315548067036, 0.43388390786110864, null, -0.7818315548067036, 0.6234896795357004, null, -0.7818315548067036, -0.6234896112743792, null, -0.7818315548067036, 0.7818314442540912, null, -0.7818315548067036, -0.4338838992044319, null, -0.7818315548067036, 0.9009688500876064, null, -0.7818315548067036, -0.22252100176952005, null, -0.7818315548067036, 0.43388375884949737, null, -0.6234896112743792, -0.7818315548067036, null, -0.6234896112743792, 0.43388390786110864, null, -0.6234896112743792, 0.6234896795357004, null, -0.6234896112743792, 0.7818314442540912, null, -0.6234896112743792, -0.4338838992044319, null, -0.6234896112743792, 0.9009688500876064, null, -0.6234896112743792, 0.43388375884949737, null, -0.4338838992044319, 0.7818314442540912, null, -0.4338838992044319, -0.22252100176952005, null, -0.22252100176952005, 0.43388375884949737, null, 1.6253218954272222e-08, -3.9383049730156167e-08, null, 1.6253218954272222e-08, -0.22252094216487556, null, 1.6253218954272222e-08, 0.9009688500876064, null, 1.6253218954272222e-08, 0.7818315038587358, null, 1.6253218954272222e-08, -0.9009688414309297, null, 1.6253218954272222e-08, -0.9749278936735235, null, 1.6253218954272222e-08, -0.9999999913433233, null, 1.6253218954272222e-08, 0.22252104022851904, null, 1.6253218954272222e-08, -0.7818315548067036, null, 1.6253218954272222e-08, 0.43388390786110864, null, 1.6253218954272222e-08, 0.6234896795357004, null, 1.6253218954272222e-08, -0.6234896112743792, null, 1.6253218954272222e-08, 0.7818314442540912, null, 1.6253218954272222e-08, 0.9009688500876064, null, 1.6253218954272222e-08, -0.22252100176952005, null, 1.6253218954272222e-08, 0.43388375884949737, null, 0.22252104022851904, -0.9749278936735235, null, 0.22252104022851904, -0.9009688414309297, null, 0.22252104022851904, 0.6234896795357004, null, 0.22252104022851904, -0.6234896112743792, null, 0.22252104022851904, 0.7818314442540912, null, 0.22252104022851904, -0.4338838992044319, null, 0.22252104022851904, 0.9009688500876064, null, 0.22252104022851904, -0.22252100176952005, null, 0.22252104022851904, 0.43388375884949737, null, 0.43388390786110864, 0.22252104022851904, null, 0.43388390786110864, -0.7818315548067036, null, 0.43388390786110864, 0.7818314442540912, null, 0.43388390786110864, -0.4338838992044319, null, 0.43388390786110864, -0.22252100176952005, null, 0.43388390786110864, 0.43388375884949737, null, 0.6234896795357004, -0.9749278936735235, null, 0.6234896795357004, -0.7818315548067036, null, 0.6234896795357004, 0.43388390786110864, null, 0.6234896795357004, -0.4338838992044319, null, 0.6234896795357004, -0.22252100176952005, null, 0.6234896795357004, 0.43388375884949737, null, 0.7818314442540912, -0.4338838992044319, null, 0.7818314442540912, -0.22252100176952005, null, 0.7818314442540912, 0.43388375884949737, null, 0.9009688500876064, 0.7818314442540912, null, 0.9749279023302002, 1.6253218954272222e-08, null, 0.9749279023302002, 0.9009688500876064, null, 0.9749279023302002, -0.6234897900883127, null, 0.9749279023302002, -0.7818314952020591, null, 0.9749279023302002, -0.9749278936735235, null, 0.9749279023302002, 0.22252104022851904, null, 0.9749279023302002, -0.9749278936735235, null, 0.9749279023302002, -0.9009688414309297, null, 0.9749279023302002, 0.6234896795357004, null, 0.9749279023302002, -0.6234896112743792, null, 0.9749279023302002, 0.7818314442540912, null, 0.9749279023302002, -0.4338838992044319, null, 0.9749279023302002, 0.9009688500876064, null, 0.9749279023302002, -0.22252100176952005, null, 0.9749279023302002, 0.43388375884949737, null], \"y\": [2.5900576809189324e-09, 0.22252093418211047, null, 2.5900576809189324e-09, 0.43388375711121663, null, 2.5900576809189324e-09, 0.6234897970067088, null, 2.5900576809189324e-09, 0.7818315021204552, null, 2.5900576809189324e-09, 0.9009688483493258, null, 0.22252093418211047, 0.9749279005919196, null, 0.22252093418211047, -0.9999999930816039, null, 0.22252093418211047, -0.22252085449618944, null, 0.22252093418211047, 0.9999999982617194, null, 0.22252093418211047, 0.9749279005919196, null, 0.22252093418211047, 0.6234897970067088, null, 0.22252093418211047, 0.6234897374020644, null, 0.22252093418211047, 0.4338838167158611, null, 0.22252093418211047, -8.483271851416157e-08, null, 0.22252093418211047, -0.9749278954118041, null, 0.22252093418211047, -0.9009687835645658, null, 0.22252093418211047, -0.6234898514312379, null, 0.22252093418211047, -0.4338837519311013, null, 0.22252093418211047, -0.9749278954118041, null, 0.43388375711121663, -0.22252085449618944, null, 0.43388375711121663, 0.9999999982617194, null, 0.43388375711121663, 0.9749279005919196, null, 0.43388375711121663, 0.22252093418211047, null, 0.43388375711121663, 0.6234897970067088, null, 0.43388375711121663, 0.22252093418211047, null, 0.43388375711121663, -8.483271851416157e-08, null, 0.43388375711121663, -0.9749278954118041, null, 0.43388375711121663, -0.22252086939735058, null, 0.43388375711121663, -0.6234897322219489, null, 0.43388375711121663, -0.9009687835645658, null, 0.43388375711121663, -0.7818316161496287, null, 0.43388375711121663, 0.7818315021204552, null, 0.43388375711121663, -0.7818316161496287, null, 0.43388375711121663, -0.6234898514312379, null, 0.43388375711121663, -0.9009687835645658, null, 0.43388375711121663, -0.9749278954118041, null, 0.43388375711121663, 0.9009688483493258, null, 0.6234897970067088, 0.22252093418211047, null, 0.6234897970067088, 0.43388375711121663, null, 0.6234897970067088, 0.7818315021204552, null, 0.6234897970067088, 0.6234897374020644, null, 0.6234897970067088, -8.483271851416157e-08, null, 0.6234897970067088, -0.9749278954118041, null, 0.6234897970067088, -0.22252086939735058, null, 0.6234897970067088, -0.6234897322219489, null, 0.6234897970067088, -0.9009687835645658, null, 0.6234897970067088, -0.7818316161496287, null, 0.6234897970067088, 0.7818315021204552, null, 0.6234897970067088, -0.7818316161496287, null, 0.6234897970067088, -0.6234898514312379, null, 0.6234897970067088, -0.9009687835645658, null, 0.6234897970067088, -0.4338837519311013, null, 0.6234897970067088, -0.9749278954118041, null, 0.6234897970067088, 0.9009688483493258, null, 0.7818315021204552, -0.22252086939735058, null, 0.7818315021204552, -0.9749278954118041, null, 0.9749279005919196, 0.9999999982617194, null, 0.9749279005919196, 0.9749279005919196, null, 0.9749279005919196, 0.9009688483493258, null, 0.9749279005919196, 0.43388375711121663, null, 0.9749279005919196, 0.7818315021204552, null, 0.9749279005919196, 0.6234897970067088, null, 0.9749279005919196, 0.6234897374020644, null, 0.9749279005919196, 0.4338838167158611, null, 0.9749279005919196, 0.22252093418211047, null, 0.9749279005919196, -8.483271851416157e-08, null, 0.9749279005919196, -0.22252086939735058, null, 0.9749279005919196, -0.4338837519311013, null, 0.9749279005919196, -0.6234897322219489, null, 0.9749279005919196, -0.7818316161496287, null, 0.9749279005919196, -0.9009687835645658, null, 0.9749279005919196, -0.9749278954118041, null, 0.9999999982617194, 0.9749279005919196, null, 0.9999999982617194, 0.43388375711121663, null, 0.9999999982617194, 0.6234897970067088, null, 0.9999999982617194, 0.4338838167158611, null, 0.9999999982617194, -8.483271851416157e-08, null, 0.9999999982617194, -0.9749278954118041, null, 0.9999999982617194, -0.22252086939735058, null, 0.9999999982617194, -0.4338837519311013, null, 0.9999999982617194, -0.6234897322219489, null, 0.9999999982617194, -0.9009687835645658, null, 0.9999999982617194, -0.7818316161496287, null, 0.9999999982617194, -0.6234898514312379, null, 0.9999999982617194, -0.9749278954118041, null, 0.9999999982617194, 0.9009688483493258, null, 0.9749279005919196, -0.22252085449618944, null, 0.9749279005919196, 0.7818315021204552, null, 0.9749279005919196, 0.6234897970067088, null, 0.9749279005919196, 0.4338838167158611, null, 0.9749279005919196, 0.22252093418211047, null, 0.9749279005919196, -8.483271851416157e-08, null, 0.9749279005919196, -0.9749278954118041, null, 0.9749279005919196, -0.22252086939735058, null, 0.9749279005919196, -0.4338837519311013, null, 0.9749279005919196, -0.6234897322219489, null, 0.9749279005919196, -0.7818316161496287, null, 0.9749279005919196, -0.7818316161496287, null, 0.9749279005919196, -0.6234898514312379, null, 0.9749279005919196, -0.9009687835645658, null, 0.9749279005919196, -0.9749278954118041, null, 0.9749279005919196, 0.9009688483493258, null, 0.9009688483493258, -0.9999999930816039, null, 0.9009688483493258, -0.22252086939735058, null, 0.9009688483493258, -0.4338837519311013, null, 0.7818315021204552, 0.43388375711121663, null, 0.7818315021204552, 0.22252093418211047, null, 0.7818315021204552, -0.9749278954118041, null, 0.7818315021204552, -0.22252086939735058, null, 0.7818315021204552, -0.4338837519311013, null, 0.7818315021204552, -0.6234897322219489, null, 0.7818315021204552, -0.7818316161496287, null, 0.7818315021204552, 0.7818315021204552, null, 0.7818315021204552, -0.6234898514312379, null, 0.7818315021204552, -0.9749278954118041, null, 0.6234897374020644, 0.9749279005919196, null, 0.6234897374020644, 0.22252093418211047, null, 0.6234897374020644, -0.22252086939735058, null, 0.6234897374020644, 0.7818315021204552, null, 0.6234897374020644, -0.6234898514312379, null, 0.6234897374020644, -0.9009687835645658, null, 0.6234897374020644, -0.9749278954118041, null, 0.4338838167158611, 0.43388375711121663, null, 0.4338838167158611, 0.7818315021204552, null, 0.4338838167158611, 0.22252093418211047, null, 0.4338838167158611, -8.483271851416157e-08, null, 0.4338838167158611, -0.9749278954118041, null, 0.4338838167158611, -0.4338837519311013, null, 0.4338838167158611, -0.6234897322219489, null, 0.4338838167158611, -0.9009687835645658, null, 0.4338838167158611, -0.7818316161496287, null, 0.4338838167158611, -0.7818316161496287, null, 0.4338838167158611, -0.6234898514312379, null, 0.4338838167158611, -0.9009687835645658, null, 0.4338838167158611, -0.4338837519311013, null, 0.4338838167158611, 0.9009688483493258, null, 0.22252093418211047, 0.7818315021204552, null, 0.22252093418211047, 0.6234897970067088, null, 0.22252093418211047, 0.4338838167158611, null, 0.22252093418211047, -0.4338837519311013, null, 0.22252093418211047, -0.9009687835645658, null, 0.22252093418211047, -0.7818316161496287, null, 0.22252093418211047, -0.7818316161496287, null, 0.22252093418211047, -0.6234898514312379, null, 0.22252093418211047, -0.9009687835645658, null, 0.22252093418211047, -0.9749278954118041, null, 0.22252093418211047, 0.9009688483493258, null, -8.483271851416157e-08, 0.22252093418211047, null, -8.483271851416157e-08, -0.9749278954118041, null, -8.483271851416157e-08, -0.4338837519311013, null, -8.483271851416157e-08, -0.6234897322219489, null, -8.483271851416157e-08, -0.9009687835645658, null, -8.483271851416157e-08, -0.7818316161496287, null, -8.483271851416157e-08, -0.6234898514312379, null, -8.483271851416157e-08, -0.9009687835645658, null, -8.483271851416157e-08, -0.4338837519311013, null, -8.483271851416157e-08, -0.9749278954118041, null, -8.483271851416157e-08, 0.9009688483493258, null, -0.22252086939735058, 0.22252093418211047, null, -0.22252086939735058, -8.483271851416157e-08, null, -0.22252086939735058, -0.4338837519311013, null, -0.22252086939735058, -0.6234897322219489, null, -0.22252086939735058, -0.7818316161496287, null, -0.22252086939735058, -0.6234898514312379, null, -0.22252086939735058, -0.9009687835645658, null, -0.22252086939735058, -0.9749278954118041, null, -0.22252086939735058, 0.9009688483493258, null, -0.4338837519311013, 0.4338838167158611, null, -0.4338837519311013, 0.22252093418211047, null, -0.4338837519311013, -0.7818316161496287, null, -0.4338837519311013, -0.9009687835645658, null, -0.4338837519311013, -0.4338837519311013, null, -0.4338837519311013, -0.9749278954118041, null, -0.4338837519311013, 0.9009688483493258, null, -0.6234897322219489, 0.6234897970067088, null, -0.6234897322219489, -0.9749278954118041, null, -0.6234897322219489, -0.9009687835645658, null, -0.6234897322219489, -0.7818316161496287, null, -0.6234897322219489, -0.7818316161496287, null, -0.6234897322219489, -0.6234898514312379, null, -0.6234897322219489, -0.9009687835645658, null, -0.6234897322219489, -0.4338837519311013, null, -0.6234897322219489, -0.9749278954118041, null, -0.6234897322219489, 0.9009688483493258, null, -0.7818316161496287, -0.6234897322219489, null, -0.7818316161496287, -0.9009687835645658, null, -0.7818316161496287, -0.7818316161496287, null, -0.7818316161496287, -0.6234898514312379, null, -0.7818316161496287, -0.9009687835645658, null, -0.7818316161496287, -0.4338837519311013, null, -0.7818316161496287, 0.9009688483493258, null, -0.9009687835645658, -0.6234898514312379, null, -0.9009687835645658, -0.9749278954118041, null, -0.9749278954118041, 0.9009688483493258, null, -0.9999999930816039, 0.9999999982617194, null, -0.9999999930816039, 0.9749279005919196, null, -0.9999999930816039, 0.43388375711121663, null, -0.9999999930816039, 0.6234897970067088, null, -0.9999999930816039, 0.4338838167158611, null, -0.9999999930816039, 0.22252093418211047, null, -0.9999999930816039, -8.483271851416157e-08, null, -0.9999999930816039, -0.9749278954118041, null, -0.9999999930816039, -0.6234897322219489, null, -0.9999999930816039, -0.9009687835645658, null, -0.9999999930816039, -0.7818316161496287, null, -0.9999999930816039, -0.7818316161496287, null, -0.9999999930816039, -0.6234898514312379, null, -0.9999999930816039, -0.4338837519311013, null, -0.9999999930816039, -0.9749278954118041, null, -0.9999999930816039, 0.9009688483493258, null, -0.9749278954118041, 0.22252093418211047, null, -0.9749278954118041, -0.4338837519311013, null, -0.9749278954118041, -0.7818316161496287, null, -0.9749278954118041, -0.7818316161496287, null, -0.9749278954118041, -0.6234898514312379, null, -0.9749278954118041, -0.9009687835645658, null, -0.9749278954118041, -0.4338837519311013, null, -0.9749278954118041, -0.9749278954118041, null, -0.9749278954118041, 0.9009688483493258, null, -0.9009687835645658, -0.9749278954118041, null, -0.9009687835645658, -0.6234897322219489, null, -0.9009687835645658, -0.6234898514312379, null, -0.9009687835645658, -0.9009687835645658, null, -0.9009687835645658, -0.9749278954118041, null, -0.9009687835645658, 0.9009688483493258, null, -0.7818316161496287, 0.22252093418211047, null, -0.7818316161496287, -0.6234897322219489, null, -0.7818316161496287, -0.9009687835645658, null, -0.7818316161496287, -0.9009687835645658, null, -0.7818316161496287, -0.9749278954118041, null, -0.7818316161496287, 0.9009688483493258, null, -0.6234898514312379, -0.9009687835645658, null, -0.6234898514312379, -0.9749278954118041, null, -0.6234898514312379, 0.9009688483493258, null, -0.4338837519311013, -0.6234898514312379, null, -0.22252085449618944, -0.9999999930816039, null, -0.22252085449618944, 0.43388375711121663, null, -0.22252085449618944, 0.7818315021204552, null, -0.22252085449618944, 0.6234897374020644, null, -0.22252085449618944, 0.22252093418211047, null, -0.22252085449618944, -0.9749278954118041, null, -0.22252085449618944, -0.22252086939735058, null, -0.22252085449618944, -0.4338837519311013, null, -0.22252085449618944, -0.7818316161496287, null, -0.22252085449618944, -0.7818316161496287, null, -0.22252085449618944, -0.6234898514312379, null, -0.22252085449618944, -0.9009687835645658, null, -0.22252085449618944, -0.4338837519311013, null, -0.22252085449618944, -0.9749278954118041, null, -0.22252085449618944, 0.9009688483493258, null]}, {\"hoverinfo\": \"text\", \"marker\": {\"color\": [5, 14, 18, 17, 2, 0, 16, 14, 16, 3, 10, 7, 14, 11, 11, 9, 7, 10, 7, 2, 1, 16, 9, 6, 6, 3, 1, 15], \"colorbar\": {\"thickness\": 15, \"title\": {\"side\": \"right\", \"text\": \"Dominance Count\"}, \"xanchor\": \"left\"}, \"colorscale\": [[0.0, \"rgb(161, 105, 40)\"], [0.16666666666666666, \"rgb(189, 146, 90)\"], [0.3333333333333333, \"rgb(214, 189, 141)\"], [0.5, \"rgb(237, 234, 194)\"], [0.6666666666666666, \"rgb(181, 200, 184)\"], [0.8333333333333334, \"rgb(121, 167, 172)\"], [1.0, \"rgb(40, 135, 161)\"]], \"line\": {\"width\": 1}, \"reversescale\": true, \"showscale\": true, \"size\": [1, 2, 3, 4, 5, 6, 7, 8, 9, 10, 11, 12, 13, 14, 15, 16, 17, 18, 19, 20, 21, 22, 23, 24, 25, 26, 27, 28]}, \"mode\": \"markers\", \"text\": [\"Dominance Count: 5<br>Age: 50\", \"Dominance Count: 14<br>Age: 50\", \"Dominance Count: 18<br>Age: 50\", \"Dominance Count: 17<br>Age: 50\", \"Dominance Count: 2<br>Age: 50\", \"Dominance Count: 0<br>Age: 50\", \"Dominance Count: 16<br>Age: 50\", \"Dominance Count: 14<br>Age: 50\", \"Dominance Count: 16<br>Age: 50\", \"Dominance Count: 3<br>Age: 50\", \"Dominance Count: 10<br>Age: 50\", \"Dominance Count: 7<br>Age: 50\", \"Dominance Count: 14<br>Age: 50\", \"Dominance Count: 11<br>Age: 50\", \"Dominance Count: 11<br>Age: 50\", \"Dominance Count: 9<br>Age: 50\", \"Dominance Count: 7<br>Age: 50\", \"Dominance Count: 10<br>Age: 50\", \"Dominance Count: 7<br>Age: 50\", \"Dominance Count: 2<br>Age: 50\", \"Dominance Count: 1<br>Age: 50\", \"Dominance Count: 16<br>Age: 50\", \"Dominance Count: 9<br>Age: 50\", \"Dominance Count: 6<br>Age: 50\", \"Dominance Count: 6<br>Age: 50\", \"Dominance Count: 3<br>Age: 50\", \"Dominance Count: 1<br>Age: 50\", \"Dominance Count: 15<br>Age: 50\"], \"textposition\": \"top center\", \"type\": \"scatter\", \"x\": [1.0, 0.9749279023302002, 0.9009688500876064, 0.7818315038587358, 0.6234897987449894, 0.43388375884949737, 0.22252098062387454, -3.9383049730156167e-08, -0.22252094216487556, -0.4338838395997873, -0.6234897900883127, -0.7818314952020591, -0.9009688414309297, -0.9749278936735235, -0.9999999913433233, -0.9749278936735235, -0.9009688414309297, -0.7818315548067036, -0.6234896112743792, -0.4338838992044319, -0.22252100176952005, 1.6253218954272222e-08, 0.22252104022851904, 0.43388390786110864, 0.6234896795357004, 0.7818314442540912, 0.9009688500876064, 0.9749279023302002], \"y\": [2.5900576809189324e-09, 0.22252093418211047, 0.43388375711121663, 0.6234897970067088, 0.7818315021204552, 0.9009688483493258, 0.9749279005919196, 0.9999999982617194, 0.9749279005919196, 0.9009688483493258, 0.7818315021204552, 0.6234897374020644, 0.4338838167158611, 0.22252093418211047, -8.483271851416157e-08, -0.22252086939735058, -0.4338837519311013, -0.6234897322219489, -0.7818316161496287, -0.9009687835645658, -0.9749278954118041, -0.9999999930816039, -0.9749278954118041, -0.9009687835645658, -0.7818316161496287, -0.6234898514312379, -0.4338837519311013, -0.22252085449618944]}],                        {\"annotations\": [{\"showarrow\": false, \"text\": \"Reference:\\n    Christine Hass, \\\"Social status in female bighorn sheep (Ovis canadensis): expression, development and reproductive correlates.\\\"<br> \\n    Journal of the Zoological Society of London, 1991, 225: 509-523.Station, Technical Bulletin 73.\", \"x\": 0.005, \"xref\": \"paper\", \"y\": -0.08, \"yref\": \"paper\"}], \"hovermode\": \"closest\", \"margin\": {\"b\": 40, \"l\": 5, \"r\": 5, \"t\": 30}, \"showlegend\": false, \"template\": {\"data\": {\"bar\": [{\"error_x\": {\"color\": \"#2a3f5f\"}, \"error_y\": {\"color\": \"#2a3f5f\"}, \"marker\": {\"line\": {\"color\": \"#E5ECF6\", \"width\": 0.5}}, \"type\": \"bar\"}], \"barpolar\": [{\"marker\": {\"line\": {\"color\": \"#E5ECF6\", \"width\": 0.5}}, \"type\": \"barpolar\"}], \"carpet\": [{\"aaxis\": {\"endlinecolor\": \"#2a3f5f\", \"gridcolor\": \"white\", \"linecolor\": \"white\", \"minorgridcolor\": \"white\", \"startlinecolor\": \"#2a3f5f\"}, \"baxis\": {\"endlinecolor\": \"#2a3f5f\", \"gridcolor\": \"white\", \"linecolor\": \"white\", \"minorgridcolor\": \"white\", \"startlinecolor\": \"#2a3f5f\"}, \"type\": \"carpet\"}], \"choropleth\": [{\"colorbar\": {\"outlinewidth\": 0, \"ticks\": \"\"}, \"type\": \"choropleth\"}], \"contour\": [{\"colorbar\": {\"outlinewidth\": 0, \"ticks\": \"\"}, \"colorscale\": [[0.0, \"#0d0887\"], [0.1111111111111111, \"#46039f\"], [0.2222222222222222, \"#7201a8\"], [0.3333333333333333, \"#9c179e\"], [0.4444444444444444, \"#bd3786\"], [0.5555555555555556, \"#d8576b\"], [0.6666666666666666, \"#ed7953\"], [0.7777777777777778, \"#fb9f3a\"], [0.8888888888888888, \"#fdca26\"], [1.0, \"#f0f921\"]], \"type\": \"contour\"}], \"contourcarpet\": [{\"colorbar\": {\"outlinewidth\": 0, \"ticks\": \"\"}, \"type\": \"contourcarpet\"}], \"heatmap\": [{\"colorbar\": {\"outlinewidth\": 0, \"ticks\": \"\"}, \"colorscale\": [[0.0, \"#0d0887\"], [0.1111111111111111, \"#46039f\"], [0.2222222222222222, \"#7201a8\"], [0.3333333333333333, \"#9c179e\"], [0.4444444444444444, \"#bd3786\"], [0.5555555555555556, \"#d8576b\"], [0.6666666666666666, \"#ed7953\"], [0.7777777777777778, \"#fb9f3a\"], [0.8888888888888888, \"#fdca26\"], [1.0, \"#f0f921\"]], \"type\": \"heatmap\"}], \"heatmapgl\": [{\"colorbar\": {\"outlinewidth\": 0, \"ticks\": \"\"}, \"colorscale\": [[0.0, \"#0d0887\"], [0.1111111111111111, \"#46039f\"], [0.2222222222222222, \"#7201a8\"], [0.3333333333333333, \"#9c179e\"], [0.4444444444444444, \"#bd3786\"], [0.5555555555555556, \"#d8576b\"], [0.6666666666666666, \"#ed7953\"], [0.7777777777777778, \"#fb9f3a\"], [0.8888888888888888, \"#fdca26\"], [1.0, \"#f0f921\"]], \"type\": \"heatmapgl\"}], \"histogram\": [{\"marker\": {\"colorbar\": {\"outlinewidth\": 0, \"ticks\": \"\"}}, \"type\": \"histogram\"}], \"histogram2d\": [{\"colorbar\": {\"outlinewidth\": 0, \"ticks\": \"\"}, \"colorscale\": [[0.0, \"#0d0887\"], [0.1111111111111111, \"#46039f\"], [0.2222222222222222, \"#7201a8\"], [0.3333333333333333, \"#9c179e\"], [0.4444444444444444, \"#bd3786\"], [0.5555555555555556, \"#d8576b\"], [0.6666666666666666, \"#ed7953\"], [0.7777777777777778, \"#fb9f3a\"], [0.8888888888888888, \"#fdca26\"], [1.0, \"#f0f921\"]], \"type\": \"histogram2d\"}], \"histogram2dcontour\": [{\"colorbar\": {\"outlinewidth\": 0, \"ticks\": \"\"}, \"colorscale\": [[0.0, \"#0d0887\"], [0.1111111111111111, \"#46039f\"], [0.2222222222222222, \"#7201a8\"], [0.3333333333333333, \"#9c179e\"], [0.4444444444444444, \"#bd3786\"], [0.5555555555555556, \"#d8576b\"], [0.6666666666666666, \"#ed7953\"], [0.7777777777777778, \"#fb9f3a\"], [0.8888888888888888, \"#fdca26\"], [1.0, \"#f0f921\"]], \"type\": \"histogram2dcontour\"}], \"mesh3d\": [{\"colorbar\": {\"outlinewidth\": 0, \"ticks\": \"\"}, \"type\": \"mesh3d\"}], \"parcoords\": [{\"line\": {\"colorbar\": {\"outlinewidth\": 0, \"ticks\": \"\"}}, \"type\": \"parcoords\"}], \"pie\": [{\"automargin\": true, \"type\": \"pie\"}], \"scatter\": [{\"marker\": {\"colorbar\": {\"outlinewidth\": 0, \"ticks\": \"\"}}, \"type\": \"scatter\"}], \"scatter3d\": [{\"line\": {\"colorbar\": {\"outlinewidth\": 0, \"ticks\": \"\"}}, \"marker\": {\"colorbar\": {\"outlinewidth\": 0, \"ticks\": \"\"}}, \"type\": \"scatter3d\"}], \"scattercarpet\": [{\"marker\": {\"colorbar\": {\"outlinewidth\": 0, \"ticks\": \"\"}}, \"type\": \"scattercarpet\"}], \"scattergeo\": [{\"marker\": {\"colorbar\": {\"outlinewidth\": 0, \"ticks\": \"\"}}, \"type\": \"scattergeo\"}], \"scattergl\": [{\"marker\": {\"colorbar\": {\"outlinewidth\": 0, \"ticks\": \"\"}}, \"type\": \"scattergl\"}], \"scattermapbox\": [{\"marker\": {\"colorbar\": {\"outlinewidth\": 0, \"ticks\": \"\"}}, \"type\": \"scattermapbox\"}], \"scatterpolar\": [{\"marker\": {\"colorbar\": {\"outlinewidth\": 0, \"ticks\": \"\"}}, \"type\": \"scatterpolar\"}], \"scatterpolargl\": [{\"marker\": {\"colorbar\": {\"outlinewidth\": 0, \"ticks\": \"\"}}, \"type\": \"scatterpolargl\"}], \"scatterternary\": [{\"marker\": {\"colorbar\": {\"outlinewidth\": 0, \"ticks\": \"\"}}, \"type\": \"scatterternary\"}], \"surface\": [{\"colorbar\": {\"outlinewidth\": 0, \"ticks\": \"\"}, \"colorscale\": [[0.0, \"#0d0887\"], [0.1111111111111111, \"#46039f\"], [0.2222222222222222, \"#7201a8\"], [0.3333333333333333, \"#9c179e\"], [0.4444444444444444, \"#bd3786\"], [0.5555555555555556, \"#d8576b\"], [0.6666666666666666, \"#ed7953\"], [0.7777777777777778, \"#fb9f3a\"], [0.8888888888888888, \"#fdca26\"], [1.0, \"#f0f921\"]], \"type\": \"surface\"}], \"table\": [{\"cells\": {\"fill\": {\"color\": \"#EBF0F8\"}, \"line\": {\"color\": \"white\"}}, \"header\": {\"fill\": {\"color\": \"#C8D4E3\"}, \"line\": {\"color\": \"white\"}}, \"type\": \"table\"}]}, \"layout\": {\"annotationdefaults\": {\"arrowcolor\": \"#2a3f5f\", \"arrowhead\": 0, \"arrowwidth\": 1}, \"autotypenumbers\": \"strict\", \"coloraxis\": {\"colorbar\": {\"outlinewidth\": 0, \"ticks\": \"\"}}, \"colorscale\": {\"diverging\": [[0, \"#8e0152\"], [0.1, \"#c51b7d\"], [0.2, \"#de77ae\"], [0.3, \"#f1b6da\"], [0.4, \"#fde0ef\"], [0.5, \"#f7f7f7\"], [0.6, \"#e6f5d0\"], [0.7, \"#b8e186\"], [0.8, \"#7fbc41\"], [0.9, \"#4d9221\"], [1, \"#276419\"]], \"sequential\": [[0.0, \"#0d0887\"], [0.1111111111111111, \"#46039f\"], [0.2222222222222222, \"#7201a8\"], [0.3333333333333333, \"#9c179e\"], [0.4444444444444444, \"#bd3786\"], [0.5555555555555556, \"#d8576b\"], [0.6666666666666666, \"#ed7953\"], [0.7777777777777778, \"#fb9f3a\"], [0.8888888888888888, \"#fdca26\"], [1.0, \"#f0f921\"]], \"sequentialminus\": [[0.0, \"#0d0887\"], [0.1111111111111111, \"#46039f\"], [0.2222222222222222, \"#7201a8\"], [0.3333333333333333, \"#9c179e\"], [0.4444444444444444, \"#bd3786\"], [0.5555555555555556, \"#d8576b\"], [0.6666666666666666, \"#ed7953\"], [0.7777777777777778, \"#fb9f3a\"], [0.8888888888888888, \"#fdca26\"], [1.0, \"#f0f921\"]]}, \"colorway\": [\"#636efa\", \"#EF553B\", \"#00cc96\", \"#ab63fa\", \"#FFA15A\", \"#19d3f3\", \"#FF6692\", \"#B6E880\", \"#FF97FF\", \"#FECB52\"], \"font\": {\"color\": \"#2a3f5f\"}, \"geo\": {\"bgcolor\": \"white\", \"lakecolor\": \"white\", \"landcolor\": \"#E5ECF6\", \"showlakes\": true, \"showland\": true, \"subunitcolor\": \"white\"}, \"hoverlabel\": {\"align\": \"left\"}, \"hovermode\": \"closest\", \"mapbox\": {\"style\": \"light\"}, \"paper_bgcolor\": \"white\", \"plot_bgcolor\": \"#E5ECF6\", \"polar\": {\"angularaxis\": {\"gridcolor\": \"white\", \"linecolor\": \"white\", \"ticks\": \"\"}, \"bgcolor\": \"#E5ECF6\", \"radialaxis\": {\"gridcolor\": \"white\", \"linecolor\": \"white\", \"ticks\": \"\"}}, \"scene\": {\"xaxis\": {\"backgroundcolor\": \"#E5ECF6\", \"gridcolor\": \"white\", \"gridwidth\": 2, \"linecolor\": \"white\", \"showbackground\": true, \"ticks\": \"\", \"zerolinecolor\": \"white\"}, \"yaxis\": {\"backgroundcolor\": \"#E5ECF6\", \"gridcolor\": \"white\", \"gridwidth\": 2, \"linecolor\": \"white\", \"showbackground\": true, \"ticks\": \"\", \"zerolinecolor\": \"white\"}, \"zaxis\": {\"backgroundcolor\": \"#E5ECF6\", \"gridcolor\": \"white\", \"gridwidth\": 2, \"linecolor\": \"white\", \"showbackground\": true, \"ticks\": \"\", \"zerolinecolor\": \"white\"}}, \"shapedefaults\": {\"line\": {\"color\": \"#2a3f5f\"}}, \"ternary\": {\"aaxis\": {\"gridcolor\": \"white\", \"linecolor\": \"white\", \"ticks\": \"\"}, \"baxis\": {\"gridcolor\": \"white\", \"linecolor\": \"white\", \"ticks\": \"\"}, \"bgcolor\": \"#E5ECF6\", \"caxis\": {\"gridcolor\": \"white\", \"linecolor\": \"white\", \"ticks\": \"\"}}, \"title\": {\"x\": 0.05}, \"xaxis\": {\"automargin\": true, \"gridcolor\": \"white\", \"linecolor\": \"white\", \"ticks\": \"\", \"title\": {\"standoff\": 15}, \"zerolinecolor\": \"white\", \"zerolinewidth\": 2}, \"yaxis\": {\"automargin\": true, \"gridcolor\": \"white\", \"linecolor\": \"white\", \"ticks\": \"\", \"title\": {\"standoff\": 15}, \"zerolinecolor\": \"white\", \"zerolinewidth\": 2}}}, \"title\": {\"font\": {\"size\": 18}, \"text\": \"HAAS--BIGHORN SHEEP DOMINANCE\", \"x\": 0.45}, \"xaxis\": {\"showgrid\": false, \"showticklabels\": false, \"zeroline\": false}, \"yaxis\": {\"showgrid\": false, \"showticklabels\": false, \"zeroline\": false}},                        {\"responsive\": true}                    ).then(function(){\n",
       "                            \n",
       "var gd = document.getElementById('fafc4d17-2e89-4f3e-bbb8-078e7655336e');\n",
       "var x = new MutationObserver(function (mutations, observer) {{\n",
       "        var display = window.getComputedStyle(gd).display;\n",
       "        if (!display || display === 'none') {{\n",
       "            console.log([gd, 'removed!']);\n",
       "            Plotly.purge(gd);\n",
       "            observer.disconnect();\n",
       "        }}\n",
       "}});\n",
       "\n",
       "// Listen for the removal of the full notebook cells\n",
       "var notebookContainer = gd.closest('#notebook-container');\n",
       "if (notebookContainer) {{\n",
       "    x.observe(notebookContainer, {childList: true});\n",
       "}}\n",
       "\n",
       "// Listen for the clearing of the current output cell\n",
       "var outputEl = gd.closest('.output');\n",
       "if (outputEl) {{\n",
       "    x.observe(outputEl, {childList: true});\n",
       "}}\n",
       "\n",
       "                        })                };                });            </script>        </div>"
      ]
     },
     "metadata": {},
     "output_type": "display_data"
    }
   ],
   "source": [
    "fig = go.Figure(data=[edge_trace, node_trace],\n",
    "             layout=go.Layout(\n",
    "                title='HAAS--BIGHORN SHEEP DOMINANCE',\n",
    "                title_x=0.45,\n",
    "                titlefont_size=18,\n",
    "                showlegend=False,\n",
    "                hovermode='closest',\n",
    "                margin=dict(b=40,l=5,r=5,t=30),\n",
    "                annotations=[ dict(\n",
    "                    text='''Reference:\n",
    "    Christine Hass, \"Social status in female bighorn sheep (Ovis canadensis): expression, development and reproductive correlates.\"<br> \n",
    "    Journal of the Zoological Society of London, 1991, 225: 509-523.Station, Technical Bulletin 73.''',\n",
    "                    showarrow=False,\n",
    "                    xref=\"paper\", yref=\"paper\",\n",
    "                    x=0.005, y=-0.08 ) ],\n",
    "                xaxis=dict(showgrid=False, zeroline=False, showticklabels=False),\n",
    "                yaxis=dict(showgrid=False, zeroline=False, showticklabels=False))\n",
    "                )\n",
    "fig.show()"
   ]
  },
  {
   "cell_type": "code",
   "execution_count": 127,
   "id": "cross-stamp",
   "metadata": {},
   "outputs": [],
   "source": [
    "fig.write_html(\"test_html.html\")"
   ]
  }
 ],
 "metadata": {
  "kernelspec": {
   "display_name": "Python 3",
   "language": "python",
   "name": "python3"
  },
  "language_info": {
   "codemirror_mode": {
    "name": "ipython",
    "version": 3
   },
   "file_extension": ".py",
   "mimetype": "text/x-python",
   "name": "python",
   "nbconvert_exporter": "python",
   "pygments_lexer": "ipython3",
   "version": "3.8.5"
  }
 },
 "nbformat": 4,
 "nbformat_minor": 5
}
