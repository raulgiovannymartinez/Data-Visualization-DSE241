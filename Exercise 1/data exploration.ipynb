{
 "cells": [
  {
   "cell_type": "code",
   "execution_count": 1,
   "metadata": {},
   "outputs": [
    {
     "data": {
      "application/javascript": [
       "IPython.OutputArea.prototype._should_scroll = function(lines) {\n",
       "    return false;\n",
       "}\n"
      ],
      "text/plain": [
       "<IPython.core.display.Javascript object>"
      ]
     },
     "metadata": {},
     "output_type": "display_data"
    }
   ],
   "source": [
    "%%javascript\n",
    "IPython.OutputArea.prototype._should_scroll = function(lines) {\n",
    "    return false;\n",
    "}"
   ]
  },
  {
   "cell_type": "markdown",
   "metadata": {},
   "source": [
    "## READ DATA"
   ]
  },
  {
   "cell_type": "code",
   "execution_count": 2,
   "metadata": {},
   "outputs": [],
   "source": [
    "import pandas as pd"
   ]
  },
  {
   "cell_type": "code",
   "execution_count": 54,
   "metadata": {},
   "outputs": [],
   "source": [
    "df = pd.read_csv('olympics.csv')"
   ]
  },
  {
   "cell_type": "code",
   "execution_count": 55,
   "metadata": {},
   "outputs": [
    {
     "data": {
      "text/html": [
       "<div>\n",
       "<style scoped>\n",
       "    .dataframe tbody tr th:only-of-type {\n",
       "        vertical-align: middle;\n",
       "    }\n",
       "\n",
       "    .dataframe tbody tr th {\n",
       "        vertical-align: top;\n",
       "    }\n",
       "\n",
       "    .dataframe thead th {\n",
       "        text-align: right;\n",
       "    }\n",
       "</style>\n",
       "<table border=\"1\" class=\"dataframe\">\n",
       "  <thead>\n",
       "    <tr style=\"text-align: right;\">\n",
       "      <th></th>\n",
       "      <th>Year</th>\n",
       "      <th>City</th>\n",
       "      <th>Sport</th>\n",
       "      <th>Discipline</th>\n",
       "      <th>Athlete</th>\n",
       "      <th>Country Code</th>\n",
       "      <th>Country</th>\n",
       "      <th>Gender</th>\n",
       "      <th>Event</th>\n",
       "      <th>Medal</th>\n",
       "    </tr>\n",
       "  </thead>\n",
       "  <tbody>\n",
       "    <tr>\n",
       "      <th>0</th>\n",
       "      <td>1924</td>\n",
       "      <td>Chamonix</td>\n",
       "      <td>Biathlon</td>\n",
       "      <td>Biathlon</td>\n",
       "      <td>BERTHET, G.</td>\n",
       "      <td>FRA</td>\n",
       "      <td>France</td>\n",
       "      <td>Men</td>\n",
       "      <td>Military Patrol</td>\n",
       "      <td>Bronze</td>\n",
       "    </tr>\n",
       "    <tr>\n",
       "      <th>1</th>\n",
       "      <td>1924</td>\n",
       "      <td>Chamonix</td>\n",
       "      <td>Biathlon</td>\n",
       "      <td>Biathlon</td>\n",
       "      <td>MANDRILLON, C.</td>\n",
       "      <td>FRA</td>\n",
       "      <td>France</td>\n",
       "      <td>Men</td>\n",
       "      <td>Military Patrol</td>\n",
       "      <td>Bronze</td>\n",
       "    </tr>\n",
       "    <tr>\n",
       "      <th>2</th>\n",
       "      <td>1924</td>\n",
       "      <td>Chamonix</td>\n",
       "      <td>Biathlon</td>\n",
       "      <td>Biathlon</td>\n",
       "      <td>MANDRILLON, Maurice</td>\n",
       "      <td>FRA</td>\n",
       "      <td>France</td>\n",
       "      <td>Men</td>\n",
       "      <td>Military Patrol</td>\n",
       "      <td>Bronze</td>\n",
       "    </tr>\n",
       "    <tr>\n",
       "      <th>3</th>\n",
       "      <td>1924</td>\n",
       "      <td>Chamonix</td>\n",
       "      <td>Biathlon</td>\n",
       "      <td>Biathlon</td>\n",
       "      <td>VANDELLE, André</td>\n",
       "      <td>FRA</td>\n",
       "      <td>France</td>\n",
       "      <td>Men</td>\n",
       "      <td>Military Patrol</td>\n",
       "      <td>Bronze</td>\n",
       "    </tr>\n",
       "    <tr>\n",
       "      <th>4</th>\n",
       "      <td>1924</td>\n",
       "      <td>Chamonix</td>\n",
       "      <td>Biathlon</td>\n",
       "      <td>Biathlon</td>\n",
       "      <td>AUFDENBLATTEN, Adolf</td>\n",
       "      <td>SUI</td>\n",
       "      <td>Switzerland</td>\n",
       "      <td>Men</td>\n",
       "      <td>Military Patrol</td>\n",
       "      <td>Gold</td>\n",
       "    </tr>\n",
       "  </tbody>\n",
       "</table>\n",
       "</div>"
      ],
      "text/plain": [
       "   Year      City     Sport Discipline               Athlete Country Code  \\\n",
       "0  1924  Chamonix  Biathlon   Biathlon           BERTHET, G.          FRA   \n",
       "1  1924  Chamonix  Biathlon   Biathlon        MANDRILLON, C.          FRA   \n",
       "2  1924  Chamonix  Biathlon   Biathlon   MANDRILLON, Maurice          FRA   \n",
       "3  1924  Chamonix  Biathlon   Biathlon       VANDELLE, André          FRA   \n",
       "4  1924  Chamonix  Biathlon   Biathlon  AUFDENBLATTEN, Adolf          SUI   \n",
       "\n",
       "       Country Gender            Event   Medal  \n",
       "0       France    Men  Military Patrol  Bronze  \n",
       "1       France    Men  Military Patrol  Bronze  \n",
       "2       France    Men  Military Patrol  Bronze  \n",
       "3       France    Men  Military Patrol  Bronze  \n",
       "4  Switzerland    Men  Military Patrol    Gold  "
      ]
     },
     "execution_count": 55,
     "metadata": {},
     "output_type": "execute_result"
    }
   ],
   "source": [
    "df.head()"
   ]
  },
  {
   "cell_type": "code",
   "execution_count": 5,
   "metadata": {},
   "outputs": [
    {
     "data": {
      "text/plain": [
       "Year              22\n",
       "City              19\n",
       "Sport              7\n",
       "Discipline        15\n",
       "Athlete         3761\n",
       "Country Code      45\n",
       "Country           45\n",
       "Gender             2\n",
       "Event             83\n",
       "Medal              3\n",
       "dtype: int64"
      ]
     },
     "execution_count": 5,
     "metadata": {},
     "output_type": "execute_result"
    }
   ],
   "source": [
    "df.nunique()"
   ]
  },
  {
   "cell_type": "code",
   "execution_count": 35,
   "metadata": {},
   "outputs": [
    {
     "name": "stdout",
     "output_type": "stream",
     "text": [
      "['Spain', 'New Zealand', 'Japan', 'Slovenia', 'France', 'Sweden', 'Latvia', 'Ukraine', 'United States', 'Hungary', 'Estonia', 'Liechtenstein', 'Romania', 'Austria', 'Czechoslovakia', 'Kazakhstan', 'Czech Republic', 'Luxembourg', 'China', 'Australia', 'Bulgaria', 'East Germany', 'Yugoslavia', 'Soviet Union', 'Canada', 'Norway', 'Korea, South', 'Poland', 'Belarus', 'Germany', 'Croatia', 'Switzerland', 'Denmark', 'Netherlands', 'Finland', 'United Kingdom', 'Korea, North', 'Italy', 'Uzbekistan', 'Belgium', 'West Germany', 'Unified Team', 'Slovakia', 'United Team of Germany', 'Russia']\n"
     ]
    }
   ],
   "source": [
    "print(list(set(df.Country)))"
   ]
  },
  {
   "cell_type": "markdown",
   "metadata": {},
   "source": [
    "## DATA EXPLORATION "
   ]
  },
  {
   "cell_type": "code",
   "execution_count": 28,
   "metadata": {},
   "outputs": [
    {
     "data": {
      "text/plain": [
       "Year  Gender\n",
       "1924  Men       112\n",
       "      Women       6\n",
       "1928  Men        83\n",
       "      Women       6\n",
       "1932  Men       110\n",
       "      Women       6\n",
       "1936  Men        99\n",
       "      Women       9\n",
       "1948  Men       125\n",
       "      Women      15\n",
       "1952  Men       118\n",
       "      Women      18\n",
       "1956  Men       123\n",
       "      Women      27\n",
       "1960  Men       108\n",
       "      Women      39\n",
       "1964  Men       139\n",
       "      Women      46\n",
       "1968  Men       153\n",
       "      Women      46\n",
       "1972  Men       155\n",
       "      Women      45\n",
       "1976  Men       159\n",
       "      Women      51\n",
       "1980  Men       167\n",
       "      Women      51\n",
       "1984  Men       168\n",
       "      Women      54\n",
       "1988  Men       201\n",
       "      Women      63\n",
       "1992  Men       226\n",
       "      Women      99\n",
       "1994  Men       232\n",
       "      Women     111\n",
       "1998  Men       258\n",
       "      Women     189\n",
       "2002  Men       273\n",
       "      Women     208\n",
       "2006  Men       299\n",
       "      Women     232\n",
       "2010  Men       296\n",
       "      Women     233\n",
       "2014  Men       340\n",
       "      Women     272\n",
       "dtype: int64"
      ]
     },
     "execution_count": 28,
     "metadata": {},
     "output_type": "execute_result"
    }
   ],
   "source": [
    "# gender\n",
    "df.groupby(['Year', 'Gender']).size()"
   ]
  },
  {
   "cell_type": "code",
   "execution_count": 29,
   "metadata": {},
   "outputs": [
    {
     "data": {
      "text/plain": [
       "Year  Gender  City                  \n",
       "1924  Men     Chamonix                  112\n",
       "      Women   Chamonix                    6\n",
       "1928  Men     St.Moritz                  83\n",
       "      Women   St.Moritz                   6\n",
       "1932  Men     Lake Placid               110\n",
       "      Women   Lake Placid                 6\n",
       "1936  Men     Garmisch Partenkirchen     99\n",
       "      Women   Garmisch Partenkirchen      9\n",
       "1948  Men     St.Moritz                 125\n",
       "      Women   St.Moritz                  15\n",
       "1952  Men     Oslo                      118\n",
       "      Women   Oslo                       18\n",
       "1956  Men     Cortina d'Ampezzo         123\n",
       "      Women   Cortina d'Ampezzo          27\n",
       "1960  Men     Squaw Valley              108\n",
       "      Women   Squaw Valley               39\n",
       "1964  Men     Innsbruck                 139\n",
       "      Women   Innsbruck                  46\n",
       "1968  Men     Grenoble                  153\n",
       "      Women   Grenoble                   46\n",
       "1972  Men     Sapporo                   155\n",
       "      Women   Sapporo                    45\n",
       "1976  Men     Innsbruck                 159\n",
       "      Women   Innsbruck                  51\n",
       "1980  Men     Lake Placid               167\n",
       "      Women   Lake Placid                51\n",
       "1984  Men     Sarajevo                  168\n",
       "      Women   Sarajevo                   54\n",
       "1988  Men     Calgary                   201\n",
       "      Women   Calgary                    63\n",
       "1992  Men     Albertville               226\n",
       "      Women   Albertville                99\n",
       "1994  Men     Lillehammer               232\n",
       "      Women   Lillehammer               111\n",
       "1998  Men     Nagano                    258\n",
       "      Women   Nagano                    189\n",
       "2002  Men     Salt Lake City            273\n",
       "      Women   Salt Lake City            208\n",
       "2006  Men     Turin                     299\n",
       "      Women   Turin                     232\n",
       "2010  Men     Vancouver                 296\n",
       "      Women   Vancouver                 233\n",
       "2014  Men     Sochi                     340\n",
       "      Women   Sochi                     272\n",
       "dtype: int64"
      ]
     },
     "execution_count": 29,
     "metadata": {},
     "output_type": "execute_result"
    }
   ],
   "source": [
    "# city\n",
    "df.groupby(['Year', 'Gender', 'City']).size()"
   ]
  },
  {
   "cell_type": "code",
   "execution_count": 30,
   "metadata": {},
   "outputs": [
    {
     "name": "stdout",
     "output_type": "stream",
     "text": [
      "Year  Gender  Sport     \n",
      "1924  Men     Biathlon       12\n",
      "              Bobsleigh      13\n",
      "              Curling        22\n",
      "              Ice Hockey     31\n",
      "              Skating        22\n",
      "              Skiing         12\n",
      "      Women   Skating         6\n",
      "1928  Men     Bobsleigh      18\n",
      "              Ice Hockey     36\n",
      "              Skating        17\n",
      "              Skiing         12\n",
      "      Women   Skating         6\n",
      "1932  Men     Bobsleigh      42\n",
      "              Ice Hockey     38\n",
      "              Skating        18\n",
      "              Skiing         12\n",
      "      Women   Skating         6\n",
      "1936  Men     Bobsleigh      18\n",
      "              Ice Hockey     36\n",
      "              Skating        18\n",
      "              Skiing         27\n",
      "      Women   Skating         6\n",
      "              Skiing          3\n",
      "1948  Men     Bobsleigh      21\n",
      "              Ice Hockey     51\n",
      "              Skating        19\n",
      "              Skiing         34\n",
      "      Women   Skating         6\n",
      "              Skiing          9\n",
      "1952  Men     Bobsleigh      18\n",
      "              Ice Hockey     48\n",
      "              Skating        19\n",
      "              Skiing         33\n",
      "      Women   Skating         6\n",
      "              Skiing         12\n",
      "1956  Men     Bobsleigh      18\n",
      "              Ice Hockey     51\n",
      "              Skating        18\n",
      "              Skiing         36\n",
      "      Women   Skating         6\n",
      "              Skiing         21\n",
      "1960  Men     Biathlon        3\n",
      "              Ice Hockey     51\n",
      "              Skating        18\n",
      "              Skiing         36\n",
      "      Women   Skating        18\n",
      "              Skiing         21\n",
      "1964  Men     Biathlon        3\n",
      "              Bobsleigh      18\n",
      "              Ice Hockey     50\n",
      "              Luge            9\n",
      "              Skating        20\n",
      "              Skiing         39\n",
      "      Women   Luge            3\n",
      "              Skating        19\n",
      "              Skiing         24\n",
      "1968  Men     Biathlon       15\n",
      "              Bobsleigh      18\n",
      "              Ice Hockey     54\n",
      "              Luge            9\n",
      "              Skating        18\n",
      "              Skiing         39\n",
      "      Women   Luge            3\n",
      "              Skating        19\n",
      "              Skiing         24\n",
      "1972  Men     Biathlon       15\n",
      "              Bobsleigh      18\n",
      "              Ice Hockey     56\n",
      "              Luge            9\n",
      "              Skating        18\n",
      "              Skiing         39\n",
      "      Women   Luge            3\n",
      "              Skating        18\n",
      "              Skiing         24\n",
      "1976  Men     Biathlon       15\n",
      "              Bobsleigh      18\n",
      "              Ice Hockey     54\n",
      "              Luge            9\n",
      "              Skating        24\n",
      "              Skiing         39\n",
      "      Women   Luge            3\n",
      "              Skating        21\n",
      "              Skiing         27\n",
      "1980  Men     Biathlon       18\n",
      "              Bobsleigh      18\n",
      "              Ice Hockey     58\n",
      "              Luge            9\n",
      "              Skating        25\n",
      "              Skiing         39\n",
      "      Women   Luge            3\n",
      "              Skating        21\n",
      "              Skiing         27\n",
      "1984  Men     Biathlon       18\n",
      "              Bobsleigh      18\n",
      "              Ice Hockey     60\n",
      "              Luge            9\n",
      "              Skating        24\n",
      "              Skiing         39\n",
      "      Women   Luge            3\n",
      "              Skating        21\n",
      "              Skiing         30\n",
      "1988  Men     Biathlon       18\n",
      "              Bobsleigh      18\n",
      "              Ice Hockey     66\n",
      "              Luge            9\n",
      "              Skating        24\n",
      "              Skiing         66\n",
      "      Women   Luge            3\n",
      "              Skating        24\n",
      "              Skiing         36\n",
      "1992  Men     Biathlon       18\n",
      "              Bobsleigh      18\n",
      "              Ice Hockey     69\n",
      "              Luge            9\n",
      "              Skating        40\n",
      "              Skiing         72\n",
      "      Women   Biathlon       15\n",
      "              Luge            3\n",
      "              Skating        39\n",
      "              Skiing         42\n",
      "1994  Men     Biathlon       18\n",
      "              Bobsleigh      18\n",
      "              Ice Hockey     68\n",
      "              Luge            9\n",
      "              Skating        44\n",
      "              Skiing         75\n",
      "      Women   Biathlon       18\n",
      "              Luge            3\n",
      "              Skating        45\n",
      "              Skiing         45\n",
      "1998  Men     Biathlon       18\n",
      "              Bobsleigh      22\n",
      "              Curling        15\n",
      "              Ice Hockey     68\n",
      "              Luge            9\n",
      "              Skating        42\n",
      "              Skiing         84\n",
      "      Women   Biathlon       18\n",
      "              Curling        15\n",
      "              Ice Hockey     60\n",
      "              Luge            3\n",
      "              Skating        42\n",
      "              Skiing         51\n",
      "2002  Men     Biathlon       21\n",
      "              Bobsleigh      21\n",
      "              Curling        15\n",
      "              Ice Hockey     69\n",
      "              Luge            9\n",
      "              Skating        48\n",
      "              Skiing         90\n",
      "      Women   Biathlon       21\n",
      "              Bobsleigh       9\n",
      "              Curling        15\n",
      "              Ice Hockey     60\n",
      "              Luge            3\n",
      "              Skating        46\n",
      "              Skiing         54\n",
      "2006  Men     Biathlon       24\n",
      "              Bobsleigh      21\n",
      "              Curling        15\n",
      "              Ice Hockey     73\n",
      "              Luge            9\n",
      "              Skating        61\n",
      "              Skiing         96\n",
      "      Women   Biathlon       24\n",
      "              Bobsleigh       9\n",
      "              Curling        15\n",
      "              Ice Hockey     59\n",
      "              Luge            3\n",
      "              Skating        62\n",
      "              Skiing         60\n",
      "2010  Men     Biathlon       24\n",
      "              Bobsleigh      21\n",
      "              Curling        15\n",
      "              Ice Hockey     69\n",
      "              Luge            9\n",
      "              Skating        59\n",
      "              Skiing         99\n",
      "      Women   Biathlon       24\n",
      "              Bobsleigh       9\n",
      "              Curling        15\n",
      "              Ice Hockey     63\n",
      "              Luge            3\n",
      "              Skating        56\n",
      "              Skiing         63\n",
      "2014  Men     Biathlon       30\n",
      "              Bobsleigh      21\n",
      "              Curling        15\n",
      "              Ice Hockey     75\n",
      "              Luge           18\n",
      "              Skating        69\n",
      "              Skiing        112\n",
      "      Women   Biathlon       30\n",
      "              Bobsleigh       9\n",
      "              Curling        15\n",
      "              Ice Hockey     63\n",
      "              Luge            6\n",
      "              Skating        71\n",
      "              Skiing         78\n",
      "dtype: int64\n"
     ]
    }
   ],
   "source": [
    "# sport\n",
    "with pd.option_context('display.max_rows', None, 'display.max_columns', None):  # more options can be specified also\n",
    "    print(df.groupby(['Year', 'Gender', 'Sport']).size())"
   ]
  },
  {
   "cell_type": "code",
   "execution_count": 31,
   "metadata": {},
   "outputs": [
    {
     "name": "stdout",
     "output_type": "stream",
     "text": [
      "Year  Gender  Discipline               \n",
      "1924  Men     Biathlon                     12\n",
      "              Bobsleigh                    13\n",
      "              Cross Country Skiing          6\n",
      "              Curling                      22\n",
      "              Figure skating                6\n",
      "              Ice Hockey                   31\n",
      "              Nordic Combined               3\n",
      "              Ski Jumping                   3\n",
      "              Speed skating                16\n",
      "      Women   Figure skating                6\n",
      "1928  Men     Bobsleigh                    15\n",
      "              Cross Country Skiing          6\n",
      "              Figure skating                6\n",
      "              Ice Hockey                   36\n",
      "              Nordic Combined               3\n",
      "              Skeleton                      3\n",
      "              Ski Jumping                   3\n",
      "              Speed skating                11\n",
      "      Women   Figure skating                6\n",
      "1932  Men     Bobsleigh                    42\n",
      "              Cross Country Skiing          6\n",
      "              Figure skating                6\n",
      "              Ice Hockey                   38\n",
      "              Nordic Combined               3\n",
      "              Ski Jumping                   3\n",
      "              Speed skating                12\n",
      "      Women   Figure skating                6\n",
      "1936  Men     Alpine Skiing                 3\n",
      "              Bobsleigh                    18\n",
      "              Cross Country Skiing         18\n",
      "              Figure skating                6\n",
      "              Ice Hockey                   36\n",
      "              Nordic Combined               3\n",
      "              Ski Jumping                   3\n",
      "              Speed skating                12\n",
      "      Women   Alpine Skiing                 3\n",
      "              Figure skating                6\n",
      "1948  Men     Alpine Skiing                10\n",
      "              Bobsleigh                    18\n",
      "              Cross Country Skiing         18\n",
      "              Figure skating                6\n",
      "              Ice Hockey                   51\n",
      "              Nordic Combined               3\n",
      "              Skeleton                      3\n",
      "              Ski Jumping                   3\n",
      "              Speed skating                13\n",
      "      Women   Alpine Skiing                 9\n",
      "              Figure skating                6\n",
      "1952  Men     Alpine Skiing                 9\n",
      "              Bobsleigh                    18\n",
      "              Cross Country Skiing         18\n",
      "              Figure skating                6\n",
      "              Ice Hockey                   48\n",
      "              Nordic Combined               3\n",
      "              Ski Jumping                   3\n",
      "              Speed skating                13\n",
      "      Women   Alpine Skiing                 9\n",
      "              Cross Country Skiing          3\n",
      "              Figure skating                6\n",
      "1956  Men     Alpine Skiing                 9\n",
      "              Bobsleigh                    18\n",
      "              Cross Country Skiing         21\n",
      "              Figure skating                6\n",
      "              Ice Hockey                   51\n",
      "              Nordic Combined               3\n",
      "              Ski Jumping                   3\n",
      "              Speed skating                12\n",
      "      Women   Alpine Skiing                 9\n",
      "              Cross Country Skiing         12\n",
      "              Figure skating                6\n",
      "1960  Men     Alpine Skiing                 9\n",
      "              Biathlon                      3\n",
      "              Cross Country Skiing         21\n",
      "              Figure skating                6\n",
      "              Ice Hockey                   51\n",
      "              Nordic Combined               3\n",
      "              Ski Jumping                   3\n",
      "              Speed skating                12\n",
      "      Women   Alpine Skiing                 9\n",
      "              Cross Country Skiing         12\n",
      "              Figure skating                6\n",
      "              Speed skating                12\n",
      "1964  Men     Alpine Skiing                 9\n",
      "              Biathlon                      3\n",
      "              Bobsleigh                    18\n",
      "              Cross Country Skiing         21\n",
      "              Figure skating                7\n",
      "              Ice Hockey                   50\n",
      "              Luge                          9\n",
      "              Nordic Combined               3\n",
      "              Ski Jumping                   6\n",
      "              Speed skating                13\n",
      "      Women   Alpine Skiing                 9\n",
      "              Cross Country Skiing         15\n",
      "              Figure skating                7\n",
      "              Luge                          3\n",
      "              Speed skating                12\n",
      "1968  Men     Alpine Skiing                 9\n",
      "              Biathlon                     15\n",
      "              Bobsleigh                    18\n",
      "              Cross Country Skiing         21\n",
      "              Figure skating                6\n",
      "              Ice Hockey                   54\n",
      "              Luge                          9\n",
      "              Nordic Combined               3\n",
      "              Ski Jumping                   6\n",
      "              Speed skating                12\n",
      "      Women   Alpine Skiing                 9\n",
      "              Cross Country Skiing         15\n",
      "              Figure skating                6\n",
      "              Luge                          3\n",
      "              Speed skating                13\n",
      "1972  Men     Alpine Skiing                 9\n",
      "              Biathlon                     15\n",
      "              Bobsleigh                    18\n",
      "              Cross Country Skiing         21\n",
      "              Figure skating                6\n",
      "              Ice Hockey                   56\n",
      "              Luge                          9\n",
      "              Nordic Combined               3\n",
      "              Ski Jumping                   6\n",
      "              Speed skating                12\n",
      "      Women   Alpine Skiing                 9\n",
      "              Cross Country Skiing         15\n",
      "              Figure skating                6\n",
      "              Luge                          3\n",
      "              Speed skating                12\n",
      "1976  Men     Alpine Skiing                 9\n",
      "              Biathlon                     15\n",
      "              Bobsleigh                    18\n",
      "              Cross Country Skiing         21\n",
      "              Figure skating                9\n",
      "              Ice Hockey                   54\n",
      "              Luge                          9\n",
      "              Nordic Combined               3\n",
      "              Ski Jumping                   6\n",
      "              Speed skating                15\n",
      "      Women   Alpine Skiing                 9\n",
      "              Cross Country Skiing         18\n",
      "              Figure skating                9\n",
      "              Luge                          3\n",
      "              Speed skating                12\n",
      "1980  Men     Alpine Skiing                 9\n",
      "              Biathlon                     18\n",
      "              Bobsleigh                    18\n",
      "              Cross Country Skiing         21\n",
      "              Figure skating                9\n",
      "              Ice Hockey                   58\n",
      "              Luge                          9\n",
      "              Nordic Combined               3\n",
      "              Ski Jumping                   6\n",
      "              Speed skating                16\n",
      "      Women   Alpine Skiing                 9\n",
      "              Cross Country Skiing         18\n",
      "              Figure skating                9\n",
      "              Luge                          3\n",
      "              Speed skating                12\n",
      "1984  Men     Alpine Skiing                 9\n",
      "              Biathlon                     18\n",
      "              Bobsleigh                    18\n",
      "              Cross Country Skiing         21\n",
      "              Figure skating                9\n",
      "              Ice Hockey                   60\n",
      "              Luge                          9\n",
      "              Nordic Combined               3\n",
      "              Ski Jumping                   6\n",
      "              Speed skating                15\n",
      "      Women   Alpine Skiing                 9\n",
      "              Cross Country Skiing         21\n",
      "              Figure skating                9\n",
      "              Luge                          3\n",
      "              Speed skating                12\n",
      "1988  Men     Alpine Skiing                15\n",
      "              Biathlon                     18\n",
      "              Bobsleigh                    18\n",
      "              Cross Country Skiing         21\n",
      "              Figure skating                9\n",
      "              Ice Hockey                   66\n",
      "              Luge                          9\n",
      "              Nordic Combined              12\n",
      "              Ski Jumping                  18\n",
      "              Speed skating                15\n",
      "      Women   Alpine Skiing                15\n",
      "              Cross Country Skiing         21\n",
      "              Figure skating                9\n",
      "              Luge                          3\n",
      "              Speed skating                15\n",
      "1992  Men     Alpine Skiing                15\n",
      "              Biathlon                     18\n",
      "              Bobsleigh                    18\n",
      "              Cross Country Skiing         24\n",
      "              Figure skating                9\n",
      "              Freestyle Skiing              3\n",
      "              Ice Hockey                   69\n",
      "              Luge                          9\n",
      "              Nordic Combined              12\n",
      "              Short Track Speed Skating    16\n",
      "              Ski Jumping                  18\n",
      "              Speed skating                15\n",
      "      Women   Alpine Skiing                15\n",
      "              Biathlon                     15\n",
      "              Cross Country Skiing         24\n",
      "              Figure skating                9\n",
      "              Freestyle Skiing              3\n",
      "              Luge                          3\n",
      "              Short Track Speed Skating    15\n",
      "              Speed skating                15\n",
      "1994  Men     Alpine Skiing                15\n",
      "              Biathlon                     18\n",
      "              Bobsleigh                    18\n",
      "              Cross Country Skiing         24\n",
      "              Figure skating                9\n",
      "              Freestyle Skiing              6\n",
      "              Ice Hockey                   68\n",
      "              Luge                          9\n",
      "              Nordic Combined              12\n",
      "              Short Track Speed Skating    20\n",
      "              Ski Jumping                  18\n",
      "              Speed skating                15\n",
      "      Women   Alpine Skiing                15\n",
      "              Biathlon                     18\n",
      "              Cross Country Skiing         24\n",
      "              Figure skating                9\n",
      "              Freestyle Skiing              6\n",
      "              Luge                          3\n",
      "              Short Track Speed Skating    21\n",
      "              Speed skating                15\n",
      "1998  Men     Alpine Skiing                15\n",
      "              Biathlon                     18\n",
      "              Bobsleigh                    22\n",
      "              Cross Country Skiing         24\n",
      "              Curling                      15\n",
      "              Figure skating                9\n",
      "              Freestyle Skiing              6\n",
      "              Ice Hockey                   68\n",
      "              Luge                          9\n",
      "              Nordic Combined              15\n",
      "              Short Track Speed Skating    18\n",
      "              Ski Jumping                  18\n",
      "              Snowboard                     6\n",
      "              Speed skating                15\n",
      "      Women   Alpine Skiing                15\n",
      "              Biathlon                     18\n",
      "              Cross Country Skiing         24\n",
      "              Curling                      15\n",
      "              Figure skating                9\n",
      "              Freestyle Skiing              6\n",
      "              Ice Hockey                   60\n",
      "              Luge                          3\n",
      "              Short Track Speed Skating    18\n",
      "              Snowboard                     6\n",
      "              Speed skating                15\n",
      "2002  Men     Alpine Skiing                15\n",
      "              Biathlon                     21\n",
      "              Bobsleigh                    18\n",
      "              Cross Country Skiing         27\n",
      "              Curling                      15\n",
      "              Figure skating                9\n",
      "              Freestyle Skiing              6\n",
      "              Ice Hockey                   69\n",
      "              Luge                          9\n",
      "              Nordic Combined              18\n",
      "              Short Track Speed Skating    24\n",
      "              Skeleton                      3\n",
      "              Ski Jumping                  18\n",
      "              Snowboard                     6\n",
      "              Speed skating                15\n",
      "      Women   Alpine Skiing                15\n",
      "              Biathlon                     21\n",
      "              Bobsleigh                     6\n",
      "              Cross Country Skiing         27\n",
      "              Curling                      15\n",
      "              Figure skating                9\n",
      "              Freestyle Skiing              6\n",
      "              Ice Hockey                   60\n",
      "              Luge                          3\n",
      "              Short Track Speed Skating    22\n",
      "              Skeleton                      3\n",
      "              Snowboard                     6\n",
      "              Speed skating                15\n",
      "2006  Men     Alpine Skiing                15\n",
      "              Biathlon                     24\n",
      "              Bobsleigh                    18\n",
      "              Cross Country Skiing         30\n",
      "              Curling                      15\n",
      "              Figure skating                9\n",
      "              Freestyle Skiing              6\n",
      "              Ice Hockey                   73\n",
      "              Luge                          9\n",
      "              Nordic Combined              18\n",
      "              Short Track Speed Skating    23\n",
      "              Skeleton                      3\n",
      "              Ski Jumping                  18\n",
      "              Snowboard                     9\n",
      "              Speed skating                29\n",
      "      Women   Alpine Skiing                15\n",
      "              Biathlon                     24\n",
      "              Bobsleigh                     6\n",
      "              Cross Country Skiing         30\n",
      "              Curling                      15\n",
      "              Figure skating                9\n",
      "              Freestyle Skiing              6\n",
      "              Ice Hockey                   59\n",
      "              Luge                          3\n",
      "              Short Track Speed Skating    23\n",
      "              Skeleton                      3\n",
      "              Snowboard                     9\n",
      "              Speed skating                30\n",
      "2010  Men     Alpine Skiing                15\n",
      "              Biathlon                     24\n",
      "              Bobsleigh                    18\n",
      "              Cross Country Skiing         30\n",
      "              Curling                      15\n",
      "              Figure skating                9\n",
      "              Freestyle Skiing              9\n",
      "              Ice Hockey                   69\n",
      "              Luge                          9\n",
      "              Nordic Combined              18\n",
      "              Short Track Speed Skating    24\n",
      "              Skeleton                      3\n",
      "              Ski Jumping                  18\n",
      "              Snowboard                     9\n",
      "              Speed skating                26\n",
      "      Women   Alpine Skiing                15\n",
      "              Biathlon                     24\n",
      "              Bobsleigh                     6\n",
      "              Cross Country Skiing         30\n",
      "              Curling                      15\n",
      "              Figure skating                9\n",
      "              Freestyle Skiing              9\n",
      "              Ice Hockey                   63\n",
      "              Luge                          3\n",
      "              Short Track Speed Skating    22\n",
      "              Skeleton                      3\n",
      "              Snowboard                     9\n",
      "              Speed skating                25\n",
      "2014  Men     Alpine Skiing                16\n",
      "              Biathlon                     30\n",
      "              Bobsleigh                    18\n",
      "              Cross Country Skiing         30\n",
      "              Curling                      15\n",
      "              Figure skating               23\n",
      "              Freestyle Skiing             15\n",
      "              Ice Hockey                   75\n",
      "              Luge                         18\n",
      "              Nordic Combined              18\n",
      "              Short Track Speed Skating    22\n",
      "              Skeleton                      3\n",
      "              Ski Jumping                  18\n",
      "              Snowboard                    15\n",
      "              Speed skating                24\n",
      "      Women   Alpine Skiing                15\n",
      "              Biathlon                     30\n",
      "              Bobsleigh                     6\n",
      "              Cross Country Skiing         30\n",
      "              Curling                      15\n",
      "              Figure skating               22\n",
      "              Freestyle Skiing             15\n",
      "              Ice Hockey                   63\n",
      "              Luge                          6\n",
      "              Short Track Speed Skating    22\n",
      "              Skeleton                      3\n",
      "              Ski Jumping                   3\n",
      "              Snowboard                    15\n",
      "              Speed skating                27\n",
      "dtype: int64\n"
     ]
    }
   ],
   "source": [
    "# sport\n",
    "with pd.option_context('display.max_rows', None, 'display.max_columns', None):  # more options can be specified also\n",
    "    print(df.groupby(['Year', 'Gender', 'Discipline']).size())"
   ]
  },
  {
   "cell_type": "code",
   "execution_count": 32,
   "metadata": {},
   "outputs": [
    {
     "name": "stdout",
     "output_type": "stream",
     "text": [
      "Year  Gender  Country               \n",
      "1924  Men     Austria                    2\n",
      "              Belgium                    5\n",
      "              Canada                     9\n",
      "              Finland                   14\n",
      "              France                    11\n",
      "              Norway                    17\n",
      "              Sweden                     9\n",
      "              Switzerland                9\n",
      "              United Kingdom            24\n",
      "              United States             12\n",
      "      Women   Austria                    2\n",
      "              Finland                    1\n",
      "              France                     1\n",
      "              United Kingdom             1\n",
      "              United States              1\n",
      "1928  Men     Austria                    3\n",
      "              Belgium                    1\n",
      "              Canada                    12\n",
      "              Czechoslovakia             1\n",
      "              Finland                    4\n",
      "              France                     1\n",
      "              Germany                    5\n",
      "              Norway                    14\n",
      "              Sweden                    16\n",
      "              Switzerland               12\n",
      "              United Kingdom             1\n",
      "              United States             13\n",
      "      Women   Austria                    3\n",
      "              France                     1\n",
      "              Norway                     1\n",
      "              United States              1\n",
      "1932  Men     Austria                    1\n",
      "              Canada                    20\n",
      "              Finland                    3\n",
      "              France                     1\n",
      "              Germany                   21\n",
      "              Hungary                    1\n",
      "              Norway                     9\n",
      "              Sweden                     3\n",
      "              Switzerland                8\n",
      "              United States             43\n",
      "      Women   Austria                    1\n",
      "              France                     1\n",
      "              Hungary                    1\n",
      "              Norway                     1\n",
      "              United States              2\n",
      "1936  Men     Austria                    4\n",
      "              Canada                    13\n",
      "              Finland                    9\n",
      "              France                     1\n",
      "              Germany                    4\n",
      "              Hungary                    1\n",
      "              Norway                    16\n",
      "              Sweden                     9\n",
      "              Switzerland               10\n",
      "              United Kingdom            16\n",
      "              United States             16\n",
      "      Women   Austria                    1\n",
      "              Germany                    3\n",
      "              Hungary                    1\n",
      "              Norway                     2\n",
      "              Sweden                     1\n",
      "              United Kingdom             1\n",
      "1948  Men     Austria                    2\n",
      "              Belgium                    5\n",
      "              Canada                    18\n",
      "              Czechoslovakia            17\n",
      "              Finland                    9\n",
      "              France                     5\n",
      "              Hungary                    1\n",
      "              Italy                      1\n",
      "              Norway                    13\n",
      "              Sweden                    13\n",
      "              Switzerland               26\n",
      "              United Kingdom             1\n",
      "              United States             14\n",
      "      Women   Austria                    6\n",
      "              Belgium                    1\n",
      "              Canada                     2\n",
      "              Hungary                    1\n",
      "              Switzerland                2\n",
      "              United Kingdom             1\n",
      "              United States              2\n",
      "1952  Men     Austria                    6\n",
      "              Canada                    17\n",
      "              Finland                    9\n",
      "              Hungary                    1\n",
      "              Italy                      1\n",
      "              Netherlands                3\n",
      "              Norway                    19\n",
      "              Sweden                    23\n",
      "              Switzerland                6\n",
      "              United States             26\n",
      "              West Germany               7\n",
      "      Women   Austria                    2\n",
      "              Finland                    3\n",
      "              France                     1\n",
      "              Hungary                    1\n",
      "              Italy                      1\n",
      "              United Kingdom             1\n",
      "              United States              4\n",
      "              West Germany               5\n",
      "1956  Men     Austria                    7\n",
      "              Canada                    18\n",
      "              Finland                    9\n",
      "              Hungary                    1\n",
      "              Italy                      8\n",
      "              Japan                      1\n",
      "              Norway                     4\n",
      "              Poland                     1\n",
      "              Soviet Union              31\n",
      "              Sweden                    11\n",
      "              Switzerland                7\n",
      "              United States             24\n",
      "              United Team of Germany     1\n",
      "      Women   Austria                    5\n",
      "              Canada                     2\n",
      "              Finland                    3\n",
      "              Hungary                    1\n",
      "              Soviet Union               6\n",
      "              Sweden                     4\n",
      "              Switzerland                3\n",
      "              United States              2\n",
      "              United Team of Germany     1\n",
      "1960  Men     Austria                    5\n",
      "              Canada                    19\n",
      "              Czechoslovakia             1\n",
      "              Finland                    9\n",
      "              France                     3\n",
      "              Netherlands                1\n",
      "              Norway                     9\n",
      "              Soviet Union              30\n",
      "              Sweden                     6\n",
      "              Switzerland                1\n",
      "              United States             20\n",
      "              United Team of Germany     4\n",
      "      Women   Austria                    1\n",
      "              Canada                     2\n",
      "              Finland                    4\n",
      "              Italy                      1\n",
      "              Netherlands                1\n",
      "              Poland                     2\n",
      "              Soviet Union              12\n",
      "              Sweden                     3\n",
      "              Switzerland                1\n",
      "              United States              7\n",
      "              United Team of Germany     5\n",
      "1964  Men     Austria                   12\n",
      "              Canada                     5\n",
      "              Czechoslovakia            17\n",
      "              Finland                    9\n",
      "              France                     3\n",
      "              Italy                     10\n",
      "              Netherlands                1\n",
      "              Norway                    15\n",
      "              Soviet Union              28\n",
      "              Sweden                    25\n",
      "              United Kingdom             2\n",
      "              United States              5\n",
      "              United Team of Germany     7\n",
      "      Women   Austria                    5\n",
      "              Canada                     2\n",
      "              Finland                    6\n",
      "              France                     4\n",
      "              Korea, North               1\n",
      "              Netherlands                1\n",
      "              Soviet Union              18\n",
      "              Sweden                     3\n",
      "              United States              3\n",
      "              United Team of Germany     3\n",
      "1968  Men     Austria                   13\n",
      "              Canada                    18\n",
      "              Czechoslovakia            20\n",
      "              East Germany               5\n",
      "              Finland                    6\n",
      "              France                     5\n",
      "              Italy                      7\n",
      "              Netherlands                4\n",
      "              Norway                    17\n",
      "              Romania                    2\n",
      "              Soviet Union              28\n",
      "              Sweden                    11\n",
      "              Switzerland                8\n",
      "              United States              2\n",
      "              West Germany               7\n",
      "      Women   Austria                    2\n",
      "              Canada                     2\n",
      "              Czechoslovakia             1\n",
      "              East Germany               1\n",
      "              Finland                    2\n",
      "              France                     4\n",
      "              Italy                      1\n",
      "              Netherlands                5\n",
      "              Norway                     5\n",
      "              Soviet Union               9\n",
      "              Sweden                     5\n",
      "              Switzerland                1\n",
      "              United States              5\n",
      "              West Germany               3\n",
      "1972  Men     Austria                    1\n",
      "              Czechoslovakia            19\n",
      "              East Germany              16\n",
      "              Finland                    5\n",
      "              France                     1\n",
      "              Italy                      9\n",
      "              Japan                      3\n",
      "              Netherlands                4\n",
      "              Norway                    14\n",
      "              Poland                     1\n",
      "              Soviet Union              35\n",
      "              Spain                      1\n",
      "              Sweden                     4\n",
      "              Switzerland               15\n",
      "              United States             18\n",
      "              West Germany               9\n",
      "      Women   Austria                    4\n",
      "              Canada                     1\n",
      "              Czechoslovakia             1\n",
      "              East Germany               4\n",
      "              Finland                    5\n",
      "              France                     2\n",
      "              Netherlands                5\n",
      "              Norway                     3\n",
      "              Soviet Union              10\n",
      "              Switzerland                2\n",
      "              United States              7\n",
      "              West Germany               1\n",
      "1976  Men     Austria                    6\n",
      "              Canada                     1\n",
      "              Czechoslovakia            18\n",
      "              East Germany              22\n",
      "              Finland                   10\n",
      "              Italy                      3\n",
      "              Liechtenstein              1\n",
      "              Netherlands                5\n",
      "              Norway                     9\n",
      "              Soviet Union              40\n",
      "              Sweden                     2\n",
      "              Switzerland                9\n",
      "              United Kingdom             1\n",
      "              United States              4\n",
      "              West Germany              28\n",
      "      Women   Austria                    1\n",
      "              Canada                     2\n",
      "              East Germany              10\n",
      "              Finland                    6\n",
      "              France                     1\n",
      "              Italy                      1\n",
      "              Liechtenstein              1\n",
      "              Netherlands                1\n",
      "              Norway                     1\n",
      "              Soviet Union              16\n",
      "              United States              7\n",
      "              West Germany               4\n",
      "1980  Men     Austria                    7\n",
      "              Bulgaria                   1\n",
      "              Canada                     2\n",
      "              East Germany              27\n",
      "              Finland                    9\n",
      "              Hungary                    1\n",
      "              Italy                      3\n",
      "              Japan                      1\n",
      "              Liechtenstein              1\n",
      "              Netherlands                2\n",
      "              Norway                    11\n",
      "              Soviet Union              41\n",
      "              Sweden                    22\n",
      "              Switzerland                7\n",
      "              United Kingdom             1\n",
      "              United States             26\n",
      "              West Germany               5\n",
      "      Women   Austria                    1\n",
      "              Czechoslovakia             1\n",
      "              East Germany              12\n",
      "              Finland                    3\n",
      "              France                     1\n",
      "              Hungary                    1\n",
      "              Liechtenstein              3\n",
      "              Netherlands                2\n",
      "              Norway                     5\n",
      "              Soviet Union              13\n",
      "              Switzerland                2\n",
      "              United States              4\n",
      "              West Germany               3\n",
      "1984  Men     Austria                    1\n",
      "              Canada                     4\n",
      "              Czechoslovakia            22\n",
      "              East Germany              20\n",
      "              Finland                   12\n",
      "              France                     1\n",
      "              Italy                      1\n",
      "              Japan                      1\n",
      "              Liechtenstein              1\n",
      "              Norway                     8\n",
      "              Soviet Union              46\n",
      "              Sweden                    30\n",
      "              Switzerland                6\n",
      "              United Kingdom             1\n",
      "              United States              5\n",
      "              West Germany               8\n",
      "              Yugoslavia                 1\n",
      "      Women   Czechoslovakia             6\n",
      "              East Germany              13\n",
      "              Finland                    7\n",
      "              France                     2\n",
      "              Italy                      1\n",
      "              Liechtenstein              1\n",
      "              Norway                     7\n",
      "              Soviet Union              10\n",
      "              Switzerland                2\n",
      "              United Kingdom             1\n",
      "              United States              4\n",
      "1988  Men     Austria                   10\n",
      "              Canada                     2\n",
      "              Czechoslovakia             6\n",
      "              East Germany              18\n",
      "              Finland                   28\n",
      "              France                     2\n",
      "              Italy                      8\n",
      "              Japan                      1\n",
      "              Liechtenstein              1\n",
      "              Netherlands                4\n",
      "              Norway                     7\n",
      "              Soviet Union              52\n",
      "              Sweden                    30\n",
      "              Switzerland               13\n",
      "              United States              3\n",
      "              West Germany              11\n",
      "              Yugoslavia                 5\n",
      "      Women   Austria                    2\n",
      "              Canada                     4\n",
      "              East Germany              14\n",
      "              Finland                    6\n",
      "              Netherlands                3\n",
      "              Norway                     4\n",
      "              Soviet Union              15\n",
      "              Switzerland                7\n",
      "              United States              4\n",
      "              West Germany               3\n",
      "              Yugoslavia                 1\n",
      "1992  Men     Austria                   21\n",
      "              Canada                    30\n",
      "              Czechoslovakia            28\n",
      "              Finland                   11\n",
      "              France                     6\n",
      "              Germany                   22\n",
      "              Italy                     14\n",
      "              Japan                     10\n",
      "              Korea, South               7\n",
      "              Luxembourg                 2\n",
      "              Netherlands                4\n",
      "              Norway                    23\n",
      "              Sweden                     6\n",
      "              Switzerland                7\n",
      "              Unified Team              33\n",
      "              United States              2\n",
      "      Women   Austria                    8\n",
      "              Canada                     7\n",
      "              China                      3\n",
      "              Finland                    2\n",
      "              France                     6\n",
      "              Germany                   16\n",
      "              Italy                      7\n",
      "              Japan                      2\n",
      "              Korea, North               1\n",
      "              New Zealand                1\n",
      "              Norway                     5\n",
      "              Spain                      1\n",
      "              Sweden                     1\n",
      "              Unified Team              27\n",
      "              United States             12\n",
      "1994  Men     Australia                  4\n",
      "              Austria                    8\n",
      "              Belarus                    1\n",
      "              Canada                    30\n",
      "              Finland                   29\n",
      "              France                     6\n",
      "              Germany                   26\n",
      "              Italy                     20\n",
      "              Japan                      9\n",
      "              Kazakhstan                 3\n",
      "              Korea, South               3\n",
      "              Netherlands                4\n",
      "              Norway                    27\n",
      "              Russia                    16\n",
      "              Slovenia                   1\n",
      "              Sweden                    22\n",
      "              Switzerland               13\n",
      "              United Kingdom             2\n",
      "              United States              8\n",
      "      Women   Austria                    4\n",
      "              Belarus                    1\n",
      "              Canada                    10\n",
      "              China                      3\n",
      "              Finland                    2\n",
      "              France                     5\n",
      "              Germany                   14\n",
      "              Italy                     13\n",
      "              Japan                      1\n",
      "              Korea, South               7\n",
      "              Norway                     7\n",
      "              Russia                    20\n",
      "              Slovenia                   2\n",
      "              Sweden                     2\n",
      "              Switzerland                3\n",
      "              Ukraine                    2\n",
      "              United Kingdom             1\n",
      "              United States             13\n",
      "              Uzbekistan                 1\n",
      "1998  Men     Austria                   15\n",
      "              Belarus                    2\n",
      "              Belgium                    1\n",
      "              Canada                    16\n",
      "              China                      6\n",
      "              Czech Republic            22\n",
      "              Finland                   39\n",
      "              France                    12\n",
      "              Germany                   19\n",
      "              Italy                     10\n",
      "              Japan                     11\n",
      "              Kazakhstan                 1\n",
      "              Korea, South               5\n",
      "              Netherlands                9\n",
      "              Norway                    32\n",
      "              Russia                    33\n",
      "              Sweden                     1\n",
      "              Switzerland               13\n",
      "              United Kingdom             4\n",
      "              United States              7\n",
      "      Women   Australia                  1\n",
      "              Austria                    5\n",
      "              Bulgaria                   1\n",
      "              Canada                    33\n",
      "              China                      8\n",
      "              Czech Republic             2\n",
      "              Denmark                    5\n",
      "              Finland                   20\n",
      "              France                     3\n",
      "              Germany                   25\n",
      "              Italy                      7\n",
      "              Japan                      2\n",
      "              Kazakhstan                 1\n",
      "              Korea, South               7\n",
      "              Netherlands                2\n",
      "              Norway                    12\n",
      "              Russia                    20\n",
      "              Sweden                     6\n",
      "              Switzerland                1\n",
      "              Ukraine                    1\n",
      "              United States             27\n",
      "2002  Men     Australia                  1\n",
      "              Austria                   18\n",
      "              Belarus                    1\n",
      "              Canada                    38\n",
      "              China                      7\n",
      "              Czech Republic             1\n",
      "              Estonia                    3\n",
      "              Finland                   13\n",
      "              France                     9\n",
      "              Germany                   32\n",
      "              Italy                     12\n",
      "              Japan                      1\n",
      "              Netherlands                6\n",
      "              Norway                    28\n",
      "              Poland                     2\n",
      "              Russia                    29\n",
      "              Slovenia                   4\n",
      "              Sweden                     2\n",
      "              Switzerland               13\n",
      "              United States             53\n",
      "      Women   Australia                  1\n",
      "              Austria                    2\n",
      "              Bulgaria                   3\n",
      "              Canada                    37\n",
      "              China                      9\n",
      "              Croatia                    4\n",
      "              Czech Republic             2\n",
      "              France                     6\n",
      "              Germany                   29\n",
      "              Italy                      9\n",
      "              Japan                      1\n",
      "              Korea, South               7\n",
      "              Netherlands                2\n",
      "              Norway                    13\n",
      "              Russia                    11\n",
      "              Sweden                    24\n",
      "              Switzerland               11\n",
      "              United Kingdom             6\n",
      "              United States             31\n",
      "2006  Men     Australia                  1\n",
      "              Austria                   24\n",
      "              Belarus                    1\n",
      "              Canada                    21\n",
      "              China                      4\n",
      "              Croatia                    1\n",
      "              Czech Republic            26\n",
      "              Estonia                    1\n",
      "              Finland                   40\n",
      "              France                     9\n",
      "              Germany                   27\n",
      "              Italy                     15\n",
      "              Korea, South              11\n",
      "              Latvia                     1\n",
      "              Netherlands                9\n",
      "              Norway                    19\n",
      "              Poland                     1\n",
      "              Russia                    18\n",
      "              Slovakia                   1\n",
      "              Sweden                    32\n",
      "              Switzerland               12\n",
      "              Ukraine                    1\n",
      "              United States             24\n",
      "      Women   Australia                  1\n",
      "              Austria                    6\n",
      "              Bulgaria                   1\n",
      "              Canada                    47\n",
      "              China                      9\n",
      "              Croatia                    2\n",
      "              Czech Republic             2\n",
      "              Estonia                    2\n",
      "              Finland                    3\n",
      "              France                     6\n",
      "              Germany                   27\n",
      "              Italy                     10\n",
      "              Japan                      1\n",
      "              Korea, South               8\n",
      "              Netherlands                4\n",
      "              Norway                     4\n",
      "              Poland                     1\n",
      "              Russia                    23\n",
      "              Sweden                    33\n",
      "              Switzerland               10\n",
      "              Ukraine                    2\n",
      "              United Kingdom             1\n",
      "              United States             29\n",
      "2010  Men     Australia                  1\n",
      "              Austria                   20\n",
      "              Belarus                    2\n",
      "              Canada                    47\n",
      "              China                      3\n",
      "              Croatia                    3\n",
      "              Czech Republic             5\n",
      "              Finland                   24\n",
      "              France                     6\n",
      "              Germany                   25\n",
      "              Italy                      4\n",
      "              Japan                      3\n",
      "              Korea, South              13\n",
      "              Latvia                     3\n",
      "              Netherlands                7\n",
      "              Norway                    30\n",
      "              Poland                     2\n",
      "              Russia                    16\n",
      "              Slovakia                   1\n",
      "              Sweden                     9\n",
      "              Switzerland               12\n",
      "              United States             60\n",
      "      Women   Australia                  2\n",
      "              Austria                    6\n",
      "              Belarus                    1\n",
      "              Canada                    44\n",
      "              China                     17\n",
      "              Czech Republic             4\n",
      "              Estonia                    1\n",
      "              Finland                   26\n",
      "              France                     8\n",
      "              Germany                   29\n",
      "              Italy                      1\n",
      "              Japan                      4\n",
      "              Kazakhstan                 1\n",
      "              Korea, South               5\n",
      "              Netherlands                4\n",
      "              Norway                    10\n",
      "              Poland                     6\n",
      "              Russia                     9\n",
      "              Slovakia                   2\n",
      "              Slovenia                   3\n",
      "              Sweden                    10\n",
      "              Switzerland                1\n",
      "              United Kingdom             1\n",
      "              United States             38\n",
      "2014  Men     Australia                  1\n",
      "              Austria                   19\n",
      "              Belarus                    1\n",
      "              Canada                    46\n",
      "              China                      8\n",
      "              Croatia                    1\n",
      "              Czech Republic             5\n",
      "              Finland                   27\n",
      "              France                    15\n",
      "              Germany                   22\n",
      "              Italy                      5\n",
      "              Japan                      9\n",
      "              Kazakhstan                 1\n",
      "              Korea, South               3\n",
      "              Latvia                    10\n",
      "              Netherlands               16\n",
      "              Norway                    18\n",
      "              Poland                     6\n",
      "              Russia                    45\n",
      "              Slovenia                   4\n",
      "              Sweden                    41\n",
      "              Switzerland                7\n",
      "              United Kingdom             5\n",
      "              United States             25\n",
      "      Women   Australia                  2\n",
      "              Austria                    8\n",
      "              Belarus                    5\n",
      "              Canada                    44\n",
      "              China                      5\n",
      "              Czech Republic             6\n",
      "              Finland                    7\n",
      "              France                     3\n",
      "              Germany                   14\n",
      "              Italy                      9\n",
      "              Japan                      2\n",
      "              Korea, South              11\n",
      "              Latvia                     1\n",
      "              Netherlands               13\n",
      "              Norway                    18\n",
      "              Poland                     5\n",
      "              Russia                    23\n",
      "              Slovakia                   1\n",
      "              Slovenia                   4\n",
      "              Sweden                    14\n",
      "              Switzerland               25\n",
      "              Ukraine                    5\n",
      "              United Kingdom             7\n",
      "              United States             40\n",
      "dtype: int64\n"
     ]
    }
   ],
   "source": [
    "# country\n",
    "with pd.option_context('display.max_rows', None, 'display.max_columns', None):  # more options can be specified also\n",
    "    print(df.groupby(['Year', 'Gender', 'Country']).size())"
   ]
  },
  {
   "cell_type": "code",
   "execution_count": null,
   "metadata": {},
   "outputs": [],
   "source": []
  },
  {
   "cell_type": "code",
   "execution_count": null,
   "metadata": {},
   "outputs": [],
   "source": []
  },
  {
   "cell_type": "markdown",
   "metadata": {},
   "source": [
    "## IDEA 1. Ratio of medals given to male vs. female (split bar char)\n",
    "\n",
    "- show direct trends of inequality for medals given\n",
    "- show how more medals have become available for women over time"
   ]
  },
  {
   "cell_type": "code",
   "execution_count": 36,
   "metadata": {},
   "outputs": [],
   "source": [
    "men_medals = df[df.Gender=='Men'].groupby(['Year']).size()\n",
    "women_medals = df[df.Gender=='Women'].groupby(['Year']).size()\n",
    "\n",
    "ratio_medals = women_medals/men_medals"
   ]
  },
  {
   "cell_type": "code",
   "execution_count": 37,
   "metadata": {},
   "outputs": [
    {
     "data": {
      "text/plain": [
       "Year\n",
       "1924    112\n",
       "1928     83\n",
       "1932    110\n",
       "1936     99\n",
       "1948    125\n",
       "1952    118\n",
       "1956    123\n",
       "1960    108\n",
       "1964    139\n",
       "1968    153\n",
       "1972    155\n",
       "1976    159\n",
       "1980    167\n",
       "1984    168\n",
       "1988    201\n",
       "1992    226\n",
       "1994    232\n",
       "1998    258\n",
       "2002    273\n",
       "2006    299\n",
       "2010    296\n",
       "2014    340\n",
       "dtype: int64"
      ]
     },
     "execution_count": 37,
     "metadata": {},
     "output_type": "execute_result"
    }
   ],
   "source": [
    "men_medals"
   ]
  },
  {
   "cell_type": "code",
   "execution_count": 38,
   "metadata": {},
   "outputs": [
    {
     "data": {
      "text/plain": [
       "Year\n",
       "1924      6\n",
       "1928      6\n",
       "1932      6\n",
       "1936      9\n",
       "1948     15\n",
       "1952     18\n",
       "1956     27\n",
       "1960     39\n",
       "1964     46\n",
       "1968     46\n",
       "1972     45\n",
       "1976     51\n",
       "1980     51\n",
       "1984     54\n",
       "1988     63\n",
       "1992     99\n",
       "1994    111\n",
       "1998    189\n",
       "2002    208\n",
       "2006    232\n",
       "2010    233\n",
       "2014    272\n",
       "dtype: int64"
      ]
     },
     "execution_count": 38,
     "metadata": {},
     "output_type": "execute_result"
    }
   ],
   "source": [
    "women_medals"
   ]
  },
  {
   "cell_type": "code",
   "execution_count": 39,
   "metadata": {},
   "outputs": [
    {
     "data": {
      "text/plain": [
       "Year\n",
       "1924    0.053571\n",
       "1928    0.072289\n",
       "1932    0.054545\n",
       "1936    0.090909\n",
       "1948    0.120000\n",
       "1952    0.152542\n",
       "1956    0.219512\n",
       "1960    0.361111\n",
       "1964    0.330935\n",
       "1968    0.300654\n",
       "1972    0.290323\n",
       "1976    0.320755\n",
       "1980    0.305389\n",
       "1984    0.321429\n",
       "1988    0.313433\n",
       "1992    0.438053\n",
       "1994    0.478448\n",
       "1998    0.732558\n",
       "2002    0.761905\n",
       "2006    0.775920\n",
       "2010    0.787162\n",
       "2014    0.800000\n",
       "dtype: float64"
      ]
     },
     "execution_count": 39,
     "metadata": {},
     "output_type": "execute_result"
    }
   ],
   "source": [
    "ratio_medals"
   ]
  },
  {
   "cell_type": "markdown",
   "metadata": {},
   "source": [
    "## IDEA 2. Gender participation per total number of disciplines existing\n",
    "\n",
    "- metric shows inequality of participation for disciplines available\n",
    "- men were more likely to participate in existing disciplines at the time\n",
    "- not all available discipines welcomed women\n",
    "- good normalized metric to see how more disciplines opened women participation over time\n",
    "- COUNTING PARTICIPANTS AND NOT MEDALS GIVEN"
   ]
  },
  {
   "cell_type": "code",
   "execution_count": 15,
   "metadata": {},
   "outputs": [],
   "source": [
    "# # number of each gender per discipline, for visualization only\n",
    "# y, d, g, c = [], [], [], []\n",
    "# for i in set(df.Year):\n",
    "#     for j in set(df.Discipline):\n",
    "#         for k in set(df.Gender):\n",
    "#             c.append(len(set(df[(df.Year==i)&(df.Discipline==j)&(df.Gender==k)]['Athlete'])))\n",
    "\n",
    "#             y.append(i)\n",
    "#             d.append(j)\n",
    "#             g.append(k)\n",
    "    \n",
    "# df_gender_discipline = pd.DataFrame({'Year':y, 'Discipline':d, 'Gender':g, 'Count':c})\n",
    "\n",
    "# table = pd.pivot_table(df_gender_discipline, values='Count', \n",
    "#                        index=['Discipline', 'Gender'], columns=['Year'])"
   ]
  },
  {
   "cell_type": "code",
   "execution_count": 16,
   "metadata": {},
   "outputs": [],
   "source": [
    "# table"
   ]
  },
  {
   "cell_type": "code",
   "execution_count": 17,
   "metadata": {},
   "outputs": [],
   "source": [
    "# number of unique participants per gender\n",
    "n_participants = df.groupby(['Year', 'Gender'])['Athlete'].nunique()\n",
    "\n",
    "# total number of disciplines\n",
    "n_disciplines = df.groupby(['Year'])['Discipline'].nunique()\n",
    "\n",
    "# ratio of number of participants per discipline\n",
    "n_gender_discipline = n_participants/n_disciplines"
   ]
  },
  {
   "cell_type": "code",
   "execution_count": 18,
   "metadata": {},
   "outputs": [
    {
     "data": {
      "text/plain": [
       "Year  Gender\n",
       "1924  Men        97\n",
       "      Women       6\n",
       "1928  Men        77\n",
       "      Women       6\n",
       "1932  Men       100\n",
       "      Women       6\n",
       "1936  Men        86\n",
       "      Women       9\n",
       "1948  Men       116\n",
       "      Women      12\n",
       "1952  Men       101\n",
       "      Women      15\n",
       "1956  Men       107\n",
       "      Women      24\n",
       "1960  Men        98\n",
       "      Women      33\n",
       "1964  Men       123\n",
       "      Women      33\n",
       "1968  Men       134\n",
       "      Women      33\n",
       "1972  Men       137\n",
       "      Women      33\n",
       "1976  Men       137\n",
       "      Women      38\n",
       "1980  Men       142\n",
       "      Women      43\n",
       "1984  Men       143\n",
       "      Women      39\n",
       "1988  Men       173\n",
       "      Women      42\n",
       "1992  Men       194\n",
       "      Women      76\n",
       "1994  Men       195\n",
       "      Women      86\n",
       "1998  Men       228\n",
       "      Women     158\n",
       "2002  Men       235\n",
       "      Women     175\n",
       "2006  Men       250\n",
       "      Women     198\n",
       "2010  Men       251\n",
       "      Women     199\n",
       "2014  Men       280\n",
       "      Women     229\n",
       "Name: Athlete, dtype: int64"
      ]
     },
     "execution_count": 18,
     "metadata": {},
     "output_type": "execute_result"
    }
   ],
   "source": [
    "n_participants"
   ]
  },
  {
   "cell_type": "code",
   "execution_count": 19,
   "metadata": {},
   "outputs": [
    {
     "data": {
      "text/plain": [
       "Year\n",
       "1924     9\n",
       "1928     8\n",
       "1932     7\n",
       "1936     8\n",
       "1948     9\n",
       "1952     8\n",
       "1956     8\n",
       "1960     8\n",
       "1964    10\n",
       "1968    10\n",
       "1972    10\n",
       "1976    10\n",
       "1980    10\n",
       "1984    10\n",
       "1988    10\n",
       "1992    12\n",
       "1994    12\n",
       "1998    14\n",
       "2002    15\n",
       "2006    15\n",
       "2010    15\n",
       "2014    15\n",
       "Name: Discipline, dtype: int64"
      ]
     },
     "execution_count": 19,
     "metadata": {},
     "output_type": "execute_result"
    }
   ],
   "source": [
    "n_disciplines"
   ]
  },
  {
   "cell_type": "code",
   "execution_count": 20,
   "metadata": {},
   "outputs": [
    {
     "data": {
      "text/plain": [
       "Year  Gender\n",
       "1924  Men       10.777778\n",
       "      Women      0.666667\n",
       "1928  Men        9.625000\n",
       "      Women      0.750000\n",
       "1932  Men       14.285714\n",
       "      Women      0.857143\n",
       "1936  Men       10.750000\n",
       "      Women      1.125000\n",
       "1948  Men       12.888889\n",
       "      Women      1.333333\n",
       "1952  Men       12.625000\n",
       "      Women      1.875000\n",
       "1956  Men       13.375000\n",
       "      Women      3.000000\n",
       "1960  Men       12.250000\n",
       "      Women      4.125000\n",
       "1964  Men       12.300000\n",
       "      Women      3.300000\n",
       "1968  Men       13.400000\n",
       "      Women      3.300000\n",
       "1972  Men       13.700000\n",
       "      Women      3.300000\n",
       "1976  Men       13.700000\n",
       "      Women      3.800000\n",
       "1980  Men       14.200000\n",
       "      Women      4.300000\n",
       "1984  Men       14.300000\n",
       "      Women      3.900000\n",
       "1988  Men       17.300000\n",
       "      Women      4.200000\n",
       "1992  Men       16.166667\n",
       "      Women      6.333333\n",
       "1994  Men       16.250000\n",
       "      Women      7.166667\n",
       "1998  Men       16.285714\n",
       "      Women     11.285714\n",
       "2002  Men       15.666667\n",
       "      Women     11.666667\n",
       "2006  Men       16.666667\n",
       "      Women     13.200000\n",
       "2010  Men       16.733333\n",
       "      Women     13.266667\n",
       "2014  Men       18.666667\n",
       "      Women     15.266667\n",
       "dtype: float64"
      ]
     },
     "execution_count": 20,
     "metadata": {},
     "output_type": "execute_result"
    }
   ],
   "source": [
    "n_gender_discipline"
   ]
  },
  {
   "cell_type": "code",
   "execution_count": 21,
   "metadata": {},
   "outputs": [],
   "source": [
    "# with pd.option_context('display.max_rows', None, 'display.max_columns', None):  # more options can be specified also\n",
    "#     print(df)"
   ]
  },
  {
   "cell_type": "code",
   "execution_count": 42,
   "metadata": {},
   "outputs": [
    {
     "data": {
      "text/html": [
       "<div>\n",
       "<style scoped>\n",
       "    .dataframe tbody tr th:only-of-type {\n",
       "        vertical-align: middle;\n",
       "    }\n",
       "\n",
       "    .dataframe tbody tr th {\n",
       "        vertical-align: top;\n",
       "    }\n",
       "\n",
       "    .dataframe thead th {\n",
       "        text-align: right;\n",
       "    }\n",
       "</style>\n",
       "<table border=\"1\" class=\"dataframe\">\n",
       "  <thead>\n",
       "    <tr style=\"text-align: right;\">\n",
       "      <th></th>\n",
       "      <th>Year</th>\n",
       "      <th>City</th>\n",
       "      <th>Sport</th>\n",
       "      <th>Discipline</th>\n",
       "      <th>Athlete</th>\n",
       "      <th>Country Code</th>\n",
       "      <th>Country</th>\n",
       "      <th>Gender</th>\n",
       "      <th>Event</th>\n",
       "      <th>Medal</th>\n",
       "    </tr>\n",
       "  </thead>\n",
       "  <tbody>\n",
       "    <tr>\n",
       "      <th>81</th>\n",
       "      <td>1924</td>\n",
       "      <td>Chamonix</td>\n",
       "      <td>Skating</td>\n",
       "      <td>Figure skating</td>\n",
       "      <td>MUCKELT, Ethel</td>\n",
       "      <td>GBR</td>\n",
       "      <td>United Kingdom</td>\n",
       "      <td>Women</td>\n",
       "      <td>Individual</td>\n",
       "      <td>Bronze</td>\n",
       "    </tr>\n",
       "    <tr>\n",
       "      <th>82</th>\n",
       "      <td>1924</td>\n",
       "      <td>Chamonix</td>\n",
       "      <td>Skating</td>\n",
       "      <td>Figure skating</td>\n",
       "      <td>SZABO-PLANK, Herma</td>\n",
       "      <td>AUT</td>\n",
       "      <td>Austria</td>\n",
       "      <td>Women</td>\n",
       "      <td>Individual</td>\n",
       "      <td>Gold</td>\n",
       "    </tr>\n",
       "    <tr>\n",
       "      <th>83</th>\n",
       "      <td>1924</td>\n",
       "      <td>Chamonix</td>\n",
       "      <td>Skating</td>\n",
       "      <td>Figure skating</td>\n",
       "      <td>LOUGHRAN, Beatrix</td>\n",
       "      <td>USA</td>\n",
       "      <td>United States</td>\n",
       "      <td>Women</td>\n",
       "      <td>Individual</td>\n",
       "      <td>Silver</td>\n",
       "    </tr>\n",
       "    <tr>\n",
       "      <th>84</th>\n",
       "      <td>1924</td>\n",
       "      <td>Chamonix</td>\n",
       "      <td>Skating</td>\n",
       "      <td>Figure skating</td>\n",
       "      <td>BRUNET, Andrée</td>\n",
       "      <td>FRA</td>\n",
       "      <td>France</td>\n",
       "      <td>Women</td>\n",
       "      <td>Pairs</td>\n",
       "      <td>Bronze</td>\n",
       "    </tr>\n",
       "    <tr>\n",
       "      <th>87</th>\n",
       "      <td>1924</td>\n",
       "      <td>Chamonix</td>\n",
       "      <td>Skating</td>\n",
       "      <td>Figure skating</td>\n",
       "      <td>ENGELMANN, Helene</td>\n",
       "      <td>AUT</td>\n",
       "      <td>Austria</td>\n",
       "      <td>Women</td>\n",
       "      <td>Pairs</td>\n",
       "      <td>Gold</td>\n",
       "    </tr>\n",
       "    <tr>\n",
       "      <th>...</th>\n",
       "      <td>...</td>\n",
       "      <td>...</td>\n",
       "      <td>...</td>\n",
       "      <td>...</td>\n",
       "      <td>...</td>\n",
       "      <td>...</td>\n",
       "      <td>...</td>\n",
       "      <td>...</td>\n",
       "      <td>...</td>\n",
       "      <td>...</td>\n",
       "    </tr>\n",
       "    <tr>\n",
       "      <th>5765</th>\n",
       "      <td>2014</td>\n",
       "      <td>Sochi</td>\n",
       "      <td>Skiing</td>\n",
       "      <td>Snowboard</td>\n",
       "      <td>JONES, Jenny</td>\n",
       "      <td>GBR</td>\n",
       "      <td>United Kingdom</td>\n",
       "      <td>Women</td>\n",
       "      <td>Slopestyle</td>\n",
       "      <td>Bronze</td>\n",
       "    </tr>\n",
       "    <tr>\n",
       "      <th>5766</th>\n",
       "      <td>2014</td>\n",
       "      <td>Sochi</td>\n",
       "      <td>Skiing</td>\n",
       "      <td>Snowboard</td>\n",
       "      <td>ANDERSON, Jamie</td>\n",
       "      <td>USA</td>\n",
       "      <td>United States</td>\n",
       "      <td>Women</td>\n",
       "      <td>Slopestyle</td>\n",
       "      <td>Gold</td>\n",
       "    </tr>\n",
       "    <tr>\n",
       "      <th>5767</th>\n",
       "      <td>2014</td>\n",
       "      <td>Sochi</td>\n",
       "      <td>Skiing</td>\n",
       "      <td>Snowboard</td>\n",
       "      <td>MALTAIS, Dominique</td>\n",
       "      <td>CAN</td>\n",
       "      <td>Canada</td>\n",
       "      <td>Women</td>\n",
       "      <td>Snowboard Cross</td>\n",
       "      <td>Silver</td>\n",
       "    </tr>\n",
       "    <tr>\n",
       "      <th>5768</th>\n",
       "      <td>2014</td>\n",
       "      <td>Sochi</td>\n",
       "      <td>Skiing</td>\n",
       "      <td>Snowboard</td>\n",
       "      <td>SAMKOVA, Eva</td>\n",
       "      <td>CZE</td>\n",
       "      <td>Czech Republic</td>\n",
       "      <td>Women</td>\n",
       "      <td>Snowboard Cross</td>\n",
       "      <td>Gold</td>\n",
       "    </tr>\n",
       "    <tr>\n",
       "      <th>5769</th>\n",
       "      <td>2014</td>\n",
       "      <td>Sochi</td>\n",
       "      <td>Skiing</td>\n",
       "      <td>Snowboard</td>\n",
       "      <td>TRESPEUCH, Chloe</td>\n",
       "      <td>FRA</td>\n",
       "      <td>France</td>\n",
       "      <td>Women</td>\n",
       "      <td>Snowboard Cross</td>\n",
       "      <td>Bronze</td>\n",
       "    </tr>\n",
       "  </tbody>\n",
       "</table>\n",
       "<p>1826 rows × 10 columns</p>\n",
       "</div>"
      ],
      "text/plain": [
       "      Year      City    Sport      Discipline             Athlete  \\\n",
       "81    1924  Chamonix  Skating  Figure skating      MUCKELT, Ethel   \n",
       "82    1924  Chamonix  Skating  Figure skating  SZABO-PLANK, Herma   \n",
       "83    1924  Chamonix  Skating  Figure skating   LOUGHRAN, Beatrix   \n",
       "84    1924  Chamonix  Skating  Figure skating      BRUNET, Andrée   \n",
       "87    1924  Chamonix  Skating  Figure skating   ENGELMANN, Helene   \n",
       "...    ...       ...      ...             ...                 ...   \n",
       "5765  2014     Sochi   Skiing       Snowboard        JONES, Jenny   \n",
       "5766  2014     Sochi   Skiing       Snowboard     ANDERSON, Jamie   \n",
       "5767  2014     Sochi   Skiing       Snowboard  MALTAIS, Dominique   \n",
       "5768  2014     Sochi   Skiing       Snowboard        SAMKOVA, Eva   \n",
       "5769  2014     Sochi   Skiing       Snowboard    TRESPEUCH, Chloe   \n",
       "\n",
       "     Country Code         Country Gender            Event   Medal  \n",
       "81            GBR  United Kingdom  Women       Individual  Bronze  \n",
       "82            AUT         Austria  Women       Individual    Gold  \n",
       "83            USA   United States  Women       Individual  Silver  \n",
       "84            FRA          France  Women            Pairs  Bronze  \n",
       "87            AUT         Austria  Women            Pairs    Gold  \n",
       "...           ...             ...    ...              ...     ...  \n",
       "5765          GBR  United Kingdom  Women       Slopestyle  Bronze  \n",
       "5766          USA   United States  Women       Slopestyle    Gold  \n",
       "5767          CAN          Canada  Women  Snowboard Cross  Silver  \n",
       "5768          CZE  Czech Republic  Women  Snowboard Cross    Gold  \n",
       "5769          FRA          France  Women  Snowboard Cross  Bronze  \n",
       "\n",
       "[1826 rows x 10 columns]"
      ]
     },
     "execution_count": 42,
     "metadata": {},
     "output_type": "execute_result"
    }
   ],
   "source": [
    "df_men = df[df.Gender=='Men']\n",
    "df_women = df[df.Gender=='Women']\n",
    "df_women"
   ]
  },
  {
   "cell_type": "markdown",
   "metadata": {},
   "source": [
    "## Dash Plotly Prototype"
   ]
  },
  {
   "cell_type": "code",
   "execution_count": 64,
   "metadata": {},
   "outputs": [
    {
     "data": {
      "text/html": [
       "<div>\n",
       "<style scoped>\n",
       "    .dataframe tbody tr th:only-of-type {\n",
       "        vertical-align: middle;\n",
       "    }\n",
       "\n",
       "    .dataframe tbody tr th {\n",
       "        vertical-align: top;\n",
       "    }\n",
       "\n",
       "    .dataframe thead th {\n",
       "        text-align: right;\n",
       "    }\n",
       "</style>\n",
       "<table border=\"1\" class=\"dataframe\">\n",
       "  <thead>\n",
       "    <tr style=\"text-align: right;\">\n",
       "      <th></th>\n",
       "      <th>Year</th>\n",
       "      <th>Gender</th>\n",
       "      <th>Sport</th>\n",
       "      <th>Number_Medals</th>\n",
       "    </tr>\n",
       "  </thead>\n",
       "  <tbody>\n",
       "    <tr>\n",
       "      <th>0</th>\n",
       "      <td>1924</td>\n",
       "      <td>Men</td>\n",
       "      <td>Biathlon</td>\n",
       "      <td>12</td>\n",
       "    </tr>\n",
       "    <tr>\n",
       "      <th>1</th>\n",
       "      <td>1924</td>\n",
       "      <td>Men</td>\n",
       "      <td>Bobsleigh</td>\n",
       "      <td>13</td>\n",
       "    </tr>\n",
       "    <tr>\n",
       "      <th>2</th>\n",
       "      <td>1924</td>\n",
       "      <td>Men</td>\n",
       "      <td>Curling</td>\n",
       "      <td>22</td>\n",
       "    </tr>\n",
       "    <tr>\n",
       "      <th>3</th>\n",
       "      <td>1924</td>\n",
       "      <td>Men</td>\n",
       "      <td>Ice Hockey</td>\n",
       "      <td>31</td>\n",
       "    </tr>\n",
       "    <tr>\n",
       "      <th>4</th>\n",
       "      <td>1924</td>\n",
       "      <td>Men</td>\n",
       "      <td>Skating</td>\n",
       "      <td>22</td>\n",
       "    </tr>\n",
       "    <tr>\n",
       "      <th>...</th>\n",
       "      <td>...</td>\n",
       "      <td>...</td>\n",
       "      <td>...</td>\n",
       "      <td>...</td>\n",
       "    </tr>\n",
       "    <tr>\n",
       "      <th>194</th>\n",
       "      <td>2014</td>\n",
       "      <td>Women</td>\n",
       "      <td>Curling</td>\n",
       "      <td>15</td>\n",
       "    </tr>\n",
       "    <tr>\n",
       "      <th>195</th>\n",
       "      <td>2014</td>\n",
       "      <td>Women</td>\n",
       "      <td>Ice Hockey</td>\n",
       "      <td>63</td>\n",
       "    </tr>\n",
       "    <tr>\n",
       "      <th>196</th>\n",
       "      <td>2014</td>\n",
       "      <td>Women</td>\n",
       "      <td>Luge</td>\n",
       "      <td>6</td>\n",
       "    </tr>\n",
       "    <tr>\n",
       "      <th>197</th>\n",
       "      <td>2014</td>\n",
       "      <td>Women</td>\n",
       "      <td>Skating</td>\n",
       "      <td>71</td>\n",
       "    </tr>\n",
       "    <tr>\n",
       "      <th>198</th>\n",
       "      <td>2014</td>\n",
       "      <td>Women</td>\n",
       "      <td>Skiing</td>\n",
       "      <td>78</td>\n",
       "    </tr>\n",
       "  </tbody>\n",
       "</table>\n",
       "<p>199 rows × 4 columns</p>\n",
       "</div>"
      ],
      "text/plain": [
       "     Year Gender       Sport  Number_Medals\n",
       "0    1924    Men    Biathlon             12\n",
       "1    1924    Men   Bobsleigh             13\n",
       "2    1924    Men     Curling             22\n",
       "3    1924    Men  Ice Hockey             31\n",
       "4    1924    Men     Skating             22\n",
       "..    ...    ...         ...            ...\n",
       "194  2014  Women     Curling             15\n",
       "195  2014  Women  Ice Hockey             63\n",
       "196  2014  Women        Luge              6\n",
       "197  2014  Women     Skating             71\n",
       "198  2014  Women      Skiing             78\n",
       "\n",
       "[199 rows x 4 columns]"
      ]
     },
     "execution_count": 64,
     "metadata": {},
     "output_type": "execute_result"
    }
   ],
   "source": [
    "test = df.groupby(['Year', 'Gender', 'Sport']).size().to_frame('Number_Medals').reset_index()\n",
    "test"
   ]
  },
  {
   "cell_type": "code",
   "execution_count": 160,
   "metadata": {},
   "outputs": [
    {
     "data": {
      "text/plain": [
       "Year             0\n",
       "Gender           0\n",
       "Sport            0\n",
       "Number_Medals    0\n",
       "dtype: int64"
      ]
     },
     "execution_count": 160,
     "metadata": {},
     "output_type": "execute_result"
    }
   ],
   "source": [
    "df_discip.isnull().sum()"
   ]
  },
  {
   "cell_type": "code",
   "execution_count": 170,
   "metadata": {},
   "outputs": [
    {
     "name": "stdout",
     "output_type": "stream",
     "text": [
      "     Year Gender       Sport  Number_Medals\n",
      "3    1924    Men  Ice Hockey           31.0\n",
      "8    1928    Men  Ice Hockey           36.0\n",
      "13   1932    Men  Ice Hockey           38.0\n",
      "18   1936    Men  Ice Hockey           36.0\n",
      "24   1948    Men  Ice Hockey           51.0\n",
      "30   1952    Men  Ice Hockey           48.0\n",
      "36   1956    Men  Ice Hockey           51.0\n",
      "42   1960    Men  Ice Hockey           51.0\n",
      "49   1964    Men  Ice Hockey           50.0\n",
      "58   1968    Men  Ice Hockey           54.0\n",
      "67   1972    Men  Ice Hockey           56.0\n",
      "76   1976    Men  Ice Hockey           54.0\n",
      "85   1980    Men  Ice Hockey           58.0\n",
      "94   1984    Men  Ice Hockey           60.0\n",
      "103  1988    Men  Ice Hockey           66.0\n",
      "112  1992    Men  Ice Hockey           69.0\n",
      "122  1994    Men  Ice Hockey           68.0\n",
      "133  1998    Men  Ice Hockey           68.0\n",
      "146  2002    Men  Ice Hockey           69.0\n",
      "160  2006    Men  Ice Hockey           73.0\n",
      "174  2010    Men  Ice Hockey           69.0\n",
      "188  2014    Men  Ice Hockey           75.0      Year Gender       Sport  Number_Medals\n",
      "139  1998  Women  Ice Hockey           60.0\n",
      "153  2002  Women  Ice Hockey           60.0\n",
      "167  2006  Women  Ice Hockey           59.0\n",
      "181  2010  Women  Ice Hockey           63.0\n",
      "195  2014  Women  Ice Hockey           63.0\n",
      "199  1924  Women  Ice Hockey            0.0\n",
      "206  1928  Women  Ice Hockey            0.0\n",
      "215  1932  Women  Ice Hockey            0.0\n",
      "224  1936  Women  Ice Hockey            0.0\n",
      "232  1948  Women  Ice Hockey            0.0\n",
      "240  1952  Women  Ice Hockey            0.0\n",
      "248  1956  Women  Ice Hockey            0.0\n",
      "256  1960  Women  Ice Hockey            0.0\n",
      "264  1964  Women  Ice Hockey            0.0\n",
      "269  1968  Women  Ice Hockey            0.0\n",
      "274  1972  Women  Ice Hockey            0.0\n",
      "279  1976  Women  Ice Hockey            0.0\n",
      "284  1980  Women  Ice Hockey            0.0\n",
      "289  1984  Women  Ice Hockey            0.0\n",
      "294  1988  Women  Ice Hockey            0.0\n",
      "299  1992  Women  Ice Hockey            0.0\n",
      "303  1994  Women  Ice Hockey            0.0\n",
      "Ice Hockey 0 0\n",
      "     Year Gender   Sport  Number_Medals\n",
      "5    1924    Men  Skiing           12.0\n",
      "10   1928    Men  Skiing           12.0\n",
      "15   1932    Men  Skiing           12.0\n",
      "20   1936    Men  Skiing           27.0\n",
      "26   1948    Men  Skiing           34.0\n",
      "32   1952    Men  Skiing           33.0\n",
      "38   1956    Men  Skiing           36.0\n",
      "44   1960    Men  Skiing           36.0\n",
      "52   1964    Men  Skiing           39.0\n",
      "61   1968    Men  Skiing           39.0\n",
      "70   1972    Men  Skiing           39.0\n",
      "79   1976    Men  Skiing           39.0\n",
      "88   1980    Men  Skiing           39.0\n",
      "97   1984    Men  Skiing           39.0\n",
      "106  1988    Men  Skiing           66.0\n",
      "115  1992    Men  Skiing           72.0\n",
      "125  1994    Men  Skiing           75.0\n",
      "136  1998    Men  Skiing           84.0\n",
      "149  2002    Men  Skiing           90.0\n",
      "163  2006    Men  Skiing           96.0\n",
      "177  2010    Men  Skiing           99.0\n",
      "191  2014    Men  Skiing          112.0      Year Gender   Sport  Number_Medals\n",
      "22   1936  Women  Skiing            3.0\n",
      "28   1948  Women  Skiing            9.0\n",
      "34   1952  Women  Skiing           12.0\n",
      "40   1956  Women  Skiing           21.0\n",
      "46   1960  Women  Skiing           21.0\n",
      "55   1964  Women  Skiing           24.0\n",
      "64   1968  Women  Skiing           24.0\n",
      "73   1972  Women  Skiing           24.0\n",
      "82   1976  Women  Skiing           27.0\n",
      "91   1980  Women  Skiing           27.0\n",
      "100  1984  Women  Skiing           30.0\n",
      "109  1988  Women  Skiing           36.0\n",
      "119  1992  Women  Skiing           42.0\n",
      "129  1994  Women  Skiing           45.0\n",
      "142  1998  Women  Skiing           51.0\n",
      "156  2002  Women  Skiing           54.0\n",
      "170  2006  Women  Skiing           60.0\n",
      "184  2010  Women  Skiing           63.0\n",
      "198  2014  Women  Skiing           78.0\n",
      "200  1924  Women  Skiing            0.0\n",
      "207  1928  Women  Skiing            0.0\n",
      "216  1932  Women  Skiing            0.0\n"
     ]
    },
    {
     "ename": "KeyError",
     "evalue": "0",
     "output_type": "error",
     "traceback": [
      "\u001b[1;31m---------------------------------------------------------------------------\u001b[0m",
      "\u001b[1;31mKeyError\u001b[0m                                  Traceback (most recent call last)",
      "\u001b[1;32m<ipython-input-170-c22fa8710356>\u001b[0m in \u001b[0;36m<module>\u001b[1;34m\u001b[0m\n\u001b[0;32m     22\u001b[0m         \u001b[0mwomen_value\u001b[0m \u001b[1;33m=\u001b[0m \u001b[0mdf_discip\u001b[0m\u001b[1;33m.\u001b[0m\u001b[0mNumber_Medals\u001b[0m\u001b[1;33m[\u001b[0m\u001b[1;33m(\u001b[0m\u001b[0mdf_discip\u001b[0m\u001b[1;33m.\u001b[0m\u001b[0mSport\u001b[0m\u001b[1;33m==\u001b[0m\u001b[0msports\u001b[0m\u001b[1;33m[\u001b[0m\u001b[0mi\u001b[0m\u001b[1;33m-\u001b[0m\u001b[1;36m1\u001b[0m\u001b[1;33m]\u001b[0m\u001b[1;33m)\u001b[0m\u001b[1;33m&\u001b[0m\u001b[1;33m(\u001b[0m\u001b[0mdf_discip\u001b[0m\u001b[1;33m.\u001b[0m\u001b[0mGender\u001b[0m\u001b[1;33m==\u001b[0m\u001b[1;34m'Women'\u001b[0m\u001b[1;33m)\u001b[0m\u001b[1;33m]\u001b[0m\u001b[1;33m\u001b[0m\u001b[1;33m\u001b[0m\u001b[0m\n\u001b[0;32m     23\u001b[0m \u001b[1;33m\u001b[0m\u001b[0m\n\u001b[1;32m---> 24\u001b[1;33m         \u001b[0mprint\u001b[0m\u001b[1;33m(\u001b[0m\u001b[0mmen_value\u001b[0m\u001b[1;33m[\u001b[0m\u001b[1;36m0\u001b[0m\u001b[1;33m]\u001b[0m\u001b[1;33m,\u001b[0m \u001b[0mtype\u001b[0m\u001b[1;33m(\u001b[0m\u001b[0mwomen_value\u001b[0m\u001b[1;33m)\u001b[0m\u001b[1;33m)\u001b[0m\u001b[1;33m\u001b[0m\u001b[1;33m\u001b[0m\u001b[0m\n\u001b[0m\u001b[0;32m     25\u001b[0m \u001b[1;33m\u001b[0m\u001b[0m\n\u001b[0;32m     26\u001b[0m         \u001b[1;32mif\u001b[0m \u001b[0mmen_value\u001b[0m\u001b[1;33m.\u001b[0m\u001b[0misnull\u001b[0m\u001b[1;33m(\u001b[0m\u001b[1;33m)\u001b[0m\u001b[1;33m:\u001b[0m\u001b[1;33m\u001b[0m\u001b[1;33m\u001b[0m\u001b[0m\n",
      "\u001b[1;32m~\\Anaconda3\\lib\\site-packages\\pandas\\core\\series.py\u001b[0m in \u001b[0;36m__getitem__\u001b[1;34m(self, key)\u001b[0m\n\u001b[0;32m    869\u001b[0m         \u001b[0mkey\u001b[0m \u001b[1;33m=\u001b[0m \u001b[0mcom\u001b[0m\u001b[1;33m.\u001b[0m\u001b[0mapply_if_callable\u001b[0m\u001b[1;33m(\u001b[0m\u001b[0mkey\u001b[0m\u001b[1;33m,\u001b[0m \u001b[0mself\u001b[0m\u001b[1;33m)\u001b[0m\u001b[1;33m\u001b[0m\u001b[1;33m\u001b[0m\u001b[0m\n\u001b[0;32m    870\u001b[0m         \u001b[1;32mtry\u001b[0m\u001b[1;33m:\u001b[0m\u001b[1;33m\u001b[0m\u001b[1;33m\u001b[0m\u001b[0m\n\u001b[1;32m--> 871\u001b[1;33m             \u001b[0mresult\u001b[0m \u001b[1;33m=\u001b[0m \u001b[0mself\u001b[0m\u001b[1;33m.\u001b[0m\u001b[0mindex\u001b[0m\u001b[1;33m.\u001b[0m\u001b[0mget_value\u001b[0m\u001b[1;33m(\u001b[0m\u001b[0mself\u001b[0m\u001b[1;33m,\u001b[0m \u001b[0mkey\u001b[0m\u001b[1;33m)\u001b[0m\u001b[1;33m\u001b[0m\u001b[1;33m\u001b[0m\u001b[0m\n\u001b[0m\u001b[0;32m    872\u001b[0m \u001b[1;33m\u001b[0m\u001b[0m\n\u001b[0;32m    873\u001b[0m             \u001b[1;32mif\u001b[0m \u001b[1;32mnot\u001b[0m \u001b[0mis_scalar\u001b[0m\u001b[1;33m(\u001b[0m\u001b[0mresult\u001b[0m\u001b[1;33m)\u001b[0m\u001b[1;33m:\u001b[0m\u001b[1;33m\u001b[0m\u001b[1;33m\u001b[0m\u001b[0m\n",
      "\u001b[1;32m~\\Anaconda3\\lib\\site-packages\\pandas\\core\\indexes\\base.py\u001b[0m in \u001b[0;36mget_value\u001b[1;34m(self, series, key)\u001b[0m\n\u001b[0;32m   4403\u001b[0m         \u001b[0mk\u001b[0m \u001b[1;33m=\u001b[0m \u001b[0mself\u001b[0m\u001b[1;33m.\u001b[0m\u001b[0m_convert_scalar_indexer\u001b[0m\u001b[1;33m(\u001b[0m\u001b[0mk\u001b[0m\u001b[1;33m,\u001b[0m \u001b[0mkind\u001b[0m\u001b[1;33m=\u001b[0m\u001b[1;34m\"getitem\"\u001b[0m\u001b[1;33m)\u001b[0m\u001b[1;33m\u001b[0m\u001b[1;33m\u001b[0m\u001b[0m\n\u001b[0;32m   4404\u001b[0m         \u001b[1;32mtry\u001b[0m\u001b[1;33m:\u001b[0m\u001b[1;33m\u001b[0m\u001b[1;33m\u001b[0m\u001b[0m\n\u001b[1;32m-> 4405\u001b[1;33m             \u001b[1;32mreturn\u001b[0m \u001b[0mself\u001b[0m\u001b[1;33m.\u001b[0m\u001b[0m_engine\u001b[0m\u001b[1;33m.\u001b[0m\u001b[0mget_value\u001b[0m\u001b[1;33m(\u001b[0m\u001b[0ms\u001b[0m\u001b[1;33m,\u001b[0m \u001b[0mk\u001b[0m\u001b[1;33m,\u001b[0m \u001b[0mtz\u001b[0m\u001b[1;33m=\u001b[0m\u001b[0mgetattr\u001b[0m\u001b[1;33m(\u001b[0m\u001b[0mseries\u001b[0m\u001b[1;33m.\u001b[0m\u001b[0mdtype\u001b[0m\u001b[1;33m,\u001b[0m \u001b[1;34m\"tz\"\u001b[0m\u001b[1;33m,\u001b[0m \u001b[1;32mNone\u001b[0m\u001b[1;33m)\u001b[0m\u001b[1;33m)\u001b[0m\u001b[1;33m\u001b[0m\u001b[1;33m\u001b[0m\u001b[0m\n\u001b[0m\u001b[0;32m   4406\u001b[0m         \u001b[1;32mexcept\u001b[0m \u001b[0mKeyError\u001b[0m \u001b[1;32mas\u001b[0m \u001b[0me1\u001b[0m\u001b[1;33m:\u001b[0m\u001b[1;33m\u001b[0m\u001b[1;33m\u001b[0m\u001b[0m\n\u001b[0;32m   4407\u001b[0m             \u001b[1;32mif\u001b[0m \u001b[0mlen\u001b[0m\u001b[1;33m(\u001b[0m\u001b[0mself\u001b[0m\u001b[1;33m)\u001b[0m \u001b[1;33m>\u001b[0m \u001b[1;36m0\u001b[0m \u001b[1;32mand\u001b[0m \u001b[1;33m(\u001b[0m\u001b[0mself\u001b[0m\u001b[1;33m.\u001b[0m\u001b[0mholds_integer\u001b[0m\u001b[1;33m(\u001b[0m\u001b[1;33m)\u001b[0m \u001b[1;32mor\u001b[0m \u001b[0mself\u001b[0m\u001b[1;33m.\u001b[0m\u001b[0mis_boolean\u001b[0m\u001b[1;33m(\u001b[0m\u001b[1;33m)\u001b[0m\u001b[1;33m)\u001b[0m\u001b[1;33m:\u001b[0m\u001b[1;33m\u001b[0m\u001b[1;33m\u001b[0m\u001b[0m\n",
      "\u001b[1;32mpandas\\_libs\\index.pyx\u001b[0m in \u001b[0;36mpandas._libs.index.IndexEngine.get_value\u001b[1;34m()\u001b[0m\n",
      "\u001b[1;32mpandas\\_libs\\index.pyx\u001b[0m in \u001b[0;36mpandas._libs.index.IndexEngine.get_value\u001b[1;34m()\u001b[0m\n",
      "\u001b[1;32mpandas\\_libs\\index.pyx\u001b[0m in \u001b[0;36mpandas._libs.index.IndexEngine.get_loc\u001b[1;34m()\u001b[0m\n",
      "\u001b[1;32mpandas\\_libs\\hashtable_class_helper.pxi\u001b[0m in \u001b[0;36mpandas._libs.hashtable.Int64HashTable.get_item\u001b[1;34m()\u001b[0m\n",
      "\u001b[1;32mpandas\\_libs\\hashtable_class_helper.pxi\u001b[0m in \u001b[0;36mpandas._libs.hashtable.Int64HashTable.get_item\u001b[1;34m()\u001b[0m\n",
      "\u001b[1;31mKeyError\u001b[0m: 0"
     ]
    }
   ],
   "source": [
    "import plotly.graph_objects as go\n",
    "import numpy as np\n",
    "\n",
    "# df_discip = df.groupby(['Year', 'Gender', 'Sport']).size().to_frame('Number_Medals').reset_index()\n",
    "df_discip = df_final.copy()\n",
    "\n",
    "fig = go.Figure()\n",
    "sports = list(set(df_discip.Sport))\n",
    "for i in range(len(sports)):\n",
    "    \n",
    "    if i==0:\n",
    "        base_men=0\n",
    "        base_women=0\n",
    "    \n",
    "    df_men = df_discip[(df_discip.Sport==sports[i])&(df_discip.Gender=='Men')]\n",
    "    df_women = df_discip[(df_discip.Sport==sports[i])&(df_discip.Gender=='Women')]\n",
    "        \n",
    "    if i>0:\n",
    "        men_value = df_discip[(df_discip.Sport==sports[i-1])&(df_discip.Gender=='Men')]\n",
    "        women_value = df_discip[(df_discip.Sport==sports[i-1])&(df_discip.Gender=='Women')]\n",
    "\n",
    "        base_men = base_men + men_value\n",
    "        base_women = base_women + women_value\n",
    "    \n",
    "    \n",
    "    fig.add_trace(go.Bar(x=df_men.Year,\n",
    "                    y=df_men.Number_Medals,\n",
    "                    name=sports[i],\n",
    "                    offsetgroup='Men',\n",
    "                    base = base_men\n",
    "                    ))\n",
    "        \n",
    "    fig.add_trace(go.Bar(x=df_women.Year,\n",
    "                    y=df_women.Number_Medals,\n",
    "                    name=sports[i],\n",
    "                    offsetgroup='Women',\n",
    "                    base = base_women\n",
    "                    ))\n",
    "    \n",
    "    print(sports[i],base_men, base_women)\n",
    "\n",
    "fig.update_layout(\n",
    "    title='US Export of Plastic Scrap',\n",
    "    xaxis_tickfont_size=14,\n",
    "    yaxis=dict(\n",
    "        title='USD (millions)',\n",
    "        titlefont_size=16,\n",
    "        tickfont_size=14,\n",
    "    ),\n",
    "    legend=dict(\n",
    "        x=0,\n",
    "        y=1.0,\n",
    "        bgcolor='rgba(255, 255, 255, 0)',\n",
    "        bordercolor='rgba(255, 255, 255, 0)'\n",
    "    ),\n",
    "    barmode='group',\n",
    "    bargap=0.15, # gap between bars of adjacent location coordinates.\n",
    "    bargroupgap=0.1 # gap between bars of the same location coordinate.\n",
    ")\n",
    "fig.show()"
   ]
  },
  {
   "cell_type": "code",
   "execution_count": 166,
   "metadata": {},
   "outputs": [
    {
     "data": {
      "text/plain": [
       "31.0"
      ]
     },
     "execution_count": 166,
     "metadata": {},
     "output_type": "execute_result"
    }
   ],
   "source": []
  },
  {
   "cell_type": "code",
   "execution_count": 86,
   "metadata": {},
   "outputs": [
    {
     "data": {
      "text/plain": [
       "(199, 4)"
      ]
     },
     "execution_count": 86,
     "metadata": {},
     "output_type": "execute_result"
    }
   ],
   "source": [
    "df_discip.shape"
   ]
  },
  {
   "cell_type": "code",
   "execution_count": 33,
   "metadata": {},
   "outputs": [],
   "source": [
    "# dataframe for sports\n",
    "df_sport = df.groupby(['Year', 'Gender', 'Sport']).size().to_frame('Number_Medals').reset_index()\n",
    "\n",
    "# dummy dataframe to add zeros to null sports\n",
    "data = []\n",
    "for y in set(df_sport.Year):\n",
    "    for s in set(df_sport.Sport):\n",
    "        for g in set(df_sport.Gender):\n",
    "            data.append((y, s, g))\n",
    "df_temp = pd.DataFrame(data, columns=[\"Year\", \"Sport\", \"Gender\"])\n",
    "df_temp['Number_Medals'] = 0\n",
    "\n",
    "# left join\n",
    "df_final = df_sport.merge(df_temp, on=['Year', 'Gender', 'Sport'], how='right')\n",
    "df_final = df_final.drop('Number_Medals_y', axis=1)\n",
    "df_final = df_final.rename(columns={'Number_Medals_x': 'Number_Medals'})\n",
    "df_final['Number_Medals'] = df_final['Number_Medals'].fillna(0)"
   ]
  },
  {
   "cell_type": "code",
   "execution_count": 115,
   "metadata": {},
   "outputs": [],
   "source": [
    "# with pd.option_context('display.max_rows', None, 'display.max_columns', None):  # more options can be specified also\n",
    "#     print(df_final)"
   ]
  },
  {
   "cell_type": "code",
   "execution_count": 116,
   "metadata": {},
   "outputs": [],
   "source": [
    "df = df_final.copy()"
   ]
  },
  {
   "cell_type": "code",
   "execution_count": null,
   "metadata": {},
   "outputs": [],
   "source": [
    "data = []\n",
    "for i in set(df.Sport):\n",
    "    "
   ]
  },
  {
   "cell_type": "code",
   "execution_count": 124,
   "metadata": {},
   "outputs": [
    {
     "data": {
      "application/vnd.plotly.v1+json": {
       "config": {
        "plotlyServerURL": "https://plot.ly"
       },
       "data": [
        {
         "name": "Original",
         "offsetgroup": "1",
         "type": "bar",
         "x": [
          "feature",
          "question",
          "bug",
          "documentation",
          "maintenance"
         ],
         "y": [
          15,
          23,
          32,
          10,
          23
         ]
        },
        {
         "name": "Model 1",
         "offsetgroup": "1",
         "type": "bar",
         "x": [
          "feature",
          "question",
          "bug",
          "documentation",
          "maintenance"
         ],
         "y": [
          4,
          8,
          18,
          6,
          0
         ]
        },
        {
         "base": [
          4,
          8,
          18,
          6,
          0
         ],
         "name": "Model 2",
         "offsetgroup": "2",
         "type": "bar",
         "x": [
          "feature",
          "question",
          "bug",
          "documentation",
          "maintenance"
         ],
         "y": [
          11,
          18,
          18,
          0,
          20
         ]
        }
       ],
       "layout": {
        "template": {
         "data": {
          "bar": [
           {
            "error_x": {
             "color": "#2a3f5f"
            },
            "error_y": {
             "color": "#2a3f5f"
            },
            "marker": {
             "line": {
              "color": "#E5ECF6",
              "width": 0.5
             }
            },
            "type": "bar"
           }
          ],
          "barpolar": [
           {
            "marker": {
             "line": {
              "color": "#E5ECF6",
              "width": 0.5
             }
            },
            "type": "barpolar"
           }
          ],
          "carpet": [
           {
            "aaxis": {
             "endlinecolor": "#2a3f5f",
             "gridcolor": "white",
             "linecolor": "white",
             "minorgridcolor": "white",
             "startlinecolor": "#2a3f5f"
            },
            "baxis": {
             "endlinecolor": "#2a3f5f",
             "gridcolor": "white",
             "linecolor": "white",
             "minorgridcolor": "white",
             "startlinecolor": "#2a3f5f"
            },
            "type": "carpet"
           }
          ],
          "choropleth": [
           {
            "colorbar": {
             "outlinewidth": 0,
             "ticks": ""
            },
            "type": "choropleth"
           }
          ],
          "contour": [
           {
            "colorbar": {
             "outlinewidth": 0,
             "ticks": ""
            },
            "colorscale": [
             [
              0,
              "#0d0887"
             ],
             [
              0.1111111111111111,
              "#46039f"
             ],
             [
              0.2222222222222222,
              "#7201a8"
             ],
             [
              0.3333333333333333,
              "#9c179e"
             ],
             [
              0.4444444444444444,
              "#bd3786"
             ],
             [
              0.5555555555555556,
              "#d8576b"
             ],
             [
              0.6666666666666666,
              "#ed7953"
             ],
             [
              0.7777777777777778,
              "#fb9f3a"
             ],
             [
              0.8888888888888888,
              "#fdca26"
             ],
             [
              1,
              "#f0f921"
             ]
            ],
            "type": "contour"
           }
          ],
          "contourcarpet": [
           {
            "colorbar": {
             "outlinewidth": 0,
             "ticks": ""
            },
            "type": "contourcarpet"
           }
          ],
          "heatmap": [
           {
            "colorbar": {
             "outlinewidth": 0,
             "ticks": ""
            },
            "colorscale": [
             [
              0,
              "#0d0887"
             ],
             [
              0.1111111111111111,
              "#46039f"
             ],
             [
              0.2222222222222222,
              "#7201a8"
             ],
             [
              0.3333333333333333,
              "#9c179e"
             ],
             [
              0.4444444444444444,
              "#bd3786"
             ],
             [
              0.5555555555555556,
              "#d8576b"
             ],
             [
              0.6666666666666666,
              "#ed7953"
             ],
             [
              0.7777777777777778,
              "#fb9f3a"
             ],
             [
              0.8888888888888888,
              "#fdca26"
             ],
             [
              1,
              "#f0f921"
             ]
            ],
            "type": "heatmap"
           }
          ],
          "heatmapgl": [
           {
            "colorbar": {
             "outlinewidth": 0,
             "ticks": ""
            },
            "colorscale": [
             [
              0,
              "#0d0887"
             ],
             [
              0.1111111111111111,
              "#46039f"
             ],
             [
              0.2222222222222222,
              "#7201a8"
             ],
             [
              0.3333333333333333,
              "#9c179e"
             ],
             [
              0.4444444444444444,
              "#bd3786"
             ],
             [
              0.5555555555555556,
              "#d8576b"
             ],
             [
              0.6666666666666666,
              "#ed7953"
             ],
             [
              0.7777777777777778,
              "#fb9f3a"
             ],
             [
              0.8888888888888888,
              "#fdca26"
             ],
             [
              1,
              "#f0f921"
             ]
            ],
            "type": "heatmapgl"
           }
          ],
          "histogram": [
           {
            "marker": {
             "colorbar": {
              "outlinewidth": 0,
              "ticks": ""
             }
            },
            "type": "histogram"
           }
          ],
          "histogram2d": [
           {
            "colorbar": {
             "outlinewidth": 0,
             "ticks": ""
            },
            "colorscale": [
             [
              0,
              "#0d0887"
             ],
             [
              0.1111111111111111,
              "#46039f"
             ],
             [
              0.2222222222222222,
              "#7201a8"
             ],
             [
              0.3333333333333333,
              "#9c179e"
             ],
             [
              0.4444444444444444,
              "#bd3786"
             ],
             [
              0.5555555555555556,
              "#d8576b"
             ],
             [
              0.6666666666666666,
              "#ed7953"
             ],
             [
              0.7777777777777778,
              "#fb9f3a"
             ],
             [
              0.8888888888888888,
              "#fdca26"
             ],
             [
              1,
              "#f0f921"
             ]
            ],
            "type": "histogram2d"
           }
          ],
          "histogram2dcontour": [
           {
            "colorbar": {
             "outlinewidth": 0,
             "ticks": ""
            },
            "colorscale": [
             [
              0,
              "#0d0887"
             ],
             [
              0.1111111111111111,
              "#46039f"
             ],
             [
              0.2222222222222222,
              "#7201a8"
             ],
             [
              0.3333333333333333,
              "#9c179e"
             ],
             [
              0.4444444444444444,
              "#bd3786"
             ],
             [
              0.5555555555555556,
              "#d8576b"
             ],
             [
              0.6666666666666666,
              "#ed7953"
             ],
             [
              0.7777777777777778,
              "#fb9f3a"
             ],
             [
              0.8888888888888888,
              "#fdca26"
             ],
             [
              1,
              "#f0f921"
             ]
            ],
            "type": "histogram2dcontour"
           }
          ],
          "mesh3d": [
           {
            "colorbar": {
             "outlinewidth": 0,
             "ticks": ""
            },
            "type": "mesh3d"
           }
          ],
          "parcoords": [
           {
            "line": {
             "colorbar": {
              "outlinewidth": 0,
              "ticks": ""
             }
            },
            "type": "parcoords"
           }
          ],
          "pie": [
           {
            "automargin": true,
            "type": "pie"
           }
          ],
          "scatter": [
           {
            "marker": {
             "colorbar": {
              "outlinewidth": 0,
              "ticks": ""
             }
            },
            "type": "scatter"
           }
          ],
          "scatter3d": [
           {
            "line": {
             "colorbar": {
              "outlinewidth": 0,
              "ticks": ""
             }
            },
            "marker": {
             "colorbar": {
              "outlinewidth": 0,
              "ticks": ""
             }
            },
            "type": "scatter3d"
           }
          ],
          "scattercarpet": [
           {
            "marker": {
             "colorbar": {
              "outlinewidth": 0,
              "ticks": ""
             }
            },
            "type": "scattercarpet"
           }
          ],
          "scattergeo": [
           {
            "marker": {
             "colorbar": {
              "outlinewidth": 0,
              "ticks": ""
             }
            },
            "type": "scattergeo"
           }
          ],
          "scattergl": [
           {
            "marker": {
             "colorbar": {
              "outlinewidth": 0,
              "ticks": ""
             }
            },
            "type": "scattergl"
           }
          ],
          "scattermapbox": [
           {
            "marker": {
             "colorbar": {
              "outlinewidth": 0,
              "ticks": ""
             }
            },
            "type": "scattermapbox"
           }
          ],
          "scatterpolar": [
           {
            "marker": {
             "colorbar": {
              "outlinewidth": 0,
              "ticks": ""
             }
            },
            "type": "scatterpolar"
           }
          ],
          "scatterpolargl": [
           {
            "marker": {
             "colorbar": {
              "outlinewidth": 0,
              "ticks": ""
             }
            },
            "type": "scatterpolargl"
           }
          ],
          "scatterternary": [
           {
            "marker": {
             "colorbar": {
              "outlinewidth": 0,
              "ticks": ""
             }
            },
            "type": "scatterternary"
           }
          ],
          "surface": [
           {
            "colorbar": {
             "outlinewidth": 0,
             "ticks": ""
            },
            "colorscale": [
             [
              0,
              "#0d0887"
             ],
             [
              0.1111111111111111,
              "#46039f"
             ],
             [
              0.2222222222222222,
              "#7201a8"
             ],
             [
              0.3333333333333333,
              "#9c179e"
             ],
             [
              0.4444444444444444,
              "#bd3786"
             ],
             [
              0.5555555555555556,
              "#d8576b"
             ],
             [
              0.6666666666666666,
              "#ed7953"
             ],
             [
              0.7777777777777778,
              "#fb9f3a"
             ],
             [
              0.8888888888888888,
              "#fdca26"
             ],
             [
              1,
              "#f0f921"
             ]
            ],
            "type": "surface"
           }
          ],
          "table": [
           {
            "cells": {
             "fill": {
              "color": "#EBF0F8"
             },
             "line": {
              "color": "white"
             }
            },
            "header": {
             "fill": {
              "color": "#C8D4E3"
             },
             "line": {
              "color": "white"
             }
            },
            "type": "table"
           }
          ]
         },
         "layout": {
          "annotationdefaults": {
           "arrowcolor": "#2a3f5f",
           "arrowhead": 0,
           "arrowwidth": 1
          },
          "coloraxis": {
           "colorbar": {
            "outlinewidth": 0,
            "ticks": ""
           }
          },
          "colorscale": {
           "diverging": [
            [
             0,
             "#8e0152"
            ],
            [
             0.1,
             "#c51b7d"
            ],
            [
             0.2,
             "#de77ae"
            ],
            [
             0.3,
             "#f1b6da"
            ],
            [
             0.4,
             "#fde0ef"
            ],
            [
             0.5,
             "#f7f7f7"
            ],
            [
             0.6,
             "#e6f5d0"
            ],
            [
             0.7,
             "#b8e186"
            ],
            [
             0.8,
             "#7fbc41"
            ],
            [
             0.9,
             "#4d9221"
            ],
            [
             1,
             "#276419"
            ]
           ],
           "sequential": [
            [
             0,
             "#0d0887"
            ],
            [
             0.1111111111111111,
             "#46039f"
            ],
            [
             0.2222222222222222,
             "#7201a8"
            ],
            [
             0.3333333333333333,
             "#9c179e"
            ],
            [
             0.4444444444444444,
             "#bd3786"
            ],
            [
             0.5555555555555556,
             "#d8576b"
            ],
            [
             0.6666666666666666,
             "#ed7953"
            ],
            [
             0.7777777777777778,
             "#fb9f3a"
            ],
            [
             0.8888888888888888,
             "#fdca26"
            ],
            [
             1,
             "#f0f921"
            ]
           ],
           "sequentialminus": [
            [
             0,
             "#0d0887"
            ],
            [
             0.1111111111111111,
             "#46039f"
            ],
            [
             0.2222222222222222,
             "#7201a8"
            ],
            [
             0.3333333333333333,
             "#9c179e"
            ],
            [
             0.4444444444444444,
             "#bd3786"
            ],
            [
             0.5555555555555556,
             "#d8576b"
            ],
            [
             0.6666666666666666,
             "#ed7953"
            ],
            [
             0.7777777777777778,
             "#fb9f3a"
            ],
            [
             0.8888888888888888,
             "#fdca26"
            ],
            [
             1,
             "#f0f921"
            ]
           ]
          },
          "colorway": [
           "#636efa",
           "#EF553B",
           "#00cc96",
           "#ab63fa",
           "#FFA15A",
           "#19d3f3",
           "#FF6692",
           "#B6E880",
           "#FF97FF",
           "#FECB52"
          ],
          "font": {
           "color": "#2a3f5f"
          },
          "geo": {
           "bgcolor": "white",
           "lakecolor": "white",
           "landcolor": "#E5ECF6",
           "showlakes": true,
           "showland": true,
           "subunitcolor": "white"
          },
          "hoverlabel": {
           "align": "left"
          },
          "hovermode": "closest",
          "mapbox": {
           "style": "light"
          },
          "paper_bgcolor": "white",
          "plot_bgcolor": "#E5ECF6",
          "polar": {
           "angularaxis": {
            "gridcolor": "white",
            "linecolor": "white",
            "ticks": ""
           },
           "bgcolor": "#E5ECF6",
           "radialaxis": {
            "gridcolor": "white",
            "linecolor": "white",
            "ticks": ""
           }
          },
          "scene": {
           "xaxis": {
            "backgroundcolor": "#E5ECF6",
            "gridcolor": "white",
            "gridwidth": 2,
            "linecolor": "white",
            "showbackground": true,
            "ticks": "",
            "zerolinecolor": "white"
           },
           "yaxis": {
            "backgroundcolor": "#E5ECF6",
            "gridcolor": "white",
            "gridwidth": 2,
            "linecolor": "white",
            "showbackground": true,
            "ticks": "",
            "zerolinecolor": "white"
           },
           "zaxis": {
            "backgroundcolor": "#E5ECF6",
            "gridcolor": "white",
            "gridwidth": 2,
            "linecolor": "white",
            "showbackground": true,
            "ticks": "",
            "zerolinecolor": "white"
           }
          },
          "shapedefaults": {
           "line": {
            "color": "#2a3f5f"
           }
          },
          "ternary": {
           "aaxis": {
            "gridcolor": "white",
            "linecolor": "white",
            "ticks": ""
           },
           "baxis": {
            "gridcolor": "white",
            "linecolor": "white",
            "ticks": ""
           },
           "bgcolor": "#E5ECF6",
           "caxis": {
            "gridcolor": "white",
            "linecolor": "white",
            "ticks": ""
           }
          },
          "title": {
           "x": 0.05
          },
          "xaxis": {
           "automargin": true,
           "gridcolor": "white",
           "linecolor": "white",
           "ticks": "",
           "title": {
            "standoff": 15
           },
           "zerolinecolor": "white",
           "zerolinewidth": 2
          },
          "yaxis": {
           "automargin": true,
           "gridcolor": "white",
           "linecolor": "white",
           "ticks": "",
           "title": {
            "standoff": 15
           },
           "zerolinecolor": "white",
           "zerolinewidth": 2
          }
         }
        },
        "title": {
         "text": "Issue Types - Original and Models"
        },
        "yaxis": {
         "title": {
          "text": "Number of Issues"
         }
        }
       }
      },
      "text/html": [
       "<div>                            <div id=\"718316c8-9280-4672-b01a-66fd9b2c3a8f\" class=\"plotly-graph-div\" style=\"height:525px; width:100%;\"></div>            <script type=\"text/javascript\">                require([\"plotly\"], function(Plotly) {                    window.PLOTLYENV=window.PLOTLYENV || {};                                    if (document.getElementById(\"718316c8-9280-4672-b01a-66fd9b2c3a8f\")) {                    Plotly.newPlot(                        \"718316c8-9280-4672-b01a-66fd9b2c3a8f\",                        [{\"name\": \"Original\", \"offsetgroup\": \"1\", \"type\": \"bar\", \"x\": [\"feature\", \"question\", \"bug\", \"documentation\", \"maintenance\"], \"y\": [15, 23, 32, 10, 23]}, {\"name\": \"Model 1\", \"offsetgroup\": \"1\", \"type\": \"bar\", \"x\": [\"feature\", \"question\", \"bug\", \"documentation\", \"maintenance\"], \"y\": [4, 8, 18, 6, 0]}, {\"base\": [4, 8, 18, 6, 0], \"name\": \"Model 2\", \"offsetgroup\": \"2\", \"type\": \"bar\", \"x\": [\"feature\", \"question\", \"bug\", \"documentation\", \"maintenance\"], \"y\": [11, 18, 18, 0, 20]}],                        {\"template\": {\"data\": {\"bar\": [{\"error_x\": {\"color\": \"#2a3f5f\"}, \"error_y\": {\"color\": \"#2a3f5f\"}, \"marker\": {\"line\": {\"color\": \"#E5ECF6\", \"width\": 0.5}}, \"type\": \"bar\"}], \"barpolar\": [{\"marker\": {\"line\": {\"color\": \"#E5ECF6\", \"width\": 0.5}}, \"type\": \"barpolar\"}], \"carpet\": [{\"aaxis\": {\"endlinecolor\": \"#2a3f5f\", \"gridcolor\": \"white\", \"linecolor\": \"white\", \"minorgridcolor\": \"white\", \"startlinecolor\": \"#2a3f5f\"}, \"baxis\": {\"endlinecolor\": \"#2a3f5f\", \"gridcolor\": \"white\", \"linecolor\": \"white\", \"minorgridcolor\": \"white\", \"startlinecolor\": \"#2a3f5f\"}, \"type\": \"carpet\"}], \"choropleth\": [{\"colorbar\": {\"outlinewidth\": 0, \"ticks\": \"\"}, \"type\": \"choropleth\"}], \"contour\": [{\"colorbar\": {\"outlinewidth\": 0, \"ticks\": \"\"}, \"colorscale\": [[0.0, \"#0d0887\"], [0.1111111111111111, \"#46039f\"], [0.2222222222222222, \"#7201a8\"], [0.3333333333333333, \"#9c179e\"], [0.4444444444444444, \"#bd3786\"], [0.5555555555555556, \"#d8576b\"], [0.6666666666666666, \"#ed7953\"], [0.7777777777777778, \"#fb9f3a\"], [0.8888888888888888, \"#fdca26\"], [1.0, \"#f0f921\"]], \"type\": \"contour\"}], \"contourcarpet\": [{\"colorbar\": {\"outlinewidth\": 0, \"ticks\": \"\"}, \"type\": \"contourcarpet\"}], \"heatmap\": [{\"colorbar\": {\"outlinewidth\": 0, \"ticks\": \"\"}, \"colorscale\": [[0.0, \"#0d0887\"], [0.1111111111111111, \"#46039f\"], [0.2222222222222222, \"#7201a8\"], [0.3333333333333333, \"#9c179e\"], [0.4444444444444444, \"#bd3786\"], [0.5555555555555556, \"#d8576b\"], [0.6666666666666666, \"#ed7953\"], [0.7777777777777778, \"#fb9f3a\"], [0.8888888888888888, \"#fdca26\"], [1.0, \"#f0f921\"]], \"type\": \"heatmap\"}], \"heatmapgl\": [{\"colorbar\": {\"outlinewidth\": 0, \"ticks\": \"\"}, \"colorscale\": [[0.0, \"#0d0887\"], [0.1111111111111111, \"#46039f\"], [0.2222222222222222, \"#7201a8\"], [0.3333333333333333, \"#9c179e\"], [0.4444444444444444, \"#bd3786\"], [0.5555555555555556, \"#d8576b\"], [0.6666666666666666, \"#ed7953\"], [0.7777777777777778, \"#fb9f3a\"], [0.8888888888888888, \"#fdca26\"], [1.0, \"#f0f921\"]], \"type\": \"heatmapgl\"}], \"histogram\": [{\"marker\": {\"colorbar\": {\"outlinewidth\": 0, \"ticks\": \"\"}}, \"type\": \"histogram\"}], \"histogram2d\": [{\"colorbar\": {\"outlinewidth\": 0, \"ticks\": \"\"}, \"colorscale\": [[0.0, \"#0d0887\"], [0.1111111111111111, \"#46039f\"], [0.2222222222222222, \"#7201a8\"], [0.3333333333333333, \"#9c179e\"], [0.4444444444444444, \"#bd3786\"], [0.5555555555555556, \"#d8576b\"], [0.6666666666666666, \"#ed7953\"], [0.7777777777777778, \"#fb9f3a\"], [0.8888888888888888, \"#fdca26\"], [1.0, \"#f0f921\"]], \"type\": \"histogram2d\"}], \"histogram2dcontour\": [{\"colorbar\": {\"outlinewidth\": 0, \"ticks\": \"\"}, \"colorscale\": [[0.0, \"#0d0887\"], [0.1111111111111111, \"#46039f\"], [0.2222222222222222, \"#7201a8\"], [0.3333333333333333, \"#9c179e\"], [0.4444444444444444, \"#bd3786\"], [0.5555555555555556, \"#d8576b\"], [0.6666666666666666, \"#ed7953\"], [0.7777777777777778, \"#fb9f3a\"], [0.8888888888888888, \"#fdca26\"], [1.0, \"#f0f921\"]], \"type\": \"histogram2dcontour\"}], \"mesh3d\": [{\"colorbar\": {\"outlinewidth\": 0, \"ticks\": \"\"}, \"type\": \"mesh3d\"}], \"parcoords\": [{\"line\": {\"colorbar\": {\"outlinewidth\": 0, \"ticks\": \"\"}}, \"type\": \"parcoords\"}], \"pie\": [{\"automargin\": true, \"type\": \"pie\"}], \"scatter\": [{\"marker\": {\"colorbar\": {\"outlinewidth\": 0, \"ticks\": \"\"}}, \"type\": \"scatter\"}], \"scatter3d\": [{\"line\": {\"colorbar\": {\"outlinewidth\": 0, \"ticks\": \"\"}}, \"marker\": {\"colorbar\": {\"outlinewidth\": 0, \"ticks\": \"\"}}, \"type\": \"scatter3d\"}], \"scattercarpet\": [{\"marker\": {\"colorbar\": {\"outlinewidth\": 0, \"ticks\": \"\"}}, \"type\": \"scattercarpet\"}], \"scattergeo\": [{\"marker\": {\"colorbar\": {\"outlinewidth\": 0, \"ticks\": \"\"}}, \"type\": \"scattergeo\"}], \"scattergl\": [{\"marker\": {\"colorbar\": {\"outlinewidth\": 0, \"ticks\": \"\"}}, \"type\": \"scattergl\"}], \"scattermapbox\": [{\"marker\": {\"colorbar\": {\"outlinewidth\": 0, \"ticks\": \"\"}}, \"type\": \"scattermapbox\"}], \"scatterpolar\": [{\"marker\": {\"colorbar\": {\"outlinewidth\": 0, \"ticks\": \"\"}}, \"type\": \"scatterpolar\"}], \"scatterpolargl\": [{\"marker\": {\"colorbar\": {\"outlinewidth\": 0, \"ticks\": \"\"}}, \"type\": \"scatterpolargl\"}], \"scatterternary\": [{\"marker\": {\"colorbar\": {\"outlinewidth\": 0, \"ticks\": \"\"}}, \"type\": \"scatterternary\"}], \"surface\": [{\"colorbar\": {\"outlinewidth\": 0, \"ticks\": \"\"}, \"colorscale\": [[0.0, \"#0d0887\"], [0.1111111111111111, \"#46039f\"], [0.2222222222222222, \"#7201a8\"], [0.3333333333333333, \"#9c179e\"], [0.4444444444444444, \"#bd3786\"], [0.5555555555555556, \"#d8576b\"], [0.6666666666666666, \"#ed7953\"], [0.7777777777777778, \"#fb9f3a\"], [0.8888888888888888, \"#fdca26\"], [1.0, \"#f0f921\"]], \"type\": \"surface\"}], \"table\": [{\"cells\": {\"fill\": {\"color\": \"#EBF0F8\"}, \"line\": {\"color\": \"white\"}}, \"header\": {\"fill\": {\"color\": \"#C8D4E3\"}, \"line\": {\"color\": \"white\"}}, \"type\": \"table\"}]}, \"layout\": {\"annotationdefaults\": {\"arrowcolor\": \"#2a3f5f\", \"arrowhead\": 0, \"arrowwidth\": 1}, \"coloraxis\": {\"colorbar\": {\"outlinewidth\": 0, \"ticks\": \"\"}}, \"colorscale\": {\"diverging\": [[0, \"#8e0152\"], [0.1, \"#c51b7d\"], [0.2, \"#de77ae\"], [0.3, \"#f1b6da\"], [0.4, \"#fde0ef\"], [0.5, \"#f7f7f7\"], [0.6, \"#e6f5d0\"], [0.7, \"#b8e186\"], [0.8, \"#7fbc41\"], [0.9, \"#4d9221\"], [1, \"#276419\"]], \"sequential\": [[0.0, \"#0d0887\"], [0.1111111111111111, \"#46039f\"], [0.2222222222222222, \"#7201a8\"], [0.3333333333333333, \"#9c179e\"], [0.4444444444444444, \"#bd3786\"], [0.5555555555555556, \"#d8576b\"], [0.6666666666666666, \"#ed7953\"], [0.7777777777777778, \"#fb9f3a\"], [0.8888888888888888, \"#fdca26\"], [1.0, \"#f0f921\"]], \"sequentialminus\": [[0.0, \"#0d0887\"], [0.1111111111111111, \"#46039f\"], [0.2222222222222222, \"#7201a8\"], [0.3333333333333333, \"#9c179e\"], [0.4444444444444444, \"#bd3786\"], [0.5555555555555556, \"#d8576b\"], [0.6666666666666666, \"#ed7953\"], [0.7777777777777778, \"#fb9f3a\"], [0.8888888888888888, \"#fdca26\"], [1.0, \"#f0f921\"]]}, \"colorway\": [\"#636efa\", \"#EF553B\", \"#00cc96\", \"#ab63fa\", \"#FFA15A\", \"#19d3f3\", \"#FF6692\", \"#B6E880\", \"#FF97FF\", \"#FECB52\"], \"font\": {\"color\": \"#2a3f5f\"}, \"geo\": {\"bgcolor\": \"white\", \"lakecolor\": \"white\", \"landcolor\": \"#E5ECF6\", \"showlakes\": true, \"showland\": true, \"subunitcolor\": \"white\"}, \"hoverlabel\": {\"align\": \"left\"}, \"hovermode\": \"closest\", \"mapbox\": {\"style\": \"light\"}, \"paper_bgcolor\": \"white\", \"plot_bgcolor\": \"#E5ECF6\", \"polar\": {\"angularaxis\": {\"gridcolor\": \"white\", \"linecolor\": \"white\", \"ticks\": \"\"}, \"bgcolor\": \"#E5ECF6\", \"radialaxis\": {\"gridcolor\": \"white\", \"linecolor\": \"white\", \"ticks\": \"\"}}, \"scene\": {\"xaxis\": {\"backgroundcolor\": \"#E5ECF6\", \"gridcolor\": \"white\", \"gridwidth\": 2, \"linecolor\": \"white\", \"showbackground\": true, \"ticks\": \"\", \"zerolinecolor\": \"white\"}, \"yaxis\": {\"backgroundcolor\": \"#E5ECF6\", \"gridcolor\": \"white\", \"gridwidth\": 2, \"linecolor\": \"white\", \"showbackground\": true, \"ticks\": \"\", \"zerolinecolor\": \"white\"}, \"zaxis\": {\"backgroundcolor\": \"#E5ECF6\", \"gridcolor\": \"white\", \"gridwidth\": 2, \"linecolor\": \"white\", \"showbackground\": true, \"ticks\": \"\", \"zerolinecolor\": \"white\"}}, \"shapedefaults\": {\"line\": {\"color\": \"#2a3f5f\"}}, \"ternary\": {\"aaxis\": {\"gridcolor\": \"white\", \"linecolor\": \"white\", \"ticks\": \"\"}, \"baxis\": {\"gridcolor\": \"white\", \"linecolor\": \"white\", \"ticks\": \"\"}, \"bgcolor\": \"#E5ECF6\", \"caxis\": {\"gridcolor\": \"white\", \"linecolor\": \"white\", \"ticks\": \"\"}}, \"title\": {\"x\": 0.05}, \"xaxis\": {\"automargin\": true, \"gridcolor\": \"white\", \"linecolor\": \"white\", \"ticks\": \"\", \"title\": {\"standoff\": 15}, \"zerolinecolor\": \"white\", \"zerolinewidth\": 2}, \"yaxis\": {\"automargin\": true, \"gridcolor\": \"white\", \"linecolor\": \"white\", \"ticks\": \"\", \"title\": {\"standoff\": 15}, \"zerolinecolor\": \"white\", \"zerolinewidth\": 2}}}, \"title\": {\"text\": \"Issue Types - Original and Models\"}, \"yaxis\": {\"title\": {\"text\": \"Number of Issues\"}}},                        {\"responsive\": true}                    ).then(function(){\n",
       "                            \n",
       "var gd = document.getElementById('718316c8-9280-4672-b01a-66fd9b2c3a8f');\n",
       "var x = new MutationObserver(function (mutations, observer) {{\n",
       "        var display = window.getComputedStyle(gd).display;\n",
       "        if (!display || display === 'none') {{\n",
       "            console.log([gd, 'removed!']);\n",
       "            Plotly.purge(gd);\n",
       "            observer.disconnect();\n",
       "        }}\n",
       "}});\n",
       "\n",
       "// Listen for the removal of the full notebook cells\n",
       "var notebookContainer = gd.closest('#notebook-container');\n",
       "if (notebookContainer) {{\n",
       "    x.observe(notebookContainer, {childList: true});\n",
       "}}\n",
       "\n",
       "// Listen for the clearing of the current output cell\n",
       "var outputEl = gd.closest('.output');\n",
       "if (outputEl) {{\n",
       "    x.observe(outputEl, {childList: true});\n",
       "}}\n",
       "\n",
       "                        })                };                });            </script>        </div>"
      ]
     },
     "metadata": {},
     "output_type": "display_data"
    }
   ],
   "source": [
    "from plotly import graph_objects as go\n",
    "\n",
    "data = {\n",
    "    \"original\":[15, 23, 32, 10, 23],\n",
    "    \"model_1\": [4,   8, 18,  6,  0],\n",
    "    \"model_2\": [11, 18, 18,  0,  20],\n",
    "    \"labels\": [\n",
    "        \"feature\",\n",
    "        \"question\",\n",
    "        \"bug\",\n",
    "        \"documentation\",\n",
    "        \"maintenance\"\n",
    "    ]\n",
    "}\n",
    "\n",
    "fig = go.Figure(\n",
    "    data=[\n",
    "        go.Bar(\n",
    "            name=\"Original\",\n",
    "            x=data[\"labels\"],\n",
    "            y=data[\"original\"],\n",
    "            offsetgroup='1',\n",
    "        ),\n",
    "        go.Bar(\n",
    "            name=\"Model 1\",\n",
    "            x=data[\"labels\"],\n",
    "            y=data[\"model_1\"],\n",
    "            offsetgroup='1',\n",
    "        ),\n",
    "        go.Bar(\n",
    "            name=\"Model 2\",\n",
    "            x=data[\"labels\"],\n",
    "            y=data[\"model_2\"],\n",
    "            offsetgroup='2',\n",
    "            base=data[\"model_1\"],\n",
    "        )\n",
    "    ],\n",
    "    \n",
    "    layout=go.Layout(\n",
    "        title=\"Issue Types - Original and Models\",\n",
    "        yaxis_title=\"Number of Issues\"\n",
    "    )\n",
    ")\n",
    "\n",
    "fig.show()"
   ]
  },
  {
   "cell_type": "code",
   "execution_count": 171,
   "metadata": {},
   "outputs": [
    {
     "data": {
      "application/vnd.plotly.v1+json": {
       "config": {
        "plotlyServerURL": "https://plot.ly"
       },
       "data": [
        {
         "alignmentgroup": "True",
         "customdata": [
          [
           "Men"
          ],
          [
           "Men"
          ],
          [
           "Men"
          ],
          [
           "Men"
          ],
          [
           "Men"
          ],
          [
           "Men"
          ],
          [
           "Men"
          ],
          [
           "Men"
          ],
          [
           "Men"
          ],
          [
           "Men"
          ],
          [
           "Women"
          ],
          [
           "Men"
          ],
          [
           "Women"
          ],
          [
           "Men"
          ],
          [
           "Women"
          ],
          [
           "Men"
          ],
          [
           "Women"
          ],
          [
           "Men"
          ],
          [
           "Women"
          ],
          [
           "Men"
          ],
          [
           "Women"
          ],
          [
           "Men"
          ],
          [
           "Women"
          ],
          [
           "Women"
          ],
          [
           "Women"
          ],
          [
           "Men"
          ],
          [
           "Women"
          ],
          [
           "Men"
          ],
          [
           "Women"
          ],
          [
           "Men"
          ],
          [
           "Women"
          ],
          [
           "Men"
          ],
          [
           "Women"
          ],
          [
           "Men"
          ],
          [
           "Women"
          ],
          [
           "Men"
          ],
          [
           "Women"
          ],
          [
           "Women"
          ],
          [
           "Women"
          ],
          [
           "Women"
          ],
          [
           "Women"
          ],
          [
           "Women"
          ],
          [
           "Women"
          ],
          [
           "Women"
          ]
         ],
         "hovertemplate": "Sport=Biathlon<br>Year=%{x}<br>Number_Medals=%{y}<br>Gender=%{customdata[0]}<extra></extra>",
         "legendgroup": "Biathlon",
         "marker": {
          "color": "#636efa"
         },
         "name": "Biathlon",
         "offsetgroup": "Biathlon",
         "orientation": "v",
         "showlegend": true,
         "textposition": "auto",
         "type": "bar",
         "x": [
          1924,
          1960,
          1964,
          1968,
          1972,
          1976,
          1980,
          1984,
          1988,
          1992,
          1992,
          1994,
          1994,
          1998,
          1998,
          2002,
          2002,
          2006,
          2006,
          2010,
          2010,
          2014,
          2014,
          1924,
          1928,
          1928,
          1932,
          1932,
          1936,
          1936,
          1948,
          1948,
          1952,
          1952,
          1956,
          1956,
          1960,
          1964,
          1968,
          1972,
          1976,
          1980,
          1984,
          1988
         ],
         "xaxis": "x",
         "y": [
          12,
          3,
          3,
          15,
          15,
          15,
          18,
          18,
          18,
          18,
          15,
          18,
          18,
          18,
          18,
          21,
          21,
          24,
          24,
          24,
          24,
          30,
          30,
          0,
          0,
          0,
          0,
          0,
          0,
          0,
          0,
          0,
          0,
          0,
          0,
          0,
          0,
          0,
          0,
          0,
          0,
          0,
          0,
          0
         ],
         "yaxis": "y"
        },
        {
         "alignmentgroup": "True",
         "customdata": [
          [
           "Men"
          ],
          [
           "Men"
          ],
          [
           "Men"
          ],
          [
           "Men"
          ],
          [
           "Men"
          ],
          [
           "Men"
          ],
          [
           "Men"
          ],
          [
           "Men"
          ],
          [
           "Men"
          ],
          [
           "Men"
          ],
          [
           "Men"
          ],
          [
           "Men"
          ],
          [
           "Men"
          ],
          [
           "Men"
          ],
          [
           "Men"
          ],
          [
           "Men"
          ],
          [
           "Men"
          ],
          [
           "Men"
          ],
          [
           "Women"
          ],
          [
           "Men"
          ],
          [
           "Women"
          ],
          [
           "Men"
          ],
          [
           "Women"
          ],
          [
           "Men"
          ],
          [
           "Women"
          ],
          [
           "Women"
          ],
          [
           "Women"
          ],
          [
           "Women"
          ],
          [
           "Women"
          ],
          [
           "Women"
          ],
          [
           "Women"
          ],
          [
           "Women"
          ],
          [
           "Women"
          ],
          [
           "Men"
          ],
          [
           "Women"
          ],
          [
           "Women"
          ],
          [
           "Women"
          ],
          [
           "Women"
          ],
          [
           "Women"
          ],
          [
           "Women"
          ],
          [
           "Women"
          ],
          [
           "Women"
          ],
          [
           "Women"
          ],
          [
           "Women"
          ]
         ],
         "hovertemplate": "Sport=Bobsleigh<br>Year=%{x}<br>Number_Medals=%{y}<br>Gender=%{customdata[0]}<extra></extra>",
         "legendgroup": "Bobsleigh",
         "marker": {
          "color": "#EF553B"
         },
         "name": "Bobsleigh",
         "offsetgroup": "Bobsleigh",
         "orientation": "v",
         "showlegend": true,
         "textposition": "auto",
         "type": "bar",
         "x": [
          1924,
          1928,
          1932,
          1936,
          1948,
          1952,
          1956,
          1964,
          1968,
          1972,
          1976,
          1980,
          1984,
          1988,
          1992,
          1994,
          1998,
          2002,
          2002,
          2006,
          2006,
          2010,
          2010,
          2014,
          2014,
          1924,
          1928,
          1932,
          1936,
          1948,
          1952,
          1956,
          1960,
          1960,
          1964,
          1968,
          1972,
          1976,
          1980,
          1984,
          1988,
          1992,
          1994,
          1998
         ],
         "xaxis": "x",
         "y": [
          13,
          18,
          42,
          18,
          21,
          18,
          18,
          18,
          18,
          18,
          18,
          18,
          18,
          18,
          18,
          18,
          22,
          21,
          9,
          21,
          9,
          21,
          9,
          21,
          9,
          0,
          0,
          0,
          0,
          0,
          0,
          0,
          0,
          0,
          0,
          0,
          0,
          0,
          0,
          0,
          0,
          0,
          0,
          0
         ],
         "yaxis": "y"
        },
        {
         "alignmentgroup": "True",
         "customdata": [
          [
           "Men"
          ],
          [
           "Men"
          ],
          [
           "Women"
          ],
          [
           "Men"
          ],
          [
           "Women"
          ],
          [
           "Men"
          ],
          [
           "Women"
          ],
          [
           "Men"
          ],
          [
           "Women"
          ],
          [
           "Men"
          ],
          [
           "Women"
          ],
          [
           "Women"
          ],
          [
           "Women"
          ],
          [
           "Men"
          ],
          [
           "Women"
          ],
          [
           "Men"
          ],
          [
           "Women"
          ],
          [
           "Men"
          ],
          [
           "Women"
          ],
          [
           "Men"
          ],
          [
           "Women"
          ],
          [
           "Men"
          ],
          [
           "Women"
          ],
          [
           "Men"
          ],
          [
           "Women"
          ],
          [
           "Men"
          ],
          [
           "Women"
          ],
          [
           "Men"
          ],
          [
           "Women"
          ],
          [
           "Men"
          ],
          [
           "Women"
          ],
          [
           "Men"
          ],
          [
           "Women"
          ],
          [
           "Men"
          ],
          [
           "Women"
          ],
          [
           "Men"
          ],
          [
           "Women"
          ],
          [
           "Men"
          ],
          [
           "Women"
          ],
          [
           "Men"
          ],
          [
           "Women"
          ],
          [
           "Men"
          ],
          [
           "Women"
          ],
          [
           "Men"
          ]
         ],
         "hovertemplate": "Sport=Curling<br>Year=%{x}<br>Number_Medals=%{y}<br>Gender=%{customdata[0]}<extra></extra>",
         "legendgroup": "Curling",
         "marker": {
          "color": "#00cc96"
         },
         "name": "Curling",
         "offsetgroup": "Curling",
         "orientation": "v",
         "showlegend": true,
         "textposition": "auto",
         "type": "bar",
         "x": [
          1924,
          1998,
          1998,
          2002,
          2002,
          2006,
          2006,
          2010,
          2010,
          2014,
          2014,
          1924,
          1928,
          1928,
          1932,
          1932,
          1936,
          1936,
          1948,
          1948,
          1952,
          1952,
          1956,
          1956,
          1960,
          1960,
          1964,
          1964,
          1968,
          1968,
          1972,
          1972,
          1976,
          1976,
          1980,
          1980,
          1984,
          1984,
          1988,
          1988,
          1992,
          1992,
          1994,
          1994
         ],
         "xaxis": "x",
         "y": [
          22,
          15,
          15,
          15,
          15,
          15,
          15,
          15,
          15,
          15,
          15,
          0,
          0,
          0,
          0,
          0,
          0,
          0,
          0,
          0,
          0,
          0,
          0,
          0,
          0,
          0,
          0,
          0,
          0,
          0,
          0,
          0,
          0,
          0,
          0,
          0,
          0,
          0,
          0,
          0,
          0,
          0,
          0,
          0
         ],
         "yaxis": "y"
        },
        {
         "alignmentgroup": "True",
         "customdata": [
          [
           "Men"
          ],
          [
           "Men"
          ],
          [
           "Men"
          ],
          [
           "Men"
          ],
          [
           "Men"
          ],
          [
           "Men"
          ],
          [
           "Men"
          ],
          [
           "Men"
          ],
          [
           "Men"
          ],
          [
           "Men"
          ],
          [
           "Men"
          ],
          [
           "Men"
          ],
          [
           "Men"
          ],
          [
           "Men"
          ],
          [
           "Men"
          ],
          [
           "Men"
          ],
          [
           "Men"
          ],
          [
           "Men"
          ],
          [
           "Women"
          ],
          [
           "Men"
          ],
          [
           "Women"
          ],
          [
           "Men"
          ],
          [
           "Women"
          ],
          [
           "Men"
          ],
          [
           "Women"
          ],
          [
           "Men"
          ],
          [
           "Women"
          ],
          [
           "Women"
          ],
          [
           "Women"
          ],
          [
           "Women"
          ],
          [
           "Women"
          ],
          [
           "Women"
          ],
          [
           "Women"
          ],
          [
           "Women"
          ],
          [
           "Women"
          ],
          [
           "Women"
          ],
          [
           "Women"
          ],
          [
           "Women"
          ],
          [
           "Women"
          ],
          [
           "Women"
          ],
          [
           "Women"
          ],
          [
           "Women"
          ],
          [
           "Women"
          ],
          [
           "Women"
          ]
         ],
         "hovertemplate": "Sport=Ice Hockey<br>Year=%{x}<br>Number_Medals=%{y}<br>Gender=%{customdata[0]}<extra></extra>",
         "legendgroup": "Ice Hockey",
         "marker": {
          "color": "#ab63fa"
         },
         "name": "Ice Hockey",
         "offsetgroup": "Ice Hockey",
         "orientation": "v",
         "showlegend": true,
         "textposition": "auto",
         "type": "bar",
         "x": [
          1924,
          1928,
          1932,
          1936,
          1948,
          1952,
          1956,
          1960,
          1964,
          1968,
          1972,
          1976,
          1980,
          1984,
          1988,
          1992,
          1994,
          1998,
          1998,
          2002,
          2002,
          2006,
          2006,
          2010,
          2010,
          2014,
          2014,
          1924,
          1928,
          1932,
          1936,
          1948,
          1952,
          1956,
          1960,
          1964,
          1968,
          1972,
          1976,
          1980,
          1984,
          1988,
          1992,
          1994
         ],
         "xaxis": "x",
         "y": [
          31,
          36,
          38,
          36,
          51,
          48,
          51,
          51,
          50,
          54,
          56,
          54,
          58,
          60,
          66,
          69,
          68,
          68,
          60,
          69,
          60,
          73,
          59,
          69,
          63,
          75,
          63,
          0,
          0,
          0,
          0,
          0,
          0,
          0,
          0,
          0,
          0,
          0,
          0,
          0,
          0,
          0,
          0,
          0
         ],
         "yaxis": "y"
        },
        {
         "alignmentgroup": "True",
         "customdata": [
          [
           "Men"
          ],
          [
           "Women"
          ],
          [
           "Men"
          ],
          [
           "Women"
          ],
          [
           "Men"
          ],
          [
           "Women"
          ],
          [
           "Men"
          ],
          [
           "Women"
          ],
          [
           "Men"
          ],
          [
           "Women"
          ],
          [
           "Men"
          ],
          [
           "Women"
          ],
          [
           "Men"
          ],
          [
           "Women"
          ],
          [
           "Men"
          ],
          [
           "Women"
          ],
          [
           "Men"
          ],
          [
           "Women"
          ],
          [
           "Men"
          ],
          [
           "Women"
          ],
          [
           "Men"
          ],
          [
           "Women"
          ],
          [
           "Men"
          ],
          [
           "Women"
          ],
          [
           "Men"
          ],
          [
           "Women"
          ],
          [
           "Men"
          ],
          [
           "Women"
          ],
          [
           "Men"
          ],
          [
           "Women"
          ],
          [
           "Men"
          ],
          [
           "Women"
          ],
          [
           "Men"
          ],
          [
           "Women"
          ],
          [
           "Men"
          ],
          [
           "Women"
          ],
          [
           "Men"
          ],
          [
           "Women"
          ],
          [
           "Men"
          ],
          [
           "Women"
          ],
          [
           "Men"
          ],
          [
           "Women"
          ],
          [
           "Men"
          ],
          [
           "Women"
          ]
         ],
         "hovertemplate": "Sport=Skating<br>Year=%{x}<br>Number_Medals=%{y}<br>Gender=%{customdata[0]}<extra></extra>",
         "legendgroup": "Skating",
         "marker": {
          "color": "#FFA15A"
         },
         "name": "Skating",
         "offsetgroup": "Skating",
         "orientation": "v",
         "showlegend": true,
         "textposition": "auto",
         "type": "bar",
         "x": [
          1924,
          1924,
          1928,
          1928,
          1932,
          1932,
          1936,
          1936,
          1948,
          1948,
          1952,
          1952,
          1956,
          1956,
          1960,
          1960,
          1964,
          1964,
          1968,
          1968,
          1972,
          1972,
          1976,
          1976,
          1980,
          1980,
          1984,
          1984,
          1988,
          1988,
          1992,
          1992,
          1994,
          1994,
          1998,
          1998,
          2002,
          2002,
          2006,
          2006,
          2010,
          2010,
          2014,
          2014
         ],
         "xaxis": "x",
         "y": [
          22,
          6,
          17,
          6,
          18,
          6,
          18,
          6,
          19,
          6,
          19,
          6,
          18,
          6,
          18,
          18,
          20,
          19,
          18,
          19,
          18,
          18,
          24,
          21,
          25,
          21,
          24,
          21,
          24,
          24,
          40,
          39,
          44,
          45,
          42,
          42,
          48,
          46,
          61,
          62,
          59,
          56,
          69,
          71
         ],
         "yaxis": "y"
        },
        {
         "alignmentgroup": "True",
         "customdata": [
          [
           "Men"
          ],
          [
           "Men"
          ],
          [
           "Men"
          ],
          [
           "Men"
          ],
          [
           "Women"
          ],
          [
           "Men"
          ],
          [
           "Women"
          ],
          [
           "Men"
          ],
          [
           "Women"
          ],
          [
           "Men"
          ],
          [
           "Women"
          ],
          [
           "Men"
          ],
          [
           "Women"
          ],
          [
           "Men"
          ],
          [
           "Women"
          ],
          [
           "Men"
          ],
          [
           "Women"
          ],
          [
           "Men"
          ],
          [
           "Women"
          ],
          [
           "Men"
          ],
          [
           "Women"
          ],
          [
           "Men"
          ],
          [
           "Women"
          ],
          [
           "Men"
          ],
          [
           "Women"
          ],
          [
           "Men"
          ],
          [
           "Women"
          ],
          [
           "Men"
          ],
          [
           "Women"
          ],
          [
           "Men"
          ],
          [
           "Women"
          ],
          [
           "Men"
          ],
          [
           "Women"
          ],
          [
           "Men"
          ],
          [
           "Women"
          ],
          [
           "Men"
          ],
          [
           "Women"
          ],
          [
           "Men"
          ],
          [
           "Women"
          ],
          [
           "Men"
          ],
          [
           "Women"
          ],
          [
           "Women"
          ],
          [
           "Women"
          ],
          [
           "Women"
          ]
         ],
         "hovertemplate": "Sport=Skiing<br>Year=%{x}<br>Number_Medals=%{y}<br>Gender=%{customdata[0]}<extra></extra>",
         "legendgroup": "Skiing",
         "marker": {
          "color": "#19d3f3"
         },
         "name": "Skiing",
         "offsetgroup": "Skiing",
         "orientation": "v",
         "showlegend": true,
         "textposition": "auto",
         "type": "bar",
         "x": [
          1924,
          1928,
          1932,
          1936,
          1936,
          1948,
          1948,
          1952,
          1952,
          1956,
          1956,
          1960,
          1960,
          1964,
          1964,
          1968,
          1968,
          1972,
          1972,
          1976,
          1976,
          1980,
          1980,
          1984,
          1984,
          1988,
          1988,
          1992,
          1992,
          1994,
          1994,
          1998,
          1998,
          2002,
          2002,
          2006,
          2006,
          2010,
          2010,
          2014,
          2014,
          1924,
          1928,
          1932
         ],
         "xaxis": "x",
         "y": [
          12,
          12,
          12,
          27,
          3,
          34,
          9,
          33,
          12,
          36,
          21,
          36,
          21,
          39,
          24,
          39,
          24,
          39,
          24,
          39,
          27,
          39,
          27,
          39,
          30,
          66,
          36,
          72,
          42,
          75,
          45,
          84,
          51,
          90,
          54,
          96,
          60,
          99,
          63,
          112,
          78,
          0,
          0,
          0
         ],
         "yaxis": "y"
        },
        {
         "alignmentgroup": "True",
         "customdata": [
          [
           "Men"
          ],
          [
           "Women"
          ],
          [
           "Men"
          ],
          [
           "Women"
          ],
          [
           "Men"
          ],
          [
           "Women"
          ],
          [
           "Men"
          ],
          [
           "Women"
          ],
          [
           "Men"
          ],
          [
           "Women"
          ],
          [
           "Men"
          ],
          [
           "Women"
          ],
          [
           "Men"
          ],
          [
           "Women"
          ],
          [
           "Men"
          ],
          [
           "Women"
          ],
          [
           "Men"
          ],
          [
           "Women"
          ],
          [
           "Men"
          ],
          [
           "Women"
          ],
          [
           "Men"
          ],
          [
           "Women"
          ],
          [
           "Men"
          ],
          [
           "Women"
          ],
          [
           "Men"
          ],
          [
           "Women"
          ],
          [
           "Men"
          ],
          [
           "Women"
          ],
          [
           "Women"
          ],
          [
           "Men"
          ],
          [
           "Women"
          ],
          [
           "Men"
          ],
          [
           "Women"
          ],
          [
           "Men"
          ],
          [
           "Women"
          ],
          [
           "Men"
          ],
          [
           "Women"
          ],
          [
           "Men"
          ],
          [
           "Women"
          ],
          [
           "Men"
          ],
          [
           "Women"
          ],
          [
           "Men"
          ],
          [
           "Women"
          ],
          [
           "Men"
          ]
         ],
         "hovertemplate": "Sport=Luge<br>Year=%{x}<br>Number_Medals=%{y}<br>Gender=%{customdata[0]}<extra></extra>",
         "legendgroup": "Luge",
         "marker": {
          "color": "#FF6692"
         },
         "name": "Luge",
         "offsetgroup": "Luge",
         "orientation": "v",
         "showlegend": true,
         "textposition": "auto",
         "type": "bar",
         "x": [
          1964,
          1964,
          1968,
          1968,
          1972,
          1972,
          1976,
          1976,
          1980,
          1980,
          1984,
          1984,
          1988,
          1988,
          1992,
          1992,
          1994,
          1994,
          1998,
          1998,
          2002,
          2002,
          2006,
          2006,
          2010,
          2010,
          2014,
          2014,
          1924,
          1924,
          1928,
          1928,
          1932,
          1932,
          1936,
          1936,
          1948,
          1948,
          1952,
          1952,
          1956,
          1956,
          1960,
          1960
         ],
         "xaxis": "x",
         "y": [
          9,
          3,
          9,
          3,
          9,
          3,
          9,
          3,
          9,
          3,
          9,
          3,
          9,
          3,
          9,
          3,
          9,
          3,
          9,
          3,
          9,
          3,
          9,
          3,
          9,
          3,
          18,
          6,
          0,
          0,
          0,
          0,
          0,
          0,
          0,
          0,
          0,
          0,
          0,
          0,
          0,
          0,
          0,
          0
         ],
         "yaxis": "y"
        }
       ],
       "layout": {
        "barmode": "stack",
        "legend": {
         "title": {
          "text": "Sport"
         },
         "tracegroupgap": 0
        },
        "margin": {
         "t": 60
        },
        "template": {
         "data": {
          "bar": [
           {
            "error_x": {
             "color": "#2a3f5f"
            },
            "error_y": {
             "color": "#2a3f5f"
            },
            "marker": {
             "line": {
              "color": "#E5ECF6",
              "width": 0.5
             }
            },
            "type": "bar"
           }
          ],
          "barpolar": [
           {
            "marker": {
             "line": {
              "color": "#E5ECF6",
              "width": 0.5
             }
            },
            "type": "barpolar"
           }
          ],
          "carpet": [
           {
            "aaxis": {
             "endlinecolor": "#2a3f5f",
             "gridcolor": "white",
             "linecolor": "white",
             "minorgridcolor": "white",
             "startlinecolor": "#2a3f5f"
            },
            "baxis": {
             "endlinecolor": "#2a3f5f",
             "gridcolor": "white",
             "linecolor": "white",
             "minorgridcolor": "white",
             "startlinecolor": "#2a3f5f"
            },
            "type": "carpet"
           }
          ],
          "choropleth": [
           {
            "colorbar": {
             "outlinewidth": 0,
             "ticks": ""
            },
            "type": "choropleth"
           }
          ],
          "contour": [
           {
            "colorbar": {
             "outlinewidth": 0,
             "ticks": ""
            },
            "colorscale": [
             [
              0,
              "#0d0887"
             ],
             [
              0.1111111111111111,
              "#46039f"
             ],
             [
              0.2222222222222222,
              "#7201a8"
             ],
             [
              0.3333333333333333,
              "#9c179e"
             ],
             [
              0.4444444444444444,
              "#bd3786"
             ],
             [
              0.5555555555555556,
              "#d8576b"
             ],
             [
              0.6666666666666666,
              "#ed7953"
             ],
             [
              0.7777777777777778,
              "#fb9f3a"
             ],
             [
              0.8888888888888888,
              "#fdca26"
             ],
             [
              1,
              "#f0f921"
             ]
            ],
            "type": "contour"
           }
          ],
          "contourcarpet": [
           {
            "colorbar": {
             "outlinewidth": 0,
             "ticks": ""
            },
            "type": "contourcarpet"
           }
          ],
          "heatmap": [
           {
            "colorbar": {
             "outlinewidth": 0,
             "ticks": ""
            },
            "colorscale": [
             [
              0,
              "#0d0887"
             ],
             [
              0.1111111111111111,
              "#46039f"
             ],
             [
              0.2222222222222222,
              "#7201a8"
             ],
             [
              0.3333333333333333,
              "#9c179e"
             ],
             [
              0.4444444444444444,
              "#bd3786"
             ],
             [
              0.5555555555555556,
              "#d8576b"
             ],
             [
              0.6666666666666666,
              "#ed7953"
             ],
             [
              0.7777777777777778,
              "#fb9f3a"
             ],
             [
              0.8888888888888888,
              "#fdca26"
             ],
             [
              1,
              "#f0f921"
             ]
            ],
            "type": "heatmap"
           }
          ],
          "heatmapgl": [
           {
            "colorbar": {
             "outlinewidth": 0,
             "ticks": ""
            },
            "colorscale": [
             [
              0,
              "#0d0887"
             ],
             [
              0.1111111111111111,
              "#46039f"
             ],
             [
              0.2222222222222222,
              "#7201a8"
             ],
             [
              0.3333333333333333,
              "#9c179e"
             ],
             [
              0.4444444444444444,
              "#bd3786"
             ],
             [
              0.5555555555555556,
              "#d8576b"
             ],
             [
              0.6666666666666666,
              "#ed7953"
             ],
             [
              0.7777777777777778,
              "#fb9f3a"
             ],
             [
              0.8888888888888888,
              "#fdca26"
             ],
             [
              1,
              "#f0f921"
             ]
            ],
            "type": "heatmapgl"
           }
          ],
          "histogram": [
           {
            "marker": {
             "colorbar": {
              "outlinewidth": 0,
              "ticks": ""
             }
            },
            "type": "histogram"
           }
          ],
          "histogram2d": [
           {
            "colorbar": {
             "outlinewidth": 0,
             "ticks": ""
            },
            "colorscale": [
             [
              0,
              "#0d0887"
             ],
             [
              0.1111111111111111,
              "#46039f"
             ],
             [
              0.2222222222222222,
              "#7201a8"
             ],
             [
              0.3333333333333333,
              "#9c179e"
             ],
             [
              0.4444444444444444,
              "#bd3786"
             ],
             [
              0.5555555555555556,
              "#d8576b"
             ],
             [
              0.6666666666666666,
              "#ed7953"
             ],
             [
              0.7777777777777778,
              "#fb9f3a"
             ],
             [
              0.8888888888888888,
              "#fdca26"
             ],
             [
              1,
              "#f0f921"
             ]
            ],
            "type": "histogram2d"
           }
          ],
          "histogram2dcontour": [
           {
            "colorbar": {
             "outlinewidth": 0,
             "ticks": ""
            },
            "colorscale": [
             [
              0,
              "#0d0887"
             ],
             [
              0.1111111111111111,
              "#46039f"
             ],
             [
              0.2222222222222222,
              "#7201a8"
             ],
             [
              0.3333333333333333,
              "#9c179e"
             ],
             [
              0.4444444444444444,
              "#bd3786"
             ],
             [
              0.5555555555555556,
              "#d8576b"
             ],
             [
              0.6666666666666666,
              "#ed7953"
             ],
             [
              0.7777777777777778,
              "#fb9f3a"
             ],
             [
              0.8888888888888888,
              "#fdca26"
             ],
             [
              1,
              "#f0f921"
             ]
            ],
            "type": "histogram2dcontour"
           }
          ],
          "mesh3d": [
           {
            "colorbar": {
             "outlinewidth": 0,
             "ticks": ""
            },
            "type": "mesh3d"
           }
          ],
          "parcoords": [
           {
            "line": {
             "colorbar": {
              "outlinewidth": 0,
              "ticks": ""
             }
            },
            "type": "parcoords"
           }
          ],
          "pie": [
           {
            "automargin": true,
            "type": "pie"
           }
          ],
          "scatter": [
           {
            "marker": {
             "colorbar": {
              "outlinewidth": 0,
              "ticks": ""
             }
            },
            "type": "scatter"
           }
          ],
          "scatter3d": [
           {
            "line": {
             "colorbar": {
              "outlinewidth": 0,
              "ticks": ""
             }
            },
            "marker": {
             "colorbar": {
              "outlinewidth": 0,
              "ticks": ""
             }
            },
            "type": "scatter3d"
           }
          ],
          "scattercarpet": [
           {
            "marker": {
             "colorbar": {
              "outlinewidth": 0,
              "ticks": ""
             }
            },
            "type": "scattercarpet"
           }
          ],
          "scattergeo": [
           {
            "marker": {
             "colorbar": {
              "outlinewidth": 0,
              "ticks": ""
             }
            },
            "type": "scattergeo"
           }
          ],
          "scattergl": [
           {
            "marker": {
             "colorbar": {
              "outlinewidth": 0,
              "ticks": ""
             }
            },
            "type": "scattergl"
           }
          ],
          "scattermapbox": [
           {
            "marker": {
             "colorbar": {
              "outlinewidth": 0,
              "ticks": ""
             }
            },
            "type": "scattermapbox"
           }
          ],
          "scatterpolar": [
           {
            "marker": {
             "colorbar": {
              "outlinewidth": 0,
              "ticks": ""
             }
            },
            "type": "scatterpolar"
           }
          ],
          "scatterpolargl": [
           {
            "marker": {
             "colorbar": {
              "outlinewidth": 0,
              "ticks": ""
             }
            },
            "type": "scatterpolargl"
           }
          ],
          "scatterternary": [
           {
            "marker": {
             "colorbar": {
              "outlinewidth": 0,
              "ticks": ""
             }
            },
            "type": "scatterternary"
           }
          ],
          "surface": [
           {
            "colorbar": {
             "outlinewidth": 0,
             "ticks": ""
            },
            "colorscale": [
             [
              0,
              "#0d0887"
             ],
             [
              0.1111111111111111,
              "#46039f"
             ],
             [
              0.2222222222222222,
              "#7201a8"
             ],
             [
              0.3333333333333333,
              "#9c179e"
             ],
             [
              0.4444444444444444,
              "#bd3786"
             ],
             [
              0.5555555555555556,
              "#d8576b"
             ],
             [
              0.6666666666666666,
              "#ed7953"
             ],
             [
              0.7777777777777778,
              "#fb9f3a"
             ],
             [
              0.8888888888888888,
              "#fdca26"
             ],
             [
              1,
              "#f0f921"
             ]
            ],
            "type": "surface"
           }
          ],
          "table": [
           {
            "cells": {
             "fill": {
              "color": "#EBF0F8"
             },
             "line": {
              "color": "white"
             }
            },
            "header": {
             "fill": {
              "color": "#C8D4E3"
             },
             "line": {
              "color": "white"
             }
            },
            "type": "table"
           }
          ]
         },
         "layout": {
          "annotationdefaults": {
           "arrowcolor": "#2a3f5f",
           "arrowhead": 0,
           "arrowwidth": 1
          },
          "coloraxis": {
           "colorbar": {
            "outlinewidth": 0,
            "ticks": ""
           }
          },
          "colorscale": {
           "diverging": [
            [
             0,
             "#8e0152"
            ],
            [
             0.1,
             "#c51b7d"
            ],
            [
             0.2,
             "#de77ae"
            ],
            [
             0.3,
             "#f1b6da"
            ],
            [
             0.4,
             "#fde0ef"
            ],
            [
             0.5,
             "#f7f7f7"
            ],
            [
             0.6,
             "#e6f5d0"
            ],
            [
             0.7,
             "#b8e186"
            ],
            [
             0.8,
             "#7fbc41"
            ],
            [
             0.9,
             "#4d9221"
            ],
            [
             1,
             "#276419"
            ]
           ],
           "sequential": [
            [
             0,
             "#0d0887"
            ],
            [
             0.1111111111111111,
             "#46039f"
            ],
            [
             0.2222222222222222,
             "#7201a8"
            ],
            [
             0.3333333333333333,
             "#9c179e"
            ],
            [
             0.4444444444444444,
             "#bd3786"
            ],
            [
             0.5555555555555556,
             "#d8576b"
            ],
            [
             0.6666666666666666,
             "#ed7953"
            ],
            [
             0.7777777777777778,
             "#fb9f3a"
            ],
            [
             0.8888888888888888,
             "#fdca26"
            ],
            [
             1,
             "#f0f921"
            ]
           ],
           "sequentialminus": [
            [
             0,
             "#0d0887"
            ],
            [
             0.1111111111111111,
             "#46039f"
            ],
            [
             0.2222222222222222,
             "#7201a8"
            ],
            [
             0.3333333333333333,
             "#9c179e"
            ],
            [
             0.4444444444444444,
             "#bd3786"
            ],
            [
             0.5555555555555556,
             "#d8576b"
            ],
            [
             0.6666666666666666,
             "#ed7953"
            ],
            [
             0.7777777777777778,
             "#fb9f3a"
            ],
            [
             0.8888888888888888,
             "#fdca26"
            ],
            [
             1,
             "#f0f921"
            ]
           ]
          },
          "colorway": [
           "#636efa",
           "#EF553B",
           "#00cc96",
           "#ab63fa",
           "#FFA15A",
           "#19d3f3",
           "#FF6692",
           "#B6E880",
           "#FF97FF",
           "#FECB52"
          ],
          "font": {
           "color": "#2a3f5f"
          },
          "geo": {
           "bgcolor": "white",
           "lakecolor": "white",
           "landcolor": "#E5ECF6",
           "showlakes": true,
           "showland": true,
           "subunitcolor": "white"
          },
          "hoverlabel": {
           "align": "left"
          },
          "hovermode": "closest",
          "mapbox": {
           "style": "light"
          },
          "paper_bgcolor": "white",
          "plot_bgcolor": "#E5ECF6",
          "polar": {
           "angularaxis": {
            "gridcolor": "white",
            "linecolor": "white",
            "ticks": ""
           },
           "bgcolor": "#E5ECF6",
           "radialaxis": {
            "gridcolor": "white",
            "linecolor": "white",
            "ticks": ""
           }
          },
          "scene": {
           "xaxis": {
            "backgroundcolor": "#E5ECF6",
            "gridcolor": "white",
            "gridwidth": 2,
            "linecolor": "white",
            "showbackground": true,
            "ticks": "",
            "zerolinecolor": "white"
           },
           "yaxis": {
            "backgroundcolor": "#E5ECF6",
            "gridcolor": "white",
            "gridwidth": 2,
            "linecolor": "white",
            "showbackground": true,
            "ticks": "",
            "zerolinecolor": "white"
           },
           "zaxis": {
            "backgroundcolor": "#E5ECF6",
            "gridcolor": "white",
            "gridwidth": 2,
            "linecolor": "white",
            "showbackground": true,
            "ticks": "",
            "zerolinecolor": "white"
           }
          },
          "shapedefaults": {
           "line": {
            "color": "#2a3f5f"
           }
          },
          "ternary": {
           "aaxis": {
            "gridcolor": "white",
            "linecolor": "white",
            "ticks": ""
           },
           "baxis": {
            "gridcolor": "white",
            "linecolor": "white",
            "ticks": ""
           },
           "bgcolor": "#E5ECF6",
           "caxis": {
            "gridcolor": "white",
            "linecolor": "white",
            "ticks": ""
           }
          },
          "title": {
           "x": 0.05
          },
          "xaxis": {
           "automargin": true,
           "gridcolor": "white",
           "linecolor": "white",
           "ticks": "",
           "title": {
            "standoff": 15
           },
           "zerolinecolor": "white",
           "zerolinewidth": 2
          },
          "yaxis": {
           "automargin": true,
           "gridcolor": "white",
           "linecolor": "white",
           "ticks": "",
           "title": {
            "standoff": 15
           },
           "zerolinecolor": "white",
           "zerolinewidth": 2
          }
         }
        },
        "xaxis": {
         "anchor": "y",
         "domain": [
          0,
          1
         ],
         "title": {
          "text": "Year"
         }
        },
        "yaxis": {
         "anchor": "x",
         "domain": [
          0,
          1
         ],
         "title": {
          "text": "Number_Medals"
         }
        }
       }
      },
      "text/html": [
       "<div>                            <div id=\"c4af6382-f0b2-4e04-b0e8-24a33821a628\" class=\"plotly-graph-div\" style=\"height:525px; width:100%;\"></div>            <script type=\"text/javascript\">                require([\"plotly\"], function(Plotly) {                    window.PLOTLYENV=window.PLOTLYENV || {};                                    if (document.getElementById(\"c4af6382-f0b2-4e04-b0e8-24a33821a628\")) {                    Plotly.newPlot(                        \"c4af6382-f0b2-4e04-b0e8-24a33821a628\",                        [{\"alignmentgroup\": \"True\", \"customdata\": [[\"Men\"], [\"Men\"], [\"Men\"], [\"Men\"], [\"Men\"], [\"Men\"], [\"Men\"], [\"Men\"], [\"Men\"], [\"Men\"], [\"Women\"], [\"Men\"], [\"Women\"], [\"Men\"], [\"Women\"], [\"Men\"], [\"Women\"], [\"Men\"], [\"Women\"], [\"Men\"], [\"Women\"], [\"Men\"], [\"Women\"], [\"Women\"], [\"Women\"], [\"Men\"], [\"Women\"], [\"Men\"], [\"Women\"], [\"Men\"], [\"Women\"], [\"Men\"], [\"Women\"], [\"Men\"], [\"Women\"], [\"Men\"], [\"Women\"], [\"Women\"], [\"Women\"], [\"Women\"], [\"Women\"], [\"Women\"], [\"Women\"], [\"Women\"]], \"hovertemplate\": \"Sport=Biathlon<br>Year=%{x}<br>Number_Medals=%{y}<br>Gender=%{customdata[0]}<extra></extra>\", \"legendgroup\": \"Biathlon\", \"marker\": {\"color\": \"#636efa\"}, \"name\": \"Biathlon\", \"offsetgroup\": \"Biathlon\", \"orientation\": \"v\", \"showlegend\": true, \"textposition\": \"auto\", \"type\": \"bar\", \"x\": [1924, 1960, 1964, 1968, 1972, 1976, 1980, 1984, 1988, 1992, 1992, 1994, 1994, 1998, 1998, 2002, 2002, 2006, 2006, 2010, 2010, 2014, 2014, 1924, 1928, 1928, 1932, 1932, 1936, 1936, 1948, 1948, 1952, 1952, 1956, 1956, 1960, 1964, 1968, 1972, 1976, 1980, 1984, 1988], \"xaxis\": \"x\", \"y\": [12.0, 3.0, 3.0, 15.0, 15.0, 15.0, 18.0, 18.0, 18.0, 18.0, 15.0, 18.0, 18.0, 18.0, 18.0, 21.0, 21.0, 24.0, 24.0, 24.0, 24.0, 30.0, 30.0, 0.0, 0.0, 0.0, 0.0, 0.0, 0.0, 0.0, 0.0, 0.0, 0.0, 0.0, 0.0, 0.0, 0.0, 0.0, 0.0, 0.0, 0.0, 0.0, 0.0, 0.0], \"yaxis\": \"y\"}, {\"alignmentgroup\": \"True\", \"customdata\": [[\"Men\"], [\"Men\"], [\"Men\"], [\"Men\"], [\"Men\"], [\"Men\"], [\"Men\"], [\"Men\"], [\"Men\"], [\"Men\"], [\"Men\"], [\"Men\"], [\"Men\"], [\"Men\"], [\"Men\"], [\"Men\"], [\"Men\"], [\"Men\"], [\"Women\"], [\"Men\"], [\"Women\"], [\"Men\"], [\"Women\"], [\"Men\"], [\"Women\"], [\"Women\"], [\"Women\"], [\"Women\"], [\"Women\"], [\"Women\"], [\"Women\"], [\"Women\"], [\"Women\"], [\"Men\"], [\"Women\"], [\"Women\"], [\"Women\"], [\"Women\"], [\"Women\"], [\"Women\"], [\"Women\"], [\"Women\"], [\"Women\"], [\"Women\"]], \"hovertemplate\": \"Sport=Bobsleigh<br>Year=%{x}<br>Number_Medals=%{y}<br>Gender=%{customdata[0]}<extra></extra>\", \"legendgroup\": \"Bobsleigh\", \"marker\": {\"color\": \"#EF553B\"}, \"name\": \"Bobsleigh\", \"offsetgroup\": \"Bobsleigh\", \"orientation\": \"v\", \"showlegend\": true, \"textposition\": \"auto\", \"type\": \"bar\", \"x\": [1924, 1928, 1932, 1936, 1948, 1952, 1956, 1964, 1968, 1972, 1976, 1980, 1984, 1988, 1992, 1994, 1998, 2002, 2002, 2006, 2006, 2010, 2010, 2014, 2014, 1924, 1928, 1932, 1936, 1948, 1952, 1956, 1960, 1960, 1964, 1968, 1972, 1976, 1980, 1984, 1988, 1992, 1994, 1998], \"xaxis\": \"x\", \"y\": [13.0, 18.0, 42.0, 18.0, 21.0, 18.0, 18.0, 18.0, 18.0, 18.0, 18.0, 18.0, 18.0, 18.0, 18.0, 18.0, 22.0, 21.0, 9.0, 21.0, 9.0, 21.0, 9.0, 21.0, 9.0, 0.0, 0.0, 0.0, 0.0, 0.0, 0.0, 0.0, 0.0, 0.0, 0.0, 0.0, 0.0, 0.0, 0.0, 0.0, 0.0, 0.0, 0.0, 0.0], \"yaxis\": \"y\"}, {\"alignmentgroup\": \"True\", \"customdata\": [[\"Men\"], [\"Men\"], [\"Women\"], [\"Men\"], [\"Women\"], [\"Men\"], [\"Women\"], [\"Men\"], [\"Women\"], [\"Men\"], [\"Women\"], [\"Women\"], [\"Women\"], [\"Men\"], [\"Women\"], [\"Men\"], [\"Women\"], [\"Men\"], [\"Women\"], [\"Men\"], [\"Women\"], [\"Men\"], [\"Women\"], [\"Men\"], [\"Women\"], [\"Men\"], [\"Women\"], [\"Men\"], [\"Women\"], [\"Men\"], [\"Women\"], [\"Men\"], [\"Women\"], [\"Men\"], [\"Women\"], [\"Men\"], [\"Women\"], [\"Men\"], [\"Women\"], [\"Men\"], [\"Women\"], [\"Men\"], [\"Women\"], [\"Men\"]], \"hovertemplate\": \"Sport=Curling<br>Year=%{x}<br>Number_Medals=%{y}<br>Gender=%{customdata[0]}<extra></extra>\", \"legendgroup\": \"Curling\", \"marker\": {\"color\": \"#00cc96\"}, \"name\": \"Curling\", \"offsetgroup\": \"Curling\", \"orientation\": \"v\", \"showlegend\": true, \"textposition\": \"auto\", \"type\": \"bar\", \"x\": [1924, 1998, 1998, 2002, 2002, 2006, 2006, 2010, 2010, 2014, 2014, 1924, 1928, 1928, 1932, 1932, 1936, 1936, 1948, 1948, 1952, 1952, 1956, 1956, 1960, 1960, 1964, 1964, 1968, 1968, 1972, 1972, 1976, 1976, 1980, 1980, 1984, 1984, 1988, 1988, 1992, 1992, 1994, 1994], \"xaxis\": \"x\", \"y\": [22.0, 15.0, 15.0, 15.0, 15.0, 15.0, 15.0, 15.0, 15.0, 15.0, 15.0, 0.0, 0.0, 0.0, 0.0, 0.0, 0.0, 0.0, 0.0, 0.0, 0.0, 0.0, 0.0, 0.0, 0.0, 0.0, 0.0, 0.0, 0.0, 0.0, 0.0, 0.0, 0.0, 0.0, 0.0, 0.0, 0.0, 0.0, 0.0, 0.0, 0.0, 0.0, 0.0, 0.0], \"yaxis\": \"y\"}, {\"alignmentgroup\": \"True\", \"customdata\": [[\"Men\"], [\"Men\"], [\"Men\"], [\"Men\"], [\"Men\"], [\"Men\"], [\"Men\"], [\"Men\"], [\"Men\"], [\"Men\"], [\"Men\"], [\"Men\"], [\"Men\"], [\"Men\"], [\"Men\"], [\"Men\"], [\"Men\"], [\"Men\"], [\"Women\"], [\"Men\"], [\"Women\"], [\"Men\"], [\"Women\"], [\"Men\"], [\"Women\"], [\"Men\"], [\"Women\"], [\"Women\"], [\"Women\"], [\"Women\"], [\"Women\"], [\"Women\"], [\"Women\"], [\"Women\"], [\"Women\"], [\"Women\"], [\"Women\"], [\"Women\"], [\"Women\"], [\"Women\"], [\"Women\"], [\"Women\"], [\"Women\"], [\"Women\"]], \"hovertemplate\": \"Sport=Ice Hockey<br>Year=%{x}<br>Number_Medals=%{y}<br>Gender=%{customdata[0]}<extra></extra>\", \"legendgroup\": \"Ice Hockey\", \"marker\": {\"color\": \"#ab63fa\"}, \"name\": \"Ice Hockey\", \"offsetgroup\": \"Ice Hockey\", \"orientation\": \"v\", \"showlegend\": true, \"textposition\": \"auto\", \"type\": \"bar\", \"x\": [1924, 1928, 1932, 1936, 1948, 1952, 1956, 1960, 1964, 1968, 1972, 1976, 1980, 1984, 1988, 1992, 1994, 1998, 1998, 2002, 2002, 2006, 2006, 2010, 2010, 2014, 2014, 1924, 1928, 1932, 1936, 1948, 1952, 1956, 1960, 1964, 1968, 1972, 1976, 1980, 1984, 1988, 1992, 1994], \"xaxis\": \"x\", \"y\": [31.0, 36.0, 38.0, 36.0, 51.0, 48.0, 51.0, 51.0, 50.0, 54.0, 56.0, 54.0, 58.0, 60.0, 66.0, 69.0, 68.0, 68.0, 60.0, 69.0, 60.0, 73.0, 59.0, 69.0, 63.0, 75.0, 63.0, 0.0, 0.0, 0.0, 0.0, 0.0, 0.0, 0.0, 0.0, 0.0, 0.0, 0.0, 0.0, 0.0, 0.0, 0.0, 0.0, 0.0], \"yaxis\": \"y\"}, {\"alignmentgroup\": \"True\", \"customdata\": [[\"Men\"], [\"Women\"], [\"Men\"], [\"Women\"], [\"Men\"], [\"Women\"], [\"Men\"], [\"Women\"], [\"Men\"], [\"Women\"], [\"Men\"], [\"Women\"], [\"Men\"], [\"Women\"], [\"Men\"], [\"Women\"], [\"Men\"], [\"Women\"], [\"Men\"], [\"Women\"], [\"Men\"], [\"Women\"], [\"Men\"], [\"Women\"], [\"Men\"], [\"Women\"], [\"Men\"], [\"Women\"], [\"Men\"], [\"Women\"], [\"Men\"], [\"Women\"], [\"Men\"], [\"Women\"], [\"Men\"], [\"Women\"], [\"Men\"], [\"Women\"], [\"Men\"], [\"Women\"], [\"Men\"], [\"Women\"], [\"Men\"], [\"Women\"]], \"hovertemplate\": \"Sport=Skating<br>Year=%{x}<br>Number_Medals=%{y}<br>Gender=%{customdata[0]}<extra></extra>\", \"legendgroup\": \"Skating\", \"marker\": {\"color\": \"#FFA15A\"}, \"name\": \"Skating\", \"offsetgroup\": \"Skating\", \"orientation\": \"v\", \"showlegend\": true, \"textposition\": \"auto\", \"type\": \"bar\", \"x\": [1924, 1924, 1928, 1928, 1932, 1932, 1936, 1936, 1948, 1948, 1952, 1952, 1956, 1956, 1960, 1960, 1964, 1964, 1968, 1968, 1972, 1972, 1976, 1976, 1980, 1980, 1984, 1984, 1988, 1988, 1992, 1992, 1994, 1994, 1998, 1998, 2002, 2002, 2006, 2006, 2010, 2010, 2014, 2014], \"xaxis\": \"x\", \"y\": [22.0, 6.0, 17.0, 6.0, 18.0, 6.0, 18.0, 6.0, 19.0, 6.0, 19.0, 6.0, 18.0, 6.0, 18.0, 18.0, 20.0, 19.0, 18.0, 19.0, 18.0, 18.0, 24.0, 21.0, 25.0, 21.0, 24.0, 21.0, 24.0, 24.0, 40.0, 39.0, 44.0, 45.0, 42.0, 42.0, 48.0, 46.0, 61.0, 62.0, 59.0, 56.0, 69.0, 71.0], \"yaxis\": \"y\"}, {\"alignmentgroup\": \"True\", \"customdata\": [[\"Men\"], [\"Men\"], [\"Men\"], [\"Men\"], [\"Women\"], [\"Men\"], [\"Women\"], [\"Men\"], [\"Women\"], [\"Men\"], [\"Women\"], [\"Men\"], [\"Women\"], [\"Men\"], [\"Women\"], [\"Men\"], [\"Women\"], [\"Men\"], [\"Women\"], [\"Men\"], [\"Women\"], [\"Men\"], [\"Women\"], [\"Men\"], [\"Women\"], [\"Men\"], [\"Women\"], [\"Men\"], [\"Women\"], [\"Men\"], [\"Women\"], [\"Men\"], [\"Women\"], [\"Men\"], [\"Women\"], [\"Men\"], [\"Women\"], [\"Men\"], [\"Women\"], [\"Men\"], [\"Women\"], [\"Women\"], [\"Women\"], [\"Women\"]], \"hovertemplate\": \"Sport=Skiing<br>Year=%{x}<br>Number_Medals=%{y}<br>Gender=%{customdata[0]}<extra></extra>\", \"legendgroup\": \"Skiing\", \"marker\": {\"color\": \"#19d3f3\"}, \"name\": \"Skiing\", \"offsetgroup\": \"Skiing\", \"orientation\": \"v\", \"showlegend\": true, \"textposition\": \"auto\", \"type\": \"bar\", \"x\": [1924, 1928, 1932, 1936, 1936, 1948, 1948, 1952, 1952, 1956, 1956, 1960, 1960, 1964, 1964, 1968, 1968, 1972, 1972, 1976, 1976, 1980, 1980, 1984, 1984, 1988, 1988, 1992, 1992, 1994, 1994, 1998, 1998, 2002, 2002, 2006, 2006, 2010, 2010, 2014, 2014, 1924, 1928, 1932], \"xaxis\": \"x\", \"y\": [12.0, 12.0, 12.0, 27.0, 3.0, 34.0, 9.0, 33.0, 12.0, 36.0, 21.0, 36.0, 21.0, 39.0, 24.0, 39.0, 24.0, 39.0, 24.0, 39.0, 27.0, 39.0, 27.0, 39.0, 30.0, 66.0, 36.0, 72.0, 42.0, 75.0, 45.0, 84.0, 51.0, 90.0, 54.0, 96.0, 60.0, 99.0, 63.0, 112.0, 78.0, 0.0, 0.0, 0.0], \"yaxis\": \"y\"}, {\"alignmentgroup\": \"True\", \"customdata\": [[\"Men\"], [\"Women\"], [\"Men\"], [\"Women\"], [\"Men\"], [\"Women\"], [\"Men\"], [\"Women\"], [\"Men\"], [\"Women\"], [\"Men\"], [\"Women\"], [\"Men\"], [\"Women\"], [\"Men\"], [\"Women\"], [\"Men\"], [\"Women\"], [\"Men\"], [\"Women\"], [\"Men\"], [\"Women\"], [\"Men\"], [\"Women\"], [\"Men\"], [\"Women\"], [\"Men\"], [\"Women\"], [\"Women\"], [\"Men\"], [\"Women\"], [\"Men\"], [\"Women\"], [\"Men\"], [\"Women\"], [\"Men\"], [\"Women\"], [\"Men\"], [\"Women\"], [\"Men\"], [\"Women\"], [\"Men\"], [\"Women\"], [\"Men\"]], \"hovertemplate\": \"Sport=Luge<br>Year=%{x}<br>Number_Medals=%{y}<br>Gender=%{customdata[0]}<extra></extra>\", \"legendgroup\": \"Luge\", \"marker\": {\"color\": \"#FF6692\"}, \"name\": \"Luge\", \"offsetgroup\": \"Luge\", \"orientation\": \"v\", \"showlegend\": true, \"textposition\": \"auto\", \"type\": \"bar\", \"x\": [1964, 1964, 1968, 1968, 1972, 1972, 1976, 1976, 1980, 1980, 1984, 1984, 1988, 1988, 1992, 1992, 1994, 1994, 1998, 1998, 2002, 2002, 2006, 2006, 2010, 2010, 2014, 2014, 1924, 1924, 1928, 1928, 1932, 1932, 1936, 1936, 1948, 1948, 1952, 1952, 1956, 1956, 1960, 1960], \"xaxis\": \"x\", \"y\": [9.0, 3.0, 9.0, 3.0, 9.0, 3.0, 9.0, 3.0, 9.0, 3.0, 9.0, 3.0, 9.0, 3.0, 9.0, 3.0, 9.0, 3.0, 9.0, 3.0, 9.0, 3.0, 9.0, 3.0, 9.0, 3.0, 18.0, 6.0, 0.0, 0.0, 0.0, 0.0, 0.0, 0.0, 0.0, 0.0, 0.0, 0.0, 0.0, 0.0, 0.0, 0.0, 0.0, 0.0], \"yaxis\": \"y\"}],                        {\"barmode\": \"stack\", \"legend\": {\"title\": {\"text\": \"Sport\"}, \"tracegroupgap\": 0}, \"margin\": {\"t\": 60}, \"template\": {\"data\": {\"bar\": [{\"error_x\": {\"color\": \"#2a3f5f\"}, \"error_y\": {\"color\": \"#2a3f5f\"}, \"marker\": {\"line\": {\"color\": \"#E5ECF6\", \"width\": 0.5}}, \"type\": \"bar\"}], \"barpolar\": [{\"marker\": {\"line\": {\"color\": \"#E5ECF6\", \"width\": 0.5}}, \"type\": \"barpolar\"}], \"carpet\": [{\"aaxis\": {\"endlinecolor\": \"#2a3f5f\", \"gridcolor\": \"white\", \"linecolor\": \"white\", \"minorgridcolor\": \"white\", \"startlinecolor\": \"#2a3f5f\"}, \"baxis\": {\"endlinecolor\": \"#2a3f5f\", \"gridcolor\": \"white\", \"linecolor\": \"white\", \"minorgridcolor\": \"white\", \"startlinecolor\": \"#2a3f5f\"}, \"type\": \"carpet\"}], \"choropleth\": [{\"colorbar\": {\"outlinewidth\": 0, \"ticks\": \"\"}, \"type\": \"choropleth\"}], \"contour\": [{\"colorbar\": {\"outlinewidth\": 0, \"ticks\": \"\"}, \"colorscale\": [[0.0, \"#0d0887\"], [0.1111111111111111, \"#46039f\"], [0.2222222222222222, \"#7201a8\"], [0.3333333333333333, \"#9c179e\"], [0.4444444444444444, \"#bd3786\"], [0.5555555555555556, \"#d8576b\"], [0.6666666666666666, \"#ed7953\"], [0.7777777777777778, \"#fb9f3a\"], [0.8888888888888888, \"#fdca26\"], [1.0, \"#f0f921\"]], \"type\": \"contour\"}], \"contourcarpet\": [{\"colorbar\": {\"outlinewidth\": 0, \"ticks\": \"\"}, \"type\": \"contourcarpet\"}], \"heatmap\": [{\"colorbar\": {\"outlinewidth\": 0, \"ticks\": \"\"}, \"colorscale\": [[0.0, \"#0d0887\"], [0.1111111111111111, \"#46039f\"], [0.2222222222222222, \"#7201a8\"], [0.3333333333333333, \"#9c179e\"], [0.4444444444444444, \"#bd3786\"], [0.5555555555555556, \"#d8576b\"], [0.6666666666666666, \"#ed7953\"], [0.7777777777777778, \"#fb9f3a\"], [0.8888888888888888, \"#fdca26\"], [1.0, \"#f0f921\"]], \"type\": \"heatmap\"}], \"heatmapgl\": [{\"colorbar\": {\"outlinewidth\": 0, \"ticks\": \"\"}, \"colorscale\": [[0.0, \"#0d0887\"], [0.1111111111111111, \"#46039f\"], [0.2222222222222222, \"#7201a8\"], [0.3333333333333333, \"#9c179e\"], [0.4444444444444444, \"#bd3786\"], [0.5555555555555556, \"#d8576b\"], [0.6666666666666666, \"#ed7953\"], [0.7777777777777778, \"#fb9f3a\"], [0.8888888888888888, \"#fdca26\"], [1.0, \"#f0f921\"]], \"type\": \"heatmapgl\"}], \"histogram\": [{\"marker\": {\"colorbar\": {\"outlinewidth\": 0, \"ticks\": \"\"}}, \"type\": \"histogram\"}], \"histogram2d\": [{\"colorbar\": {\"outlinewidth\": 0, \"ticks\": \"\"}, \"colorscale\": [[0.0, \"#0d0887\"], [0.1111111111111111, \"#46039f\"], [0.2222222222222222, \"#7201a8\"], [0.3333333333333333, \"#9c179e\"], [0.4444444444444444, \"#bd3786\"], [0.5555555555555556, \"#d8576b\"], [0.6666666666666666, \"#ed7953\"], [0.7777777777777778, \"#fb9f3a\"], [0.8888888888888888, \"#fdca26\"], [1.0, \"#f0f921\"]], \"type\": \"histogram2d\"}], \"histogram2dcontour\": [{\"colorbar\": {\"outlinewidth\": 0, \"ticks\": \"\"}, \"colorscale\": [[0.0, \"#0d0887\"], [0.1111111111111111, \"#46039f\"], [0.2222222222222222, \"#7201a8\"], [0.3333333333333333, \"#9c179e\"], [0.4444444444444444, \"#bd3786\"], [0.5555555555555556, \"#d8576b\"], [0.6666666666666666, \"#ed7953\"], [0.7777777777777778, \"#fb9f3a\"], [0.8888888888888888, \"#fdca26\"], [1.0, \"#f0f921\"]], \"type\": \"histogram2dcontour\"}], \"mesh3d\": [{\"colorbar\": {\"outlinewidth\": 0, \"ticks\": \"\"}, \"type\": \"mesh3d\"}], \"parcoords\": [{\"line\": {\"colorbar\": {\"outlinewidth\": 0, \"ticks\": \"\"}}, \"type\": \"parcoords\"}], \"pie\": [{\"automargin\": true, \"type\": \"pie\"}], \"scatter\": [{\"marker\": {\"colorbar\": {\"outlinewidth\": 0, \"ticks\": \"\"}}, \"type\": \"scatter\"}], \"scatter3d\": [{\"line\": {\"colorbar\": {\"outlinewidth\": 0, \"ticks\": \"\"}}, \"marker\": {\"colorbar\": {\"outlinewidth\": 0, \"ticks\": \"\"}}, \"type\": \"scatter3d\"}], \"scattercarpet\": [{\"marker\": {\"colorbar\": {\"outlinewidth\": 0, \"ticks\": \"\"}}, \"type\": \"scattercarpet\"}], \"scattergeo\": [{\"marker\": {\"colorbar\": {\"outlinewidth\": 0, \"ticks\": \"\"}}, \"type\": \"scattergeo\"}], \"scattergl\": [{\"marker\": {\"colorbar\": {\"outlinewidth\": 0, \"ticks\": \"\"}}, \"type\": \"scattergl\"}], \"scattermapbox\": [{\"marker\": {\"colorbar\": {\"outlinewidth\": 0, \"ticks\": \"\"}}, \"type\": \"scattermapbox\"}], \"scatterpolar\": [{\"marker\": {\"colorbar\": {\"outlinewidth\": 0, \"ticks\": \"\"}}, \"type\": \"scatterpolar\"}], \"scatterpolargl\": [{\"marker\": {\"colorbar\": {\"outlinewidth\": 0, \"ticks\": \"\"}}, \"type\": \"scatterpolargl\"}], \"scatterternary\": [{\"marker\": {\"colorbar\": {\"outlinewidth\": 0, \"ticks\": \"\"}}, \"type\": \"scatterternary\"}], \"surface\": [{\"colorbar\": {\"outlinewidth\": 0, \"ticks\": \"\"}, \"colorscale\": [[0.0, \"#0d0887\"], [0.1111111111111111, \"#46039f\"], [0.2222222222222222, \"#7201a8\"], [0.3333333333333333, \"#9c179e\"], [0.4444444444444444, \"#bd3786\"], [0.5555555555555556, \"#d8576b\"], [0.6666666666666666, \"#ed7953\"], [0.7777777777777778, \"#fb9f3a\"], [0.8888888888888888, \"#fdca26\"], [1.0, \"#f0f921\"]], \"type\": \"surface\"}], \"table\": [{\"cells\": {\"fill\": {\"color\": \"#EBF0F8\"}, \"line\": {\"color\": \"white\"}}, \"header\": {\"fill\": {\"color\": \"#C8D4E3\"}, \"line\": {\"color\": \"white\"}}, \"type\": \"table\"}]}, \"layout\": {\"annotationdefaults\": {\"arrowcolor\": \"#2a3f5f\", \"arrowhead\": 0, \"arrowwidth\": 1}, \"coloraxis\": {\"colorbar\": {\"outlinewidth\": 0, \"ticks\": \"\"}}, \"colorscale\": {\"diverging\": [[0, \"#8e0152\"], [0.1, \"#c51b7d\"], [0.2, \"#de77ae\"], [0.3, \"#f1b6da\"], [0.4, \"#fde0ef\"], [0.5, \"#f7f7f7\"], [0.6, \"#e6f5d0\"], [0.7, \"#b8e186\"], [0.8, \"#7fbc41\"], [0.9, \"#4d9221\"], [1, \"#276419\"]], \"sequential\": [[0.0, \"#0d0887\"], [0.1111111111111111, \"#46039f\"], [0.2222222222222222, \"#7201a8\"], [0.3333333333333333, \"#9c179e\"], [0.4444444444444444, \"#bd3786\"], [0.5555555555555556, \"#d8576b\"], [0.6666666666666666, \"#ed7953\"], [0.7777777777777778, \"#fb9f3a\"], [0.8888888888888888, \"#fdca26\"], [1.0, \"#f0f921\"]], \"sequentialminus\": [[0.0, \"#0d0887\"], [0.1111111111111111, \"#46039f\"], [0.2222222222222222, \"#7201a8\"], [0.3333333333333333, \"#9c179e\"], [0.4444444444444444, \"#bd3786\"], [0.5555555555555556, \"#d8576b\"], [0.6666666666666666, \"#ed7953\"], [0.7777777777777778, \"#fb9f3a\"], [0.8888888888888888, \"#fdca26\"], [1.0, \"#f0f921\"]]}, \"colorway\": [\"#636efa\", \"#EF553B\", \"#00cc96\", \"#ab63fa\", \"#FFA15A\", \"#19d3f3\", \"#FF6692\", \"#B6E880\", \"#FF97FF\", \"#FECB52\"], \"font\": {\"color\": \"#2a3f5f\"}, \"geo\": {\"bgcolor\": \"white\", \"lakecolor\": \"white\", \"landcolor\": \"#E5ECF6\", \"showlakes\": true, \"showland\": true, \"subunitcolor\": \"white\"}, \"hoverlabel\": {\"align\": \"left\"}, \"hovermode\": \"closest\", \"mapbox\": {\"style\": \"light\"}, \"paper_bgcolor\": \"white\", \"plot_bgcolor\": \"#E5ECF6\", \"polar\": {\"angularaxis\": {\"gridcolor\": \"white\", \"linecolor\": \"white\", \"ticks\": \"\"}, \"bgcolor\": \"#E5ECF6\", \"radialaxis\": {\"gridcolor\": \"white\", \"linecolor\": \"white\", \"ticks\": \"\"}}, \"scene\": {\"xaxis\": {\"backgroundcolor\": \"#E5ECF6\", \"gridcolor\": \"white\", \"gridwidth\": 2, \"linecolor\": \"white\", \"showbackground\": true, \"ticks\": \"\", \"zerolinecolor\": \"white\"}, \"yaxis\": {\"backgroundcolor\": \"#E5ECF6\", \"gridcolor\": \"white\", \"gridwidth\": 2, \"linecolor\": \"white\", \"showbackground\": true, \"ticks\": \"\", \"zerolinecolor\": \"white\"}, \"zaxis\": {\"backgroundcolor\": \"#E5ECF6\", \"gridcolor\": \"white\", \"gridwidth\": 2, \"linecolor\": \"white\", \"showbackground\": true, \"ticks\": \"\", \"zerolinecolor\": \"white\"}}, \"shapedefaults\": {\"line\": {\"color\": \"#2a3f5f\"}}, \"ternary\": {\"aaxis\": {\"gridcolor\": \"white\", \"linecolor\": \"white\", \"ticks\": \"\"}, \"baxis\": {\"gridcolor\": \"white\", \"linecolor\": \"white\", \"ticks\": \"\"}, \"bgcolor\": \"#E5ECF6\", \"caxis\": {\"gridcolor\": \"white\", \"linecolor\": \"white\", \"ticks\": \"\"}}, \"title\": {\"x\": 0.05}, \"xaxis\": {\"automargin\": true, \"gridcolor\": \"white\", \"linecolor\": \"white\", \"ticks\": \"\", \"title\": {\"standoff\": 15}, \"zerolinecolor\": \"white\", \"zerolinewidth\": 2}, \"yaxis\": {\"automargin\": true, \"gridcolor\": \"white\", \"linecolor\": \"white\", \"ticks\": \"\", \"title\": {\"standoff\": 15}, \"zerolinecolor\": \"white\", \"zerolinewidth\": 2}}}, \"xaxis\": {\"anchor\": \"y\", \"domain\": [0.0, 1.0], \"title\": {\"text\": \"Year\"}}, \"yaxis\": {\"anchor\": \"x\", \"domain\": [0.0, 1.0], \"title\": {\"text\": \"Number_Medals\"}}},                        {\"responsive\": true}                    ).then(function(){\n",
       "                            \n",
       "var gd = document.getElementById('c4af6382-f0b2-4e04-b0e8-24a33821a628');\n",
       "var x = new MutationObserver(function (mutations, observer) {{\n",
       "        var display = window.getComputedStyle(gd).display;\n",
       "        if (!display || display === 'none') {{\n",
       "            console.log([gd, 'removed!']);\n",
       "            Plotly.purge(gd);\n",
       "            observer.disconnect();\n",
       "        }}\n",
       "}});\n",
       "\n",
       "// Listen for the removal of the full notebook cells\n",
       "var notebookContainer = gd.closest('#notebook-container');\n",
       "if (notebookContainer) {{\n",
       "    x.observe(notebookContainer, {childList: true});\n",
       "}}\n",
       "\n",
       "// Listen for the clearing of the current output cell\n",
       "var outputEl = gd.closest('.output');\n",
       "if (outputEl) {{\n",
       "    x.observe(outputEl, {childList: true});\n",
       "}}\n",
       "\n",
       "                        })                };                });            </script>        </div>"
      ]
     },
     "metadata": {},
     "output_type": "display_data"
    }
   ],
   "source": [
    "import plotly.express as px\n",
    " \n",
    "df = df_final.copy()\n",
    " \n",
    "fig = px.bar(df, x=\"Year\", y=\"Number_Medals\", color=\"Sport\",\n",
    "            hover_data=['Gender'], barmode = 'stack')\n",
    " \n",
    "fig.show()"
   ]
  },
  {
   "cell_type": "code",
   "execution_count": null,
   "metadata": {},
   "outputs": [],
   "source": []
  },
  {
   "cell_type": "code",
   "execution_count": 172,
   "metadata": {},
   "outputs": [],
   "source": [
    "import pandas as pd\n",
    "\n",
    "df = pd.DataFrame(\n",
    "    dict(\n",
    "        week=[1, 1, 2, 2, 3, 3] * 2,\n",
    "        layout=[\"classic\", \"classic\", \"modern\", \"modern\"] * 3,\n",
    "        response=[\"conversion\", \"exit\"] * 6,\n",
    "        cnt=[26, 23, 45, 34, 55, 44, 53, 27, 28, 25, 30, 34],\n",
    "    )\n",
    ")"
   ]
  },
  {
   "cell_type": "code",
   "execution_count": 67,
   "metadata": {},
   "outputs": [],
   "source": [
    "# dataframe for sports\n",
    "df_sport = df.groupby(['Year', 'Gender', 'Sport']).size().to_frame('Number_Medals').reset_index()\n",
    "\n",
    "# dummy dataframe to add zeros to null sports\n",
    "data = []\n",
    "for y in set(df_sport.Year):\n",
    "    for s in set(df_sport.Sport):\n",
    "        for g in set(df_sport.Gender):\n",
    "            data.append((y, s, g))\n",
    "df_temp = pd.DataFrame(data, columns=[\"Year\", \"Sport\", \"Gender\"])\n",
    "df_temp['Number_Medals'] = 0\n",
    "\n",
    "# left join\n",
    "df_final = df_sport.merge(df_temp, on=['Year', 'Gender', 'Sport'], how='right')\n",
    "df_final = df_final.drop('Number_Medals_y', axis=1)\n",
    "df_final = df_final.rename(columns={'Number_Medals_x': 'Number_Medals'})\n",
    "df_final['Number_Medals'] = df_final['Number_Medals'].fillna(0)"
   ]
  },
  {
   "cell_type": "code",
   "execution_count": 68,
   "metadata": {},
   "outputs": [
    {
     "name": "stdout",
     "output_type": "stream",
     "text": [
      "(308, 4)\n"
     ]
    },
    {
     "data": {
      "text/html": [
       "<div>\n",
       "<style scoped>\n",
       "    .dataframe tbody tr th:only-of-type {\n",
       "        vertical-align: middle;\n",
       "    }\n",
       "\n",
       "    .dataframe tbody tr th {\n",
       "        vertical-align: top;\n",
       "    }\n",
       "\n",
       "    .dataframe thead th {\n",
       "        text-align: right;\n",
       "    }\n",
       "</style>\n",
       "<table border=\"1\" class=\"dataframe\">\n",
       "  <thead>\n",
       "    <tr style=\"text-align: right;\">\n",
       "      <th></th>\n",
       "      <th>Year</th>\n",
       "      <th>Gender</th>\n",
       "      <th>Sport</th>\n",
       "      <th>Number_Medals</th>\n",
       "    </tr>\n",
       "  </thead>\n",
       "  <tbody>\n",
       "    <tr>\n",
       "      <th>0</th>\n",
       "      <td>1924</td>\n",
       "      <td>Men</td>\n",
       "      <td>Biathlon</td>\n",
       "      <td>12.0</td>\n",
       "    </tr>\n",
       "    <tr>\n",
       "      <th>1</th>\n",
       "      <td>1924</td>\n",
       "      <td>Men</td>\n",
       "      <td>Bobsleigh</td>\n",
       "      <td>13.0</td>\n",
       "    </tr>\n",
       "    <tr>\n",
       "      <th>2</th>\n",
       "      <td>1924</td>\n",
       "      <td>Men</td>\n",
       "      <td>Curling</td>\n",
       "      <td>22.0</td>\n",
       "    </tr>\n",
       "    <tr>\n",
       "      <th>3</th>\n",
       "      <td>1924</td>\n",
       "      <td>Men</td>\n",
       "      <td>Ice Hockey</td>\n",
       "      <td>31.0</td>\n",
       "    </tr>\n",
       "    <tr>\n",
       "      <th>4</th>\n",
       "      <td>1924</td>\n",
       "      <td>Men</td>\n",
       "      <td>Skating</td>\n",
       "      <td>22.0</td>\n",
       "    </tr>\n",
       "  </tbody>\n",
       "</table>\n",
       "</div>"
      ],
      "text/plain": [
       "   Year Gender       Sport  Number_Medals\n",
       "0  1924    Men    Biathlon           12.0\n",
       "1  1924    Men   Bobsleigh           13.0\n",
       "2  1924    Men     Curling           22.0\n",
       "3  1924    Men  Ice Hockey           31.0\n",
       "4  1924    Men     Skating           22.0"
      ]
     },
     "execution_count": 68,
     "metadata": {},
     "output_type": "execute_result"
    }
   ],
   "source": [
    "df = df_final.copy()\n",
    "print(df.shape)\n",
    "df.head()"
   ]
  },
  {
   "cell_type": "code",
   "execution_count": 57,
   "metadata": {},
   "outputs": [],
   "source": [
    "# generate dataframe wth ratio\n",
    "men_medals = df[df.Gender=='Men'].groupby(['Year']).size()\n",
    "women_medals = df[df.Gender=='Women'].groupby(['Year']).size()\n",
    "\n",
    "ratio_medals = women_medals/men_medals"
   ]
  },
  {
   "cell_type": "code",
   "execution_count": 64,
   "metadata": {},
   "outputs": [],
   "source": [
    "ratio_medals = ratio_medals.reset_index(name='ratio')"
   ]
  },
  {
   "cell_type": "code",
   "execution_count": 88,
   "metadata": {},
   "outputs": [
    {
     "data": {
      "application/vnd.plotly.v1+json": {
       "config": {
        "plotlyServerURL": "https://plot.ly"
       },
       "data": [
        {
         "hovertemplate": "<b>Medal Count</b>: %{y}<br><b>Year</b>: %{x[0]}<br><b>Gender</b>: %{x[1]}",
         "marker": {
          "color": "#636EFA"
         },
         "name": "Biathlon",
         "type": "bar",
         "x": [
          [
           1924,
           1924,
           1928,
           1928,
           1932,
           1932,
           1936,
           1936,
           1948,
           1948,
           1952,
           1952,
           1956,
           1956,
           1960,
           1960,
           1964,
           1964,
           1968,
           1968,
           1972,
           1972,
           1976,
           1976,
           1980,
           1980,
           1984,
           1984,
           1988,
           1988,
           1992,
           1992,
           1994,
           1994,
           1998,
           1998,
           2002,
           2002,
           2006,
           2006,
           2010,
           2010,
           2014,
           2014
          ],
          [
           "Men",
           "Women",
           "Women",
           "Men",
           "Men",
           "Women",
           "Men",
           "Women",
           "Men",
           "Women",
           "Women",
           "Men",
           "Men",
           "Women",
           "Men",
           "Women",
           "Women",
           "Men",
           "Women",
           "Men",
           "Women",
           "Men",
           "Men",
           "Women",
           "Women",
           "Men",
           "Women",
           "Men",
           "Women",
           "Men",
           "Women",
           "Men",
           "Women",
           "Men",
           "Women",
           "Men",
           "Women",
           "Men",
           "Women",
           "Men",
           "Women",
           "Men",
           "Women",
           "Men"
          ]
         ],
         "xaxis": "x",
         "y": [
          12,
          0,
          0,
          0,
          0,
          0,
          0,
          0,
          0,
          0,
          0,
          0,
          0,
          0,
          3,
          0,
          0,
          3,
          0,
          15,
          0,
          15,
          15,
          0,
          0,
          18,
          0,
          18,
          0,
          18,
          15,
          18,
          18,
          18,
          18,
          18,
          21,
          21,
          24,
          24,
          24,
          24,
          30,
          30
         ],
         "yaxis": "y"
        },
        {
         "hovertemplate": "<b>Medal Count</b>: %{y}<br><b>Year</b>: %{x[0]}<br><b>Gender</b>: %{x[1]}",
         "marker": {
          "color": "#EF553B"
         },
         "name": "Bobsleigh",
         "type": "bar",
         "x": [
          [
           1924,
           1924,
           1928,
           1928,
           1932,
           1932,
           1936,
           1936,
           1948,
           1948,
           1952,
           1952,
           1956,
           1956,
           1960,
           1960,
           1964,
           1964,
           1968,
           1968,
           1972,
           1972,
           1976,
           1976,
           1980,
           1980,
           1984,
           1984,
           1988,
           1988,
           1992,
           1992,
           1994,
           1994,
           1998,
           1998,
           2002,
           2002,
           2006,
           2006,
           2010,
           2010,
           2014,
           2014
          ],
          [
           "Men",
           "Women",
           "Men",
           "Women",
           "Men",
           "Women",
           "Men",
           "Women",
           "Men",
           "Women",
           "Men",
           "Women",
           "Men",
           "Women",
           "Men",
           "Women",
           "Women",
           "Men",
           "Women",
           "Men",
           "Women",
           "Men",
           "Women",
           "Men",
           "Women",
           "Men",
           "Women",
           "Men",
           "Women",
           "Men",
           "Men",
           "Women",
           "Women",
           "Men",
           "Women",
           "Men",
           "Women",
           "Men",
           "Women",
           "Men",
           "Women",
           "Men",
           "Men",
           "Women"
          ]
         ],
         "xaxis": "x",
         "y": [
          13,
          0,
          18,
          0,
          42,
          0,
          18,
          0,
          21,
          0,
          18,
          0,
          18,
          0,
          0,
          0,
          0,
          18,
          0,
          18,
          0,
          18,
          0,
          18,
          0,
          18,
          0,
          18,
          0,
          18,
          18,
          0,
          0,
          18,
          0,
          22,
          9,
          21,
          9,
          21,
          9,
          21,
          21,
          9
         ],
         "yaxis": "y"
        },
        {
         "hovertemplate": "<b>Medal Count</b>: %{y}<br><b>Year</b>: %{x[0]}<br><b>Gender</b>: %{x[1]}",
         "marker": {
          "color": "#00CC96"
         },
         "name": "Curling",
         "type": "bar",
         "x": [
          [
           1924,
           1924,
           1928,
           1928,
           1932,
           1932,
           1936,
           1936,
           1948,
           1948,
           1952,
           1952,
           1956,
           1956,
           1960,
           1960,
           1964,
           1964,
           1968,
           1968,
           1972,
           1972,
           1976,
           1976,
           1980,
           1980,
           1984,
           1984,
           1988,
           1988,
           1992,
           1992,
           1994,
           1994,
           1998,
           1998,
           2002,
           2002,
           2006,
           2006,
           2010,
           2010,
           2014,
           2014
          ],
          [
           "Men",
           "Women",
           "Women",
           "Men",
           "Women",
           "Men",
           "Women",
           "Men",
           "Women",
           "Men",
           "Men",
           "Women",
           "Women",
           "Men",
           "Women",
           "Men",
           "Women",
           "Men",
           "Women",
           "Men",
           "Men",
           "Women",
           "Men",
           "Women",
           "Women",
           "Men",
           "Men",
           "Women",
           "Men",
           "Women",
           "Men",
           "Women",
           "Women",
           "Men",
           "Men",
           "Women",
           "Men",
           "Women",
           "Men",
           "Women",
           "Men",
           "Women",
           "Women",
           "Men"
          ]
         ],
         "xaxis": "x",
         "y": [
          22,
          0,
          0,
          0,
          0,
          0,
          0,
          0,
          0,
          0,
          0,
          0,
          0,
          0,
          0,
          0,
          0,
          0,
          0,
          0,
          0,
          0,
          0,
          0,
          0,
          0,
          0,
          0,
          0,
          0,
          0,
          0,
          0,
          0,
          15,
          15,
          15,
          15,
          15,
          15,
          15,
          15,
          15,
          15
         ],
         "yaxis": "y"
        },
        {
         "hovertemplate": "<b>Medal Count</b>: %{y}<br><b>Year</b>: %{x[0]}<br><b>Gender</b>: %{x[1]}",
         "marker": {
          "color": "#AB63FA"
         },
         "name": "Ice Hockey",
         "type": "bar",
         "x": [
          [
           1924,
           1924,
           1928,
           1928,
           1932,
           1932,
           1936,
           1936,
           1948,
           1948,
           1952,
           1952,
           1956,
           1956,
           1960,
           1960,
           1964,
           1964,
           1968,
           1968,
           1972,
           1972,
           1976,
           1976,
           1980,
           1980,
           1984,
           1984,
           1988,
           1988,
           1992,
           1992,
           1994,
           1994,
           1998,
           1998,
           2002,
           2002,
           2006,
           2006,
           2010,
           2010,
           2014,
           2014
          ],
          [
           "Men",
           "Women",
           "Men",
           "Women",
           "Men",
           "Women",
           "Men",
           "Women",
           "Women",
           "Men",
           "Men",
           "Women",
           "Men",
           "Women",
           "Men",
           "Women",
           "Women",
           "Men",
           "Men",
           "Women",
           "Women",
           "Men",
           "Men",
           "Women",
           "Women",
           "Men",
           "Women",
           "Men",
           "Women",
           "Men",
           "Women",
           "Men",
           "Women",
           "Men",
           "Women",
           "Men",
           "Women",
           "Men",
           "Women",
           "Men",
           "Women",
           "Men",
           "Men",
           "Women"
          ]
         ],
         "xaxis": "x",
         "y": [
          31,
          0,
          36,
          0,
          38,
          0,
          36,
          0,
          0,
          51,
          48,
          0,
          51,
          0,
          51,
          0,
          0,
          50,
          54,
          0,
          0,
          56,
          54,
          0,
          0,
          58,
          0,
          60,
          0,
          66,
          0,
          69,
          0,
          68,
          60,
          68,
          60,
          69,
          59,
          73,
          63,
          69,
          75,
          63
         ],
         "yaxis": "y"
        },
        {
         "hovertemplate": "<b>Medal Count</b>: %{y}<br><b>Year</b>: %{x[0]}<br><b>Gender</b>: %{x[1]}",
         "marker": {
          "color": "#FFA15A"
         },
         "name": "Skating",
         "type": "bar",
         "x": [
          [
           1924,
           1924,
           1928,
           1928,
           1932,
           1932,
           1936,
           1936,
           1948,
           1948,
           1952,
           1952,
           1956,
           1956,
           1960,
           1960,
           1964,
           1964,
           1968,
           1968,
           1972,
           1972,
           1976,
           1976,
           1980,
           1980,
           1984,
           1984,
           1988,
           1988,
           1992,
           1992,
           1994,
           1994,
           1998,
           1998,
           2002,
           2002,
           2006,
           2006,
           2010,
           2010,
           2014,
           2014
          ],
          [
           "Men",
           "Women",
           "Men",
           "Women",
           "Men",
           "Women",
           "Men",
           "Women",
           "Women",
           "Men",
           "Men",
           "Women",
           "Men",
           "Women",
           "Men",
           "Women",
           "Men",
           "Women",
           "Men",
           "Women",
           "Women",
           "Men",
           "Men",
           "Women",
           "Men",
           "Women",
           "Men",
           "Women",
           "Men",
           "Women",
           "Women",
           "Men",
           "Women",
           "Men",
           "Men",
           "Women",
           "Men",
           "Women",
           "Men",
           "Women",
           "Men",
           "Women",
           "Men",
           "Women"
          ]
         ],
         "xaxis": "x",
         "y": [
          22,
          6,
          17,
          6,
          18,
          6,
          18,
          6,
          6,
          19,
          19,
          6,
          18,
          6,
          18,
          18,
          20,
          19,
          18,
          19,
          18,
          18,
          24,
          21,
          25,
          21,
          24,
          21,
          24,
          24,
          39,
          40,
          45,
          44,
          42,
          42,
          48,
          46,
          61,
          62,
          59,
          56,
          69,
          71
         ],
         "yaxis": "y"
        },
        {
         "hovertemplate": "<b>Medal Count</b>: %{y}<br><b>Year</b>: %{x[0]}<br><b>Gender</b>: %{x[1]}",
         "marker": {
          "color": "#19D3F3"
         },
         "name": "Skiing",
         "type": "bar",
         "x": [
          [
           1924,
           1924,
           1928,
           1928,
           1932,
           1932,
           1936,
           1936,
           1948,
           1948,
           1952,
           1952,
           1956,
           1956,
           1960,
           1960,
           1964,
           1964,
           1968,
           1968,
           1972,
           1972,
           1976,
           1976,
           1980,
           1980,
           1984,
           1984,
           1988,
           1988,
           1992,
           1992,
           1994,
           1994,
           1998,
           1998,
           2002,
           2002,
           2006,
           2006,
           2010,
           2010,
           2014,
           2014
          ],
          [
           "Men",
           "Women",
           "Men",
           "Women",
           "Women",
           "Men",
           "Women",
           "Men",
           "Men",
           "Women",
           "Men",
           "Women",
           "Men",
           "Women",
           "Men",
           "Women",
           "Men",
           "Women",
           "Men",
           "Women",
           "Men",
           "Women",
           "Men",
           "Women",
           "Men",
           "Women",
           "Women",
           "Men",
           "Men",
           "Women",
           "Men",
           "Women",
           "Men",
           "Women",
           "Men",
           "Women",
           "Men",
           "Women",
           "Men",
           "Women",
           "Men",
           "Women",
           "Men",
           "Women"
          ]
         ],
         "xaxis": "x",
         "y": [
          12,
          0,
          12,
          0,
          0,
          12,
          3,
          27,
          34,
          9,
          33,
          12,
          36,
          21,
          36,
          21,
          39,
          24,
          39,
          24,
          39,
          24,
          39,
          27,
          39,
          27,
          30,
          39,
          66,
          36,
          72,
          42,
          75,
          45,
          84,
          51,
          90,
          54,
          96,
          60,
          99,
          63,
          112,
          78
         ],
         "yaxis": "y"
        },
        {
         "hovertemplate": "<b>Medal Count</b>: %{y}<br><b>Year</b>: %{x[0]}<br><b>Gender</b>: %{x[1]}",
         "marker": {
          "color": "#FF6692"
         },
         "name": "Luge",
         "type": "bar",
         "x": [
          [
           1924,
           1924,
           1928,
           1928,
           1932,
           1932,
           1936,
           1936,
           1948,
           1948,
           1952,
           1952,
           1956,
           1956,
           1960,
           1960,
           1964,
           1964,
           1968,
           1968,
           1972,
           1972,
           1976,
           1976,
           1980,
           1980,
           1984,
           1984,
           1988,
           1988,
           1992,
           1992,
           1994,
           1994,
           1998,
           1998,
           2002,
           2002,
           2006,
           2006,
           2010,
           2010,
           2014,
           2014
          ],
          [
           "Women",
           "Men",
           "Women",
           "Men",
           "Women",
           "Men",
           "Women",
           "Men",
           "Women",
           "Men",
           "Women",
           "Men",
           "Women",
           "Men",
           "Women",
           "Men",
           "Men",
           "Women",
           "Men",
           "Women",
           "Men",
           "Women",
           "Men",
           "Women",
           "Men",
           "Women",
           "Men",
           "Women",
           "Men",
           "Women",
           "Women",
           "Men",
           "Women",
           "Men",
           "Women",
           "Men",
           "Men",
           "Women",
           "Women",
           "Men",
           "Women",
           "Men",
           "Women",
           "Men"
          ]
         ],
         "xaxis": "x",
         "y": [
          0,
          0,
          0,
          0,
          0,
          0,
          0,
          0,
          0,
          0,
          0,
          0,
          0,
          0,
          0,
          0,
          9,
          3,
          9,
          3,
          9,
          3,
          9,
          3,
          9,
          3,
          9,
          3,
          9,
          3,
          3,
          9,
          3,
          9,
          3,
          9,
          9,
          3,
          3,
          9,
          3,
          9,
          6,
          18
         ],
         "yaxis": "y"
        },
        {
         "hovertemplate": "<b>Ratio</b>: %{y:.2f}<extra></extra>",
         "line": {
          "color": "black",
          "dash": "dot",
          "width": 2
         },
         "marker": {
          "size": 4
         },
         "mode": "lines+markers",
         "showlegend": false,
         "type": "scatter",
         "x": [
          [
           1924,
           1928,
           1932,
           1936,
           1948,
           1952,
           1956,
           1960,
           1964,
           1968,
           1972,
           1976,
           1980,
           1984,
           1988,
           1992,
           1994,
           1998,
           2002,
           2006,
           2010,
           2014
          ],
          [
           "Women",
           "Women",
           "Women",
           "Women",
           "Women",
           "Women",
           "Women",
           "Women",
           "Women",
           "Women",
           "Women",
           "Women",
           "Women",
           "Women",
           "Women",
           "Women",
           "Women",
           "Women",
           "Women",
           "Women",
           "Women",
           "Women",
           "Women",
           "Women",
           "Women",
           "Women",
           "Women",
           "Women",
           "Women",
           "Women",
           "Women",
           "Women",
           "Women",
           "Women",
           "Women",
           "Women",
           "Women",
           "Women",
           "Women",
           "Women",
           "Women",
           "Women",
           "Women",
           "Women"
          ]
         ],
         "xaxis": "x",
         "y": [
          0.05357142857142857,
          0.07228915662650602,
          0.05454545454545454,
          0.09090909090909091,
          0.12,
          0.15254237288135594,
          0.21951219512195122,
          0.3611111111111111,
          0.33093525179856115,
          0.3006535947712418,
          0.2903225806451613,
          0.32075471698113206,
          0.30538922155688625,
          0.32142857142857145,
          0.31343283582089554,
          0.43805309734513276,
          0.47844827586206895,
          0.7325581395348837,
          0.7619047619047619,
          0.7759197324414716,
          0.7871621621621622,
          0.8
         ],
         "yaxis": "y2"
        }
       ],
       "layout": {
        "barmode": "stack",
        "hoverlabel": {
         "bgcolor": "white",
         "font": {
          "family": "Rockwell",
          "size": 16
         }
        },
        "template": {
         "data": {
          "bar": [
           {
            "error_x": {
             "color": "#2a3f5f"
            },
            "error_y": {
             "color": "#2a3f5f"
            },
            "marker": {
             "line": {
              "color": "#E5ECF6",
              "width": 0.5
             }
            },
            "type": "bar"
           }
          ],
          "barpolar": [
           {
            "marker": {
             "line": {
              "color": "#E5ECF6",
              "width": 0.5
             }
            },
            "type": "barpolar"
           }
          ],
          "carpet": [
           {
            "aaxis": {
             "endlinecolor": "#2a3f5f",
             "gridcolor": "white",
             "linecolor": "white",
             "minorgridcolor": "white",
             "startlinecolor": "#2a3f5f"
            },
            "baxis": {
             "endlinecolor": "#2a3f5f",
             "gridcolor": "white",
             "linecolor": "white",
             "minorgridcolor": "white",
             "startlinecolor": "#2a3f5f"
            },
            "type": "carpet"
           }
          ],
          "choropleth": [
           {
            "colorbar": {
             "outlinewidth": 0,
             "ticks": ""
            },
            "type": "choropleth"
           }
          ],
          "contour": [
           {
            "colorbar": {
             "outlinewidth": 0,
             "ticks": ""
            },
            "colorscale": [
             [
              0,
              "#0d0887"
             ],
             [
              0.1111111111111111,
              "#46039f"
             ],
             [
              0.2222222222222222,
              "#7201a8"
             ],
             [
              0.3333333333333333,
              "#9c179e"
             ],
             [
              0.4444444444444444,
              "#bd3786"
             ],
             [
              0.5555555555555556,
              "#d8576b"
             ],
             [
              0.6666666666666666,
              "#ed7953"
             ],
             [
              0.7777777777777778,
              "#fb9f3a"
             ],
             [
              0.8888888888888888,
              "#fdca26"
             ],
             [
              1,
              "#f0f921"
             ]
            ],
            "type": "contour"
           }
          ],
          "contourcarpet": [
           {
            "colorbar": {
             "outlinewidth": 0,
             "ticks": ""
            },
            "type": "contourcarpet"
           }
          ],
          "heatmap": [
           {
            "colorbar": {
             "outlinewidth": 0,
             "ticks": ""
            },
            "colorscale": [
             [
              0,
              "#0d0887"
             ],
             [
              0.1111111111111111,
              "#46039f"
             ],
             [
              0.2222222222222222,
              "#7201a8"
             ],
             [
              0.3333333333333333,
              "#9c179e"
             ],
             [
              0.4444444444444444,
              "#bd3786"
             ],
             [
              0.5555555555555556,
              "#d8576b"
             ],
             [
              0.6666666666666666,
              "#ed7953"
             ],
             [
              0.7777777777777778,
              "#fb9f3a"
             ],
             [
              0.8888888888888888,
              "#fdca26"
             ],
             [
              1,
              "#f0f921"
             ]
            ],
            "type": "heatmap"
           }
          ],
          "heatmapgl": [
           {
            "colorbar": {
             "outlinewidth": 0,
             "ticks": ""
            },
            "colorscale": [
             [
              0,
              "#0d0887"
             ],
             [
              0.1111111111111111,
              "#46039f"
             ],
             [
              0.2222222222222222,
              "#7201a8"
             ],
             [
              0.3333333333333333,
              "#9c179e"
             ],
             [
              0.4444444444444444,
              "#bd3786"
             ],
             [
              0.5555555555555556,
              "#d8576b"
             ],
             [
              0.6666666666666666,
              "#ed7953"
             ],
             [
              0.7777777777777778,
              "#fb9f3a"
             ],
             [
              0.8888888888888888,
              "#fdca26"
             ],
             [
              1,
              "#f0f921"
             ]
            ],
            "type": "heatmapgl"
           }
          ],
          "histogram": [
           {
            "marker": {
             "colorbar": {
              "outlinewidth": 0,
              "ticks": ""
             }
            },
            "type": "histogram"
           }
          ],
          "histogram2d": [
           {
            "colorbar": {
             "outlinewidth": 0,
             "ticks": ""
            },
            "colorscale": [
             [
              0,
              "#0d0887"
             ],
             [
              0.1111111111111111,
              "#46039f"
             ],
             [
              0.2222222222222222,
              "#7201a8"
             ],
             [
              0.3333333333333333,
              "#9c179e"
             ],
             [
              0.4444444444444444,
              "#bd3786"
             ],
             [
              0.5555555555555556,
              "#d8576b"
             ],
             [
              0.6666666666666666,
              "#ed7953"
             ],
             [
              0.7777777777777778,
              "#fb9f3a"
             ],
             [
              0.8888888888888888,
              "#fdca26"
             ],
             [
              1,
              "#f0f921"
             ]
            ],
            "type": "histogram2d"
           }
          ],
          "histogram2dcontour": [
           {
            "colorbar": {
             "outlinewidth": 0,
             "ticks": ""
            },
            "colorscale": [
             [
              0,
              "#0d0887"
             ],
             [
              0.1111111111111111,
              "#46039f"
             ],
             [
              0.2222222222222222,
              "#7201a8"
             ],
             [
              0.3333333333333333,
              "#9c179e"
             ],
             [
              0.4444444444444444,
              "#bd3786"
             ],
             [
              0.5555555555555556,
              "#d8576b"
             ],
             [
              0.6666666666666666,
              "#ed7953"
             ],
             [
              0.7777777777777778,
              "#fb9f3a"
             ],
             [
              0.8888888888888888,
              "#fdca26"
             ],
             [
              1,
              "#f0f921"
             ]
            ],
            "type": "histogram2dcontour"
           }
          ],
          "mesh3d": [
           {
            "colorbar": {
             "outlinewidth": 0,
             "ticks": ""
            },
            "type": "mesh3d"
           }
          ],
          "parcoords": [
           {
            "line": {
             "colorbar": {
              "outlinewidth": 0,
              "ticks": ""
             }
            },
            "type": "parcoords"
           }
          ],
          "pie": [
           {
            "automargin": true,
            "type": "pie"
           }
          ],
          "scatter": [
           {
            "marker": {
             "colorbar": {
              "outlinewidth": 0,
              "ticks": ""
             }
            },
            "type": "scatter"
           }
          ],
          "scatter3d": [
           {
            "line": {
             "colorbar": {
              "outlinewidth": 0,
              "ticks": ""
             }
            },
            "marker": {
             "colorbar": {
              "outlinewidth": 0,
              "ticks": ""
             }
            },
            "type": "scatter3d"
           }
          ],
          "scattercarpet": [
           {
            "marker": {
             "colorbar": {
              "outlinewidth": 0,
              "ticks": ""
             }
            },
            "type": "scattercarpet"
           }
          ],
          "scattergeo": [
           {
            "marker": {
             "colorbar": {
              "outlinewidth": 0,
              "ticks": ""
             }
            },
            "type": "scattergeo"
           }
          ],
          "scattergl": [
           {
            "marker": {
             "colorbar": {
              "outlinewidth": 0,
              "ticks": ""
             }
            },
            "type": "scattergl"
           }
          ],
          "scattermapbox": [
           {
            "marker": {
             "colorbar": {
              "outlinewidth": 0,
              "ticks": ""
             }
            },
            "type": "scattermapbox"
           }
          ],
          "scatterpolar": [
           {
            "marker": {
             "colorbar": {
              "outlinewidth": 0,
              "ticks": ""
             }
            },
            "type": "scatterpolar"
           }
          ],
          "scatterpolargl": [
           {
            "marker": {
             "colorbar": {
              "outlinewidth": 0,
              "ticks": ""
             }
            },
            "type": "scatterpolargl"
           }
          ],
          "scatterternary": [
           {
            "marker": {
             "colorbar": {
              "outlinewidth": 0,
              "ticks": ""
             }
            },
            "type": "scatterternary"
           }
          ],
          "surface": [
           {
            "colorbar": {
             "outlinewidth": 0,
             "ticks": ""
            },
            "colorscale": [
             [
              0,
              "#0d0887"
             ],
             [
              0.1111111111111111,
              "#46039f"
             ],
             [
              0.2222222222222222,
              "#7201a8"
             ],
             [
              0.3333333333333333,
              "#9c179e"
             ],
             [
              0.4444444444444444,
              "#bd3786"
             ],
             [
              0.5555555555555556,
              "#d8576b"
             ],
             [
              0.6666666666666666,
              "#ed7953"
             ],
             [
              0.7777777777777778,
              "#fb9f3a"
             ],
             [
              0.8888888888888888,
              "#fdca26"
             ],
             [
              1,
              "#f0f921"
             ]
            ],
            "type": "surface"
           }
          ],
          "table": [
           {
            "cells": {
             "fill": {
              "color": "#EBF0F8"
             },
             "line": {
              "color": "white"
             }
            },
            "header": {
             "fill": {
              "color": "#C8D4E3"
             },
             "line": {
              "color": "white"
             }
            },
            "type": "table"
           }
          ]
         },
         "layout": {
          "annotationdefaults": {
           "arrowcolor": "#2a3f5f",
           "arrowhead": 0,
           "arrowwidth": 1
          },
          "coloraxis": {
           "colorbar": {
            "outlinewidth": 0,
            "ticks": ""
           }
          },
          "colorscale": {
           "diverging": [
            [
             0,
             "#8e0152"
            ],
            [
             0.1,
             "#c51b7d"
            ],
            [
             0.2,
             "#de77ae"
            ],
            [
             0.3,
             "#f1b6da"
            ],
            [
             0.4,
             "#fde0ef"
            ],
            [
             0.5,
             "#f7f7f7"
            ],
            [
             0.6,
             "#e6f5d0"
            ],
            [
             0.7,
             "#b8e186"
            ],
            [
             0.8,
             "#7fbc41"
            ],
            [
             0.9,
             "#4d9221"
            ],
            [
             1,
             "#276419"
            ]
           ],
           "sequential": [
            [
             0,
             "#0d0887"
            ],
            [
             0.1111111111111111,
             "#46039f"
            ],
            [
             0.2222222222222222,
             "#7201a8"
            ],
            [
             0.3333333333333333,
             "#9c179e"
            ],
            [
             0.4444444444444444,
             "#bd3786"
            ],
            [
             0.5555555555555556,
             "#d8576b"
            ],
            [
             0.6666666666666666,
             "#ed7953"
            ],
            [
             0.7777777777777778,
             "#fb9f3a"
            ],
            [
             0.8888888888888888,
             "#fdca26"
            ],
            [
             1,
             "#f0f921"
            ]
           ],
           "sequentialminus": [
            [
             0,
             "#0d0887"
            ],
            [
             0.1111111111111111,
             "#46039f"
            ],
            [
             0.2222222222222222,
             "#7201a8"
            ],
            [
             0.3333333333333333,
             "#9c179e"
            ],
            [
             0.4444444444444444,
             "#bd3786"
            ],
            [
             0.5555555555555556,
             "#d8576b"
            ],
            [
             0.6666666666666666,
             "#ed7953"
            ],
            [
             0.7777777777777778,
             "#fb9f3a"
            ],
            [
             0.8888888888888888,
             "#fdca26"
            ],
            [
             1,
             "#f0f921"
            ]
           ]
          },
          "colorway": [
           "#636efa",
           "#EF553B",
           "#00cc96",
           "#ab63fa",
           "#FFA15A",
           "#19d3f3",
           "#FF6692",
           "#B6E880",
           "#FF97FF",
           "#FECB52"
          ],
          "font": {
           "color": "#2a3f5f"
          },
          "geo": {
           "bgcolor": "white",
           "lakecolor": "white",
           "landcolor": "#E5ECF6",
           "showlakes": true,
           "showland": true,
           "subunitcolor": "white"
          },
          "hoverlabel": {
           "align": "left"
          },
          "hovermode": "closest",
          "mapbox": {
           "style": "light"
          },
          "paper_bgcolor": "white",
          "plot_bgcolor": "#E5ECF6",
          "polar": {
           "angularaxis": {
            "gridcolor": "white",
            "linecolor": "white",
            "ticks": ""
           },
           "bgcolor": "#E5ECF6",
           "radialaxis": {
            "gridcolor": "white",
            "linecolor": "white",
            "ticks": ""
           }
          },
          "scene": {
           "xaxis": {
            "backgroundcolor": "#E5ECF6",
            "gridcolor": "white",
            "gridwidth": 2,
            "linecolor": "white",
            "showbackground": true,
            "ticks": "",
            "zerolinecolor": "white"
           },
           "yaxis": {
            "backgroundcolor": "#E5ECF6",
            "gridcolor": "white",
            "gridwidth": 2,
            "linecolor": "white",
            "showbackground": true,
            "ticks": "",
            "zerolinecolor": "white"
           },
           "zaxis": {
            "backgroundcolor": "#E5ECF6",
            "gridcolor": "white",
            "gridwidth": 2,
            "linecolor": "white",
            "showbackground": true,
            "ticks": "",
            "zerolinecolor": "white"
           }
          },
          "shapedefaults": {
           "line": {
            "color": "#2a3f5f"
           }
          },
          "ternary": {
           "aaxis": {
            "gridcolor": "white",
            "linecolor": "white",
            "ticks": ""
           },
           "baxis": {
            "gridcolor": "white",
            "linecolor": "white",
            "ticks": ""
           },
           "bgcolor": "#E5ECF6",
           "caxis": {
            "gridcolor": "white",
            "linecolor": "white",
            "ticks": ""
           }
          },
          "title": {
           "x": 0.05
          },
          "xaxis": {
           "automargin": true,
           "gridcolor": "white",
           "linecolor": "white",
           "ticks": "",
           "title": {
            "standoff": 15
           },
           "zerolinecolor": "white",
           "zerolinewidth": 2
          },
          "yaxis": {
           "automargin": true,
           "gridcolor": "white",
           "linecolor": "white",
           "ticks": "",
           "title": {
            "standoff": 15
           },
           "zerolinecolor": "white",
           "zerolinewidth": 2
          }
         }
        },
        "xaxis": {
         "anchor": "y",
         "domain": [
          0,
          0.94
         ]
        },
        "yaxis": {
         "anchor": "x",
         "domain": [
          0,
          1
         ],
         "title": {
          "text": "<b>Medal_Count</b>"
         }
        },
        "yaxis2": {
         "anchor": "x",
         "overlaying": "y",
         "side": "right",
         "title": {
          "text": "<b>Ratio</b>"
         }
        }
       }
      },
      "text/html": [
       "<div>                            <div id=\"e8b8c0cb-32c4-4549-afa0-773da5524bab\" class=\"plotly-graph-div\" style=\"height:525px; width:100%;\"></div>            <script type=\"text/javascript\">                require([\"plotly\"], function(Plotly) {                    window.PLOTLYENV=window.PLOTLYENV || {};                                    if (document.getElementById(\"e8b8c0cb-32c4-4549-afa0-773da5524bab\")) {                    Plotly.newPlot(                        \"e8b8c0cb-32c4-4549-afa0-773da5524bab\",                        [{\"hovertemplate\": \"<b>Medal Count</b>: %{y}<br><b>Year</b>: %{x[0]}<br><b>Gender</b>: %{x[1]}\", \"marker\": {\"color\": \"#636EFA\"}, \"name\": \"Biathlon\", \"type\": \"bar\", \"x\": [[1924, 1924, 1928, 1928, 1932, 1932, 1936, 1936, 1948, 1948, 1952, 1952, 1956, 1956, 1960, 1960, 1964, 1964, 1968, 1968, 1972, 1972, 1976, 1976, 1980, 1980, 1984, 1984, 1988, 1988, 1992, 1992, 1994, 1994, 1998, 1998, 2002, 2002, 2006, 2006, 2010, 2010, 2014, 2014], [\"Men\", \"Women\", \"Women\", \"Men\", \"Men\", \"Women\", \"Men\", \"Women\", \"Men\", \"Women\", \"Women\", \"Men\", \"Men\", \"Women\", \"Men\", \"Women\", \"Women\", \"Men\", \"Women\", \"Men\", \"Women\", \"Men\", \"Men\", \"Women\", \"Women\", \"Men\", \"Women\", \"Men\", \"Women\", \"Men\", \"Women\", \"Men\", \"Women\", \"Men\", \"Women\", \"Men\", \"Women\", \"Men\", \"Women\", \"Men\", \"Women\", \"Men\", \"Women\", \"Men\"]], \"xaxis\": \"x\", \"y\": [12.0, 0.0, 0.0, 0.0, 0.0, 0.0, 0.0, 0.0, 0.0, 0.0, 0.0, 0.0, 0.0, 0.0, 3.0, 0.0, 0.0, 3.0, 0.0, 15.0, 0.0, 15.0, 15.0, 0.0, 0.0, 18.0, 0.0, 18.0, 0.0, 18.0, 15.0, 18.0, 18.0, 18.0, 18.0, 18.0, 21.0, 21.0, 24.0, 24.0, 24.0, 24.0, 30.0, 30.0], \"yaxis\": \"y\"}, {\"hovertemplate\": \"<b>Medal Count</b>: %{y}<br><b>Year</b>: %{x[0]}<br><b>Gender</b>: %{x[1]}\", \"marker\": {\"color\": \"#EF553B\"}, \"name\": \"Bobsleigh\", \"type\": \"bar\", \"x\": [[1924, 1924, 1928, 1928, 1932, 1932, 1936, 1936, 1948, 1948, 1952, 1952, 1956, 1956, 1960, 1960, 1964, 1964, 1968, 1968, 1972, 1972, 1976, 1976, 1980, 1980, 1984, 1984, 1988, 1988, 1992, 1992, 1994, 1994, 1998, 1998, 2002, 2002, 2006, 2006, 2010, 2010, 2014, 2014], [\"Men\", \"Women\", \"Men\", \"Women\", \"Men\", \"Women\", \"Men\", \"Women\", \"Men\", \"Women\", \"Men\", \"Women\", \"Men\", \"Women\", \"Men\", \"Women\", \"Women\", \"Men\", \"Women\", \"Men\", \"Women\", \"Men\", \"Women\", \"Men\", \"Women\", \"Men\", \"Women\", \"Men\", \"Women\", \"Men\", \"Men\", \"Women\", \"Women\", \"Men\", \"Women\", \"Men\", \"Women\", \"Men\", \"Women\", \"Men\", \"Women\", \"Men\", \"Men\", \"Women\"]], \"xaxis\": \"x\", \"y\": [13.0, 0.0, 18.0, 0.0, 42.0, 0.0, 18.0, 0.0, 21.0, 0.0, 18.0, 0.0, 18.0, 0.0, 0.0, 0.0, 0.0, 18.0, 0.0, 18.0, 0.0, 18.0, 0.0, 18.0, 0.0, 18.0, 0.0, 18.0, 0.0, 18.0, 18.0, 0.0, 0.0, 18.0, 0.0, 22.0, 9.0, 21.0, 9.0, 21.0, 9.0, 21.0, 21.0, 9.0], \"yaxis\": \"y\"}, {\"hovertemplate\": \"<b>Medal Count</b>: %{y}<br><b>Year</b>: %{x[0]}<br><b>Gender</b>: %{x[1]}\", \"marker\": {\"color\": \"#00CC96\"}, \"name\": \"Curling\", \"type\": \"bar\", \"x\": [[1924, 1924, 1928, 1928, 1932, 1932, 1936, 1936, 1948, 1948, 1952, 1952, 1956, 1956, 1960, 1960, 1964, 1964, 1968, 1968, 1972, 1972, 1976, 1976, 1980, 1980, 1984, 1984, 1988, 1988, 1992, 1992, 1994, 1994, 1998, 1998, 2002, 2002, 2006, 2006, 2010, 2010, 2014, 2014], [\"Men\", \"Women\", \"Women\", \"Men\", \"Women\", \"Men\", \"Women\", \"Men\", \"Women\", \"Men\", \"Men\", \"Women\", \"Women\", \"Men\", \"Women\", \"Men\", \"Women\", \"Men\", \"Women\", \"Men\", \"Men\", \"Women\", \"Men\", \"Women\", \"Women\", \"Men\", \"Men\", \"Women\", \"Men\", \"Women\", \"Men\", \"Women\", \"Women\", \"Men\", \"Men\", \"Women\", \"Men\", \"Women\", \"Men\", \"Women\", \"Men\", \"Women\", \"Women\", \"Men\"]], \"xaxis\": \"x\", \"y\": [22.0, 0.0, 0.0, 0.0, 0.0, 0.0, 0.0, 0.0, 0.0, 0.0, 0.0, 0.0, 0.0, 0.0, 0.0, 0.0, 0.0, 0.0, 0.0, 0.0, 0.0, 0.0, 0.0, 0.0, 0.0, 0.0, 0.0, 0.0, 0.0, 0.0, 0.0, 0.0, 0.0, 0.0, 15.0, 15.0, 15.0, 15.0, 15.0, 15.0, 15.0, 15.0, 15.0, 15.0], \"yaxis\": \"y\"}, {\"hovertemplate\": \"<b>Medal Count</b>: %{y}<br><b>Year</b>: %{x[0]}<br><b>Gender</b>: %{x[1]}\", \"marker\": {\"color\": \"#AB63FA\"}, \"name\": \"Ice Hockey\", \"type\": \"bar\", \"x\": [[1924, 1924, 1928, 1928, 1932, 1932, 1936, 1936, 1948, 1948, 1952, 1952, 1956, 1956, 1960, 1960, 1964, 1964, 1968, 1968, 1972, 1972, 1976, 1976, 1980, 1980, 1984, 1984, 1988, 1988, 1992, 1992, 1994, 1994, 1998, 1998, 2002, 2002, 2006, 2006, 2010, 2010, 2014, 2014], [\"Men\", \"Women\", \"Men\", \"Women\", \"Men\", \"Women\", \"Men\", \"Women\", \"Women\", \"Men\", \"Men\", \"Women\", \"Men\", \"Women\", \"Men\", \"Women\", \"Women\", \"Men\", \"Men\", \"Women\", \"Women\", \"Men\", \"Men\", \"Women\", \"Women\", \"Men\", \"Women\", \"Men\", \"Women\", \"Men\", \"Women\", \"Men\", \"Women\", \"Men\", \"Women\", \"Men\", \"Women\", \"Men\", \"Women\", \"Men\", \"Women\", \"Men\", \"Men\", \"Women\"]], \"xaxis\": \"x\", \"y\": [31.0, 0.0, 36.0, 0.0, 38.0, 0.0, 36.0, 0.0, 0.0, 51.0, 48.0, 0.0, 51.0, 0.0, 51.0, 0.0, 0.0, 50.0, 54.0, 0.0, 0.0, 56.0, 54.0, 0.0, 0.0, 58.0, 0.0, 60.0, 0.0, 66.0, 0.0, 69.0, 0.0, 68.0, 60.0, 68.0, 60.0, 69.0, 59.0, 73.0, 63.0, 69.0, 75.0, 63.0], \"yaxis\": \"y\"}, {\"hovertemplate\": \"<b>Medal Count</b>: %{y}<br><b>Year</b>: %{x[0]}<br><b>Gender</b>: %{x[1]}\", \"marker\": {\"color\": \"#FFA15A\"}, \"name\": \"Skating\", \"type\": \"bar\", \"x\": [[1924, 1924, 1928, 1928, 1932, 1932, 1936, 1936, 1948, 1948, 1952, 1952, 1956, 1956, 1960, 1960, 1964, 1964, 1968, 1968, 1972, 1972, 1976, 1976, 1980, 1980, 1984, 1984, 1988, 1988, 1992, 1992, 1994, 1994, 1998, 1998, 2002, 2002, 2006, 2006, 2010, 2010, 2014, 2014], [\"Men\", \"Women\", \"Men\", \"Women\", \"Men\", \"Women\", \"Men\", \"Women\", \"Women\", \"Men\", \"Men\", \"Women\", \"Men\", \"Women\", \"Men\", \"Women\", \"Men\", \"Women\", \"Men\", \"Women\", \"Women\", \"Men\", \"Men\", \"Women\", \"Men\", \"Women\", \"Men\", \"Women\", \"Men\", \"Women\", \"Women\", \"Men\", \"Women\", \"Men\", \"Men\", \"Women\", \"Men\", \"Women\", \"Men\", \"Women\", \"Men\", \"Women\", \"Men\", \"Women\"]], \"xaxis\": \"x\", \"y\": [22.0, 6.0, 17.0, 6.0, 18.0, 6.0, 18.0, 6.0, 6.0, 19.0, 19.0, 6.0, 18.0, 6.0, 18.0, 18.0, 20.0, 19.0, 18.0, 19.0, 18.0, 18.0, 24.0, 21.0, 25.0, 21.0, 24.0, 21.0, 24.0, 24.0, 39.0, 40.0, 45.0, 44.0, 42.0, 42.0, 48.0, 46.0, 61.0, 62.0, 59.0, 56.0, 69.0, 71.0], \"yaxis\": \"y\"}, {\"hovertemplate\": \"<b>Medal Count</b>: %{y}<br><b>Year</b>: %{x[0]}<br><b>Gender</b>: %{x[1]}\", \"marker\": {\"color\": \"#19D3F3\"}, \"name\": \"Skiing\", \"type\": \"bar\", \"x\": [[1924, 1924, 1928, 1928, 1932, 1932, 1936, 1936, 1948, 1948, 1952, 1952, 1956, 1956, 1960, 1960, 1964, 1964, 1968, 1968, 1972, 1972, 1976, 1976, 1980, 1980, 1984, 1984, 1988, 1988, 1992, 1992, 1994, 1994, 1998, 1998, 2002, 2002, 2006, 2006, 2010, 2010, 2014, 2014], [\"Men\", \"Women\", \"Men\", \"Women\", \"Women\", \"Men\", \"Women\", \"Men\", \"Men\", \"Women\", \"Men\", \"Women\", \"Men\", \"Women\", \"Men\", \"Women\", \"Men\", \"Women\", \"Men\", \"Women\", \"Men\", \"Women\", \"Men\", \"Women\", \"Men\", \"Women\", \"Women\", \"Men\", \"Men\", \"Women\", \"Men\", \"Women\", \"Men\", \"Women\", \"Men\", \"Women\", \"Men\", \"Women\", \"Men\", \"Women\", \"Men\", \"Women\", \"Men\", \"Women\"]], \"xaxis\": \"x\", \"y\": [12.0, 0.0, 12.0, 0.0, 0.0, 12.0, 3.0, 27.0, 34.0, 9.0, 33.0, 12.0, 36.0, 21.0, 36.0, 21.0, 39.0, 24.0, 39.0, 24.0, 39.0, 24.0, 39.0, 27.0, 39.0, 27.0, 30.0, 39.0, 66.0, 36.0, 72.0, 42.0, 75.0, 45.0, 84.0, 51.0, 90.0, 54.0, 96.0, 60.0, 99.0, 63.0, 112.0, 78.0], \"yaxis\": \"y\"}, {\"hovertemplate\": \"<b>Medal Count</b>: %{y}<br><b>Year</b>: %{x[0]}<br><b>Gender</b>: %{x[1]}\", \"marker\": {\"color\": \"#FF6692\"}, \"name\": \"Luge\", \"type\": \"bar\", \"x\": [[1924, 1924, 1928, 1928, 1932, 1932, 1936, 1936, 1948, 1948, 1952, 1952, 1956, 1956, 1960, 1960, 1964, 1964, 1968, 1968, 1972, 1972, 1976, 1976, 1980, 1980, 1984, 1984, 1988, 1988, 1992, 1992, 1994, 1994, 1998, 1998, 2002, 2002, 2006, 2006, 2010, 2010, 2014, 2014], [\"Women\", \"Men\", \"Women\", \"Men\", \"Women\", \"Men\", \"Women\", \"Men\", \"Women\", \"Men\", \"Women\", \"Men\", \"Women\", \"Men\", \"Women\", \"Men\", \"Men\", \"Women\", \"Men\", \"Women\", \"Men\", \"Women\", \"Men\", \"Women\", \"Men\", \"Women\", \"Men\", \"Women\", \"Men\", \"Women\", \"Women\", \"Men\", \"Women\", \"Men\", \"Women\", \"Men\", \"Men\", \"Women\", \"Women\", \"Men\", \"Women\", \"Men\", \"Women\", \"Men\"]], \"xaxis\": \"x\", \"y\": [0.0, 0.0, 0.0, 0.0, 0.0, 0.0, 0.0, 0.0, 0.0, 0.0, 0.0, 0.0, 0.0, 0.0, 0.0, 0.0, 9.0, 3.0, 9.0, 3.0, 9.0, 3.0, 9.0, 3.0, 9.0, 3.0, 9.0, 3.0, 9.0, 3.0, 3.0, 9.0, 3.0, 9.0, 3.0, 9.0, 9.0, 3.0, 3.0, 9.0, 3.0, 9.0, 6.0, 18.0], \"yaxis\": \"y\"}, {\"hovertemplate\": \"<b>Ratio</b>: %{y:.2f}<extra></extra>\", \"line\": {\"color\": \"black\", \"dash\": \"dot\", \"width\": 2}, \"marker\": {\"size\": 4}, \"mode\": \"lines+markers\", \"showlegend\": false, \"type\": \"scatter\", \"x\": [[1924, 1928, 1932, 1936, 1948, 1952, 1956, 1960, 1964, 1968, 1972, 1976, 1980, 1984, 1988, 1992, 1994, 1998, 2002, 2006, 2010, 2014], [\"Women\", \"Women\", \"Women\", \"Women\", \"Women\", \"Women\", \"Women\", \"Women\", \"Women\", \"Women\", \"Women\", \"Women\", \"Women\", \"Women\", \"Women\", \"Women\", \"Women\", \"Women\", \"Women\", \"Women\", \"Women\", \"Women\", \"Women\", \"Women\", \"Women\", \"Women\", \"Women\", \"Women\", \"Women\", \"Women\", \"Women\", \"Women\", \"Women\", \"Women\", \"Women\", \"Women\", \"Women\", \"Women\", \"Women\", \"Women\", \"Women\", \"Women\", \"Women\", \"Women\"]], \"xaxis\": \"x\", \"y\": [0.05357142857142857, 0.07228915662650602, 0.05454545454545454, 0.09090909090909091, 0.12, 0.15254237288135594, 0.21951219512195122, 0.3611111111111111, 0.33093525179856115, 0.3006535947712418, 0.2903225806451613, 0.32075471698113206, 0.30538922155688625, 0.32142857142857145, 0.31343283582089554, 0.43805309734513276, 0.47844827586206895, 0.7325581395348837, 0.7619047619047619, 0.7759197324414716, 0.7871621621621622, 0.8], \"yaxis\": \"y2\"}],                        {\"barmode\": \"stack\", \"hoverlabel\": {\"bgcolor\": \"white\", \"font\": {\"family\": \"Rockwell\", \"size\": 16}}, \"template\": {\"data\": {\"bar\": [{\"error_x\": {\"color\": \"#2a3f5f\"}, \"error_y\": {\"color\": \"#2a3f5f\"}, \"marker\": {\"line\": {\"color\": \"#E5ECF6\", \"width\": 0.5}}, \"type\": \"bar\"}], \"barpolar\": [{\"marker\": {\"line\": {\"color\": \"#E5ECF6\", \"width\": 0.5}}, \"type\": \"barpolar\"}], \"carpet\": [{\"aaxis\": {\"endlinecolor\": \"#2a3f5f\", \"gridcolor\": \"white\", \"linecolor\": \"white\", \"minorgridcolor\": \"white\", \"startlinecolor\": \"#2a3f5f\"}, \"baxis\": {\"endlinecolor\": \"#2a3f5f\", \"gridcolor\": \"white\", \"linecolor\": \"white\", \"minorgridcolor\": \"white\", \"startlinecolor\": \"#2a3f5f\"}, \"type\": \"carpet\"}], \"choropleth\": [{\"colorbar\": {\"outlinewidth\": 0, \"ticks\": \"\"}, \"type\": \"choropleth\"}], \"contour\": [{\"colorbar\": {\"outlinewidth\": 0, \"ticks\": \"\"}, \"colorscale\": [[0.0, \"#0d0887\"], [0.1111111111111111, \"#46039f\"], [0.2222222222222222, \"#7201a8\"], [0.3333333333333333, \"#9c179e\"], [0.4444444444444444, \"#bd3786\"], [0.5555555555555556, \"#d8576b\"], [0.6666666666666666, \"#ed7953\"], [0.7777777777777778, \"#fb9f3a\"], [0.8888888888888888, \"#fdca26\"], [1.0, \"#f0f921\"]], \"type\": \"contour\"}], \"contourcarpet\": [{\"colorbar\": {\"outlinewidth\": 0, \"ticks\": \"\"}, \"type\": \"contourcarpet\"}], \"heatmap\": [{\"colorbar\": {\"outlinewidth\": 0, \"ticks\": \"\"}, \"colorscale\": [[0.0, \"#0d0887\"], [0.1111111111111111, \"#46039f\"], [0.2222222222222222, \"#7201a8\"], [0.3333333333333333, \"#9c179e\"], [0.4444444444444444, \"#bd3786\"], [0.5555555555555556, \"#d8576b\"], [0.6666666666666666, \"#ed7953\"], [0.7777777777777778, \"#fb9f3a\"], [0.8888888888888888, \"#fdca26\"], [1.0, \"#f0f921\"]], \"type\": \"heatmap\"}], \"heatmapgl\": [{\"colorbar\": {\"outlinewidth\": 0, \"ticks\": \"\"}, \"colorscale\": [[0.0, \"#0d0887\"], [0.1111111111111111, \"#46039f\"], [0.2222222222222222, \"#7201a8\"], [0.3333333333333333, \"#9c179e\"], [0.4444444444444444, \"#bd3786\"], [0.5555555555555556, \"#d8576b\"], [0.6666666666666666, \"#ed7953\"], [0.7777777777777778, \"#fb9f3a\"], [0.8888888888888888, \"#fdca26\"], [1.0, \"#f0f921\"]], \"type\": \"heatmapgl\"}], \"histogram\": [{\"marker\": {\"colorbar\": {\"outlinewidth\": 0, \"ticks\": \"\"}}, \"type\": \"histogram\"}], \"histogram2d\": [{\"colorbar\": {\"outlinewidth\": 0, \"ticks\": \"\"}, \"colorscale\": [[0.0, \"#0d0887\"], [0.1111111111111111, \"#46039f\"], [0.2222222222222222, \"#7201a8\"], [0.3333333333333333, \"#9c179e\"], [0.4444444444444444, \"#bd3786\"], [0.5555555555555556, \"#d8576b\"], [0.6666666666666666, \"#ed7953\"], [0.7777777777777778, \"#fb9f3a\"], [0.8888888888888888, \"#fdca26\"], [1.0, \"#f0f921\"]], \"type\": \"histogram2d\"}], \"histogram2dcontour\": [{\"colorbar\": {\"outlinewidth\": 0, \"ticks\": \"\"}, \"colorscale\": [[0.0, \"#0d0887\"], [0.1111111111111111, \"#46039f\"], [0.2222222222222222, \"#7201a8\"], [0.3333333333333333, \"#9c179e\"], [0.4444444444444444, \"#bd3786\"], [0.5555555555555556, \"#d8576b\"], [0.6666666666666666, \"#ed7953\"], [0.7777777777777778, \"#fb9f3a\"], [0.8888888888888888, \"#fdca26\"], [1.0, \"#f0f921\"]], \"type\": \"histogram2dcontour\"}], \"mesh3d\": [{\"colorbar\": {\"outlinewidth\": 0, \"ticks\": \"\"}, \"type\": \"mesh3d\"}], \"parcoords\": [{\"line\": {\"colorbar\": {\"outlinewidth\": 0, \"ticks\": \"\"}}, \"type\": \"parcoords\"}], \"pie\": [{\"automargin\": true, \"type\": \"pie\"}], \"scatter\": [{\"marker\": {\"colorbar\": {\"outlinewidth\": 0, \"ticks\": \"\"}}, \"type\": \"scatter\"}], \"scatter3d\": [{\"line\": {\"colorbar\": {\"outlinewidth\": 0, \"ticks\": \"\"}}, \"marker\": {\"colorbar\": {\"outlinewidth\": 0, \"ticks\": \"\"}}, \"type\": \"scatter3d\"}], \"scattercarpet\": [{\"marker\": {\"colorbar\": {\"outlinewidth\": 0, \"ticks\": \"\"}}, \"type\": \"scattercarpet\"}], \"scattergeo\": [{\"marker\": {\"colorbar\": {\"outlinewidth\": 0, \"ticks\": \"\"}}, \"type\": \"scattergeo\"}], \"scattergl\": [{\"marker\": {\"colorbar\": {\"outlinewidth\": 0, \"ticks\": \"\"}}, \"type\": \"scattergl\"}], \"scattermapbox\": [{\"marker\": {\"colorbar\": {\"outlinewidth\": 0, \"ticks\": \"\"}}, \"type\": \"scattermapbox\"}], \"scatterpolar\": [{\"marker\": {\"colorbar\": {\"outlinewidth\": 0, \"ticks\": \"\"}}, \"type\": \"scatterpolar\"}], \"scatterpolargl\": [{\"marker\": {\"colorbar\": {\"outlinewidth\": 0, \"ticks\": \"\"}}, \"type\": \"scatterpolargl\"}], \"scatterternary\": [{\"marker\": {\"colorbar\": {\"outlinewidth\": 0, \"ticks\": \"\"}}, \"type\": \"scatterternary\"}], \"surface\": [{\"colorbar\": {\"outlinewidth\": 0, \"ticks\": \"\"}, \"colorscale\": [[0.0, \"#0d0887\"], [0.1111111111111111, \"#46039f\"], [0.2222222222222222, \"#7201a8\"], [0.3333333333333333, \"#9c179e\"], [0.4444444444444444, \"#bd3786\"], [0.5555555555555556, \"#d8576b\"], [0.6666666666666666, \"#ed7953\"], [0.7777777777777778, \"#fb9f3a\"], [0.8888888888888888, \"#fdca26\"], [1.0, \"#f0f921\"]], \"type\": \"surface\"}], \"table\": [{\"cells\": {\"fill\": {\"color\": \"#EBF0F8\"}, \"line\": {\"color\": \"white\"}}, \"header\": {\"fill\": {\"color\": \"#C8D4E3\"}, \"line\": {\"color\": \"white\"}}, \"type\": \"table\"}]}, \"layout\": {\"annotationdefaults\": {\"arrowcolor\": \"#2a3f5f\", \"arrowhead\": 0, \"arrowwidth\": 1}, \"coloraxis\": {\"colorbar\": {\"outlinewidth\": 0, \"ticks\": \"\"}}, \"colorscale\": {\"diverging\": [[0, \"#8e0152\"], [0.1, \"#c51b7d\"], [0.2, \"#de77ae\"], [0.3, \"#f1b6da\"], [0.4, \"#fde0ef\"], [0.5, \"#f7f7f7\"], [0.6, \"#e6f5d0\"], [0.7, \"#b8e186\"], [0.8, \"#7fbc41\"], [0.9, \"#4d9221\"], [1, \"#276419\"]], \"sequential\": [[0.0, \"#0d0887\"], [0.1111111111111111, \"#46039f\"], [0.2222222222222222, \"#7201a8\"], [0.3333333333333333, \"#9c179e\"], [0.4444444444444444, \"#bd3786\"], [0.5555555555555556, \"#d8576b\"], [0.6666666666666666, \"#ed7953\"], [0.7777777777777778, \"#fb9f3a\"], [0.8888888888888888, \"#fdca26\"], [1.0, \"#f0f921\"]], \"sequentialminus\": [[0.0, \"#0d0887\"], [0.1111111111111111, \"#46039f\"], [0.2222222222222222, \"#7201a8\"], [0.3333333333333333, \"#9c179e\"], [0.4444444444444444, \"#bd3786\"], [0.5555555555555556, \"#d8576b\"], [0.6666666666666666, \"#ed7953\"], [0.7777777777777778, \"#fb9f3a\"], [0.8888888888888888, \"#fdca26\"], [1.0, \"#f0f921\"]]}, \"colorway\": [\"#636efa\", \"#EF553B\", \"#00cc96\", \"#ab63fa\", \"#FFA15A\", \"#19d3f3\", \"#FF6692\", \"#B6E880\", \"#FF97FF\", \"#FECB52\"], \"font\": {\"color\": \"#2a3f5f\"}, \"geo\": {\"bgcolor\": \"white\", \"lakecolor\": \"white\", \"landcolor\": \"#E5ECF6\", \"showlakes\": true, \"showland\": true, \"subunitcolor\": \"white\"}, \"hoverlabel\": {\"align\": \"left\"}, \"hovermode\": \"closest\", \"mapbox\": {\"style\": \"light\"}, \"paper_bgcolor\": \"white\", \"plot_bgcolor\": \"#E5ECF6\", \"polar\": {\"angularaxis\": {\"gridcolor\": \"white\", \"linecolor\": \"white\", \"ticks\": \"\"}, \"bgcolor\": \"#E5ECF6\", \"radialaxis\": {\"gridcolor\": \"white\", \"linecolor\": \"white\", \"ticks\": \"\"}}, \"scene\": {\"xaxis\": {\"backgroundcolor\": \"#E5ECF6\", \"gridcolor\": \"white\", \"gridwidth\": 2, \"linecolor\": \"white\", \"showbackground\": true, \"ticks\": \"\", \"zerolinecolor\": \"white\"}, \"yaxis\": {\"backgroundcolor\": \"#E5ECF6\", \"gridcolor\": \"white\", \"gridwidth\": 2, \"linecolor\": \"white\", \"showbackground\": true, \"ticks\": \"\", \"zerolinecolor\": \"white\"}, \"zaxis\": {\"backgroundcolor\": \"#E5ECF6\", \"gridcolor\": \"white\", \"gridwidth\": 2, \"linecolor\": \"white\", \"showbackground\": true, \"ticks\": \"\", \"zerolinecolor\": \"white\"}}, \"shapedefaults\": {\"line\": {\"color\": \"#2a3f5f\"}}, \"ternary\": {\"aaxis\": {\"gridcolor\": \"white\", \"linecolor\": \"white\", \"ticks\": \"\"}, \"baxis\": {\"gridcolor\": \"white\", \"linecolor\": \"white\", \"ticks\": \"\"}, \"bgcolor\": \"#E5ECF6\", \"caxis\": {\"gridcolor\": \"white\", \"linecolor\": \"white\", \"ticks\": \"\"}}, \"title\": {\"x\": 0.05}, \"xaxis\": {\"automargin\": true, \"gridcolor\": \"white\", \"linecolor\": \"white\", \"ticks\": \"\", \"title\": {\"standoff\": 15}, \"zerolinecolor\": \"white\", \"zerolinewidth\": 2}, \"yaxis\": {\"automargin\": true, \"gridcolor\": \"white\", \"linecolor\": \"white\", \"ticks\": \"\", \"title\": {\"standoff\": 15}, \"zerolinecolor\": \"white\", \"zerolinewidth\": 2}}}, \"xaxis\": {\"anchor\": \"y\", \"domain\": [0.0, 0.94]}, \"yaxis\": {\"anchor\": \"x\", \"domain\": [0.0, 1.0], \"title\": {\"text\": \"<b>Medal_Count</b>\"}}, \"yaxis2\": {\"anchor\": \"x\", \"overlaying\": \"y\", \"side\": \"right\", \"title\": {\"text\": \"<b>Ratio</b>\"}}},                        {\"responsive\": true}                    ).then(function(){\n",
       "                            \n",
       "var gd = document.getElementById('e8b8c0cb-32c4-4549-afa0-773da5524bab');\n",
       "var x = new MutationObserver(function (mutations, observer) {{\n",
       "        var display = window.getComputedStyle(gd).display;\n",
       "        if (!display || display === 'none') {{\n",
       "            console.log([gd, 'removed!']);\n",
       "            Plotly.purge(gd);\n",
       "            observer.disconnect();\n",
       "        }}\n",
       "}});\n",
       "\n",
       "// Listen for the removal of the full notebook cells\n",
       "var notebookContainer = gd.closest('#notebook-container');\n",
       "if (notebookContainer) {{\n",
       "    x.observe(notebookContainer, {childList: true});\n",
       "}}\n",
       "\n",
       "// Listen for the clearing of the current output cell\n",
       "var outputEl = gd.closest('.output');\n",
       "if (outputEl) {{\n",
       "    x.observe(outputEl, {childList: true});\n",
       "}}\n",
       "\n",
       "                        })                };                });            </script>        </div>"
      ]
     },
     "metadata": {},
     "output_type": "display_data"
    }
   ],
   "source": [
    "import plotly.graph_objects as go\n",
    "from plotly.subplots import make_subplots\n",
    "\n",
    "\n",
    "fig = make_subplots(specs=[[{\"secondary_y\": True}]])\n",
    "\n",
    "fig.update_layout(\n",
    "#     template=\"simple_white\",\n",
    "#     xaxis=dict(title_text=\"Week\"),\n",
    "#     yaxis=dict(title_text=\"Medal Count\"),\n",
    "    barmode=\"stack\",\n",
    ")\n",
    "\n",
    "colors = ['#636EFA', '#EF553B', '#00CC96', '#AB63FA', '#FFA15A', '#19D3F3', '#FF6692']\n",
    "\n",
    "for r, c in zip(df.Sport.unique(), colors):\n",
    "    plot_df = df[df.Sport == r]\n",
    "    plot_df = plot_df.sort_values(by=['Year'])\n",
    "    fig.add_trace(\n",
    "        go.Bar(x=[plot_df.Year, plot_df.Gender], y=plot_df.Number_Medals, name=r, marker_color=c,\n",
    "                  hovertemplate =\n",
    "                    '<b>Medal Count</b>: %{y}'+\n",
    "                    '<br><b>Year</b>: %{x[0]}'+\n",
    "                    '<br><b>Gender</b>: %{x[1]}'\n",
    "        ), secondary_y=False\n",
    "    )\n",
    "\n",
    "fig.add_trace(go.Scatter(\n",
    "    x = [ratio_medals.Year,['Women']*len(df_ratio)],\n",
    "    y = ratio_medals.ratio,\n",
    "    mode='lines+markers',\n",
    "    marker=dict(size=4),\n",
    "    hovertemplate = '<b>Ratio</b>: %{y:.2f}<extra></extra>',\n",
    "    showlegend = False, line = dict(color='black', width=2, dash='dot')), secondary_y=True)\n",
    "    \n",
    "\n",
    "fig.update_layout(\n",
    "    hoverlabel=dict(\n",
    "        bgcolor=\"white\",\n",
    "        font_size=16,\n",
    "        font_family=\"Rockwell\"\n",
    "    )\n",
    ")\n",
    "\n",
    "# Set y-axes titles\n",
    "fig.update_yaxes(title_text=\"<b>Medal_Count</b>\", secondary_y=False)\n",
    "fig.update_yaxes(title_text=\"<b>Ratio</b>\", secondary_y=True)\n",
    "\n",
    "\n",
    "fig.show()"
   ]
  },
  {
   "cell_type": "code",
   "execution_count": 48,
   "metadata": {},
   "outputs": [
    {
     "data": {
      "text/plain": [
       "numpy.int64"
      ]
     },
     "execution_count": 48,
     "metadata": {},
     "output_type": "execute_result"
    }
   ],
   "source": [
    "type(plot_df.Year[202])"
   ]
  },
  {
   "cell_type": "code",
   "execution_count": null,
   "metadata": {},
   "outputs": [],
   "source": []
  }
 ],
 "metadata": {
  "kernelspec": {
   "display_name": "Python 3",
   "language": "python",
   "name": "python3"
  },
  "language_info": {
   "codemirror_mode": {
    "name": "ipython",
    "version": 3
   },
   "file_extension": ".py",
   "mimetype": "text/x-python",
   "name": "python",
   "nbconvert_exporter": "python",
   "pygments_lexer": "ipython3",
   "version": "3.8.3"
  },
  "toc": {
   "base_numbering": 1,
   "nav_menu": {},
   "number_sections": true,
   "sideBar": true,
   "skip_h1_title": false,
   "title_cell": "Table of Contents",
   "title_sidebar": "Contents",
   "toc_cell": false,
   "toc_position": {
    "height": "calc(100% - 180px)",
    "left": "10px",
    "top": "150px",
    "width": "165px"
   },
   "toc_section_display": true,
   "toc_window_display": true
  },
  "varInspector": {
   "cols": {
    "lenName": 16,
    "lenType": 16,
    "lenVar": 40
   },
   "kernels_config": {
    "python": {
     "delete_cmd_postfix": "",
     "delete_cmd_prefix": "del ",
     "library": "var_list.py",
     "varRefreshCmd": "print(var_dic_list())"
    },
    "r": {
     "delete_cmd_postfix": ") ",
     "delete_cmd_prefix": "rm(",
     "library": "var_list.r",
     "varRefreshCmd": "cat(var_dic_list()) "
    }
   },
   "types_to_exclude": [
    "module",
    "function",
    "builtin_function_or_method",
    "instance",
    "_Feature"
   ],
   "window_display": false
  }
 },
 "nbformat": 4,
 "nbformat_minor": 4
}
