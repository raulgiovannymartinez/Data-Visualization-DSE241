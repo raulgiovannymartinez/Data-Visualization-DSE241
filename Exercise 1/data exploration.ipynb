{
 "cells": [
  {
   "cell_type": "code",
   "execution_count": 6,
   "metadata": {},
   "outputs": [
    {
     "data": {
      "application/javascript": [
       "IPython.OutputArea.prototype._should_scroll = function(lines) {\n",
       "    return false;\n",
       "}\n"
      ],
      "text/plain": [
       "<IPython.core.display.Javascript object>"
      ]
     },
     "metadata": {},
     "output_type": "display_data"
    }
   ],
   "source": [
    "%%javascript\n",
    "IPython.OutputArea.prototype._should_scroll = function(lines) {\n",
    "    return false;\n",
    "}"
   ]
  },
  {
   "cell_type": "markdown",
   "metadata": {},
   "source": [
    "## READ DATA"
   ]
  },
  {
   "cell_type": "code",
   "execution_count": 7,
   "metadata": {},
   "outputs": [],
   "source": [
    "import pandas as pd"
   ]
  },
  {
   "cell_type": "code",
   "execution_count": 8,
   "metadata": {},
   "outputs": [],
   "source": [
    "df = pd.read_csv('olympics.csv')"
   ]
  },
  {
   "cell_type": "code",
   "execution_count": 9,
   "metadata": {},
   "outputs": [
    {
     "data": {
      "text/html": [
       "<div>\n",
       "<style scoped>\n",
       "    .dataframe tbody tr th:only-of-type {\n",
       "        vertical-align: middle;\n",
       "    }\n",
       "\n",
       "    .dataframe tbody tr th {\n",
       "        vertical-align: top;\n",
       "    }\n",
       "\n",
       "    .dataframe thead th {\n",
       "        text-align: right;\n",
       "    }\n",
       "</style>\n",
       "<table border=\"1\" class=\"dataframe\">\n",
       "  <thead>\n",
       "    <tr style=\"text-align: right;\">\n",
       "      <th></th>\n",
       "      <th>Year</th>\n",
       "      <th>City</th>\n",
       "      <th>Sport</th>\n",
       "      <th>Discipline</th>\n",
       "      <th>Athlete</th>\n",
       "      <th>Country Code</th>\n",
       "      <th>Country</th>\n",
       "      <th>Gender</th>\n",
       "      <th>Event</th>\n",
       "      <th>Medal</th>\n",
       "    </tr>\n",
       "  </thead>\n",
       "  <tbody>\n",
       "    <tr>\n",
       "      <th>0</th>\n",
       "      <td>1924</td>\n",
       "      <td>Chamonix</td>\n",
       "      <td>Biathlon</td>\n",
       "      <td>Biathlon</td>\n",
       "      <td>BERTHET, G.</td>\n",
       "      <td>FRA</td>\n",
       "      <td>France</td>\n",
       "      <td>Men</td>\n",
       "      <td>Military Patrol</td>\n",
       "      <td>Bronze</td>\n",
       "    </tr>\n",
       "    <tr>\n",
       "      <th>1</th>\n",
       "      <td>1924</td>\n",
       "      <td>Chamonix</td>\n",
       "      <td>Biathlon</td>\n",
       "      <td>Biathlon</td>\n",
       "      <td>MANDRILLON, C.</td>\n",
       "      <td>FRA</td>\n",
       "      <td>France</td>\n",
       "      <td>Men</td>\n",
       "      <td>Military Patrol</td>\n",
       "      <td>Bronze</td>\n",
       "    </tr>\n",
       "    <tr>\n",
       "      <th>2</th>\n",
       "      <td>1924</td>\n",
       "      <td>Chamonix</td>\n",
       "      <td>Biathlon</td>\n",
       "      <td>Biathlon</td>\n",
       "      <td>MANDRILLON, Maurice</td>\n",
       "      <td>FRA</td>\n",
       "      <td>France</td>\n",
       "      <td>Men</td>\n",
       "      <td>Military Patrol</td>\n",
       "      <td>Bronze</td>\n",
       "    </tr>\n",
       "    <tr>\n",
       "      <th>3</th>\n",
       "      <td>1924</td>\n",
       "      <td>Chamonix</td>\n",
       "      <td>Biathlon</td>\n",
       "      <td>Biathlon</td>\n",
       "      <td>VANDELLE, André</td>\n",
       "      <td>FRA</td>\n",
       "      <td>France</td>\n",
       "      <td>Men</td>\n",
       "      <td>Military Patrol</td>\n",
       "      <td>Bronze</td>\n",
       "    </tr>\n",
       "    <tr>\n",
       "      <th>4</th>\n",
       "      <td>1924</td>\n",
       "      <td>Chamonix</td>\n",
       "      <td>Biathlon</td>\n",
       "      <td>Biathlon</td>\n",
       "      <td>AUFDENBLATTEN, Adolf</td>\n",
       "      <td>SUI</td>\n",
       "      <td>Switzerland</td>\n",
       "      <td>Men</td>\n",
       "      <td>Military Patrol</td>\n",
       "      <td>Gold</td>\n",
       "    </tr>\n",
       "  </tbody>\n",
       "</table>\n",
       "</div>"
      ],
      "text/plain": [
       "   Year      City     Sport Discipline               Athlete Country Code  \\\n",
       "0  1924  Chamonix  Biathlon   Biathlon           BERTHET, G.          FRA   \n",
       "1  1924  Chamonix  Biathlon   Biathlon        MANDRILLON, C.          FRA   \n",
       "2  1924  Chamonix  Biathlon   Biathlon   MANDRILLON, Maurice          FRA   \n",
       "3  1924  Chamonix  Biathlon   Biathlon       VANDELLE, André          FRA   \n",
       "4  1924  Chamonix  Biathlon   Biathlon  AUFDENBLATTEN, Adolf          SUI   \n",
       "\n",
       "       Country Gender            Event   Medal  \n",
       "0       France    Men  Military Patrol  Bronze  \n",
       "1       France    Men  Military Patrol  Bronze  \n",
       "2       France    Men  Military Patrol  Bronze  \n",
       "3       France    Men  Military Patrol  Bronze  \n",
       "4  Switzerland    Men  Military Patrol    Gold  "
      ]
     },
     "execution_count": 9,
     "metadata": {},
     "output_type": "execute_result"
    }
   ],
   "source": [
    "df.head()"
   ]
  },
  {
   "cell_type": "code",
   "execution_count": 10,
   "metadata": {},
   "outputs": [
    {
     "data": {
      "text/plain": [
       "Year              22\n",
       "City              19\n",
       "Sport              7\n",
       "Discipline        15\n",
       "Athlete         3761\n",
       "Country Code      45\n",
       "Country           45\n",
       "Gender             2\n",
       "Event             83\n",
       "Medal              3\n",
       "dtype: int64"
      ]
     },
     "execution_count": 10,
     "metadata": {},
     "output_type": "execute_result"
    }
   ],
   "source": [
    "df.nunique()"
   ]
  },
  {
   "cell_type": "markdown",
   "metadata": {},
   "source": [
    "## IDEA 1. Ratio of medals given to male vs. female (split bar char)\n",
    "\n",
    "- show direct trends of inequality for medals given\n",
    "- show how more medals have become available for women over time"
   ]
  },
  {
   "cell_type": "code",
   "execution_count": 11,
   "metadata": {},
   "outputs": [],
   "source": [
    "men_medals = df[df.Gender=='Men'].groupby(['Year']).size()\n",
    "women_medals = df[df.Gender=='Women'].groupby(['Year']).size()\n",
    "\n",
    "ratio_medals = men_medals/women_medals"
   ]
  },
  {
   "cell_type": "code",
   "execution_count": 12,
   "metadata": {},
   "outputs": [
    {
     "data": {
      "text/plain": [
       "Year\n",
       "1924    112\n",
       "1928     83\n",
       "1932    110\n",
       "1936     99\n",
       "1948    125\n",
       "1952    118\n",
       "1956    123\n",
       "1960    108\n",
       "1964    139\n",
       "1968    153\n",
       "1972    155\n",
       "1976    159\n",
       "1980    167\n",
       "1984    168\n",
       "1988    201\n",
       "1992    226\n",
       "1994    232\n",
       "1998    258\n",
       "2002    273\n",
       "2006    299\n",
       "2010    296\n",
       "2014    340\n",
       "dtype: int64"
      ]
     },
     "execution_count": 12,
     "metadata": {},
     "output_type": "execute_result"
    }
   ],
   "source": [
    "men_medals"
   ]
  },
  {
   "cell_type": "code",
   "execution_count": 13,
   "metadata": {},
   "outputs": [
    {
     "data": {
      "text/plain": [
       "Year\n",
       "1924      6\n",
       "1928      6\n",
       "1932      6\n",
       "1936      9\n",
       "1948     15\n",
       "1952     18\n",
       "1956     27\n",
       "1960     39\n",
       "1964     46\n",
       "1968     46\n",
       "1972     45\n",
       "1976     51\n",
       "1980     51\n",
       "1984     54\n",
       "1988     63\n",
       "1992     99\n",
       "1994    111\n",
       "1998    189\n",
       "2002    208\n",
       "2006    232\n",
       "2010    233\n",
       "2014    272\n",
       "dtype: int64"
      ]
     },
     "execution_count": 13,
     "metadata": {},
     "output_type": "execute_result"
    }
   ],
   "source": [
    "women_medals"
   ]
  },
  {
   "cell_type": "code",
   "execution_count": 14,
   "metadata": {},
   "outputs": [
    {
     "data": {
      "text/plain": [
       "Year\n",
       "1924    18.666667\n",
       "1928    13.833333\n",
       "1932    18.333333\n",
       "1936    11.000000\n",
       "1948     8.333333\n",
       "1952     6.555556\n",
       "1956     4.555556\n",
       "1960     2.769231\n",
       "1964     3.021739\n",
       "1968     3.326087\n",
       "1972     3.444444\n",
       "1976     3.117647\n",
       "1980     3.274510\n",
       "1984     3.111111\n",
       "1988     3.190476\n",
       "1992     2.282828\n",
       "1994     2.090090\n",
       "1998     1.365079\n",
       "2002     1.312500\n",
       "2006     1.288793\n",
       "2010     1.270386\n",
       "2014     1.250000\n",
       "dtype: float64"
      ]
     },
     "execution_count": 14,
     "metadata": {},
     "output_type": "execute_result"
    }
   ],
   "source": [
    "ratio_medals"
   ]
  },
  {
   "cell_type": "markdown",
   "metadata": {},
   "source": [
    "## IDEA 2. Gender participation per total number of disciplines existing\n",
    "\n",
    "- metric shows inequality of participation for disciplines available\n",
    "- men were more likely to participate in existing disciplines at the time\n",
    "- not all available discipines welcomed women\n",
    "- good normalized metric to see how more disciplines opened women participation over time\n",
    "- COUNTING PARTICIPANTS AND NOT MEDALS GIVEN"
   ]
  },
  {
   "cell_type": "code",
   "execution_count": 15,
   "metadata": {},
   "outputs": [],
   "source": [
    "# # number of each gender per discipline, for visualization only\n",
    "# y, d, g, c = [], [], [], []\n",
    "# for i in set(df.Year):\n",
    "#     for j in set(df.Discipline):\n",
    "#         for k in set(df.Gender):\n",
    "#             c.append(len(set(df[(df.Year==i)&(df.Discipline==j)&(df.Gender==k)]['Athlete'])))\n",
    "\n",
    "#             y.append(i)\n",
    "#             d.append(j)\n",
    "#             g.append(k)\n",
    "    \n",
    "# df_gender_discipline = pd.DataFrame({'Year':y, 'Discipline':d, 'Gender':g, 'Count':c})\n",
    "\n",
    "# table = pd.pivot_table(df_gender_discipline, values='Count', \n",
    "#                        index=['Discipline', 'Gender'], columns=['Year'])"
   ]
  },
  {
   "cell_type": "code",
   "execution_count": 16,
   "metadata": {},
   "outputs": [],
   "source": [
    "# table"
   ]
  },
  {
   "cell_type": "code",
   "execution_count": 17,
   "metadata": {},
   "outputs": [],
   "source": [
    "# number of unique participants per gender\n",
    "n_participants = df.groupby(['Year', 'Gender'])['Athlete'].nunique()\n",
    "\n",
    "# total number of disciplines\n",
    "n_disciplines = df.groupby(['Year'])['Discipline'].nunique()\n",
    "\n",
    "# ratio of number of participants per discipline\n",
    "n_gender_discipline = n_participants/n_disciplines"
   ]
  },
  {
   "cell_type": "code",
   "execution_count": 18,
   "metadata": {},
   "outputs": [
    {
     "data": {
      "text/plain": [
       "Year  Gender\n",
       "1924  Men        97\n",
       "      Women       6\n",
       "1928  Men        77\n",
       "      Women       6\n",
       "1932  Men       100\n",
       "      Women       6\n",
       "1936  Men        86\n",
       "      Women       9\n",
       "1948  Men       116\n",
       "      Women      12\n",
       "1952  Men       101\n",
       "      Women      15\n",
       "1956  Men       107\n",
       "      Women      24\n",
       "1960  Men        98\n",
       "      Women      33\n",
       "1964  Men       123\n",
       "      Women      33\n",
       "1968  Men       134\n",
       "      Women      33\n",
       "1972  Men       137\n",
       "      Women      33\n",
       "1976  Men       137\n",
       "      Women      38\n",
       "1980  Men       142\n",
       "      Women      43\n",
       "1984  Men       143\n",
       "      Women      39\n",
       "1988  Men       173\n",
       "      Women      42\n",
       "1992  Men       194\n",
       "      Women      76\n",
       "1994  Men       195\n",
       "      Women      86\n",
       "1998  Men       228\n",
       "      Women     158\n",
       "2002  Men       235\n",
       "      Women     175\n",
       "2006  Men       250\n",
       "      Women     198\n",
       "2010  Men       251\n",
       "      Women     199\n",
       "2014  Men       280\n",
       "      Women     229\n",
       "Name: Athlete, dtype: int64"
      ]
     },
     "execution_count": 18,
     "metadata": {},
     "output_type": "execute_result"
    }
   ],
   "source": [
    "n_participants"
   ]
  },
  {
   "cell_type": "code",
   "execution_count": 19,
   "metadata": {},
   "outputs": [
    {
     "data": {
      "text/plain": [
       "Year\n",
       "1924     9\n",
       "1928     8\n",
       "1932     7\n",
       "1936     8\n",
       "1948     9\n",
       "1952     8\n",
       "1956     8\n",
       "1960     8\n",
       "1964    10\n",
       "1968    10\n",
       "1972    10\n",
       "1976    10\n",
       "1980    10\n",
       "1984    10\n",
       "1988    10\n",
       "1992    12\n",
       "1994    12\n",
       "1998    14\n",
       "2002    15\n",
       "2006    15\n",
       "2010    15\n",
       "2014    15\n",
       "Name: Discipline, dtype: int64"
      ]
     },
     "execution_count": 19,
     "metadata": {},
     "output_type": "execute_result"
    }
   ],
   "source": [
    "n_disciplines"
   ]
  },
  {
   "cell_type": "code",
   "execution_count": 20,
   "metadata": {},
   "outputs": [
    {
     "data": {
      "text/plain": [
       "Year  Gender\n",
       "1924  Men       10.777778\n",
       "      Women      0.666667\n",
       "1928  Men        9.625000\n",
       "      Women      0.750000\n",
       "1932  Men       14.285714\n",
       "      Women      0.857143\n",
       "1936  Men       10.750000\n",
       "      Women      1.125000\n",
       "1948  Men       12.888889\n",
       "      Women      1.333333\n",
       "1952  Men       12.625000\n",
       "      Women      1.875000\n",
       "1956  Men       13.375000\n",
       "      Women      3.000000\n",
       "1960  Men       12.250000\n",
       "      Women      4.125000\n",
       "1964  Men       12.300000\n",
       "      Women      3.300000\n",
       "1968  Men       13.400000\n",
       "      Women      3.300000\n",
       "1972  Men       13.700000\n",
       "      Women      3.300000\n",
       "1976  Men       13.700000\n",
       "      Women      3.800000\n",
       "1980  Men       14.200000\n",
       "      Women      4.300000\n",
       "1984  Men       14.300000\n",
       "      Women      3.900000\n",
       "1988  Men       17.300000\n",
       "      Women      4.200000\n",
       "1992  Men       16.166667\n",
       "      Women      6.333333\n",
       "1994  Men       16.250000\n",
       "      Women      7.166667\n",
       "1998  Men       16.285714\n",
       "      Women     11.285714\n",
       "2002  Men       15.666667\n",
       "      Women     11.666667\n",
       "2006  Men       16.666667\n",
       "      Women     13.200000\n",
       "2010  Men       16.733333\n",
       "      Women     13.266667\n",
       "2014  Men       18.666667\n",
       "      Women     15.266667\n",
       "dtype: float64"
      ]
     },
     "execution_count": 20,
     "metadata": {},
     "output_type": "execute_result"
    }
   ],
   "source": [
    "n_gender_discipline"
   ]
  },
  {
   "cell_type": "code",
   "execution_count": 21,
   "metadata": {},
   "outputs": [],
   "source": [
    "# with pd.option_context('display.max_rows', None, 'display.max_columns', None):  # more options can be specified also\n",
    "#     print(df)"
   ]
  },
  {
   "cell_type": "code",
   "execution_count": null,
   "metadata": {},
   "outputs": [],
   "source": []
  },
  {
   "cell_type": "code",
   "execution_count": null,
   "metadata": {},
   "outputs": [],
   "source": []
  }
 ],
 "metadata": {
  "kernelspec": {
   "display_name": "Python 3",
   "language": "python",
   "name": "python3"
  },
  "language_info": {
   "codemirror_mode": {
    "name": "ipython",
    "version": 3
   },
   "file_extension": ".py",
   "mimetype": "text/x-python",
   "name": "python",
   "nbconvert_exporter": "python",
   "pygments_lexer": "ipython3",
   "version": "3.8.3"
  },
  "toc": {
   "base_numbering": 1,
   "nav_menu": {},
   "number_sections": true,
   "sideBar": true,
   "skip_h1_title": false,
   "title_cell": "Table of Contents",
   "title_sidebar": "Contents",
   "toc_cell": false,
   "toc_position": {},
   "toc_section_display": true,
   "toc_window_display": true
  },
  "varInspector": {
   "cols": {
    "lenName": 16,
    "lenType": 16,
    "lenVar": 40
   },
   "kernels_config": {
    "python": {
     "delete_cmd_postfix": "",
     "delete_cmd_prefix": "del ",
     "library": "var_list.py",
     "varRefreshCmd": "print(var_dic_list())"
    },
    "r": {
     "delete_cmd_postfix": ") ",
     "delete_cmd_prefix": "rm(",
     "library": "var_list.r",
     "varRefreshCmd": "cat(var_dic_list()) "
    }
   },
   "types_to_exclude": [
    "module",
    "function",
    "builtin_function_or_method",
    "instance",
    "_Feature"
   ],
   "window_display": false
  }
 },
 "nbformat": 4,
 "nbformat_minor": 4
}
