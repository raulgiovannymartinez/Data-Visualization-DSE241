{
 "cells": [
  {
   "cell_type": "code",
   "execution_count": 1,
   "metadata": {},
   "outputs": [
    {
     "data": {
      "application/javascript": [
       "IPython.OutputArea.prototype._should_scroll = function(lines) {\n",
       "    return false;\n",
       "}\n"
      ],
      "text/plain": [
       "<IPython.core.display.Javascript object>"
      ]
     },
     "metadata": {},
     "output_type": "display_data"
    }
   ],
   "source": [
    "%%javascript\n",
    "IPython.OutputArea.prototype._should_scroll = function(lines) {\n",
    "    return false;\n",
    "}"
   ]
  },
  {
   "cell_type": "markdown",
   "metadata": {},
   "source": [
    "## Read and Prepare Data"
   ]
  },
  {
   "cell_type": "code",
   "execution_count": 2,
   "metadata": {},
   "outputs": [
    {
     "data": {
      "text/html": [
       "<div>\n",
       "<style scoped>\n",
       "    .dataframe tbody tr th:only-of-type {\n",
       "        vertical-align: middle;\n",
       "    }\n",
       "\n",
       "    .dataframe tbody tr th {\n",
       "        vertical-align: top;\n",
       "    }\n",
       "\n",
       "    .dataframe thead th {\n",
       "        text-align: right;\n",
       "    }\n",
       "</style>\n",
       "<table border=\"1\" class=\"dataframe\">\n",
       "  <thead>\n",
       "    <tr style=\"text-align: right;\">\n",
       "      <th></th>\n",
       "      <th>Year</th>\n",
       "      <th>City</th>\n",
       "      <th>Sport</th>\n",
       "      <th>Discipline</th>\n",
       "      <th>Athlete</th>\n",
       "      <th>Country Code</th>\n",
       "      <th>Country</th>\n",
       "      <th>Gender</th>\n",
       "      <th>Event</th>\n",
       "      <th>Medal</th>\n",
       "    </tr>\n",
       "  </thead>\n",
       "  <tbody>\n",
       "    <tr>\n",
       "      <th>0</th>\n",
       "      <td>1924</td>\n",
       "      <td>Chamonix</td>\n",
       "      <td>Biathlon</td>\n",
       "      <td>Biathlon</td>\n",
       "      <td>BERTHET, G.</td>\n",
       "      <td>FRA</td>\n",
       "      <td>France</td>\n",
       "      <td>Men</td>\n",
       "      <td>Military Patrol</td>\n",
       "      <td>Bronze</td>\n",
       "    </tr>\n",
       "    <tr>\n",
       "      <th>1</th>\n",
       "      <td>1924</td>\n",
       "      <td>Chamonix</td>\n",
       "      <td>Biathlon</td>\n",
       "      <td>Biathlon</td>\n",
       "      <td>MANDRILLON, C.</td>\n",
       "      <td>FRA</td>\n",
       "      <td>France</td>\n",
       "      <td>Men</td>\n",
       "      <td>Military Patrol</td>\n",
       "      <td>Bronze</td>\n",
       "    </tr>\n",
       "    <tr>\n",
       "      <th>2</th>\n",
       "      <td>1924</td>\n",
       "      <td>Chamonix</td>\n",
       "      <td>Biathlon</td>\n",
       "      <td>Biathlon</td>\n",
       "      <td>MANDRILLON, Maurice</td>\n",
       "      <td>FRA</td>\n",
       "      <td>France</td>\n",
       "      <td>Men</td>\n",
       "      <td>Military Patrol</td>\n",
       "      <td>Bronze</td>\n",
       "    </tr>\n",
       "    <tr>\n",
       "      <th>3</th>\n",
       "      <td>1924</td>\n",
       "      <td>Chamonix</td>\n",
       "      <td>Biathlon</td>\n",
       "      <td>Biathlon</td>\n",
       "      <td>VANDELLE, André</td>\n",
       "      <td>FRA</td>\n",
       "      <td>France</td>\n",
       "      <td>Men</td>\n",
       "      <td>Military Patrol</td>\n",
       "      <td>Bronze</td>\n",
       "    </tr>\n",
       "    <tr>\n",
       "      <th>4</th>\n",
       "      <td>1924</td>\n",
       "      <td>Chamonix</td>\n",
       "      <td>Biathlon</td>\n",
       "      <td>Biathlon</td>\n",
       "      <td>AUFDENBLATTEN, Adolf</td>\n",
       "      <td>SUI</td>\n",
       "      <td>Switzerland</td>\n",
       "      <td>Men</td>\n",
       "      <td>Military Patrol</td>\n",
       "      <td>Gold</td>\n",
       "    </tr>\n",
       "  </tbody>\n",
       "</table>\n",
       "</div>"
      ],
      "text/plain": [
       "   Year      City     Sport Discipline               Athlete Country Code  \\\n",
       "0  1924  Chamonix  Biathlon   Biathlon           BERTHET, G.          FRA   \n",
       "1  1924  Chamonix  Biathlon   Biathlon        MANDRILLON, C.          FRA   \n",
       "2  1924  Chamonix  Biathlon   Biathlon   MANDRILLON, Maurice          FRA   \n",
       "3  1924  Chamonix  Biathlon   Biathlon       VANDELLE, André          FRA   \n",
       "4  1924  Chamonix  Biathlon   Biathlon  AUFDENBLATTEN, Adolf          SUI   \n",
       "\n",
       "       Country Gender            Event   Medal  \n",
       "0       France    Men  Military Patrol  Bronze  \n",
       "1       France    Men  Military Patrol  Bronze  \n",
       "2       France    Men  Military Patrol  Bronze  \n",
       "3       France    Men  Military Patrol  Bronze  \n",
       "4  Switzerland    Men  Military Patrol    Gold  "
      ]
     },
     "execution_count": 2,
     "metadata": {},
     "output_type": "execute_result"
    }
   ],
   "source": [
    "import pandas as pd\n",
    "\n",
    "df = pd.read_csv(r'data\\olympics.csv')\n",
    "df.head()"
   ]
  },
  {
   "cell_type": "code",
   "execution_count": 3,
   "metadata": {},
   "outputs": [
    {
     "data": {
      "text/html": [
       "<div>\n",
       "<style scoped>\n",
       "    .dataframe tbody tr th:only-of-type {\n",
       "        vertical-align: middle;\n",
       "    }\n",
       "\n",
       "    .dataframe tbody tr th {\n",
       "        vertical-align: top;\n",
       "    }\n",
       "\n",
       "    .dataframe thead th {\n",
       "        text-align: right;\n",
       "    }\n",
       "</style>\n",
       "<table border=\"1\" class=\"dataframe\">\n",
       "  <thead>\n",
       "    <tr style=\"text-align: right;\">\n",
       "      <th></th>\n",
       "      <th>Year</th>\n",
       "      <th>Gender</th>\n",
       "      <th>Sport</th>\n",
       "      <th>count_medals</th>\n",
       "    </tr>\n",
       "  </thead>\n",
       "  <tbody>\n",
       "    <tr>\n",
       "      <th>0</th>\n",
       "      <td>1924</td>\n",
       "      <td>Men</td>\n",
       "      <td>Biathlon</td>\n",
       "      <td>12.0</td>\n",
       "    </tr>\n",
       "    <tr>\n",
       "      <th>1</th>\n",
       "      <td>1924</td>\n",
       "      <td>Men</td>\n",
       "      <td>Bobsleigh</td>\n",
       "      <td>13.0</td>\n",
       "    </tr>\n",
       "    <tr>\n",
       "      <th>2</th>\n",
       "      <td>1924</td>\n",
       "      <td>Men</td>\n",
       "      <td>Curling</td>\n",
       "      <td>22.0</td>\n",
       "    </tr>\n",
       "    <tr>\n",
       "      <th>3</th>\n",
       "      <td>1924</td>\n",
       "      <td>Men</td>\n",
       "      <td>Ice Hockey</td>\n",
       "      <td>31.0</td>\n",
       "    </tr>\n",
       "    <tr>\n",
       "      <th>4</th>\n",
       "      <td>1924</td>\n",
       "      <td>Men</td>\n",
       "      <td>Skating</td>\n",
       "      <td>22.0</td>\n",
       "    </tr>\n",
       "  </tbody>\n",
       "</table>\n",
       "</div>"
      ],
      "text/plain": [
       "   Year Gender       Sport  count_medals\n",
       "0  1924    Men    Biathlon          12.0\n",
       "1  1924    Men   Bobsleigh          13.0\n",
       "2  1924    Men     Curling          22.0\n",
       "3  1924    Men  Ice Hockey          31.0\n",
       "4  1924    Men     Skating          22.0"
      ]
     },
     "execution_count": 3,
     "metadata": {},
     "output_type": "execute_result"
    }
   ],
   "source": [
    "# dataframe for sports\n",
    "S = df.groupby(['Year', 'Gender', 'Sport']).size().to_frame('count').reset_index()\n",
    "\n",
    "# dummy dataframe to add zeros to null sports\n",
    "data = []\n",
    "for y in set(S.Year):\n",
    "    for s in set(S.Sport):\n",
    "        for g in set(S.Gender):\n",
    "            data.append((y, s, g))\n",
    "D = pd.DataFrame(data, columns=[\"Year\", \"Sport\", \"Gender\"])\n",
    "D['count'] = 0\n",
    "\n",
    "# left join and fill NAs with zeros\n",
    "df_sport = S.merge(D, on=['Year', 'Gender', 'Sport'], how='right')\n",
    "\n",
    "df_sport = df_sport.drop('count_y', axis=1)\n",
    "df_sport = df_sport.rename(columns={'count_x': 'count_medals'})\n",
    "\n",
    "df_sport['count_medals'] = df_sport['count_medals'].fillna(0)\n",
    "\n",
    "df_sport.head()"
   ]
  },
  {
   "cell_type": "code",
   "execution_count": 4,
   "metadata": {},
   "outputs": [
    {
     "data": {
      "text/html": [
       "<div>\n",
       "<style scoped>\n",
       "    .dataframe tbody tr th:only-of-type {\n",
       "        vertical-align: middle;\n",
       "    }\n",
       "\n",
       "    .dataframe tbody tr th {\n",
       "        vertical-align: top;\n",
       "    }\n",
       "\n",
       "    .dataframe thead th {\n",
       "        text-align: right;\n",
       "    }\n",
       "</style>\n",
       "<table border=\"1\" class=\"dataframe\">\n",
       "  <thead>\n",
       "    <tr style=\"text-align: right;\">\n",
       "      <th></th>\n",
       "      <th>Year</th>\n",
       "      <th>ratio</th>\n",
       "    </tr>\n",
       "  </thead>\n",
       "  <tbody>\n",
       "    <tr>\n",
       "      <th>0</th>\n",
       "      <td>1924</td>\n",
       "      <td>0.053571</td>\n",
       "    </tr>\n",
       "    <tr>\n",
       "      <th>1</th>\n",
       "      <td>1928</td>\n",
       "      <td>0.072289</td>\n",
       "    </tr>\n",
       "    <tr>\n",
       "      <th>2</th>\n",
       "      <td>1932</td>\n",
       "      <td>0.054545</td>\n",
       "    </tr>\n",
       "    <tr>\n",
       "      <th>3</th>\n",
       "      <td>1936</td>\n",
       "      <td>0.090909</td>\n",
       "    </tr>\n",
       "    <tr>\n",
       "      <th>4</th>\n",
       "      <td>1948</td>\n",
       "      <td>0.120000</td>\n",
       "    </tr>\n",
       "  </tbody>\n",
       "</table>\n",
       "</div>"
      ],
      "text/plain": [
       "   Year     ratio\n",
       "0  1924  0.053571\n",
       "1  1928  0.072289\n",
       "2  1932  0.054545\n",
       "3  1936  0.090909\n",
       "4  1948  0.120000"
      ]
     },
     "execution_count": 4,
     "metadata": {},
     "output_type": "execute_result"
    }
   ],
   "source": [
    "# generate dataframe for ratio, number of medals women by men\n",
    "men_medals = df[df.Gender=='Men'].groupby(['Year']).size()\n",
    "women_medals = df[df.Gender=='Women'].groupby(['Year']).size()\n",
    "\n",
    "df_ratio = women_medals/men_medals\n",
    "\n",
    "df_ratio = df_ratio.reset_index(name='ratio')\n",
    "\n",
    "df_ratio.head()"
   ]
  },
  {
   "cell_type": "markdown",
   "metadata": {},
   "source": [
    "## Generate Plot"
   ]
  },
  {
   "cell_type": "code",
   "execution_count": 17,
   "metadata": {},
   "outputs": [
    {
     "data": {
      "application/vnd.plotly.v1+json": {
       "config": {
        "plotlyServerURL": "https://plot.ly"
       },
       "data": [
        {
         "hovertemplate": "<b>Medals</b>: %{y}<br><b>Year</b>: %{x[0]}<br><b>Gender</b>: %{x[1]}<br><b>Sport</b>: %{text}<extra></extra>",
         "marker": {
          "color": "#762a83",
          "line": {
           "color": "rgb(8,48,107)",
           "width": 1
          }
         },
         "name": "Biathlon",
         "text": [
          "Biathlon",
          "Biathlon",
          "Biathlon",
          "Biathlon",
          "Biathlon",
          "Biathlon",
          "Biathlon",
          "Biathlon",
          "Biathlon",
          "Biathlon",
          "Biathlon",
          "Biathlon",
          "Biathlon",
          "Biathlon",
          "Biathlon",
          "Biathlon",
          "Biathlon",
          "Biathlon",
          "Biathlon",
          "Biathlon",
          "Biathlon",
          "Biathlon",
          "Biathlon",
          "Biathlon",
          "Biathlon",
          "Biathlon",
          "Biathlon",
          "Biathlon",
          "Biathlon",
          "Biathlon",
          "Biathlon",
          "Biathlon",
          "Biathlon",
          "Biathlon",
          "Biathlon",
          "Biathlon",
          "Biathlon",
          "Biathlon",
          "Biathlon",
          "Biathlon",
          "Biathlon",
          "Biathlon",
          "Biathlon",
          "Biathlon"
         ],
         "type": "bar",
         "x": [
          [
           1924,
           1924,
           1928,
           1928,
           1932,
           1932,
           1936,
           1936,
           1948,
           1948,
           1952,
           1952,
           1956,
           1956,
           1960,
           1960,
           1964,
           1964,
           1968,
           1968,
           1972,
           1972,
           1976,
           1976,
           1980,
           1980,
           1984,
           1984,
           1988,
           1988,
           1992,
           1992,
           1994,
           1994,
           1998,
           1998,
           2002,
           2002,
           2006,
           2006,
           2010,
           2010,
           2014,
           2014
          ],
          [
           "Men",
           "Women",
           "Women",
           "Men",
           "Men",
           "Women",
           "Men",
           "Women",
           "Men",
           "Women",
           "Women",
           "Men",
           "Men",
           "Women",
           "Men",
           "Women",
           "Women",
           "Men",
           "Women",
           "Men",
           "Women",
           "Men",
           "Men",
           "Women",
           "Women",
           "Men",
           "Women",
           "Men",
           "Women",
           "Men",
           "Women",
           "Men",
           "Women",
           "Men",
           "Women",
           "Men",
           "Women",
           "Men",
           "Women",
           "Men",
           "Women",
           "Men",
           "Women",
           "Men"
          ]
         ],
         "xaxis": "x",
         "y": [
          12,
          0,
          0,
          0,
          0,
          0,
          0,
          0,
          0,
          0,
          0,
          0,
          0,
          0,
          3,
          0,
          0,
          3,
          0,
          15,
          0,
          15,
          15,
          0,
          0,
          18,
          0,
          18,
          0,
          18,
          15,
          18,
          18,
          18,
          18,
          18,
          21,
          21,
          24,
          24,
          24,
          24,
          30,
          30
         ],
         "yaxis": "y"
        },
        {
         "hovertemplate": "<b>Medals</b>: %{y}<br><b>Year</b>: %{x[0]}<br><b>Gender</b>: %{x[1]}<br><b>Sport</b>: %{text}<extra></extra>",
         "marker": {
          "color": "#af8dc3",
          "line": {
           "color": "rgb(8,48,107)",
           "width": 1
          }
         },
         "name": "Bobsleigh",
         "text": [
          "Bobsleigh",
          "Bobsleigh",
          "Bobsleigh",
          "Bobsleigh",
          "Bobsleigh",
          "Bobsleigh",
          "Bobsleigh",
          "Bobsleigh",
          "Bobsleigh",
          "Bobsleigh",
          "Bobsleigh",
          "Bobsleigh",
          "Bobsleigh",
          "Bobsleigh",
          "Bobsleigh",
          "Bobsleigh",
          "Bobsleigh",
          "Bobsleigh",
          "Bobsleigh",
          "Bobsleigh",
          "Bobsleigh",
          "Bobsleigh",
          "Bobsleigh",
          "Bobsleigh",
          "Bobsleigh",
          "Bobsleigh",
          "Bobsleigh",
          "Bobsleigh",
          "Bobsleigh",
          "Bobsleigh",
          "Bobsleigh",
          "Bobsleigh",
          "Bobsleigh",
          "Bobsleigh",
          "Bobsleigh",
          "Bobsleigh",
          "Bobsleigh",
          "Bobsleigh",
          "Bobsleigh",
          "Bobsleigh",
          "Bobsleigh",
          "Bobsleigh",
          "Bobsleigh",
          "Bobsleigh"
         ],
         "type": "bar",
         "x": [
          [
           1924,
           1924,
           1928,
           1928,
           1932,
           1932,
           1936,
           1936,
           1948,
           1948,
           1952,
           1952,
           1956,
           1956,
           1960,
           1960,
           1964,
           1964,
           1968,
           1968,
           1972,
           1972,
           1976,
           1976,
           1980,
           1980,
           1984,
           1984,
           1988,
           1988,
           1992,
           1992,
           1994,
           1994,
           1998,
           1998,
           2002,
           2002,
           2006,
           2006,
           2010,
           2010,
           2014,
           2014
          ],
          [
           "Men",
           "Women",
           "Men",
           "Women",
           "Men",
           "Women",
           "Men",
           "Women",
           "Men",
           "Women",
           "Men",
           "Women",
           "Men",
           "Women",
           "Men",
           "Women",
           "Women",
           "Men",
           "Women",
           "Men",
           "Women",
           "Men",
           "Women",
           "Men",
           "Women",
           "Men",
           "Women",
           "Men",
           "Women",
           "Men",
           "Men",
           "Women",
           "Women",
           "Men",
           "Women",
           "Men",
           "Women",
           "Men",
           "Women",
           "Men",
           "Women",
           "Men",
           "Men",
           "Women"
          ]
         ],
         "xaxis": "x",
         "y": [
          13,
          0,
          18,
          0,
          42,
          0,
          18,
          0,
          21,
          0,
          18,
          0,
          18,
          0,
          0,
          0,
          0,
          18,
          0,
          18,
          0,
          18,
          0,
          18,
          0,
          18,
          0,
          18,
          0,
          18,
          18,
          0,
          0,
          18,
          0,
          22,
          9,
          21,
          9,
          21,
          9,
          21,
          21,
          9
         ],
         "yaxis": "y"
        },
        {
         "hovertemplate": "<b>Medals</b>: %{y}<br><b>Year</b>: %{x[0]}<br><b>Gender</b>: %{x[1]}<br><b>Sport</b>: %{text}<extra></extra>",
         "marker": {
          "color": "#e7d4e8",
          "line": {
           "color": "rgb(8,48,107)",
           "width": 1
          }
         },
         "name": "Curling",
         "text": [
          "Curling",
          "Curling",
          "Curling",
          "Curling",
          "Curling",
          "Curling",
          "Curling",
          "Curling",
          "Curling",
          "Curling",
          "Curling",
          "Curling",
          "Curling",
          "Curling",
          "Curling",
          "Curling",
          "Curling",
          "Curling",
          "Curling",
          "Curling",
          "Curling",
          "Curling",
          "Curling",
          "Curling",
          "Curling",
          "Curling",
          "Curling",
          "Curling",
          "Curling",
          "Curling",
          "Curling",
          "Curling",
          "Curling",
          "Curling",
          "Curling",
          "Curling",
          "Curling",
          "Curling",
          "Curling",
          "Curling",
          "Curling",
          "Curling",
          "Curling",
          "Curling"
         ],
         "type": "bar",
         "x": [
          [
           1924,
           1924,
           1928,
           1928,
           1932,
           1932,
           1936,
           1936,
           1948,
           1948,
           1952,
           1952,
           1956,
           1956,
           1960,
           1960,
           1964,
           1964,
           1968,
           1968,
           1972,
           1972,
           1976,
           1976,
           1980,
           1980,
           1984,
           1984,
           1988,
           1988,
           1992,
           1992,
           1994,
           1994,
           1998,
           1998,
           2002,
           2002,
           2006,
           2006,
           2010,
           2010,
           2014,
           2014
          ],
          [
           "Men",
           "Women",
           "Women",
           "Men",
           "Women",
           "Men",
           "Women",
           "Men",
           "Women",
           "Men",
           "Men",
           "Women",
           "Women",
           "Men",
           "Women",
           "Men",
           "Women",
           "Men",
           "Women",
           "Men",
           "Men",
           "Women",
           "Men",
           "Women",
           "Women",
           "Men",
           "Men",
           "Women",
           "Men",
           "Women",
           "Men",
           "Women",
           "Women",
           "Men",
           "Men",
           "Women",
           "Men",
           "Women",
           "Men",
           "Women",
           "Men",
           "Women",
           "Women",
           "Men"
          ]
         ],
         "xaxis": "x",
         "y": [
          22,
          0,
          0,
          0,
          0,
          0,
          0,
          0,
          0,
          0,
          0,
          0,
          0,
          0,
          0,
          0,
          0,
          0,
          0,
          0,
          0,
          0,
          0,
          0,
          0,
          0,
          0,
          0,
          0,
          0,
          0,
          0,
          0,
          0,
          15,
          15,
          15,
          15,
          15,
          15,
          15,
          15,
          15,
          15
         ],
         "yaxis": "y"
        },
        {
         "hovertemplate": "<b>Medals</b>: %{y}<br><b>Year</b>: %{x[0]}<br><b>Gender</b>: %{x[1]}<br><b>Sport</b>: %{text}<extra></extra>",
         "marker": {
          "color": "#f7f7f7",
          "line": {
           "color": "rgb(8,48,107)",
           "width": 1
          }
         },
         "name": "Ice Hockey",
         "text": [
          "Ice Hockey",
          "Ice Hockey",
          "Ice Hockey",
          "Ice Hockey",
          "Ice Hockey",
          "Ice Hockey",
          "Ice Hockey",
          "Ice Hockey",
          "Ice Hockey",
          "Ice Hockey",
          "Ice Hockey",
          "Ice Hockey",
          "Ice Hockey",
          "Ice Hockey",
          "Ice Hockey",
          "Ice Hockey",
          "Ice Hockey",
          "Ice Hockey",
          "Ice Hockey",
          "Ice Hockey",
          "Ice Hockey",
          "Ice Hockey",
          "Ice Hockey",
          "Ice Hockey",
          "Ice Hockey",
          "Ice Hockey",
          "Ice Hockey",
          "Ice Hockey",
          "Ice Hockey",
          "Ice Hockey",
          "Ice Hockey",
          "Ice Hockey",
          "Ice Hockey",
          "Ice Hockey",
          "Ice Hockey",
          "Ice Hockey",
          "Ice Hockey",
          "Ice Hockey",
          "Ice Hockey",
          "Ice Hockey",
          "Ice Hockey",
          "Ice Hockey",
          "Ice Hockey",
          "Ice Hockey"
         ],
         "type": "bar",
         "x": [
          [
           1924,
           1924,
           1928,
           1928,
           1932,
           1932,
           1936,
           1936,
           1948,
           1948,
           1952,
           1952,
           1956,
           1956,
           1960,
           1960,
           1964,
           1964,
           1968,
           1968,
           1972,
           1972,
           1976,
           1976,
           1980,
           1980,
           1984,
           1984,
           1988,
           1988,
           1992,
           1992,
           1994,
           1994,
           1998,
           1998,
           2002,
           2002,
           2006,
           2006,
           2010,
           2010,
           2014,
           2014
          ],
          [
           "Men",
           "Women",
           "Men",
           "Women",
           "Men",
           "Women",
           "Men",
           "Women",
           "Women",
           "Men",
           "Men",
           "Women",
           "Men",
           "Women",
           "Men",
           "Women",
           "Women",
           "Men",
           "Men",
           "Women",
           "Women",
           "Men",
           "Men",
           "Women",
           "Women",
           "Men",
           "Women",
           "Men",
           "Women",
           "Men",
           "Women",
           "Men",
           "Women",
           "Men",
           "Women",
           "Men",
           "Women",
           "Men",
           "Women",
           "Men",
           "Women",
           "Men",
           "Men",
           "Women"
          ]
         ],
         "xaxis": "x",
         "y": [
          31,
          0,
          36,
          0,
          38,
          0,
          36,
          0,
          0,
          51,
          48,
          0,
          51,
          0,
          51,
          0,
          0,
          50,
          54,
          0,
          0,
          56,
          54,
          0,
          0,
          58,
          0,
          60,
          0,
          66,
          0,
          69,
          0,
          68,
          60,
          68,
          60,
          69,
          59,
          73,
          63,
          69,
          75,
          63
         ],
         "yaxis": "y"
        },
        {
         "hovertemplate": "<b>Medals</b>: %{y}<br><b>Year</b>: %{x[0]}<br><b>Gender</b>: %{x[1]}<br><b>Sport</b>: %{text}<extra></extra>",
         "marker": {
          "color": "#d9f0d3",
          "line": {
           "color": "rgb(8,48,107)",
           "width": 1
          }
         },
         "name": "Skating",
         "text": [
          "Skating",
          "Skating",
          "Skating",
          "Skating",
          "Skating",
          "Skating",
          "Skating",
          "Skating",
          "Skating",
          "Skating",
          "Skating",
          "Skating",
          "Skating",
          "Skating",
          "Skating",
          "Skating",
          "Skating",
          "Skating",
          "Skating",
          "Skating",
          "Skating",
          "Skating",
          "Skating",
          "Skating",
          "Skating",
          "Skating",
          "Skating",
          "Skating",
          "Skating",
          "Skating",
          "Skating",
          "Skating",
          "Skating",
          "Skating",
          "Skating",
          "Skating",
          "Skating",
          "Skating",
          "Skating",
          "Skating",
          "Skating",
          "Skating",
          "Skating",
          "Skating"
         ],
         "type": "bar",
         "x": [
          [
           1924,
           1924,
           1928,
           1928,
           1932,
           1932,
           1936,
           1936,
           1948,
           1948,
           1952,
           1952,
           1956,
           1956,
           1960,
           1960,
           1964,
           1964,
           1968,
           1968,
           1972,
           1972,
           1976,
           1976,
           1980,
           1980,
           1984,
           1984,
           1988,
           1988,
           1992,
           1992,
           1994,
           1994,
           1998,
           1998,
           2002,
           2002,
           2006,
           2006,
           2010,
           2010,
           2014,
           2014
          ],
          [
           "Men",
           "Women",
           "Men",
           "Women",
           "Men",
           "Women",
           "Men",
           "Women",
           "Women",
           "Men",
           "Men",
           "Women",
           "Men",
           "Women",
           "Men",
           "Women",
           "Men",
           "Women",
           "Men",
           "Women",
           "Women",
           "Men",
           "Men",
           "Women",
           "Men",
           "Women",
           "Men",
           "Women",
           "Men",
           "Women",
           "Women",
           "Men",
           "Women",
           "Men",
           "Men",
           "Women",
           "Men",
           "Women",
           "Men",
           "Women",
           "Men",
           "Women",
           "Men",
           "Women"
          ]
         ],
         "xaxis": "x",
         "y": [
          22,
          6,
          17,
          6,
          18,
          6,
          18,
          6,
          6,
          19,
          19,
          6,
          18,
          6,
          18,
          18,
          20,
          19,
          18,
          19,
          18,
          18,
          24,
          21,
          25,
          21,
          24,
          21,
          24,
          24,
          39,
          40,
          45,
          44,
          42,
          42,
          48,
          46,
          61,
          62,
          59,
          56,
          69,
          71
         ],
         "yaxis": "y"
        },
        {
         "hovertemplate": "<b>Medals</b>: %{y}<br><b>Year</b>: %{x[0]}<br><b>Gender</b>: %{x[1]}<br><b>Sport</b>: %{text}<extra></extra>",
         "marker": {
          "color": "#7fbf7b",
          "line": {
           "color": "rgb(8,48,107)",
           "width": 1
          }
         },
         "name": "Skiing",
         "text": [
          "Skiing",
          "Skiing",
          "Skiing",
          "Skiing",
          "Skiing",
          "Skiing",
          "Skiing",
          "Skiing",
          "Skiing",
          "Skiing",
          "Skiing",
          "Skiing",
          "Skiing",
          "Skiing",
          "Skiing",
          "Skiing",
          "Skiing",
          "Skiing",
          "Skiing",
          "Skiing",
          "Skiing",
          "Skiing",
          "Skiing",
          "Skiing",
          "Skiing",
          "Skiing",
          "Skiing",
          "Skiing",
          "Skiing",
          "Skiing",
          "Skiing",
          "Skiing",
          "Skiing",
          "Skiing",
          "Skiing",
          "Skiing",
          "Skiing",
          "Skiing",
          "Skiing",
          "Skiing",
          "Skiing",
          "Skiing",
          "Skiing",
          "Skiing"
         ],
         "type": "bar",
         "x": [
          [
           1924,
           1924,
           1928,
           1928,
           1932,
           1932,
           1936,
           1936,
           1948,
           1948,
           1952,
           1952,
           1956,
           1956,
           1960,
           1960,
           1964,
           1964,
           1968,
           1968,
           1972,
           1972,
           1976,
           1976,
           1980,
           1980,
           1984,
           1984,
           1988,
           1988,
           1992,
           1992,
           1994,
           1994,
           1998,
           1998,
           2002,
           2002,
           2006,
           2006,
           2010,
           2010,
           2014,
           2014
          ],
          [
           "Men",
           "Women",
           "Men",
           "Women",
           "Women",
           "Men",
           "Women",
           "Men",
           "Men",
           "Women",
           "Men",
           "Women",
           "Men",
           "Women",
           "Men",
           "Women",
           "Men",
           "Women",
           "Men",
           "Women",
           "Men",
           "Women",
           "Men",
           "Women",
           "Men",
           "Women",
           "Women",
           "Men",
           "Men",
           "Women",
           "Men",
           "Women",
           "Men",
           "Women",
           "Men",
           "Women",
           "Men",
           "Women",
           "Men",
           "Women",
           "Men",
           "Women",
           "Men",
           "Women"
          ]
         ],
         "xaxis": "x",
         "y": [
          12,
          0,
          12,
          0,
          0,
          12,
          3,
          27,
          34,
          9,
          33,
          12,
          36,
          21,
          36,
          21,
          39,
          24,
          39,
          24,
          39,
          24,
          39,
          27,
          39,
          27,
          30,
          39,
          66,
          36,
          72,
          42,
          75,
          45,
          84,
          51,
          90,
          54,
          96,
          60,
          99,
          63,
          112,
          78
         ],
         "yaxis": "y"
        },
        {
         "hovertemplate": "<b>Medals</b>: %{y}<br><b>Year</b>: %{x[0]}<br><b>Gender</b>: %{x[1]}<br><b>Sport</b>: %{text}<extra></extra>",
         "marker": {
          "color": "#1b7837",
          "line": {
           "color": "rgb(8,48,107)",
           "width": 1
          }
         },
         "name": "Luge",
         "text": [
          "Luge",
          "Luge",
          "Luge",
          "Luge",
          "Luge",
          "Luge",
          "Luge",
          "Luge",
          "Luge",
          "Luge",
          "Luge",
          "Luge",
          "Luge",
          "Luge",
          "Luge",
          "Luge",
          "Luge",
          "Luge",
          "Luge",
          "Luge",
          "Luge",
          "Luge",
          "Luge",
          "Luge",
          "Luge",
          "Luge",
          "Luge",
          "Luge",
          "Luge",
          "Luge",
          "Luge",
          "Luge",
          "Luge",
          "Luge",
          "Luge",
          "Luge",
          "Luge",
          "Luge",
          "Luge",
          "Luge",
          "Luge",
          "Luge",
          "Luge",
          "Luge"
         ],
         "type": "bar",
         "x": [
          [
           1924,
           1924,
           1928,
           1928,
           1932,
           1932,
           1936,
           1936,
           1948,
           1948,
           1952,
           1952,
           1956,
           1956,
           1960,
           1960,
           1964,
           1964,
           1968,
           1968,
           1972,
           1972,
           1976,
           1976,
           1980,
           1980,
           1984,
           1984,
           1988,
           1988,
           1992,
           1992,
           1994,
           1994,
           1998,
           1998,
           2002,
           2002,
           2006,
           2006,
           2010,
           2010,
           2014,
           2014
          ],
          [
           "Women",
           "Men",
           "Women",
           "Men",
           "Women",
           "Men",
           "Women",
           "Men",
           "Women",
           "Men",
           "Women",
           "Men",
           "Women",
           "Men",
           "Women",
           "Men",
           "Men",
           "Women",
           "Men",
           "Women",
           "Men",
           "Women",
           "Men",
           "Women",
           "Men",
           "Women",
           "Men",
           "Women",
           "Men",
           "Women",
           "Women",
           "Men",
           "Women",
           "Men",
           "Women",
           "Men",
           "Men",
           "Women",
           "Women",
           "Men",
           "Women",
           "Men",
           "Women",
           "Men"
          ]
         ],
         "xaxis": "x",
         "y": [
          0,
          0,
          0,
          0,
          0,
          0,
          0,
          0,
          0,
          0,
          0,
          0,
          0,
          0,
          0,
          0,
          9,
          3,
          9,
          3,
          9,
          3,
          9,
          3,
          9,
          3,
          9,
          3,
          9,
          3,
          3,
          9,
          3,
          9,
          3,
          9,
          9,
          3,
          3,
          9,
          3,
          9,
          6,
          18
         ],
         "yaxis": "y"
        },
        {
         "hovertemplate": "<b>Medals Ratio</b>: %{y:.2f}<br><b>Year</b>: %{x[0]}<extra></extra>",
         "line": {
          "color": "Black",
          "dash": "dot",
          "width": 2
         },
         "marker": {
          "size": 5
         },
         "mode": "lines+markers",
         "name": "Medals Ratio",
         "showlegend": true,
         "type": "scatter",
         "x": [
          [
           1924,
           1928,
           1932,
           1936,
           1948,
           1952,
           1956,
           1960,
           1964,
           1968,
           1972,
           1976,
           1980,
           1984,
           1988,
           1992,
           1994,
           1998,
           2002,
           2006,
           2010,
           2014
          ],
          [
           "Women",
           "Women",
           "Women",
           "Women",
           "Women",
           "Women",
           "Women",
           "Women",
           "Women",
           "Women",
           "Women",
           "Women",
           "Women",
           "Women",
           "Women",
           "Women",
           "Women",
           "Women",
           "Women",
           "Women",
           "Women",
           "Women"
          ]
         ],
         "xaxis": "x",
         "y": [
          0.05357142857142857,
          0.07228915662650602,
          0.05454545454545454,
          0.09090909090909091,
          0.12,
          0.15254237288135594,
          0.21951219512195122,
          0.3611111111111111,
          0.33093525179856115,
          0.3006535947712418,
          0.2903225806451613,
          0.32075471698113206,
          0.30538922155688625,
          0.32142857142857145,
          0.31343283582089554,
          0.43805309734513276,
          0.47844827586206895,
          0.7325581395348837,
          0.7619047619047619,
          0.7759197324414716,
          0.7871621621621622,
          0.8
         ],
         "yaxis": "y2"
        }
       ],
       "layout": {
        "barmode": "stack",
        "height": 700,
        "hoverlabel": {
         "bgcolor": "white",
         "font": {
          "size": 14
         }
        },
        "legend": {
         "font": {
          "size": 14
         },
         "title": {
          "font": {
           "size": 14
          },
          "text": "<b>Sport Categories</b>"
         },
         "x": 0.01,
         "xanchor": "left",
         "y": 0.99,
         "yanchor": "top"
        },
        "template": {
         "data": {
          "bar": [
           {
            "error_x": {
             "color": "#2a3f5f"
            },
            "error_y": {
             "color": "#2a3f5f"
            },
            "marker": {
             "line": {
              "color": "#E5ECF6",
              "width": 0.5
             }
            },
            "type": "bar"
           }
          ],
          "barpolar": [
           {
            "marker": {
             "line": {
              "color": "#E5ECF6",
              "width": 0.5
             }
            },
            "type": "barpolar"
           }
          ],
          "carpet": [
           {
            "aaxis": {
             "endlinecolor": "#2a3f5f",
             "gridcolor": "white",
             "linecolor": "white",
             "minorgridcolor": "white",
             "startlinecolor": "#2a3f5f"
            },
            "baxis": {
             "endlinecolor": "#2a3f5f",
             "gridcolor": "white",
             "linecolor": "white",
             "minorgridcolor": "white",
             "startlinecolor": "#2a3f5f"
            },
            "type": "carpet"
           }
          ],
          "choropleth": [
           {
            "colorbar": {
             "outlinewidth": 0,
             "ticks": ""
            },
            "type": "choropleth"
           }
          ],
          "contour": [
           {
            "colorbar": {
             "outlinewidth": 0,
             "ticks": ""
            },
            "colorscale": [
             [
              0,
              "#0d0887"
             ],
             [
              0.1111111111111111,
              "#46039f"
             ],
             [
              0.2222222222222222,
              "#7201a8"
             ],
             [
              0.3333333333333333,
              "#9c179e"
             ],
             [
              0.4444444444444444,
              "#bd3786"
             ],
             [
              0.5555555555555556,
              "#d8576b"
             ],
             [
              0.6666666666666666,
              "#ed7953"
             ],
             [
              0.7777777777777778,
              "#fb9f3a"
             ],
             [
              0.8888888888888888,
              "#fdca26"
             ],
             [
              1,
              "#f0f921"
             ]
            ],
            "type": "contour"
           }
          ],
          "contourcarpet": [
           {
            "colorbar": {
             "outlinewidth": 0,
             "ticks": ""
            },
            "type": "contourcarpet"
           }
          ],
          "heatmap": [
           {
            "colorbar": {
             "outlinewidth": 0,
             "ticks": ""
            },
            "colorscale": [
             [
              0,
              "#0d0887"
             ],
             [
              0.1111111111111111,
              "#46039f"
             ],
             [
              0.2222222222222222,
              "#7201a8"
             ],
             [
              0.3333333333333333,
              "#9c179e"
             ],
             [
              0.4444444444444444,
              "#bd3786"
             ],
             [
              0.5555555555555556,
              "#d8576b"
             ],
             [
              0.6666666666666666,
              "#ed7953"
             ],
             [
              0.7777777777777778,
              "#fb9f3a"
             ],
             [
              0.8888888888888888,
              "#fdca26"
             ],
             [
              1,
              "#f0f921"
             ]
            ],
            "type": "heatmap"
           }
          ],
          "heatmapgl": [
           {
            "colorbar": {
             "outlinewidth": 0,
             "ticks": ""
            },
            "colorscale": [
             [
              0,
              "#0d0887"
             ],
             [
              0.1111111111111111,
              "#46039f"
             ],
             [
              0.2222222222222222,
              "#7201a8"
             ],
             [
              0.3333333333333333,
              "#9c179e"
             ],
             [
              0.4444444444444444,
              "#bd3786"
             ],
             [
              0.5555555555555556,
              "#d8576b"
             ],
             [
              0.6666666666666666,
              "#ed7953"
             ],
             [
              0.7777777777777778,
              "#fb9f3a"
             ],
             [
              0.8888888888888888,
              "#fdca26"
             ],
             [
              1,
              "#f0f921"
             ]
            ],
            "type": "heatmapgl"
           }
          ],
          "histogram": [
           {
            "marker": {
             "colorbar": {
              "outlinewidth": 0,
              "ticks": ""
             }
            },
            "type": "histogram"
           }
          ],
          "histogram2d": [
           {
            "colorbar": {
             "outlinewidth": 0,
             "ticks": ""
            },
            "colorscale": [
             [
              0,
              "#0d0887"
             ],
             [
              0.1111111111111111,
              "#46039f"
             ],
             [
              0.2222222222222222,
              "#7201a8"
             ],
             [
              0.3333333333333333,
              "#9c179e"
             ],
             [
              0.4444444444444444,
              "#bd3786"
             ],
             [
              0.5555555555555556,
              "#d8576b"
             ],
             [
              0.6666666666666666,
              "#ed7953"
             ],
             [
              0.7777777777777778,
              "#fb9f3a"
             ],
             [
              0.8888888888888888,
              "#fdca26"
             ],
             [
              1,
              "#f0f921"
             ]
            ],
            "type": "histogram2d"
           }
          ],
          "histogram2dcontour": [
           {
            "colorbar": {
             "outlinewidth": 0,
             "ticks": ""
            },
            "colorscale": [
             [
              0,
              "#0d0887"
             ],
             [
              0.1111111111111111,
              "#46039f"
             ],
             [
              0.2222222222222222,
              "#7201a8"
             ],
             [
              0.3333333333333333,
              "#9c179e"
             ],
             [
              0.4444444444444444,
              "#bd3786"
             ],
             [
              0.5555555555555556,
              "#d8576b"
             ],
             [
              0.6666666666666666,
              "#ed7953"
             ],
             [
              0.7777777777777778,
              "#fb9f3a"
             ],
             [
              0.8888888888888888,
              "#fdca26"
             ],
             [
              1,
              "#f0f921"
             ]
            ],
            "type": "histogram2dcontour"
           }
          ],
          "mesh3d": [
           {
            "colorbar": {
             "outlinewidth": 0,
             "ticks": ""
            },
            "type": "mesh3d"
           }
          ],
          "parcoords": [
           {
            "line": {
             "colorbar": {
              "outlinewidth": 0,
              "ticks": ""
             }
            },
            "type": "parcoords"
           }
          ],
          "pie": [
           {
            "automargin": true,
            "type": "pie"
           }
          ],
          "scatter": [
           {
            "marker": {
             "colorbar": {
              "outlinewidth": 0,
              "ticks": ""
             }
            },
            "type": "scatter"
           }
          ],
          "scatter3d": [
           {
            "line": {
             "colorbar": {
              "outlinewidth": 0,
              "ticks": ""
             }
            },
            "marker": {
             "colorbar": {
              "outlinewidth": 0,
              "ticks": ""
             }
            },
            "type": "scatter3d"
           }
          ],
          "scattercarpet": [
           {
            "marker": {
             "colorbar": {
              "outlinewidth": 0,
              "ticks": ""
             }
            },
            "type": "scattercarpet"
           }
          ],
          "scattergeo": [
           {
            "marker": {
             "colorbar": {
              "outlinewidth": 0,
              "ticks": ""
             }
            },
            "type": "scattergeo"
           }
          ],
          "scattergl": [
           {
            "marker": {
             "colorbar": {
              "outlinewidth": 0,
              "ticks": ""
             }
            },
            "type": "scattergl"
           }
          ],
          "scattermapbox": [
           {
            "marker": {
             "colorbar": {
              "outlinewidth": 0,
              "ticks": ""
             }
            },
            "type": "scattermapbox"
           }
          ],
          "scatterpolar": [
           {
            "marker": {
             "colorbar": {
              "outlinewidth": 0,
              "ticks": ""
             }
            },
            "type": "scatterpolar"
           }
          ],
          "scatterpolargl": [
           {
            "marker": {
             "colorbar": {
              "outlinewidth": 0,
              "ticks": ""
             }
            },
            "type": "scatterpolargl"
           }
          ],
          "scatterternary": [
           {
            "marker": {
             "colorbar": {
              "outlinewidth": 0,
              "ticks": ""
             }
            },
            "type": "scatterternary"
           }
          ],
          "surface": [
           {
            "colorbar": {
             "outlinewidth": 0,
             "ticks": ""
            },
            "colorscale": [
             [
              0,
              "#0d0887"
             ],
             [
              0.1111111111111111,
              "#46039f"
             ],
             [
              0.2222222222222222,
              "#7201a8"
             ],
             [
              0.3333333333333333,
              "#9c179e"
             ],
             [
              0.4444444444444444,
              "#bd3786"
             ],
             [
              0.5555555555555556,
              "#d8576b"
             ],
             [
              0.6666666666666666,
              "#ed7953"
             ],
             [
              0.7777777777777778,
              "#fb9f3a"
             ],
             [
              0.8888888888888888,
              "#fdca26"
             ],
             [
              1,
              "#f0f921"
             ]
            ],
            "type": "surface"
           }
          ],
          "table": [
           {
            "cells": {
             "fill": {
              "color": "#EBF0F8"
             },
             "line": {
              "color": "white"
             }
            },
            "header": {
             "fill": {
              "color": "#C8D4E3"
             },
             "line": {
              "color": "white"
             }
            },
            "type": "table"
           }
          ]
         },
         "layout": {
          "annotationdefaults": {
           "arrowcolor": "#2a3f5f",
           "arrowhead": 0,
           "arrowwidth": 1
          },
          "coloraxis": {
           "colorbar": {
            "outlinewidth": 0,
            "ticks": ""
           }
          },
          "colorscale": {
           "diverging": [
            [
             0,
             "#8e0152"
            ],
            [
             0.1,
             "#c51b7d"
            ],
            [
             0.2,
             "#de77ae"
            ],
            [
             0.3,
             "#f1b6da"
            ],
            [
             0.4,
             "#fde0ef"
            ],
            [
             0.5,
             "#f7f7f7"
            ],
            [
             0.6,
             "#e6f5d0"
            ],
            [
             0.7,
             "#b8e186"
            ],
            [
             0.8,
             "#7fbc41"
            ],
            [
             0.9,
             "#4d9221"
            ],
            [
             1,
             "#276419"
            ]
           ],
           "sequential": [
            [
             0,
             "#0d0887"
            ],
            [
             0.1111111111111111,
             "#46039f"
            ],
            [
             0.2222222222222222,
             "#7201a8"
            ],
            [
             0.3333333333333333,
             "#9c179e"
            ],
            [
             0.4444444444444444,
             "#bd3786"
            ],
            [
             0.5555555555555556,
             "#d8576b"
            ],
            [
             0.6666666666666666,
             "#ed7953"
            ],
            [
             0.7777777777777778,
             "#fb9f3a"
            ],
            [
             0.8888888888888888,
             "#fdca26"
            ],
            [
             1,
             "#f0f921"
            ]
           ],
           "sequentialminus": [
            [
             0,
             "#0d0887"
            ],
            [
             0.1111111111111111,
             "#46039f"
            ],
            [
             0.2222222222222222,
             "#7201a8"
            ],
            [
             0.3333333333333333,
             "#9c179e"
            ],
            [
             0.4444444444444444,
             "#bd3786"
            ],
            [
             0.5555555555555556,
             "#d8576b"
            ],
            [
             0.6666666666666666,
             "#ed7953"
            ],
            [
             0.7777777777777778,
             "#fb9f3a"
            ],
            [
             0.8888888888888888,
             "#fdca26"
            ],
            [
             1,
             "#f0f921"
            ]
           ]
          },
          "colorway": [
           "#636efa",
           "#EF553B",
           "#00cc96",
           "#ab63fa",
           "#FFA15A",
           "#19d3f3",
           "#FF6692",
           "#B6E880",
           "#FF97FF",
           "#FECB52"
          ],
          "font": {
           "color": "#2a3f5f"
          },
          "geo": {
           "bgcolor": "white",
           "lakecolor": "white",
           "landcolor": "#E5ECF6",
           "showlakes": true,
           "showland": true,
           "subunitcolor": "white"
          },
          "hoverlabel": {
           "align": "left"
          },
          "hovermode": "closest",
          "mapbox": {
           "style": "light"
          },
          "paper_bgcolor": "white",
          "plot_bgcolor": "#E5ECF6",
          "polar": {
           "angularaxis": {
            "gridcolor": "white",
            "linecolor": "white",
            "ticks": ""
           },
           "bgcolor": "#E5ECF6",
           "radialaxis": {
            "gridcolor": "white",
            "linecolor": "white",
            "ticks": ""
           }
          },
          "scene": {
           "xaxis": {
            "backgroundcolor": "#E5ECF6",
            "gridcolor": "white",
            "gridwidth": 2,
            "linecolor": "white",
            "showbackground": true,
            "ticks": "",
            "zerolinecolor": "white"
           },
           "yaxis": {
            "backgroundcolor": "#E5ECF6",
            "gridcolor": "white",
            "gridwidth": 2,
            "linecolor": "white",
            "showbackground": true,
            "ticks": "",
            "zerolinecolor": "white"
           },
           "zaxis": {
            "backgroundcolor": "#E5ECF6",
            "gridcolor": "white",
            "gridwidth": 2,
            "linecolor": "white",
            "showbackground": true,
            "ticks": "",
            "zerolinecolor": "white"
           }
          },
          "shapedefaults": {
           "line": {
            "color": "#2a3f5f"
           }
          },
          "ternary": {
           "aaxis": {
            "gridcolor": "white",
            "linecolor": "white",
            "ticks": ""
           },
           "baxis": {
            "gridcolor": "white",
            "linecolor": "white",
            "ticks": ""
           },
           "bgcolor": "#E5ECF6",
           "caxis": {
            "gridcolor": "white",
            "linecolor": "white",
            "ticks": ""
           }
          },
          "title": {
           "x": 0.05
          },
          "xaxis": {
           "automargin": true,
           "gridcolor": "white",
           "linecolor": "white",
           "ticks": "",
           "title": {
            "standoff": 15
           },
           "zerolinecolor": "white",
           "zerolinewidth": 2
          },
          "yaxis": {
           "automargin": true,
           "gridcolor": "white",
           "linecolor": "white",
           "ticks": "",
           "title": {
            "standoff": 15
           },
           "zerolinecolor": "white",
           "zerolinewidth": 2
          }
         }
        },
        "title": {
         "text": "<b>Winter Olympics Participation Over The Years Per Gender</b>",
         "x": 0.5,
         "xanchor": "center",
         "y": 0.9,
         "yanchor": "top"
        },
        "width": 1300,
        "xaxis": {
         "anchor": "y",
         "domain": [
          0,
          0.94
         ],
         "title": {
          "text": "<b>Gender and Year</b>"
         }
        },
        "yaxis": {
         "anchor": "x",
         "domain": [
          0,
          1
         ],
         "title": {
          "text": "<b>Number of Medals</b>"
         }
        },
        "yaxis2": {
         "anchor": "x",
         "color": "Black",
         "linecolor": "Black",
         "linewidth": 3,
         "overlaying": "y",
         "side": "right",
         "title": {
          "text": "<b>Women to Men Medals Ratio</b>"
         }
        }
       }
      },
      "text/html": [
       "<div>                            <div id=\"65aa4b9d-7f10-4b4a-ba7d-c7df6936b1bd\" class=\"plotly-graph-div\" style=\"height:700px; width:1300px;\"></div>            <script type=\"text/javascript\">                require([\"plotly\"], function(Plotly) {                    window.PLOTLYENV=window.PLOTLYENV || {};                                    if (document.getElementById(\"65aa4b9d-7f10-4b4a-ba7d-c7df6936b1bd\")) {                    Plotly.newPlot(                        \"65aa4b9d-7f10-4b4a-ba7d-c7df6936b1bd\",                        [{\"hovertemplate\": \"<b>Medals</b>: %{y}<br><b>Year</b>: %{x[0]}<br><b>Gender</b>: %{x[1]}<br><b>Sport</b>: %{text}<extra></extra>\", \"marker\": {\"color\": \"#762a83\", \"line\": {\"color\": \"rgb(8,48,107)\", \"width\": 1}}, \"name\": \"Biathlon\", \"text\": [\"Biathlon\", \"Biathlon\", \"Biathlon\", \"Biathlon\", \"Biathlon\", \"Biathlon\", \"Biathlon\", \"Biathlon\", \"Biathlon\", \"Biathlon\", \"Biathlon\", \"Biathlon\", \"Biathlon\", \"Biathlon\", \"Biathlon\", \"Biathlon\", \"Biathlon\", \"Biathlon\", \"Biathlon\", \"Biathlon\", \"Biathlon\", \"Biathlon\", \"Biathlon\", \"Biathlon\", \"Biathlon\", \"Biathlon\", \"Biathlon\", \"Biathlon\", \"Biathlon\", \"Biathlon\", \"Biathlon\", \"Biathlon\", \"Biathlon\", \"Biathlon\", \"Biathlon\", \"Biathlon\", \"Biathlon\", \"Biathlon\", \"Biathlon\", \"Biathlon\", \"Biathlon\", \"Biathlon\", \"Biathlon\", \"Biathlon\"], \"type\": \"bar\", \"x\": [[1924, 1924, 1928, 1928, 1932, 1932, 1936, 1936, 1948, 1948, 1952, 1952, 1956, 1956, 1960, 1960, 1964, 1964, 1968, 1968, 1972, 1972, 1976, 1976, 1980, 1980, 1984, 1984, 1988, 1988, 1992, 1992, 1994, 1994, 1998, 1998, 2002, 2002, 2006, 2006, 2010, 2010, 2014, 2014], [\"Men\", \"Women\", \"Women\", \"Men\", \"Men\", \"Women\", \"Men\", \"Women\", \"Men\", \"Women\", \"Women\", \"Men\", \"Men\", \"Women\", \"Men\", \"Women\", \"Women\", \"Men\", \"Women\", \"Men\", \"Women\", \"Men\", \"Men\", \"Women\", \"Women\", \"Men\", \"Women\", \"Men\", \"Women\", \"Men\", \"Women\", \"Men\", \"Women\", \"Men\", \"Women\", \"Men\", \"Women\", \"Men\", \"Women\", \"Men\", \"Women\", \"Men\", \"Women\", \"Men\"]], \"xaxis\": \"x\", \"y\": [12.0, 0.0, 0.0, 0.0, 0.0, 0.0, 0.0, 0.0, 0.0, 0.0, 0.0, 0.0, 0.0, 0.0, 3.0, 0.0, 0.0, 3.0, 0.0, 15.0, 0.0, 15.0, 15.0, 0.0, 0.0, 18.0, 0.0, 18.0, 0.0, 18.0, 15.0, 18.0, 18.0, 18.0, 18.0, 18.0, 21.0, 21.0, 24.0, 24.0, 24.0, 24.0, 30.0, 30.0], \"yaxis\": \"y\"}, {\"hovertemplate\": \"<b>Medals</b>: %{y}<br><b>Year</b>: %{x[0]}<br><b>Gender</b>: %{x[1]}<br><b>Sport</b>: %{text}<extra></extra>\", \"marker\": {\"color\": \"#af8dc3\", \"line\": {\"color\": \"rgb(8,48,107)\", \"width\": 1}}, \"name\": \"Bobsleigh\", \"text\": [\"Bobsleigh\", \"Bobsleigh\", \"Bobsleigh\", \"Bobsleigh\", \"Bobsleigh\", \"Bobsleigh\", \"Bobsleigh\", \"Bobsleigh\", \"Bobsleigh\", \"Bobsleigh\", \"Bobsleigh\", \"Bobsleigh\", \"Bobsleigh\", \"Bobsleigh\", \"Bobsleigh\", \"Bobsleigh\", \"Bobsleigh\", \"Bobsleigh\", \"Bobsleigh\", \"Bobsleigh\", \"Bobsleigh\", \"Bobsleigh\", \"Bobsleigh\", \"Bobsleigh\", \"Bobsleigh\", \"Bobsleigh\", \"Bobsleigh\", \"Bobsleigh\", \"Bobsleigh\", \"Bobsleigh\", \"Bobsleigh\", \"Bobsleigh\", \"Bobsleigh\", \"Bobsleigh\", \"Bobsleigh\", \"Bobsleigh\", \"Bobsleigh\", \"Bobsleigh\", \"Bobsleigh\", \"Bobsleigh\", \"Bobsleigh\", \"Bobsleigh\", \"Bobsleigh\", \"Bobsleigh\"], \"type\": \"bar\", \"x\": [[1924, 1924, 1928, 1928, 1932, 1932, 1936, 1936, 1948, 1948, 1952, 1952, 1956, 1956, 1960, 1960, 1964, 1964, 1968, 1968, 1972, 1972, 1976, 1976, 1980, 1980, 1984, 1984, 1988, 1988, 1992, 1992, 1994, 1994, 1998, 1998, 2002, 2002, 2006, 2006, 2010, 2010, 2014, 2014], [\"Men\", \"Women\", \"Men\", \"Women\", \"Men\", \"Women\", \"Men\", \"Women\", \"Men\", \"Women\", \"Men\", \"Women\", \"Men\", \"Women\", \"Men\", \"Women\", \"Women\", \"Men\", \"Women\", \"Men\", \"Women\", \"Men\", \"Women\", \"Men\", \"Women\", \"Men\", \"Women\", \"Men\", \"Women\", \"Men\", \"Men\", \"Women\", \"Women\", \"Men\", \"Women\", \"Men\", \"Women\", \"Men\", \"Women\", \"Men\", \"Women\", \"Men\", \"Men\", \"Women\"]], \"xaxis\": \"x\", \"y\": [13.0, 0.0, 18.0, 0.0, 42.0, 0.0, 18.0, 0.0, 21.0, 0.0, 18.0, 0.0, 18.0, 0.0, 0.0, 0.0, 0.0, 18.0, 0.0, 18.0, 0.0, 18.0, 0.0, 18.0, 0.0, 18.0, 0.0, 18.0, 0.0, 18.0, 18.0, 0.0, 0.0, 18.0, 0.0, 22.0, 9.0, 21.0, 9.0, 21.0, 9.0, 21.0, 21.0, 9.0], \"yaxis\": \"y\"}, {\"hovertemplate\": \"<b>Medals</b>: %{y}<br><b>Year</b>: %{x[0]}<br><b>Gender</b>: %{x[1]}<br><b>Sport</b>: %{text}<extra></extra>\", \"marker\": {\"color\": \"#e7d4e8\", \"line\": {\"color\": \"rgb(8,48,107)\", \"width\": 1}}, \"name\": \"Curling\", \"text\": [\"Curling\", \"Curling\", \"Curling\", \"Curling\", \"Curling\", \"Curling\", \"Curling\", \"Curling\", \"Curling\", \"Curling\", \"Curling\", \"Curling\", \"Curling\", \"Curling\", \"Curling\", \"Curling\", \"Curling\", \"Curling\", \"Curling\", \"Curling\", \"Curling\", \"Curling\", \"Curling\", \"Curling\", \"Curling\", \"Curling\", \"Curling\", \"Curling\", \"Curling\", \"Curling\", \"Curling\", \"Curling\", \"Curling\", \"Curling\", \"Curling\", \"Curling\", \"Curling\", \"Curling\", \"Curling\", \"Curling\", \"Curling\", \"Curling\", \"Curling\", \"Curling\"], \"type\": \"bar\", \"x\": [[1924, 1924, 1928, 1928, 1932, 1932, 1936, 1936, 1948, 1948, 1952, 1952, 1956, 1956, 1960, 1960, 1964, 1964, 1968, 1968, 1972, 1972, 1976, 1976, 1980, 1980, 1984, 1984, 1988, 1988, 1992, 1992, 1994, 1994, 1998, 1998, 2002, 2002, 2006, 2006, 2010, 2010, 2014, 2014], [\"Men\", \"Women\", \"Women\", \"Men\", \"Women\", \"Men\", \"Women\", \"Men\", \"Women\", \"Men\", \"Men\", \"Women\", \"Women\", \"Men\", \"Women\", \"Men\", \"Women\", \"Men\", \"Women\", \"Men\", \"Men\", \"Women\", \"Men\", \"Women\", \"Women\", \"Men\", \"Men\", \"Women\", \"Men\", \"Women\", \"Men\", \"Women\", \"Women\", \"Men\", \"Men\", \"Women\", \"Men\", \"Women\", \"Men\", \"Women\", \"Men\", \"Women\", \"Women\", \"Men\"]], \"xaxis\": \"x\", \"y\": [22.0, 0.0, 0.0, 0.0, 0.0, 0.0, 0.0, 0.0, 0.0, 0.0, 0.0, 0.0, 0.0, 0.0, 0.0, 0.0, 0.0, 0.0, 0.0, 0.0, 0.0, 0.0, 0.0, 0.0, 0.0, 0.0, 0.0, 0.0, 0.0, 0.0, 0.0, 0.0, 0.0, 0.0, 15.0, 15.0, 15.0, 15.0, 15.0, 15.0, 15.0, 15.0, 15.0, 15.0], \"yaxis\": \"y\"}, {\"hovertemplate\": \"<b>Medals</b>: %{y}<br><b>Year</b>: %{x[0]}<br><b>Gender</b>: %{x[1]}<br><b>Sport</b>: %{text}<extra></extra>\", \"marker\": {\"color\": \"#f7f7f7\", \"line\": {\"color\": \"rgb(8,48,107)\", \"width\": 1}}, \"name\": \"Ice Hockey\", \"text\": [\"Ice Hockey\", \"Ice Hockey\", \"Ice Hockey\", \"Ice Hockey\", \"Ice Hockey\", \"Ice Hockey\", \"Ice Hockey\", \"Ice Hockey\", \"Ice Hockey\", \"Ice Hockey\", \"Ice Hockey\", \"Ice Hockey\", \"Ice Hockey\", \"Ice Hockey\", \"Ice Hockey\", \"Ice Hockey\", \"Ice Hockey\", \"Ice Hockey\", \"Ice Hockey\", \"Ice Hockey\", \"Ice Hockey\", \"Ice Hockey\", \"Ice Hockey\", \"Ice Hockey\", \"Ice Hockey\", \"Ice Hockey\", \"Ice Hockey\", \"Ice Hockey\", \"Ice Hockey\", \"Ice Hockey\", \"Ice Hockey\", \"Ice Hockey\", \"Ice Hockey\", \"Ice Hockey\", \"Ice Hockey\", \"Ice Hockey\", \"Ice Hockey\", \"Ice Hockey\", \"Ice Hockey\", \"Ice Hockey\", \"Ice Hockey\", \"Ice Hockey\", \"Ice Hockey\", \"Ice Hockey\"], \"type\": \"bar\", \"x\": [[1924, 1924, 1928, 1928, 1932, 1932, 1936, 1936, 1948, 1948, 1952, 1952, 1956, 1956, 1960, 1960, 1964, 1964, 1968, 1968, 1972, 1972, 1976, 1976, 1980, 1980, 1984, 1984, 1988, 1988, 1992, 1992, 1994, 1994, 1998, 1998, 2002, 2002, 2006, 2006, 2010, 2010, 2014, 2014], [\"Men\", \"Women\", \"Men\", \"Women\", \"Men\", \"Women\", \"Men\", \"Women\", \"Women\", \"Men\", \"Men\", \"Women\", \"Men\", \"Women\", \"Men\", \"Women\", \"Women\", \"Men\", \"Men\", \"Women\", \"Women\", \"Men\", \"Men\", \"Women\", \"Women\", \"Men\", \"Women\", \"Men\", \"Women\", \"Men\", \"Women\", \"Men\", \"Women\", \"Men\", \"Women\", \"Men\", \"Women\", \"Men\", \"Women\", \"Men\", \"Women\", \"Men\", \"Men\", \"Women\"]], \"xaxis\": \"x\", \"y\": [31.0, 0.0, 36.0, 0.0, 38.0, 0.0, 36.0, 0.0, 0.0, 51.0, 48.0, 0.0, 51.0, 0.0, 51.0, 0.0, 0.0, 50.0, 54.0, 0.0, 0.0, 56.0, 54.0, 0.0, 0.0, 58.0, 0.0, 60.0, 0.0, 66.0, 0.0, 69.0, 0.0, 68.0, 60.0, 68.0, 60.0, 69.0, 59.0, 73.0, 63.0, 69.0, 75.0, 63.0], \"yaxis\": \"y\"}, {\"hovertemplate\": \"<b>Medals</b>: %{y}<br><b>Year</b>: %{x[0]}<br><b>Gender</b>: %{x[1]}<br><b>Sport</b>: %{text}<extra></extra>\", \"marker\": {\"color\": \"#d9f0d3\", \"line\": {\"color\": \"rgb(8,48,107)\", \"width\": 1}}, \"name\": \"Skating\", \"text\": [\"Skating\", \"Skating\", \"Skating\", \"Skating\", \"Skating\", \"Skating\", \"Skating\", \"Skating\", \"Skating\", \"Skating\", \"Skating\", \"Skating\", \"Skating\", \"Skating\", \"Skating\", \"Skating\", \"Skating\", \"Skating\", \"Skating\", \"Skating\", \"Skating\", \"Skating\", \"Skating\", \"Skating\", \"Skating\", \"Skating\", \"Skating\", \"Skating\", \"Skating\", \"Skating\", \"Skating\", \"Skating\", \"Skating\", \"Skating\", \"Skating\", \"Skating\", \"Skating\", \"Skating\", \"Skating\", \"Skating\", \"Skating\", \"Skating\", \"Skating\", \"Skating\"], \"type\": \"bar\", \"x\": [[1924, 1924, 1928, 1928, 1932, 1932, 1936, 1936, 1948, 1948, 1952, 1952, 1956, 1956, 1960, 1960, 1964, 1964, 1968, 1968, 1972, 1972, 1976, 1976, 1980, 1980, 1984, 1984, 1988, 1988, 1992, 1992, 1994, 1994, 1998, 1998, 2002, 2002, 2006, 2006, 2010, 2010, 2014, 2014], [\"Men\", \"Women\", \"Men\", \"Women\", \"Men\", \"Women\", \"Men\", \"Women\", \"Women\", \"Men\", \"Men\", \"Women\", \"Men\", \"Women\", \"Men\", \"Women\", \"Men\", \"Women\", \"Men\", \"Women\", \"Women\", \"Men\", \"Men\", \"Women\", \"Men\", \"Women\", \"Men\", \"Women\", \"Men\", \"Women\", \"Women\", \"Men\", \"Women\", \"Men\", \"Men\", \"Women\", \"Men\", \"Women\", \"Men\", \"Women\", \"Men\", \"Women\", \"Men\", \"Women\"]], \"xaxis\": \"x\", \"y\": [22.0, 6.0, 17.0, 6.0, 18.0, 6.0, 18.0, 6.0, 6.0, 19.0, 19.0, 6.0, 18.0, 6.0, 18.0, 18.0, 20.0, 19.0, 18.0, 19.0, 18.0, 18.0, 24.0, 21.0, 25.0, 21.0, 24.0, 21.0, 24.0, 24.0, 39.0, 40.0, 45.0, 44.0, 42.0, 42.0, 48.0, 46.0, 61.0, 62.0, 59.0, 56.0, 69.0, 71.0], \"yaxis\": \"y\"}, {\"hovertemplate\": \"<b>Medals</b>: %{y}<br><b>Year</b>: %{x[0]}<br><b>Gender</b>: %{x[1]}<br><b>Sport</b>: %{text}<extra></extra>\", \"marker\": {\"color\": \"#7fbf7b\", \"line\": {\"color\": \"rgb(8,48,107)\", \"width\": 1}}, \"name\": \"Skiing\", \"text\": [\"Skiing\", \"Skiing\", \"Skiing\", \"Skiing\", \"Skiing\", \"Skiing\", \"Skiing\", \"Skiing\", \"Skiing\", \"Skiing\", \"Skiing\", \"Skiing\", \"Skiing\", \"Skiing\", \"Skiing\", \"Skiing\", \"Skiing\", \"Skiing\", \"Skiing\", \"Skiing\", \"Skiing\", \"Skiing\", \"Skiing\", \"Skiing\", \"Skiing\", \"Skiing\", \"Skiing\", \"Skiing\", \"Skiing\", \"Skiing\", \"Skiing\", \"Skiing\", \"Skiing\", \"Skiing\", \"Skiing\", \"Skiing\", \"Skiing\", \"Skiing\", \"Skiing\", \"Skiing\", \"Skiing\", \"Skiing\", \"Skiing\", \"Skiing\"], \"type\": \"bar\", \"x\": [[1924, 1924, 1928, 1928, 1932, 1932, 1936, 1936, 1948, 1948, 1952, 1952, 1956, 1956, 1960, 1960, 1964, 1964, 1968, 1968, 1972, 1972, 1976, 1976, 1980, 1980, 1984, 1984, 1988, 1988, 1992, 1992, 1994, 1994, 1998, 1998, 2002, 2002, 2006, 2006, 2010, 2010, 2014, 2014], [\"Men\", \"Women\", \"Men\", \"Women\", \"Women\", \"Men\", \"Women\", \"Men\", \"Men\", \"Women\", \"Men\", \"Women\", \"Men\", \"Women\", \"Men\", \"Women\", \"Men\", \"Women\", \"Men\", \"Women\", \"Men\", \"Women\", \"Men\", \"Women\", \"Men\", \"Women\", \"Women\", \"Men\", \"Men\", \"Women\", \"Men\", \"Women\", \"Men\", \"Women\", \"Men\", \"Women\", \"Men\", \"Women\", \"Men\", \"Women\", \"Men\", \"Women\", \"Men\", \"Women\"]], \"xaxis\": \"x\", \"y\": [12.0, 0.0, 12.0, 0.0, 0.0, 12.0, 3.0, 27.0, 34.0, 9.0, 33.0, 12.0, 36.0, 21.0, 36.0, 21.0, 39.0, 24.0, 39.0, 24.0, 39.0, 24.0, 39.0, 27.0, 39.0, 27.0, 30.0, 39.0, 66.0, 36.0, 72.0, 42.0, 75.0, 45.0, 84.0, 51.0, 90.0, 54.0, 96.0, 60.0, 99.0, 63.0, 112.0, 78.0], \"yaxis\": \"y\"}, {\"hovertemplate\": \"<b>Medals</b>: %{y}<br><b>Year</b>: %{x[0]}<br><b>Gender</b>: %{x[1]}<br><b>Sport</b>: %{text}<extra></extra>\", \"marker\": {\"color\": \"#1b7837\", \"line\": {\"color\": \"rgb(8,48,107)\", \"width\": 1}}, \"name\": \"Luge\", \"text\": [\"Luge\", \"Luge\", \"Luge\", \"Luge\", \"Luge\", \"Luge\", \"Luge\", \"Luge\", \"Luge\", \"Luge\", \"Luge\", \"Luge\", \"Luge\", \"Luge\", \"Luge\", \"Luge\", \"Luge\", \"Luge\", \"Luge\", \"Luge\", \"Luge\", \"Luge\", \"Luge\", \"Luge\", \"Luge\", \"Luge\", \"Luge\", \"Luge\", \"Luge\", \"Luge\", \"Luge\", \"Luge\", \"Luge\", \"Luge\", \"Luge\", \"Luge\", \"Luge\", \"Luge\", \"Luge\", \"Luge\", \"Luge\", \"Luge\", \"Luge\", \"Luge\"], \"type\": \"bar\", \"x\": [[1924, 1924, 1928, 1928, 1932, 1932, 1936, 1936, 1948, 1948, 1952, 1952, 1956, 1956, 1960, 1960, 1964, 1964, 1968, 1968, 1972, 1972, 1976, 1976, 1980, 1980, 1984, 1984, 1988, 1988, 1992, 1992, 1994, 1994, 1998, 1998, 2002, 2002, 2006, 2006, 2010, 2010, 2014, 2014], [\"Women\", \"Men\", \"Women\", \"Men\", \"Women\", \"Men\", \"Women\", \"Men\", \"Women\", \"Men\", \"Women\", \"Men\", \"Women\", \"Men\", \"Women\", \"Men\", \"Men\", \"Women\", \"Men\", \"Women\", \"Men\", \"Women\", \"Men\", \"Women\", \"Men\", \"Women\", \"Men\", \"Women\", \"Men\", \"Women\", \"Women\", \"Men\", \"Women\", \"Men\", \"Women\", \"Men\", \"Men\", \"Women\", \"Women\", \"Men\", \"Women\", \"Men\", \"Women\", \"Men\"]], \"xaxis\": \"x\", \"y\": [0.0, 0.0, 0.0, 0.0, 0.0, 0.0, 0.0, 0.0, 0.0, 0.0, 0.0, 0.0, 0.0, 0.0, 0.0, 0.0, 9.0, 3.0, 9.0, 3.0, 9.0, 3.0, 9.0, 3.0, 9.0, 3.0, 9.0, 3.0, 9.0, 3.0, 3.0, 9.0, 3.0, 9.0, 3.0, 9.0, 9.0, 3.0, 3.0, 9.0, 3.0, 9.0, 6.0, 18.0], \"yaxis\": \"y\"}, {\"hovertemplate\": \"<b>Medals Ratio</b>: %{y:.2f}<br><b>Year</b>: %{x[0]}<extra></extra>\", \"line\": {\"color\": \"Black\", \"dash\": \"dot\", \"width\": 2}, \"marker\": {\"size\": 5}, \"mode\": \"lines+markers\", \"name\": \"Medals Ratio\", \"showlegend\": true, \"type\": \"scatter\", \"x\": [[1924, 1928, 1932, 1936, 1948, 1952, 1956, 1960, 1964, 1968, 1972, 1976, 1980, 1984, 1988, 1992, 1994, 1998, 2002, 2006, 2010, 2014], [\"Women\", \"Women\", \"Women\", \"Women\", \"Women\", \"Women\", \"Women\", \"Women\", \"Women\", \"Women\", \"Women\", \"Women\", \"Women\", \"Women\", \"Women\", \"Women\", \"Women\", \"Women\", \"Women\", \"Women\", \"Women\", \"Women\"]], \"xaxis\": \"x\", \"y\": [0.05357142857142857, 0.07228915662650602, 0.05454545454545454, 0.09090909090909091, 0.12, 0.15254237288135594, 0.21951219512195122, 0.3611111111111111, 0.33093525179856115, 0.3006535947712418, 0.2903225806451613, 0.32075471698113206, 0.30538922155688625, 0.32142857142857145, 0.31343283582089554, 0.43805309734513276, 0.47844827586206895, 0.7325581395348837, 0.7619047619047619, 0.7759197324414716, 0.7871621621621622, 0.8], \"yaxis\": \"y2\"}],                        {\"barmode\": \"stack\", \"height\": 700, \"hoverlabel\": {\"bgcolor\": \"white\", \"font\": {\"size\": 14}}, \"legend\": {\"font\": {\"size\": 14}, \"title\": {\"font\": {\"size\": 14}, \"text\": \"<b>Sport Categories</b>\"}, \"x\": 0.01, \"xanchor\": \"left\", \"y\": 0.99, \"yanchor\": \"top\"}, \"template\": {\"data\": {\"bar\": [{\"error_x\": {\"color\": \"#2a3f5f\"}, \"error_y\": {\"color\": \"#2a3f5f\"}, \"marker\": {\"line\": {\"color\": \"#E5ECF6\", \"width\": 0.5}}, \"type\": \"bar\"}], \"barpolar\": [{\"marker\": {\"line\": {\"color\": \"#E5ECF6\", \"width\": 0.5}}, \"type\": \"barpolar\"}], \"carpet\": [{\"aaxis\": {\"endlinecolor\": \"#2a3f5f\", \"gridcolor\": \"white\", \"linecolor\": \"white\", \"minorgridcolor\": \"white\", \"startlinecolor\": \"#2a3f5f\"}, \"baxis\": {\"endlinecolor\": \"#2a3f5f\", \"gridcolor\": \"white\", \"linecolor\": \"white\", \"minorgridcolor\": \"white\", \"startlinecolor\": \"#2a3f5f\"}, \"type\": \"carpet\"}], \"choropleth\": [{\"colorbar\": {\"outlinewidth\": 0, \"ticks\": \"\"}, \"type\": \"choropleth\"}], \"contour\": [{\"colorbar\": {\"outlinewidth\": 0, \"ticks\": \"\"}, \"colorscale\": [[0.0, \"#0d0887\"], [0.1111111111111111, \"#46039f\"], [0.2222222222222222, \"#7201a8\"], [0.3333333333333333, \"#9c179e\"], [0.4444444444444444, \"#bd3786\"], [0.5555555555555556, \"#d8576b\"], [0.6666666666666666, \"#ed7953\"], [0.7777777777777778, \"#fb9f3a\"], [0.8888888888888888, \"#fdca26\"], [1.0, \"#f0f921\"]], \"type\": \"contour\"}], \"contourcarpet\": [{\"colorbar\": {\"outlinewidth\": 0, \"ticks\": \"\"}, \"type\": \"contourcarpet\"}], \"heatmap\": [{\"colorbar\": {\"outlinewidth\": 0, \"ticks\": \"\"}, \"colorscale\": [[0.0, \"#0d0887\"], [0.1111111111111111, \"#46039f\"], [0.2222222222222222, \"#7201a8\"], [0.3333333333333333, \"#9c179e\"], [0.4444444444444444, \"#bd3786\"], [0.5555555555555556, \"#d8576b\"], [0.6666666666666666, \"#ed7953\"], [0.7777777777777778, \"#fb9f3a\"], [0.8888888888888888, \"#fdca26\"], [1.0, \"#f0f921\"]], \"type\": \"heatmap\"}], \"heatmapgl\": [{\"colorbar\": {\"outlinewidth\": 0, \"ticks\": \"\"}, \"colorscale\": [[0.0, \"#0d0887\"], [0.1111111111111111, \"#46039f\"], [0.2222222222222222, \"#7201a8\"], [0.3333333333333333, \"#9c179e\"], [0.4444444444444444, \"#bd3786\"], [0.5555555555555556, \"#d8576b\"], [0.6666666666666666, \"#ed7953\"], [0.7777777777777778, \"#fb9f3a\"], [0.8888888888888888, \"#fdca26\"], [1.0, \"#f0f921\"]], \"type\": \"heatmapgl\"}], \"histogram\": [{\"marker\": {\"colorbar\": {\"outlinewidth\": 0, \"ticks\": \"\"}}, \"type\": \"histogram\"}], \"histogram2d\": [{\"colorbar\": {\"outlinewidth\": 0, \"ticks\": \"\"}, \"colorscale\": [[0.0, \"#0d0887\"], [0.1111111111111111, \"#46039f\"], [0.2222222222222222, \"#7201a8\"], [0.3333333333333333, \"#9c179e\"], [0.4444444444444444, \"#bd3786\"], [0.5555555555555556, \"#d8576b\"], [0.6666666666666666, \"#ed7953\"], [0.7777777777777778, \"#fb9f3a\"], [0.8888888888888888, \"#fdca26\"], [1.0, \"#f0f921\"]], \"type\": \"histogram2d\"}], \"histogram2dcontour\": [{\"colorbar\": {\"outlinewidth\": 0, \"ticks\": \"\"}, \"colorscale\": [[0.0, \"#0d0887\"], [0.1111111111111111, \"#46039f\"], [0.2222222222222222, \"#7201a8\"], [0.3333333333333333, \"#9c179e\"], [0.4444444444444444, \"#bd3786\"], [0.5555555555555556, \"#d8576b\"], [0.6666666666666666, \"#ed7953\"], [0.7777777777777778, \"#fb9f3a\"], [0.8888888888888888, \"#fdca26\"], [1.0, \"#f0f921\"]], \"type\": \"histogram2dcontour\"}], \"mesh3d\": [{\"colorbar\": {\"outlinewidth\": 0, \"ticks\": \"\"}, \"type\": \"mesh3d\"}], \"parcoords\": [{\"line\": {\"colorbar\": {\"outlinewidth\": 0, \"ticks\": \"\"}}, \"type\": \"parcoords\"}], \"pie\": [{\"automargin\": true, \"type\": \"pie\"}], \"scatter\": [{\"marker\": {\"colorbar\": {\"outlinewidth\": 0, \"ticks\": \"\"}}, \"type\": \"scatter\"}], \"scatter3d\": [{\"line\": {\"colorbar\": {\"outlinewidth\": 0, \"ticks\": \"\"}}, \"marker\": {\"colorbar\": {\"outlinewidth\": 0, \"ticks\": \"\"}}, \"type\": \"scatter3d\"}], \"scattercarpet\": [{\"marker\": {\"colorbar\": {\"outlinewidth\": 0, \"ticks\": \"\"}}, \"type\": \"scattercarpet\"}], \"scattergeo\": [{\"marker\": {\"colorbar\": {\"outlinewidth\": 0, \"ticks\": \"\"}}, \"type\": \"scattergeo\"}], \"scattergl\": [{\"marker\": {\"colorbar\": {\"outlinewidth\": 0, \"ticks\": \"\"}}, \"type\": \"scattergl\"}], \"scattermapbox\": [{\"marker\": {\"colorbar\": {\"outlinewidth\": 0, \"ticks\": \"\"}}, \"type\": \"scattermapbox\"}], \"scatterpolar\": [{\"marker\": {\"colorbar\": {\"outlinewidth\": 0, \"ticks\": \"\"}}, \"type\": \"scatterpolar\"}], \"scatterpolargl\": [{\"marker\": {\"colorbar\": {\"outlinewidth\": 0, \"ticks\": \"\"}}, \"type\": \"scatterpolargl\"}], \"scatterternary\": [{\"marker\": {\"colorbar\": {\"outlinewidth\": 0, \"ticks\": \"\"}}, \"type\": \"scatterternary\"}], \"surface\": [{\"colorbar\": {\"outlinewidth\": 0, \"ticks\": \"\"}, \"colorscale\": [[0.0, \"#0d0887\"], [0.1111111111111111, \"#46039f\"], [0.2222222222222222, \"#7201a8\"], [0.3333333333333333, \"#9c179e\"], [0.4444444444444444, \"#bd3786\"], [0.5555555555555556, \"#d8576b\"], [0.6666666666666666, \"#ed7953\"], [0.7777777777777778, \"#fb9f3a\"], [0.8888888888888888, \"#fdca26\"], [1.0, \"#f0f921\"]], \"type\": \"surface\"}], \"table\": [{\"cells\": {\"fill\": {\"color\": \"#EBF0F8\"}, \"line\": {\"color\": \"white\"}}, \"header\": {\"fill\": {\"color\": \"#C8D4E3\"}, \"line\": {\"color\": \"white\"}}, \"type\": \"table\"}]}, \"layout\": {\"annotationdefaults\": {\"arrowcolor\": \"#2a3f5f\", \"arrowhead\": 0, \"arrowwidth\": 1}, \"coloraxis\": {\"colorbar\": {\"outlinewidth\": 0, \"ticks\": \"\"}}, \"colorscale\": {\"diverging\": [[0, \"#8e0152\"], [0.1, \"#c51b7d\"], [0.2, \"#de77ae\"], [0.3, \"#f1b6da\"], [0.4, \"#fde0ef\"], [0.5, \"#f7f7f7\"], [0.6, \"#e6f5d0\"], [0.7, \"#b8e186\"], [0.8, \"#7fbc41\"], [0.9, \"#4d9221\"], [1, \"#276419\"]], \"sequential\": [[0.0, \"#0d0887\"], [0.1111111111111111, \"#46039f\"], [0.2222222222222222, \"#7201a8\"], [0.3333333333333333, \"#9c179e\"], [0.4444444444444444, \"#bd3786\"], [0.5555555555555556, \"#d8576b\"], [0.6666666666666666, \"#ed7953\"], [0.7777777777777778, \"#fb9f3a\"], [0.8888888888888888, \"#fdca26\"], [1.0, \"#f0f921\"]], \"sequentialminus\": [[0.0, \"#0d0887\"], [0.1111111111111111, \"#46039f\"], [0.2222222222222222, \"#7201a8\"], [0.3333333333333333, \"#9c179e\"], [0.4444444444444444, \"#bd3786\"], [0.5555555555555556, \"#d8576b\"], [0.6666666666666666, \"#ed7953\"], [0.7777777777777778, \"#fb9f3a\"], [0.8888888888888888, \"#fdca26\"], [1.0, \"#f0f921\"]]}, \"colorway\": [\"#636efa\", \"#EF553B\", \"#00cc96\", \"#ab63fa\", \"#FFA15A\", \"#19d3f3\", \"#FF6692\", \"#B6E880\", \"#FF97FF\", \"#FECB52\"], \"font\": {\"color\": \"#2a3f5f\"}, \"geo\": {\"bgcolor\": \"white\", \"lakecolor\": \"white\", \"landcolor\": \"#E5ECF6\", \"showlakes\": true, \"showland\": true, \"subunitcolor\": \"white\"}, \"hoverlabel\": {\"align\": \"left\"}, \"hovermode\": \"closest\", \"mapbox\": {\"style\": \"light\"}, \"paper_bgcolor\": \"white\", \"plot_bgcolor\": \"#E5ECF6\", \"polar\": {\"angularaxis\": {\"gridcolor\": \"white\", \"linecolor\": \"white\", \"ticks\": \"\"}, \"bgcolor\": \"#E5ECF6\", \"radialaxis\": {\"gridcolor\": \"white\", \"linecolor\": \"white\", \"ticks\": \"\"}}, \"scene\": {\"xaxis\": {\"backgroundcolor\": \"#E5ECF6\", \"gridcolor\": \"white\", \"gridwidth\": 2, \"linecolor\": \"white\", \"showbackground\": true, \"ticks\": \"\", \"zerolinecolor\": \"white\"}, \"yaxis\": {\"backgroundcolor\": \"#E5ECF6\", \"gridcolor\": \"white\", \"gridwidth\": 2, \"linecolor\": \"white\", \"showbackground\": true, \"ticks\": \"\", \"zerolinecolor\": \"white\"}, \"zaxis\": {\"backgroundcolor\": \"#E5ECF6\", \"gridcolor\": \"white\", \"gridwidth\": 2, \"linecolor\": \"white\", \"showbackground\": true, \"ticks\": \"\", \"zerolinecolor\": \"white\"}}, \"shapedefaults\": {\"line\": {\"color\": \"#2a3f5f\"}}, \"ternary\": {\"aaxis\": {\"gridcolor\": \"white\", \"linecolor\": \"white\", \"ticks\": \"\"}, \"baxis\": {\"gridcolor\": \"white\", \"linecolor\": \"white\", \"ticks\": \"\"}, \"bgcolor\": \"#E5ECF6\", \"caxis\": {\"gridcolor\": \"white\", \"linecolor\": \"white\", \"ticks\": \"\"}}, \"title\": {\"x\": 0.05}, \"xaxis\": {\"automargin\": true, \"gridcolor\": \"white\", \"linecolor\": \"white\", \"ticks\": \"\", \"title\": {\"standoff\": 15}, \"zerolinecolor\": \"white\", \"zerolinewidth\": 2}, \"yaxis\": {\"automargin\": true, \"gridcolor\": \"white\", \"linecolor\": \"white\", \"ticks\": \"\", \"title\": {\"standoff\": 15}, \"zerolinecolor\": \"white\", \"zerolinewidth\": 2}}}, \"title\": {\"text\": \"<b>Winter Olympics Participation Over The Years Per Gender</b>\", \"x\": 0.5, \"xanchor\": \"center\", \"y\": 0.9, \"yanchor\": \"top\"}, \"width\": 1300, \"xaxis\": {\"anchor\": \"y\", \"domain\": [0.0, 0.94], \"title\": {\"text\": \"<b>Gender and Year</b>\"}}, \"yaxis\": {\"anchor\": \"x\", \"domain\": [0.0, 1.0], \"title\": {\"text\": \"<b>Number of Medals</b>\"}}, \"yaxis2\": {\"anchor\": \"x\", \"color\": \"Black\", \"linecolor\": \"Black\", \"linewidth\": 3, \"overlaying\": \"y\", \"side\": \"right\", \"title\": {\"text\": \"<b>Women to Men Medals Ratio</b>\"}}},                        {\"responsive\": true}                    ).then(function(){\n",
       "                            \n",
       "var gd = document.getElementById('65aa4b9d-7f10-4b4a-ba7d-c7df6936b1bd');\n",
       "var x = new MutationObserver(function (mutations, observer) {{\n",
       "        var display = window.getComputedStyle(gd).display;\n",
       "        if (!display || display === 'none') {{\n",
       "            console.log([gd, 'removed!']);\n",
       "            Plotly.purge(gd);\n",
       "            observer.disconnect();\n",
       "        }}\n",
       "}});\n",
       "\n",
       "// Listen for the removal of the full notebook cells\n",
       "var notebookContainer = gd.closest('#notebook-container');\n",
       "if (notebookContainer) {{\n",
       "    x.observe(notebookContainer, {childList: true});\n",
       "}}\n",
       "\n",
       "// Listen for the clearing of the current output cell\n",
       "var outputEl = gd.closest('.output');\n",
       "if (outputEl) {{\n",
       "    x.observe(outputEl, {childList: true});\n",
       "}}\n",
       "\n",
       "                        })                };                });            </script>        </div>"
      ]
     },
     "metadata": {},
     "output_type": "display_data"
    }
   ],
   "source": [
    "import plotly.graph_objects as go\n",
    "from plotly.subplots import make_subplots\n",
    "\n",
    "\n",
    "fig = make_subplots(\n",
    "    specs=[[{\"secondary_y\": True}]]\n",
    ")\n",
    "\n",
    "fig.update_layout(\n",
    "    barmode=\"stack\"\n",
    "#     template=\"simple_white\",\n",
    ")\n",
    "\n",
    "colors = ['#762a83', '#af8dc3', '#e7d4e8', '#f7f7f7', '#d9f0d3', '#7fbf7b', '#1b7837']\n",
    "# color_secondary_axis = \"rgb(102,166,30)\"\n",
    "color_secondary_axis='Black'\n",
    "\n",
    "for s, c in zip(df.Sport.unique(), colors):\n",
    "    \n",
    "    plot_df = df_sport[df_sport.Sport == s]\n",
    "    plot_df = plot_df.sort_values(by=['Year'])\n",
    "    \n",
    "    fig.add_trace(\n",
    "        go.Bar(x=[plot_df.Year, plot_df.Gender], \n",
    "               y=plot_df.count_medals, \n",
    "               name=s, \n",
    "               marker_color=c,\n",
    "               hovertemplate=\n",
    "                    '<b>Medals</b>: %{y}'+\n",
    "                    '<br><b>Year</b>: %{x[0]}'+\n",
    "                    '<br><b>Gender</b>: %{x[1]}'+\n",
    "                    '<br><b>Sport</b>: %{text}'+\n",
    "                    '<extra></extra>',\n",
    "               text=plot_df.Sport\n",
    "        ), secondary_y=False\n",
    "    )\n",
    "\n",
    "# add border line to stacked bars\n",
    "fig.update_traces(marker_line_color='rgb(8,48,107)', marker_line_width=1)\n",
    "    \n",
    "fig.add_trace(\n",
    "    go.Scatter(\n",
    "        x = [df_ratio.Year,['Women']*len(df_ratio)],\n",
    "        y = df_ratio.ratio,\n",
    "        name = 'Medals Ratio',\n",
    "        mode='lines+markers',\n",
    "        marker=dict(size=5),\n",
    "        hovertemplate = \n",
    "                '<b>Medals Ratio</b>: %{y:.2f}'+\n",
    "                '<br><b>Year</b>: %{x[0]}'+\n",
    "                '<extra></extra>',\n",
    "        showlegend = True, \n",
    "        line = dict(color=color_secondary_axis, width=2, dash='dot')\n",
    "    ), secondary_y=True)\n",
    "    \n",
    "    \n",
    "fig.update_layout(\n",
    "    title={\n",
    "        'text': \"<b>Winter Olympics Participation Over The Years Per Gender</b>\",\n",
    "        'y':0.9,\n",
    "        'x':0.5,\n",
    "        'xanchor': 'center',\n",
    "        'yanchor': 'top'},\n",
    "    legend=dict(\n",
    "        yanchor=\"top\",\n",
    "        y=0.99,\n",
    "        xanchor=\"left\",\n",
    "        x=0.01,\n",
    "        font_size=14),\n",
    "    width=1300,\n",
    "    height=700,\n",
    "    hoverlabel=dict(\n",
    "        bgcolor=\"white\",\n",
    "        font_size=14),\n",
    "    legend_title = dict(\n",
    "        font = dict(size = 14),\n",
    "        text='<b>Sport Categories</b>'\n",
    "    )\n",
    ")\n",
    "\n",
    "fig.update_xaxes(title_text=\"<b>Gender and Year</b>\")\n",
    "\n",
    "fig.update_yaxes(title_text=\"<b>Number of Medals</b>\", secondary_y=False)\n",
    "fig.update_yaxes(title_text=\"<b>Women to Men Medals Ratio</b>\", color=color_secondary_axis, \n",
    "                linecolor=color_secondary_axis, secondary_y=True, linewidth=3)\n",
    "    \n",
    "fig.show()\n",
    "\n",
    "fig.write_html(\"final_plot.html\")"
   ]
  },
  {
   "cell_type": "code",
   "execution_count": null,
   "metadata": {},
   "outputs": [],
   "source": []
  }
 ],
 "metadata": {
  "kernelspec": {
   "display_name": "Python 3",
   "language": "python",
   "name": "python3"
  },
  "language_info": {
   "codemirror_mode": {
    "name": "ipython",
    "version": 3
   },
   "file_extension": ".py",
   "mimetype": "text/x-python",
   "name": "python",
   "nbconvert_exporter": "python",
   "pygments_lexer": "ipython3",
   "version": "3.8.3"
  },
  "toc": {
   "base_numbering": 1,
   "nav_menu": {},
   "number_sections": true,
   "sideBar": true,
   "skip_h1_title": false,
   "title_cell": "Table of Contents",
   "title_sidebar": "Contents",
   "toc_cell": false,
   "toc_position": {},
   "toc_section_display": true,
   "toc_window_display": false
  },
  "varInspector": {
   "cols": {
    "lenName": 16,
    "lenType": 16,
    "lenVar": 40
   },
   "kernels_config": {
    "python": {
     "delete_cmd_postfix": "",
     "delete_cmd_prefix": "del ",
     "library": "var_list.py",
     "varRefreshCmd": "print(var_dic_list())"
    },
    "r": {
     "delete_cmd_postfix": ") ",
     "delete_cmd_prefix": "rm(",
     "library": "var_list.r",
     "varRefreshCmd": "cat(var_dic_list()) "
    }
   },
   "types_to_exclude": [
    "module",
    "function",
    "builtin_function_or_method",
    "instance",
    "_Feature"
   ],
   "window_display": false
  }
 },
 "nbformat": 4,
 "nbformat_minor": 4
}
