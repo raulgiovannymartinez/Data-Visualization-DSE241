{
 "cells": [
  {
   "cell_type": "code",
   "execution_count": 122,
   "metadata": {},
   "outputs": [],
   "source": [
    "import pandas as pd\n",
    "import numpy as np\n",
    "import matplotlib.pyplot as plt\n",
    "\n",
    "import geopandas as gpd\n",
    "from shapely.geometry import Point, Polygon\n",
    "\n",
    "import folium\n",
    "from folium import Map\n",
    "from folium.map import Layer, FeatureGroup,LayerControl,Marker\n",
    "from folium.plugins import MarkerCluster,FeatureGroupSubGroup,Fullscreen"
   ]
  },
  {
   "cell_type": "markdown",
   "metadata": {},
   "source": [
    "# Data Preparation"
   ]
  },
  {
   "cell_type": "code",
   "execution_count": 123,
   "metadata": {},
   "outputs": [
    {
     "name": "stdout",
     "output_type": "stream",
     "text": [
      "(1395, 5)\n"
     ]
    },
    {
     "data": {
      "text/html": [
       "<div>\n",
       "<style scoped>\n",
       "    .dataframe tbody tr th:only-of-type {\n",
       "        vertical-align: middle;\n",
       "    }\n",
       "\n",
       "    .dataframe tbody tr th {\n",
       "        vertical-align: top;\n",
       "    }\n",
       "\n",
       "    .dataframe thead th {\n",
       "        text-align: right;\n",
       "    }\n",
       "</style>\n",
       "<table border=\"1\" class=\"dataframe\">\n",
       "  <thead>\n",
       "    <tr style=\"text-align: right;\">\n",
       "      <th></th>\n",
       "      <th>index</th>\n",
       "      <th>Year</th>\n",
       "      <th>Week_Reported</th>\n",
       "      <th>County</th>\n",
       "      <th>Positive_Cases</th>\n",
       "    </tr>\n",
       "  </thead>\n",
       "  <tbody>\n",
       "    <tr>\n",
       "      <th>0</th>\n",
       "      <td>0</td>\n",
       "      <td>2006</td>\n",
       "      <td>35</td>\n",
       "      <td>Alameda</td>\n",
       "      <td>1</td>\n",
       "    </tr>\n",
       "    <tr>\n",
       "      <th>1</th>\n",
       "      <td>1</td>\n",
       "      <td>2006</td>\n",
       "      <td>33</td>\n",
       "      <td>Butte</td>\n",
       "      <td>4</td>\n",
       "    </tr>\n",
       "    <tr>\n",
       "      <th>2</th>\n",
       "      <td>2</td>\n",
       "      <td>2006</td>\n",
       "      <td>34</td>\n",
       "      <td>Butte</td>\n",
       "      <td>1</td>\n",
       "    </tr>\n",
       "    <tr>\n",
       "      <th>3</th>\n",
       "      <td>3</td>\n",
       "      <td>2006</td>\n",
       "      <td>35</td>\n",
       "      <td>Butte</td>\n",
       "      <td>10</td>\n",
       "    </tr>\n",
       "    <tr>\n",
       "      <th>4</th>\n",
       "      <td>4</td>\n",
       "      <td>2006</td>\n",
       "      <td>36</td>\n",
       "      <td>Butte</td>\n",
       "      <td>2</td>\n",
       "    </tr>\n",
       "  </tbody>\n",
       "</table>\n",
       "</div>"
      ],
      "text/plain": [
       "   index  Year  Week_Reported   County  Positive_Cases\n",
       "0      0  2006             35  Alameda               1\n",
       "1      1  2006             33    Butte               4\n",
       "2      2  2006             34    Butte               1\n",
       "3      3  2006             35    Butte              10\n",
       "4      4  2006             36    Butte               2"
      ]
     },
     "execution_count": 123,
     "metadata": {},
     "output_type": "execute_result"
    }
   ],
   "source": [
    "df = pd.read_csv(r'.\\data\\West_Nile_Virus_by_County.csv').reset_index()\n",
    "\n",
    "df.drop(['id'], axis=1, inplace=True)\n",
    "\n",
    "print(df.shape)\n",
    "df.head()"
   ]
  },
  {
   "cell_type": "code",
   "execution_count": 124,
   "metadata": {},
   "outputs": [
    {
     "data": {
      "text/plain": [
       "index             1395\n",
       "Year                10\n",
       "Week_Reported       31\n",
       "County              46\n",
       "Positive_Cases      30\n",
       "dtype: int64"
      ]
     },
     "execution_count": 124,
     "metadata": {},
     "output_type": "execute_result"
    }
   ],
   "source": [
    "df.nunique()"
   ]
  },
  {
   "cell_type": "code",
   "execution_count": 125,
   "metadata": {},
   "outputs": [
    {
     "data": {
      "text/html": [
       "<div>\n",
       "<style scoped>\n",
       "    .dataframe tbody tr th:only-of-type {\n",
       "        vertical-align: middle;\n",
       "    }\n",
       "\n",
       "    .dataframe tbody tr th {\n",
       "        vertical-align: top;\n",
       "    }\n",
       "\n",
       "    .dataframe thead th {\n",
       "        text-align: right;\n",
       "    }\n",
       "</style>\n",
       "<table border=\"1\" class=\"dataframe\">\n",
       "  <thead>\n",
       "    <tr style=\"text-align: right;\">\n",
       "      <th></th>\n",
       "      <th>Geo Point</th>\n",
       "      <th>Geo Shape</th>\n",
       "      <th>STATEFP</th>\n",
       "      <th>COUNTYFP</th>\n",
       "      <th>COUNTYNS</th>\n",
       "      <th>GEOID</th>\n",
       "      <th>NAME</th>\n",
       "      <th>NAMELSAD</th>\n",
       "      <th>STUSAB</th>\n",
       "      <th>LSAD</th>\n",
       "      <th>CLASSFP</th>\n",
       "      <th>MTFCC</th>\n",
       "      <th>CSAFP</th>\n",
       "      <th>CBSAFP</th>\n",
       "      <th>METDIVFP</th>\n",
       "      <th>FUNCSTAT</th>\n",
       "      <th>ALAND</th>\n",
       "      <th>AWATER</th>\n",
       "      <th>INTPTLAT</th>\n",
       "      <th>INTPTLON</th>\n",
       "      <th>STATE_NAME</th>\n",
       "      <th>COUNTYFP NOZERO</th>\n",
       "    </tr>\n",
       "  </thead>\n",
       "  <tbody>\n",
       "    <tr>\n",
       "      <th>0</th>\n",
       "      <td>40.1763796295,-98.0471849897</td>\n",
       "      <td>{\"type\": \"Polygon\", \"coordinates\": [[[-98.273667, 40.089399], [-98.273667, 40.089411], [-98.2736...</td>\n",
       "      <td>31</td>\n",
       "      <td>129</td>\n",
       "      <td>835886</td>\n",
       "      <td>31129</td>\n",
       "      <td>Nuckolls</td>\n",
       "      <td>Nuckolls County</td>\n",
       "      <td>NE</td>\n",
       "      <td>6</td>\n",
       "      <td>H1</td>\n",
       "      <td>G4020</td>\n",
       "      <td>NaN</td>\n",
       "      <td>NaN</td>\n",
       "      <td>NaN</td>\n",
       "      <td>A</td>\n",
       "      <td>1489645188</td>\n",
       "      <td>1718484</td>\n",
       "      <td>40.176492</td>\n",
       "      <td>-98.046842</td>\n",
       "      <td>Nebraska</td>\n",
       "      <td>129</td>\n",
       "    </tr>\n",
       "    <tr>\n",
       "      <th>1</th>\n",
       "      <td>40.7715207081,-84.1057794323</td>\n",
       "      <td>{\"type\": \"Polygon\", \"coordinates\": [[[-84.397189, 40.786584], [-84.397198, 40.787598], [-84.3971...</td>\n",
       "      <td>39</td>\n",
       "      <td>3</td>\n",
       "      <td>1074015</td>\n",
       "      <td>39003</td>\n",
       "      <td>Allen</td>\n",
       "      <td>Allen County</td>\n",
       "      <td>OH</td>\n",
       "      <td>6</td>\n",
       "      <td>H1</td>\n",
       "      <td>G4020</td>\n",
       "      <td>338.0</td>\n",
       "      <td>30620.0</td>\n",
       "      <td>NaN</td>\n",
       "      <td>A</td>\n",
       "      <td>1042479889</td>\n",
       "      <td>11259523</td>\n",
       "      <td>40.771627</td>\n",
       "      <td>-84.106103</td>\n",
       "      <td>Ohio</td>\n",
       "      <td>3</td>\n",
       "    </tr>\n",
       "    <tr>\n",
       "      <th>2</th>\n",
       "      <td>41.9103521337,-81.250939242</td>\n",
       "      <td>{\"type\": \"Polygon\", \"coordinates\": [[[-81.488643, 41.631522], [-81.488691, 41.635076], [-81.4902...</td>\n",
       "      <td>39</td>\n",
       "      <td>85</td>\n",
       "      <td>1074055</td>\n",
       "      <td>39085</td>\n",
       "      <td>Lake</td>\n",
       "      <td>Lake County</td>\n",
       "      <td>OH</td>\n",
       "      <td>6</td>\n",
       "      <td>H1</td>\n",
       "      <td>G4020</td>\n",
       "      <td>184.0</td>\n",
       "      <td>17460.0</td>\n",
       "      <td>NaN</td>\n",
       "      <td>A</td>\n",
       "      <td>593807218</td>\n",
       "      <td>1942301625</td>\n",
       "      <td>41.924116</td>\n",
       "      <td>-81.392643</td>\n",
       "      <td>Ohio</td>\n",
       "      <td>85</td>\n",
       "    </tr>\n",
       "    <tr>\n",
       "      <th>3</th>\n",
       "      <td>37.5023005833,-94.3471107747</td>\n",
       "      <td>{\"type\": \"Polygon\", \"coordinates\": [[[-94.617088, 37.477776], [-94.617083, 37.478637], [-94.6170...</td>\n",
       "      <td>29</td>\n",
       "      <td>11</td>\n",
       "      <td>758460</td>\n",
       "      <td>29011</td>\n",
       "      <td>Barton</td>\n",
       "      <td>Barton County</td>\n",
       "      <td>MO</td>\n",
       "      <td>6</td>\n",
       "      <td>H1</td>\n",
       "      <td>G4020</td>\n",
       "      <td>NaN</td>\n",
       "      <td>NaN</td>\n",
       "      <td>NaN</td>\n",
       "      <td>A</td>\n",
       "      <td>1533351029</td>\n",
       "      <td>12152201</td>\n",
       "      <td>37.500799</td>\n",
       "      <td>-94.344089</td>\n",
       "      <td>Missouri</td>\n",
       "      <td>11</td>\n",
       "    </tr>\n",
       "    <tr>\n",
       "      <th>4</th>\n",
       "      <td>45.151770859,-86.0384960523</td>\n",
       "      <td>{\"type\": \"Polygon\", \"coordinates\": [[[-85.561745, 44.952258], [-85.562092, 44.950788], [-85.5626...</td>\n",
       "      <td>26</td>\n",
       "      <td>89</td>\n",
       "      <td>1622987</td>\n",
       "      <td>26089</td>\n",
       "      <td>Leelanau</td>\n",
       "      <td>Leelanau County</td>\n",
       "      <td>MI</td>\n",
       "      <td>6</td>\n",
       "      <td>H1</td>\n",
       "      <td>G4020</td>\n",
       "      <td>NaN</td>\n",
       "      <td>45900.0</td>\n",
       "      <td>NaN</td>\n",
       "      <td>A</td>\n",
       "      <td>899241895</td>\n",
       "      <td>5659105307</td>\n",
       "      <td>45.146182</td>\n",
       "      <td>-86.051574</td>\n",
       "      <td>Michigan</td>\n",
       "      <td>89</td>\n",
       "    </tr>\n",
       "  </tbody>\n",
       "</table>\n",
       "</div>"
      ],
      "text/plain": [
       "                      Geo Point  \\\n",
       "0  40.1763796295,-98.0471849897   \n",
       "1  40.7715207081,-84.1057794323   \n",
       "2   41.9103521337,-81.250939242   \n",
       "3  37.5023005833,-94.3471107747   \n",
       "4   45.151770859,-86.0384960523   \n",
       "\n",
       "                                                                                             Geo Shape  \\\n",
       "0  {\"type\": \"Polygon\", \"coordinates\": [[[-98.273667, 40.089399], [-98.273667, 40.089411], [-98.2736...   \n",
       "1  {\"type\": \"Polygon\", \"coordinates\": [[[-84.397189, 40.786584], [-84.397198, 40.787598], [-84.3971...   \n",
       "2  {\"type\": \"Polygon\", \"coordinates\": [[[-81.488643, 41.631522], [-81.488691, 41.635076], [-81.4902...   \n",
       "3  {\"type\": \"Polygon\", \"coordinates\": [[[-94.617088, 37.477776], [-94.617083, 37.478637], [-94.6170...   \n",
       "4  {\"type\": \"Polygon\", \"coordinates\": [[[-85.561745, 44.952258], [-85.562092, 44.950788], [-85.5626...   \n",
       "\n",
       "   STATEFP  COUNTYFP  COUNTYNS  GEOID      NAME         NAMELSAD STUSAB  LSAD  \\\n",
       "0       31       129    835886  31129  Nuckolls  Nuckolls County     NE     6   \n",
       "1       39         3   1074015  39003     Allen     Allen County     OH     6   \n",
       "2       39        85   1074055  39085      Lake      Lake County     OH     6   \n",
       "3       29        11    758460  29011    Barton    Barton County     MO     6   \n",
       "4       26        89   1622987  26089  Leelanau  Leelanau County     MI     6   \n",
       "\n",
       "  CLASSFP  MTFCC  CSAFP   CBSAFP  METDIVFP FUNCSTAT       ALAND      AWATER  \\\n",
       "0      H1  G4020    NaN      NaN       NaN        A  1489645188     1718484   \n",
       "1      H1  G4020  338.0  30620.0       NaN        A  1042479889    11259523   \n",
       "2      H1  G4020  184.0  17460.0       NaN        A   593807218  1942301625   \n",
       "3      H1  G4020    NaN      NaN       NaN        A  1533351029    12152201   \n",
       "4      H1  G4020    NaN  45900.0       NaN        A   899241895  5659105307   \n",
       "\n",
       "    INTPTLAT   INTPTLON STATE_NAME  COUNTYFP NOZERO  \n",
       "0  40.176492 -98.046842   Nebraska              129  \n",
       "1  40.771627 -84.106103       Ohio                3  \n",
       "2  41.924116 -81.392643       Ohio               85  \n",
       "3  37.500799 -94.344089   Missouri               11  \n",
       "4  45.146182 -86.051574   Michigan               89  "
      ]
     },
     "execution_count": 125,
     "metadata": {},
     "output_type": "execute_result"
    }
   ],
   "source": [
    "df_coord = pd.read_csv(r'C:\\Users\\rmartinez4\\Downloads\\us-county-boundaries.csv', sep=';')\n",
    "df_coord.head()"
   ]
  },
  {
   "cell_type": "code",
   "execution_count": 126,
   "metadata": {},
   "outputs": [],
   "source": [
    "df_coord = df_coord[df_coord['STATE_NAME']=='California']"
   ]
  },
  {
   "cell_type": "code",
   "execution_count": 127,
   "metadata": {},
   "outputs": [
    {
     "data": {
      "text/plain": [
       "Geo Point          58\n",
       "Geo Shape          58\n",
       "STATEFP             1\n",
       "COUNTYFP           58\n",
       "COUNTYNS           58\n",
       "GEOID              58\n",
       "NAME               58\n",
       "NAMELSAD           58\n",
       "STUSAB              1\n",
       "LSAD                1\n",
       "CLASSFP             2\n",
       "MTFCC               1\n",
       "CSAFP               5\n",
       "CBSAFP             34\n",
       "METDIVFP            5\n",
       "FUNCSTAT            2\n",
       "ALAND              58\n",
       "AWATER             58\n",
       "INTPTLAT           58\n",
       "INTPTLON           58\n",
       "STATE_NAME          1\n",
       "COUNTYFP NOZERO    58\n",
       "dtype: int64"
      ]
     },
     "execution_count": 127,
     "metadata": {},
     "output_type": "execute_result"
    }
   ],
   "source": [
    "df_coord.nunique()"
   ]
  },
  {
   "cell_type": "code",
   "execution_count": 128,
   "metadata": {},
   "outputs": [
    {
     "name": "stdout",
     "output_type": "stream",
     "text": [
      "(58, 3)\n"
     ]
    },
    {
     "data": {
      "text/html": [
       "<div>\n",
       "<style scoped>\n",
       "    .dataframe tbody tr th:only-of-type {\n",
       "        vertical-align: middle;\n",
       "    }\n",
       "\n",
       "    .dataframe tbody tr th {\n",
       "        vertical-align: top;\n",
       "    }\n",
       "\n",
       "    .dataframe thead th {\n",
       "        text-align: right;\n",
       "    }\n",
       "</style>\n",
       "<table border=\"1\" class=\"dataframe\">\n",
       "  <thead>\n",
       "    <tr style=\"text-align: right;\">\n",
       "      <th></th>\n",
       "      <th>index</th>\n",
       "      <th>Geo Point</th>\n",
       "      <th>NAMELSAD</th>\n",
       "    </tr>\n",
       "  </thead>\n",
       "  <tbody>\n",
       "    <tr>\n",
       "      <th>0</th>\n",
       "      <td>0</td>\n",
       "      <td>36.0753604529,-119.815502709</td>\n",
       "      <td>Kings County</td>\n",
       "    </tr>\n",
       "    <tr>\n",
       "      <th>1</th>\n",
       "      <td>1</td>\n",
       "      <td>36.6057058971,-121.074995529</td>\n",
       "      <td>San Benito County</td>\n",
       "    </tr>\n",
       "    <tr>\n",
       "      <th>2</th>\n",
       "      <td>2</td>\n",
       "      <td>36.7581801263,-119.649322632</td>\n",
       "      <td>Fresno County</td>\n",
       "    </tr>\n",
       "    <tr>\n",
       "      <th>3</th>\n",
       "      <td>3</td>\n",
       "      <td>40.0046824769,-120.838597596</td>\n",
       "      <td>Plumas County</td>\n",
       "    </tr>\n",
       "    <tr>\n",
       "      <th>4</th>\n",
       "      <td>4</td>\n",
       "      <td>36.5111268089,-117.410789686</td>\n",
       "      <td>Inyo County</td>\n",
       "    </tr>\n",
       "  </tbody>\n",
       "</table>\n",
       "</div>"
      ],
      "text/plain": [
       "   index                     Geo Point           NAMELSAD\n",
       "0      0  36.0753604529,-119.815502709       Kings County\n",
       "1      1  36.6057058971,-121.074995529  San Benito County\n",
       "2      2  36.7581801263,-119.649322632      Fresno County\n",
       "3      3  40.0046824769,-120.838597596      Plumas County\n",
       "4      4  36.5111268089,-117.410789686        Inyo County"
      ]
     },
     "execution_count": 128,
     "metadata": {},
     "output_type": "execute_result"
    }
   ],
   "source": [
    "df_coord = df_coord[['Geo Point', 'NAMELSAD']]\n",
    "df_coord = df_coord.to_csv(r'.\\data\\us-county-boundaries.csv', index=False)\n",
    "df_coord = pd.read_csv(r'.\\data\\us-county-boundaries.csv').reset_index()\n",
    "print(df_coord.shape)\n",
    "df_coord.head()"
   ]
  },
  {
   "cell_type": "code",
   "execution_count": 129,
   "metadata": {},
   "outputs": [
    {
     "name": "stderr",
     "output_type": "stream",
     "text": [
      "c:\\users\\rmartinez4\\anaconda3\\envs\\geo_env\\lib\\site-packages\\py_stringsimjoin\\utils\\validation.py:30: FutureWarning: The pandas.np module is deprecated and will be removed from pandas in a future version. Import numpy directly instead\n",
      "  if attr_type != pd.np.object:\n",
      "0% [##############################] 100% | ETA: 00:00:00\n",
      "Total time elapsed: 00:00:00\n"
     ]
    }
   ],
   "source": [
    "import py_stringmatching as sm\n",
    "import py_stringsimjoin as ssj\n",
    "\n",
    "ws = sm.WhitespaceTokenizer(return_set=True)\n",
    "\n",
    "output_pairs = ssj.jaccard_join(df, df_coord, 'index', 'index', 'County', 'NAMELSAD', ws, 0.4, \n",
    "                                l_out_attrs=['County'], r_out_attrs=['NAMELSAD'])\n"
   ]
  },
  {
   "cell_type": "code",
   "execution_count": 130,
   "metadata": {},
   "outputs": [
    {
     "data": {
      "text/html": [
       "<div>\n",
       "<style scoped>\n",
       "    .dataframe tbody tr th:only-of-type {\n",
       "        vertical-align: middle;\n",
       "    }\n",
       "\n",
       "    .dataframe tbody tr th {\n",
       "        vertical-align: top;\n",
       "    }\n",
       "\n",
       "    .dataframe thead th {\n",
       "        text-align: right;\n",
       "    }\n",
       "</style>\n",
       "<table border=\"1\" class=\"dataframe\">\n",
       "  <thead>\n",
       "    <tr style=\"text-align: right;\">\n",
       "      <th></th>\n",
       "      <th>_id</th>\n",
       "      <th>l_index</th>\n",
       "      <th>r_index</th>\n",
       "      <th>l_County</th>\n",
       "      <th>r_NAMELSAD</th>\n",
       "      <th>_sim_score</th>\n",
       "    </tr>\n",
       "  </thead>\n",
       "  <tbody>\n",
       "    <tr>\n",
       "      <th>0</th>\n",
       "      <td>0</td>\n",
       "      <td>50</td>\n",
       "      <td>0</td>\n",
       "      <td>Kings</td>\n",
       "      <td>Kings County</td>\n",
       "      <td>0.5</td>\n",
       "    </tr>\n",
       "    <tr>\n",
       "      <th>1</th>\n",
       "      <td>1</td>\n",
       "      <td>200</td>\n",
       "      <td>0</td>\n",
       "      <td>Kings</td>\n",
       "      <td>Kings County</td>\n",
       "      <td>0.5</td>\n",
       "    </tr>\n",
       "    <tr>\n",
       "      <th>2</th>\n",
       "      <td>2</td>\n",
       "      <td>201</td>\n",
       "      <td>0</td>\n",
       "      <td>Kings</td>\n",
       "      <td>Kings County</td>\n",
       "      <td>0.5</td>\n",
       "    </tr>\n",
       "    <tr>\n",
       "      <th>3</th>\n",
       "      <td>3</td>\n",
       "      <td>202</td>\n",
       "      <td>0</td>\n",
       "      <td>Kings</td>\n",
       "      <td>Kings County</td>\n",
       "      <td>0.5</td>\n",
       "    </tr>\n",
       "    <tr>\n",
       "      <th>4</th>\n",
       "      <td>4</td>\n",
       "      <td>203</td>\n",
       "      <td>0</td>\n",
       "      <td>Kings</td>\n",
       "      <td>Kings County</td>\n",
       "      <td>0.5</td>\n",
       "    </tr>\n",
       "  </tbody>\n",
       "</table>\n",
       "</div>"
      ],
      "text/plain": [
       "   _id  l_index  r_index l_County    r_NAMELSAD  _sim_score\n",
       "0    0       50        0    Kings  Kings County         0.5\n",
       "1    1      200        0    Kings  Kings County         0.5\n",
       "2    2      201        0    Kings  Kings County         0.5\n",
       "3    3      202        0    Kings  Kings County         0.5\n",
       "4    4      203        0    Kings  Kings County         0.5"
      ]
     },
     "execution_count": 130,
     "metadata": {},
     "output_type": "execute_result"
    }
   ],
   "source": [
    "pd.set_option(\"display.max_rows\", None, \"display.max_columns\", None)\n",
    "output_pairs.head()"
   ]
  },
  {
   "cell_type": "code",
   "execution_count": 131,
   "metadata": {},
   "outputs": [
    {
     "data": {
      "text/plain": [
       "<AxesSubplot:ylabel='Frequency'>"
      ]
     },
     "execution_count": 131,
     "metadata": {},
     "output_type": "execute_result"
    },
    {
     "data": {
      "image/png": "[encoded data removed]",
      "text/plain": [
       "<Figure size 432x288 with 1 Axes>"
      ]
     },
     "metadata": {
      "needs_background": "light"
     },
     "output_type": "display_data"
    }
   ],
   "source": [
    "output_pairs['_sim_score'].plot.hist(bins=12, alpha=0.5)"
   ]
  },
  {
   "cell_type": "code",
   "execution_count": 141,
   "metadata": {},
   "outputs": [
    {
     "name": "stdout",
     "output_type": "stream",
     "text": [
      "(46, 3)\n"
     ]
    },
    {
     "name": "stderr",
     "output_type": "stream",
     "text": [
      "<ipython-input-141-92e6772cc916>:2: SettingWithCopyWarning: \n",
      "A value is trying to be set on a copy of a slice from a DataFrame\n",
      "\n",
      "See the caveats in the documentation: https://pandas.pydata.org/pandas-docs/stable/user_guide/indexing.html#returning-a-view-versus-a-copy\n",
      "  df_match.drop_duplicates(inplace=True)\n"
     ]
    },
    {
     "data": {
      "text/html": [
       "<div>\n",
       "<style scoped>\n",
       "    .dataframe tbody tr th:only-of-type {\n",
       "        vertical-align: middle;\n",
       "    }\n",
       "\n",
       "    .dataframe tbody tr th {\n",
       "        vertical-align: top;\n",
       "    }\n",
       "\n",
       "    .dataframe thead th {\n",
       "        text-align: right;\n",
       "    }\n",
       "</style>\n",
       "<table border=\"1\" class=\"dataframe\">\n",
       "  <thead>\n",
       "    <tr style=\"text-align: right;\">\n",
       "      <th></th>\n",
       "      <th>l_County</th>\n",
       "      <th>r_NAMELSAD</th>\n",
       "      <th>_sim_score</th>\n",
       "    </tr>\n",
       "  </thead>\n",
       "  <tbody>\n",
       "    <tr>\n",
       "      <th>0</th>\n",
       "      <td>Kings</td>\n",
       "      <td>Kings County</td>\n",
       "      <td>0.500000</td>\n",
       "    </tr>\n",
       "    <tr>\n",
       "      <th>19</th>\n",
       "      <td>Fresno</td>\n",
       "      <td>Fresno County</td>\n",
       "      <td>0.500000</td>\n",
       "    </tr>\n",
       "    <tr>\n",
       "      <th>103</th>\n",
       "      <td>Contra Costa</td>\n",
       "      <td>Contra Costa County</td>\n",
       "      <td>0.666667</td>\n",
       "    </tr>\n",
       "    <tr>\n",
       "      <th>137</th>\n",
       "      <td>Sutter</td>\n",
       "      <td>Sutter County</td>\n",
       "      <td>0.500000</td>\n",
       "    </tr>\n",
       "    <tr>\n",
       "      <th>164</th>\n",
       "      <td>Stanislaus</td>\n",
       "      <td>Stanislaus County</td>\n",
       "      <td>0.500000</td>\n",
       "    </tr>\n",
       "  </tbody>\n",
       "</table>\n",
       "</div>"
      ],
      "text/plain": [
       "         l_County           r_NAMELSAD  _sim_score\n",
       "0           Kings         Kings County    0.500000\n",
       "19         Fresno        Fresno County    0.500000\n",
       "103  Contra Costa  Contra Costa County    0.666667\n",
       "137        Sutter        Sutter County    0.500000\n",
       "164    Stanislaus    Stanislaus County    0.500000"
      ]
     },
     "execution_count": 141,
     "metadata": {},
     "output_type": "execute_result"
    }
   ],
   "source": [
    "df_match = output_pairs[['l_County', 'r_NAMELSAD', '_sim_score']]\n",
    "df_match.drop_duplicates(inplace=True)\n",
    "\n",
    "print(df_match.shape)\n",
    "df_match.head()"
   ]
  },
  {
   "cell_type": "code",
   "execution_count": 139,
   "metadata": {},
   "outputs": [],
   "source": [
    "df_final = df.merge(\n",
    "                    df_match, left_on='County', right_on='l_County'\n",
    "                    ).merge(\n",
    "                            df_coord, left_on='r_NAMELSAD', right_on='NAMELSAD', how='left'\n",
    "                            )"
   ]
  },
  {
   "cell_type": "code",
   "execution_count": 143,
   "metadata": {},
   "outputs": [
    {
     "name": "stdout",
     "output_type": "stream",
     "text": [
      "(1395, 11)\n"
     ]
    },
    {
     "data": {
      "text/html": [
       "<div>\n",
       "<style scoped>\n",
       "    .dataframe tbody tr th:only-of-type {\n",
       "        vertical-align: middle;\n",
       "    }\n",
       "\n",
       "    .dataframe tbody tr th {\n",
       "        vertical-align: top;\n",
       "    }\n",
       "\n",
       "    .dataframe thead th {\n",
       "        text-align: right;\n",
       "    }\n",
       "</style>\n",
       "<table border=\"1\" class=\"dataframe\">\n",
       "  <thead>\n",
       "    <tr style=\"text-align: right;\">\n",
       "      <th></th>\n",
       "      <th>index_x</th>\n",
       "      <th>Year</th>\n",
       "      <th>Week_Reported</th>\n",
       "      <th>County</th>\n",
       "      <th>Positive_Cases</th>\n",
       "      <th>l_County</th>\n",
       "      <th>r_NAMELSAD</th>\n",
       "      <th>_sim_score</th>\n",
       "      <th>index_y</th>\n",
       "      <th>Geo Point</th>\n",
       "      <th>NAMELSAD</th>\n",
       "    </tr>\n",
       "  </thead>\n",
       "  <tbody>\n",
       "    <tr>\n",
       "      <th>0</th>\n",
       "      <td>0</td>\n",
       "      <td>2006</td>\n",
       "      <td>35</td>\n",
       "      <td>Alameda</td>\n",
       "      <td>1</td>\n",
       "      <td>Alameda</td>\n",
       "      <td>Alameda County</td>\n",
       "      <td>0.5</td>\n",
       "      <td>50</td>\n",
       "      <td>37.6504930265,-121.917998966</td>\n",
       "      <td>Alameda County</td>\n",
       "    </tr>\n",
       "    <tr>\n",
       "      <th>1</th>\n",
       "      <td>300</td>\n",
       "      <td>2008</td>\n",
       "      <td>32</td>\n",
       "      <td>Alameda</td>\n",
       "      <td>1</td>\n",
       "      <td>Alameda</td>\n",
       "      <td>Alameda County</td>\n",
       "      <td>0.5</td>\n",
       "      <td>50</td>\n",
       "      <td>37.6504930265,-121.917998966</td>\n",
       "      <td>Alameda County</td>\n",
       "    </tr>\n",
       "    <tr>\n",
       "      <th>2</th>\n",
       "      <td>512</td>\n",
       "      <td>2010</td>\n",
       "      <td>43</td>\n",
       "      <td>Alameda</td>\n",
       "      <td>1</td>\n",
       "      <td>Alameda</td>\n",
       "      <td>Alameda County</td>\n",
       "      <td>0.5</td>\n",
       "      <td>50</td>\n",
       "      <td>37.6504930265,-121.917998966</td>\n",
       "      <td>Alameda County</td>\n",
       "    </tr>\n",
       "    <tr>\n",
       "      <th>3</th>\n",
       "      <td>673</td>\n",
       "      <td>2012</td>\n",
       "      <td>42</td>\n",
       "      <td>Alameda</td>\n",
       "      <td>1</td>\n",
       "      <td>Alameda</td>\n",
       "      <td>Alameda County</td>\n",
       "      <td>0.5</td>\n",
       "      <td>50</td>\n",
       "      <td>37.6504930265,-121.917998966</td>\n",
       "      <td>Alameda County</td>\n",
       "    </tr>\n",
       "    <tr>\n",
       "      <th>4</th>\n",
       "      <td>674</td>\n",
       "      <td>2012</td>\n",
       "      <td>43</td>\n",
       "      <td>Alameda</td>\n",
       "      <td>1</td>\n",
       "      <td>Alameda</td>\n",
       "      <td>Alameda County</td>\n",
       "      <td>0.5</td>\n",
       "      <td>50</td>\n",
       "      <td>37.6504930265,-121.917998966</td>\n",
       "      <td>Alameda County</td>\n",
       "    </tr>\n",
       "  </tbody>\n",
       "</table>\n",
       "</div>"
      ],
      "text/plain": [
       "   index_x  Year  Week_Reported   County  Positive_Cases l_County  \\\n",
       "0        0  2006             35  Alameda               1  Alameda   \n",
       "1      300  2008             32  Alameda               1  Alameda   \n",
       "2      512  2010             43  Alameda               1  Alameda   \n",
       "3      673  2012             42  Alameda               1  Alameda   \n",
       "4      674  2012             43  Alameda               1  Alameda   \n",
       "\n",
       "       r_NAMELSAD  _sim_score  index_y                     Geo Point  \\\n",
       "0  Alameda County         0.5       50  37.6504930265,-121.917998966   \n",
       "1  Alameda County         0.5       50  37.6504930265,-121.917998966   \n",
       "2  Alameda County         0.5       50  37.6504930265,-121.917998966   \n",
       "3  Alameda County         0.5       50  37.6504930265,-121.917998966   \n",
       "4  Alameda County         0.5       50  37.6504930265,-121.917998966   \n",
       "\n",
       "         NAMELSAD  \n",
       "0  Alameda County  \n",
       "1  Alameda County  \n",
       "2  Alameda County  \n",
       "3  Alameda County  \n",
       "4  Alameda County  "
      ]
     },
     "execution_count": 143,
     "metadata": {},
     "output_type": "execute_result"
    }
   ],
   "source": [
    "print(df_final.shape)\n",
    "df_final.head()"
   ]
  },
  {
   "cell_type": "code",
   "execution_count": 142,
   "metadata": {},
   "outputs": [],
   "source": [
    "cols = ['Year', 'Week_Reported', 'County', 'Positive_Cases', 'Geo Point']\n",
    "df_final[cols].to_csv(r'.\\data\\final_df.csv', index=False)"
   ]
  },
  {
   "cell_type": "code",
   "execution_count": null,
   "metadata": {},
   "outputs": [],
   "source": []
  },
  {
   "cell_type": "markdown",
   "metadata": {},
   "source": [
    "# Data Visualization"
   ]
  },
  {
   "cell_type": "code",
   "execution_count": null,
   "metadata": {},
   "outputs": [],
   "source": [
    "df_final = pd.read_csv(r'.\\data\\final_df.csv')"
   ]
  },
  {
   "cell_type": "code",
   "execution_count": null,
   "metadata": {},
   "outputs": [],
   "source": []
  },
  {
   "cell_type": "code",
   "execution_count": null,
   "metadata": {},
   "outputs": [],
   "source": []
  },
  {
   "cell_type": "code",
   "execution_count": null,
   "metadata": {},
   "outputs": [],
   "source": []
  }
 ],
 "metadata": {
  "kernelspec": {
   "display_name": "Python 3",
   "language": "python",
   "name": "python3"
  },
  "language_info": {
   "codemirror_mode": {
    "name": "ipython",
    "version": 3
   },
   "file_extension": ".py",
   "mimetype": "text/x-python",
   "name": "python",
   "nbconvert_exporter": "python",
   "pygments_lexer": "ipython3",
   "version": "3.8.8"
  },
  "toc": {
   "base_numbering": 1,
   "nav_menu": {},
   "number_sections": true,
   "sideBar": true,
   "skip_h1_title": false,
   "title_cell": "Table of Contents",
   "title_sidebar": "Contents",
   "toc_cell": false,
   "toc_position": {},
   "toc_section_display": true,
   "toc_window_display": true
  },
  "varInspector": {
   "cols": {
    "lenName": 16,
    "lenType": 16,
    "lenVar": 40
   },
   "kernels_config": {
    "python": {
     "delete_cmd_postfix": "",
     "delete_cmd_prefix": "del ",
     "library": "var_list.py",
     "varRefreshCmd": "print(var_dic_list())"
    },
    "r": {
     "delete_cmd_postfix": ") ",
     "delete_cmd_prefix": "rm(",
     "library": "var_list.r",
     "varRefreshCmd": "cat(var_dic_list()) "
    }
   },
   "types_to_exclude": [
    "module",
    "function",
    "builtin_function_or_method",
    "instance",
    "_Feature"
   ],
   "window_display": false
  }
 },
 "nbformat": 4,
 "nbformat_minor": 4
}
