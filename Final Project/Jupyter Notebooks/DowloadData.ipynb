{
 "cells": [
  {
   "cell_type": "markdown",
   "id": "apart-receiver",
   "metadata": {},
   "source": [
    "# Dowload CSV Files from RadNet Website\n",
    "Ivan Ulloa - 2/10/2021<br>\n",
    "This notebook uses a list of URLs to pull each of the CSV files."
   ]
  },
  {
   "cell_type": "markdown",
   "id": "funky-accountability",
   "metadata": {},
   "source": [
    "## Load Libraries"
   ]
  },
  {
   "cell_type": "code",
   "execution_count": null,
   "id": "crazy-horror",
   "metadata": {},
   "outputs": [],
   "source": [
    "import os\n",
    "import pandas as pd\n",
    "import wget"
   ]
  },
  {
   "cell_type": "markdown",
   "id": "athletic-parliament",
   "metadata": {},
   "source": [
    "## Change Directoy to Main"
   ]
  },
  {
   "cell_type": "code",
   "execution_count": 2,
   "id": "standing-assessment",
   "metadata": {},
   "outputs": [],
   "source": [
    "os.chdir(r\"C:\\Users\\Ivan Ulloa\\Documents\\School - UCSD\\DSE241_Data_Visualization\\Final Project\") \n",
    "data = pd.read_csv('all_links.csv')\n",
    "urls = list(data['link'])"
   ]
  },
  {
   "cell_type": "markdown",
   "id": "wanted-savings",
   "metadata": {},
   "source": [
    "## Change Directory to \"Data\" folder\n",
    "A folder named \"Data\" is required"
   ]
  },
  {
   "cell_type": "code",
   "execution_count": 3,
   "id": "balanced-underwear",
   "metadata": {},
   "outputs": [
    {
     "name": "stdout",
     "output_type": "stream",
     "text": [
      "Directory changed to Data Folder\n",
      " Volume in drive C has no label.\n",
      " Volume Serial Number is 4AD9-9B68\n",
      "\n",
      " Directory of C:\\Users\\Ivan Ulloa\\Documents\\School - UCSD\\DSE241_Data_Visualization\\Final Project\\Data\n",
      "\n",
      "02/10/2021  09:02 PM    <DIR>          .\n",
      "02/10/2021  09:02 PM    <DIR>          ..\n",
      "               0 File(s)              0 bytes\n",
      "               2 Dir(s)  88,630,657,024 bytes free\n"
     ]
    }
   ],
   "source": [
    "os.chdir(r\"C:\\Users\\Ivan Ulloa\\Documents\\School - UCSD\\DSE241_Data_Visualization\\Final Project\\Data\") \n",
    "  \n",
    "print(\"Directory changed to Data Folder\") \n",
    "!dir"
   ]
  },
  {
   "cell_type": "markdown",
   "id": "chubby-respondent",
   "metadata": {},
   "source": [
    "## Dowload CSVs"
   ]
  },
  {
   "cell_type": "code",
   "execution_count": 8,
   "id": "forbidden-webcam",
   "metadata": {},
   "outputs": [
    {
     "name": "stdout",
     "output_type": "stream",
     "text": [
      "100% [............................................................................] 124279 / 124279"
     ]
    }
   ],
   "source": [
    "for url in urls:\n",
    "    try:\n",
    "        wget.download(url)\n",
    "    except:\n",
    "        print('Could not Download:')\n",
    "        print(url)"
   ]
  }
 ],
 "metadata": {
  "kernelspec": {
   "display_name": "Python 3",
   "language": "python",
   "name": "python3"
  },
  "language_info": {
   "codemirror_mode": {
    "name": "ipython",
    "version": 3
   },
   "file_extension": ".py",
   "mimetype": "text/x-python",
   "name": "python",
   "nbconvert_exporter": "python",
   "pygments_lexer": "ipython3",
   "version": "3.8.5"
  }
 },
 "nbformat": 4,
 "nbformat_minor": 5
}
