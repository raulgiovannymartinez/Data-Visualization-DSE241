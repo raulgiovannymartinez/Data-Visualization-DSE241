{
 "cells": [
  {
   "cell_type": "code",
   "execution_count": 2,
   "metadata": {},
   "outputs": [],
   "source": [
    "import pandas as pd\n",
    "from os import path\n",
    "from datetime import datetime as dt\n",
    "from datetime import timedelta\n",
    "import numpy as np"
   ]
  },
  {
   "cell_type": "markdown",
   "metadata": {},
   "source": [
    "# Prepare data"
   ]
  },
  {
   "cell_type": "code",
   "execution_count": 3,
   "metadata": {},
   "outputs": [
    {
     "name": "stdout",
     "output_type": "stream",
     "text": [
      "Wall time: 2min 59s\n"
     ]
    }
   ],
   "source": [
    "%%time\n",
    "# get dataframe\n",
    "\n",
    "fp = path.abspath('../dash_plotly_code/data/raw')\n",
    "\n",
    "data = pd.read_csv(path.abspath('../dash_plotly_code/data/data.csv'))\n",
    "data['Time'] = [dt.strptime(i, '%m/%d/%Y %H:%M:%S') for i in data['Time']]\n",
    "\n",
    "coordinates = pd.read_csv(path.abspath('../dash_plotly_code/data/cities_coord_time_alt.csv'))"
   ]
  },
  {
   "cell_type": "code",
   "execution_count": 4,
   "metadata": {},
   "outputs": [
    {
     "data": {
      "text/html": [
       "<div>\n",
       "<style scoped>\n",
       "    .dataframe tbody tr th:only-of-type {\n",
       "        vertical-align: middle;\n",
       "    }\n",
       "\n",
       "    .dataframe tbody tr th {\n",
       "        vertical-align: top;\n",
       "    }\n",
       "\n",
       "    .dataframe thead th {\n",
       "        text-align: right;\n",
       "    }\n",
       "</style>\n",
       "<table border=\"1\" class=\"dataframe\">\n",
       "  <thead>\n",
       "    <tr style=\"text-align: right;\">\n",
       "      <th></th>\n",
       "      <th>State</th>\n",
       "      <th>City</th>\n",
       "      <th>Time</th>\n",
       "      <th>Dose_Rate</th>\n",
       "      <th>Gamma_Count</th>\n",
       "    </tr>\n",
       "  </thead>\n",
       "  <tbody>\n",
       "    <tr>\n",
       "      <th>0</th>\n",
       "      <td>AK</td>\n",
       "      <td>ANCHORAGE</td>\n",
       "      <td>2008-06-05 00:49:00</td>\n",
       "      <td>NaN</td>\n",
       "      <td>1322.0</td>\n",
       "    </tr>\n",
       "    <tr>\n",
       "      <th>1</th>\n",
       "      <td>AK</td>\n",
       "      <td>ANCHORAGE</td>\n",
       "      <td>2008-06-05 01:49:00</td>\n",
       "      <td>NaN</td>\n",
       "      <td>1215.0</td>\n",
       "    </tr>\n",
       "    <tr>\n",
       "      <th>2</th>\n",
       "      <td>AK</td>\n",
       "      <td>ANCHORAGE</td>\n",
       "      <td>2008-06-05 02:50:00</td>\n",
       "      <td>NaN</td>\n",
       "      <td>1223.0</td>\n",
       "    </tr>\n",
       "    <tr>\n",
       "      <th>3</th>\n",
       "      <td>AK</td>\n",
       "      <td>ANCHORAGE</td>\n",
       "      <td>2008-06-05 03:50:00</td>\n",
       "      <td>NaN</td>\n",
       "      <td>1238.0</td>\n",
       "    </tr>\n",
       "    <tr>\n",
       "      <th>4</th>\n",
       "      <td>AK</td>\n",
       "      <td>ANCHORAGE</td>\n",
       "      <td>2008-06-05 04:50:00</td>\n",
       "      <td>NaN</td>\n",
       "      <td>1266.0</td>\n",
       "    </tr>\n",
       "  </tbody>\n",
       "</table>\n",
       "</div>"
      ],
      "text/plain": [
       "  State       City                Time  Dose_Rate  Gamma_Count\n",
       "0    AK  ANCHORAGE 2008-06-05 00:49:00        NaN       1322.0\n",
       "1    AK  ANCHORAGE 2008-06-05 01:49:00        NaN       1215.0\n",
       "2    AK  ANCHORAGE 2008-06-05 02:50:00        NaN       1223.0\n",
       "3    AK  ANCHORAGE 2008-06-05 03:50:00        NaN       1238.0\n",
       "4    AK  ANCHORAGE 2008-06-05 04:50:00        NaN       1266.0"
      ]
     },
     "execution_count": 4,
     "metadata": {},
     "output_type": "execute_result"
    }
   ],
   "source": [
    "data.head()"
   ]
  },
  {
   "cell_type": "code",
   "execution_count": 5,
   "metadata": {},
   "outputs": [
    {
     "data": {
      "text/plain": [
       "State               52\n",
       "City               139\n",
       "Time           5589582\n",
       "Dose_Rate          278\n",
       "Gamma_Count      13411\n",
       "dtype: int64"
      ]
     },
     "execution_count": 5,
     "metadata": {},
     "output_type": "execute_result"
    }
   ],
   "source": [
    "data.nunique()"
   ]
  },
  {
   "cell_type": "code",
   "execution_count": 6,
   "metadata": {},
   "outputs": [
    {
     "name": "stdout",
     "output_type": "stream",
     "text": [
      "(11617850, 5)\n"
     ]
    },
    {
     "data": {
      "text/plain": [
       "State                 0\n",
       "City                  0\n",
       "Time                  0\n",
       "Dose_Rate      10221031\n",
       "Gamma_Count       92021\n",
       "dtype: int64"
      ]
     },
     "execution_count": 6,
     "metadata": {},
     "output_type": "execute_result"
    }
   ],
   "source": [
    "print(data.shape)\n",
    "data.isnull().sum()"
   ]
  },
  {
   "cell_type": "code",
   "execution_count": 7,
   "metadata": {},
   "outputs": [
    {
     "data": {
      "text/html": [
       "<div>\n",
       "<style scoped>\n",
       "    .dataframe tbody tr th:only-of-type {\n",
       "        vertical-align: middle;\n",
       "    }\n",
       "\n",
       "    .dataframe tbody tr th {\n",
       "        vertical-align: top;\n",
       "    }\n",
       "\n",
       "    .dataframe thead th {\n",
       "        text-align: right;\n",
       "    }\n",
       "</style>\n",
       "<table border=\"1\" class=\"dataframe\">\n",
       "  <thead>\n",
       "    <tr style=\"text-align: right;\">\n",
       "      <th></th>\n",
       "      <th>State</th>\n",
       "      <th>City</th>\n",
       "      <th>lat</th>\n",
       "      <th>lng</th>\n",
       "      <th>timezone</th>\n",
       "      <th>UTC</th>\n",
       "      <th>Elevation</th>\n",
       "    </tr>\n",
       "  </thead>\n",
       "  <tbody>\n",
       "    <tr>\n",
       "      <th>0</th>\n",
       "      <td>AK</td>\n",
       "      <td>ANCHORAGE</td>\n",
       "      <td>61.1508</td>\n",
       "      <td>-149.1091</td>\n",
       "      <td>America/Anchorage</td>\n",
       "      <td>-9</td>\n",
       "      <td>236.45</td>\n",
       "    </tr>\n",
       "    <tr>\n",
       "      <th>1</th>\n",
       "      <td>AK</td>\n",
       "      <td>FAIRBANKS</td>\n",
       "      <td>64.8353</td>\n",
       "      <td>-147.6534</td>\n",
       "      <td>America/Anchorage</td>\n",
       "      <td>-9</td>\n",
       "      <td>136.27</td>\n",
       "    </tr>\n",
       "    <tr>\n",
       "      <th>2</th>\n",
       "      <td>AK</td>\n",
       "      <td>JUNEAU</td>\n",
       "      <td>58.4546</td>\n",
       "      <td>-134.1739</td>\n",
       "      <td>America/Juneau</td>\n",
       "      <td>-9</td>\n",
       "      <td>570.19</td>\n",
       "    </tr>\n",
       "    <tr>\n",
       "      <th>3</th>\n",
       "      <td>AL</td>\n",
       "      <td>BIRMINGHAM</td>\n",
       "      <td>33.5277</td>\n",
       "      <td>-86.7987</td>\n",
       "      <td>America/Chicago</td>\n",
       "      <td>-6</td>\n",
       "      <td>183.58</td>\n",
       "    </tr>\n",
       "    <tr>\n",
       "      <th>4</th>\n",
       "      <td>AL</td>\n",
       "      <td>MOBILE</td>\n",
       "      <td>30.6783</td>\n",
       "      <td>-88.1162</td>\n",
       "      <td>America/Chicago</td>\n",
       "      <td>-6</td>\n",
       "      <td>9.08</td>\n",
       "    </tr>\n",
       "  </tbody>\n",
       "</table>\n",
       "</div>"
      ],
      "text/plain": [
       "  State        City      lat       lng           timezone  UTC  Elevation\n",
       "0    AK   ANCHORAGE  61.1508 -149.1091  America/Anchorage   -9     236.45\n",
       "1    AK   FAIRBANKS  64.8353 -147.6534  America/Anchorage   -9     136.27\n",
       "2    AK      JUNEAU  58.4546 -134.1739     America/Juneau   -9     570.19\n",
       "3    AL  BIRMINGHAM  33.5277  -86.7987    America/Chicago   -6     183.58\n",
       "4    AL      MOBILE  30.6783  -88.1162    America/Chicago   -6       9.08"
      ]
     },
     "execution_count": 7,
     "metadata": {},
     "output_type": "execute_result"
    }
   ],
   "source": [
    "coordinates.head()"
   ]
  },
  {
   "cell_type": "code",
   "execution_count": 8,
   "metadata": {},
   "outputs": [
    {
     "name": "stdout",
     "output_type": "stream",
     "text": [
      "(140, 7)\n"
     ]
    },
    {
     "data": {
      "text/plain": [
       "State        0\n",
       "City         0\n",
       "lat          0\n",
       "lng          0\n",
       "timezone     0\n",
       "UTC          0\n",
       "Elevation    0\n",
       "dtype: int64"
      ]
     },
     "execution_count": 8,
     "metadata": {},
     "output_type": "execute_result"
    }
   ],
   "source": [
    "print(coordinates.shape)\n",
    "coordinates.isnull().sum()"
   ]
  },
  {
   "cell_type": "code",
   "execution_count": 12,
   "metadata": {},
   "outputs": [],
   "source": [
    "# save as pickle files\n",
    "data.to_pickle(path.abspath('../dash_plotly_code/data/data.pkl'), protocol=4)\n",
    "\n",
    "coordinates.to_pickle(path.abspath('../dash_plotly_code/data/coordinates.pkl'), protocol=4)"
   ]
  },
  {
   "cell_type": "code",
   "execution_count": 10,
   "metadata": {},
   "outputs": [],
   "source": [
    "test_data = pd.read_pickle(path.abspath('../dash_plotly_code/data/data.pkl'))"
   ]
  },
  {
   "cell_type": "code",
   "execution_count": 11,
   "metadata": {},
   "outputs": [
    {
     "name": "stdout",
     "output_type": "stream",
     "text": [
      "State                  object\n",
      "City                   object\n",
      "Time           datetime64[ns]\n",
      "Dose_Rate             float64\n",
      "Gamma_Count           float64\n",
      "dtype: object\n",
      "State                  object\n",
      "City                   object\n",
      "Time           datetime64[ns]\n",
      "Dose_Rate             float64\n",
      "Gamma_Count           float64\n",
      "dtype: object\n"
     ]
    }
   ],
   "source": [
    "print(data.dtypes)\n",
    "print(test_data.dtypes)"
   ]
  },
  {
   "cell_type": "code",
   "execution_count": 22,
   "metadata": {},
   "outputs": [],
   "source": [
    "# data = data.dropna()"
   ]
  },
  {
   "cell_type": "code",
   "execution_count": 23,
   "metadata": {},
   "outputs": [],
   "source": [
    "# (data.Dose_Rate==0).sum()"
   ]
  },
  {
   "cell_type": "code",
   "execution_count": 24,
   "metadata": {},
   "outputs": [],
   "source": [
    "# data.Dose_Rate = data.Dose_Rate.replace(0, np.nan)"
   ]
  },
  {
   "cell_type": "code",
   "execution_count": 25,
   "metadata": {},
   "outputs": [],
   "source": [
    "# (data.Dose_Rate==0).sum()"
   ]
  },
  {
   "cell_type": "code",
   "execution_count": 26,
   "metadata": {},
   "outputs": [
    {
     "data": {
      "text/html": [
       "<div>\n",
       "<style scoped>\n",
       "    .dataframe tbody tr th:only-of-type {\n",
       "        vertical-align: middle;\n",
       "    }\n",
       "\n",
       "    .dataframe tbody tr th {\n",
       "        vertical-align: top;\n",
       "    }\n",
       "\n",
       "    .dataframe thead th {\n",
       "        text-align: right;\n",
       "    }\n",
       "</style>\n",
       "<table border=\"1\" class=\"dataframe\">\n",
       "  <thead>\n",
       "    <tr style=\"text-align: right;\">\n",
       "      <th></th>\n",
       "      <th>State</th>\n",
       "      <th>City</th>\n",
       "      <th>lat</th>\n",
       "      <th>lng</th>\n",
       "      <th>timezone</th>\n",
       "      <th>UTC</th>\n",
       "      <th>Elevation</th>\n",
       "    </tr>\n",
       "  </thead>\n",
       "  <tbody>\n",
       "    <tr>\n",
       "      <th>0</th>\n",
       "      <td>AK</td>\n",
       "      <td>ANCHORAGE</td>\n",
       "      <td>61.1508</td>\n",
       "      <td>-149.1091</td>\n",
       "      <td>America/Anchorage</td>\n",
       "      <td>-9</td>\n",
       "      <td>236.45</td>\n",
       "    </tr>\n",
       "    <tr>\n",
       "      <th>1</th>\n",
       "      <td>AK</td>\n",
       "      <td>FAIRBANKS</td>\n",
       "      <td>64.8353</td>\n",
       "      <td>-147.6534</td>\n",
       "      <td>America/Anchorage</td>\n",
       "      <td>-9</td>\n",
       "      <td>136.27</td>\n",
       "    </tr>\n",
       "    <tr>\n",
       "      <th>2</th>\n",
       "      <td>AK</td>\n",
       "      <td>JUNEAU</td>\n",
       "      <td>58.4546</td>\n",
       "      <td>-134.1739</td>\n",
       "      <td>America/Juneau</td>\n",
       "      <td>-9</td>\n",
       "      <td>570.19</td>\n",
       "    </tr>\n",
       "    <tr>\n",
       "      <th>3</th>\n",
       "      <td>AL</td>\n",
       "      <td>BIRMINGHAM</td>\n",
       "      <td>33.5277</td>\n",
       "      <td>-86.7987</td>\n",
       "      <td>America/Chicago</td>\n",
       "      <td>-6</td>\n",
       "      <td>183.58</td>\n",
       "    </tr>\n",
       "    <tr>\n",
       "      <th>4</th>\n",
       "      <td>AL</td>\n",
       "      <td>MOBILE</td>\n",
       "      <td>30.6783</td>\n",
       "      <td>-88.1162</td>\n",
       "      <td>America/Chicago</td>\n",
       "      <td>-6</td>\n",
       "      <td>9.08</td>\n",
       "    </tr>\n",
       "  </tbody>\n",
       "</table>\n",
       "</div>"
      ],
      "text/plain": [
       "  State        City      lat       lng           timezone  UTC  Elevation\n",
       "0    AK   ANCHORAGE  61.1508 -149.1091  America/Anchorage   -9     236.45\n",
       "1    AK   FAIRBANKS  64.8353 -147.6534  America/Anchorage   -9     136.27\n",
       "2    AK      JUNEAU  58.4546 -134.1739     America/Juneau   -9     570.19\n",
       "3    AL  BIRMINGHAM  33.5277  -86.7987    America/Chicago   -6     183.58\n",
       "4    AL      MOBILE  30.6783  -88.1162    America/Chicago   -6       9.08"
      ]
     },
     "execution_count": 26,
     "metadata": {},
     "output_type": "execute_result"
    }
   ],
   "source": [
    "coordinates.head()"
   ]
  },
  {
   "cell_type": "code",
   "execution_count": 13,
   "metadata": {},
   "outputs": [],
   "source": [
    "DF = pd.merge(data, coordinates, on=['City', 'State'], how='inner')"
   ]
  },
  {
   "cell_type": "code",
   "execution_count": 14,
   "metadata": {},
   "outputs": [
    {
     "name": "stdout",
     "output_type": "stream",
     "text": [
      "(11617850, 10)\n"
     ]
    },
    {
     "data": {
      "text/plain": [
       "State                 0\n",
       "City                  0\n",
       "Time                  0\n",
       "Dose_Rate      10221031\n",
       "Gamma_Count       92021\n",
       "lat                   0\n",
       "lng                   0\n",
       "timezone              0\n",
       "UTC                   0\n",
       "Elevation             0\n",
       "dtype: int64"
      ]
     },
     "execution_count": 14,
     "metadata": {},
     "output_type": "execute_result"
    }
   ],
   "source": [
    "print(DF.shape)\n",
    "DF.isnull().sum()"
   ]
  },
  {
   "cell_type": "code",
   "execution_count": 15,
   "metadata": {},
   "outputs": [],
   "source": [
    "# drop rows where both are nan\n",
    "DF.dropna(subset=['Dose_Rate', 'Gamma_Count'], how='all', inplace=True)"
   ]
  },
  {
   "cell_type": "code",
   "execution_count": 30,
   "metadata": {},
   "outputs": [
    {
     "name": "stdout",
     "output_type": "stream",
     "text": [
      "(11594073, 10)\n"
     ]
    },
    {
     "data": {
      "text/plain": [
       "State                 0\n",
       "City                  0\n",
       "Time                  0\n",
       "Dose_Rate      10197254\n",
       "Gamma_Count       68244\n",
       "lat                   0\n",
       "lng                   0\n",
       "timezone              0\n",
       "UTC                   0\n",
       "Elevation             0\n",
       "dtype: int64"
      ]
     },
     "execution_count": 30,
     "metadata": {},
     "output_type": "execute_result"
    }
   ],
   "source": [
    "print(DF.shape)\n",
    "DF.isnull().sum()"
   ]
  },
  {
   "cell_type": "code",
   "execution_count": 31,
   "metadata": {},
   "outputs": [
    {
     "data": {
      "text/plain": [
       "State               52\n",
       "City               139\n",
       "Time           5583584\n",
       "Dose_Rate          278\n",
       "Gamma_Count      13411\n",
       "lat                140\n",
       "lng                140\n",
       "timezone            12\n",
       "UTC                  7\n",
       "Elevation          139\n",
       "dtype: int64"
      ]
     },
     "execution_count": 31,
     "metadata": {},
     "output_type": "execute_result"
    }
   ],
   "source": [
    "DF.nunique()"
   ]
  },
  {
   "cell_type": "code",
   "execution_count": 16,
   "metadata": {},
   "outputs": [
    {
     "name": "stdout",
     "output_type": "stream",
     "text": [
      "Wall time: 1min 40s\n"
     ]
    }
   ],
   "source": [
    "%%time\n",
    "DF['Time'] = [i+timedelta(hours=int(j)) for i,j in zip(DF['Time'], DF['UTC'])] "
   ]
  },
  {
   "cell_type": "code",
   "execution_count": 18,
   "metadata": {},
   "outputs": [
    {
     "data": {
      "text/html": [
       "<div>\n",
       "<style scoped>\n",
       "    .dataframe tbody tr th:only-of-type {\n",
       "        vertical-align: middle;\n",
       "    }\n",
       "\n",
       "    .dataframe tbody tr th {\n",
       "        vertical-align: top;\n",
       "    }\n",
       "\n",
       "    .dataframe thead th {\n",
       "        text-align: right;\n",
       "    }\n",
       "</style>\n",
       "<table border=\"1\" class=\"dataframe\">\n",
       "  <thead>\n",
       "    <tr style=\"text-align: right;\">\n",
       "      <th></th>\n",
       "      <th>State</th>\n",
       "      <th>City</th>\n",
       "      <th>Time</th>\n",
       "      <th>Dose_Rate</th>\n",
       "      <th>Gamma_Count</th>\n",
       "      <th>lat</th>\n",
       "      <th>lng</th>\n",
       "      <th>timezone</th>\n",
       "      <th>UTC</th>\n",
       "      <th>Elevation</th>\n",
       "    </tr>\n",
       "  </thead>\n",
       "  <tbody>\n",
       "    <tr>\n",
       "      <th>0</th>\n",
       "      <td>AK</td>\n",
       "      <td>ANCHORAGE</td>\n",
       "      <td>2008-06-04 15:49:00</td>\n",
       "      <td>NaN</td>\n",
       "      <td>1322.0</td>\n",
       "      <td>61.1508</td>\n",
       "      <td>-149.1091</td>\n",
       "      <td>America/Anchorage</td>\n",
       "      <td>-9</td>\n",
       "      <td>236.45</td>\n",
       "    </tr>\n",
       "    <tr>\n",
       "      <th>1</th>\n",
       "      <td>AK</td>\n",
       "      <td>ANCHORAGE</td>\n",
       "      <td>2008-06-04 16:49:00</td>\n",
       "      <td>NaN</td>\n",
       "      <td>1215.0</td>\n",
       "      <td>61.1508</td>\n",
       "      <td>-149.1091</td>\n",
       "      <td>America/Anchorage</td>\n",
       "      <td>-9</td>\n",
       "      <td>236.45</td>\n",
       "    </tr>\n",
       "    <tr>\n",
       "      <th>2</th>\n",
       "      <td>AK</td>\n",
       "      <td>ANCHORAGE</td>\n",
       "      <td>2008-06-04 17:50:00</td>\n",
       "      <td>NaN</td>\n",
       "      <td>1223.0</td>\n",
       "      <td>61.1508</td>\n",
       "      <td>-149.1091</td>\n",
       "      <td>America/Anchorage</td>\n",
       "      <td>-9</td>\n",
       "      <td>236.45</td>\n",
       "    </tr>\n",
       "    <tr>\n",
       "      <th>3</th>\n",
       "      <td>AK</td>\n",
       "      <td>ANCHORAGE</td>\n",
       "      <td>2008-06-04 18:50:00</td>\n",
       "      <td>NaN</td>\n",
       "      <td>1238.0</td>\n",
       "      <td>61.1508</td>\n",
       "      <td>-149.1091</td>\n",
       "      <td>America/Anchorage</td>\n",
       "      <td>-9</td>\n",
       "      <td>236.45</td>\n",
       "    </tr>\n",
       "    <tr>\n",
       "      <th>4</th>\n",
       "      <td>AK</td>\n",
       "      <td>ANCHORAGE</td>\n",
       "      <td>2008-06-04 19:50:00</td>\n",
       "      <td>NaN</td>\n",
       "      <td>1266.0</td>\n",
       "      <td>61.1508</td>\n",
       "      <td>-149.1091</td>\n",
       "      <td>America/Anchorage</td>\n",
       "      <td>-9</td>\n",
       "      <td>236.45</td>\n",
       "    </tr>\n",
       "  </tbody>\n",
       "</table>\n",
       "</div>"
      ],
      "text/plain": [
       "  State       City                Time  Dose_Rate  Gamma_Count      lat  \\\n",
       "0    AK  ANCHORAGE 2008-06-04 15:49:00        NaN       1322.0  61.1508   \n",
       "1    AK  ANCHORAGE 2008-06-04 16:49:00        NaN       1215.0  61.1508   \n",
       "2    AK  ANCHORAGE 2008-06-04 17:50:00        NaN       1223.0  61.1508   \n",
       "3    AK  ANCHORAGE 2008-06-04 18:50:00        NaN       1238.0  61.1508   \n",
       "4    AK  ANCHORAGE 2008-06-04 19:50:00        NaN       1266.0  61.1508   \n",
       "\n",
       "        lng           timezone  UTC  Elevation  \n",
       "0 -149.1091  America/Anchorage   -9     236.45  \n",
       "1 -149.1091  America/Anchorage   -9     236.45  \n",
       "2 -149.1091  America/Anchorage   -9     236.45  \n",
       "3 -149.1091  America/Anchorage   -9     236.45  \n",
       "4 -149.1091  America/Anchorage   -9     236.45  "
      ]
     },
     "execution_count": 18,
     "metadata": {},
     "output_type": "execute_result"
    }
   ],
   "source": [
    "DF.head()"
   ]
  },
  {
   "cell_type": "code",
   "execution_count": 34,
   "metadata": {},
   "outputs": [],
   "source": [
    "DF.to_csv(path.abspath('../dash_plotly_code/data/final_data.csv'), index=False)"
   ]
  },
  {
   "cell_type": "code",
   "execution_count": 20,
   "metadata": {},
   "outputs": [
    {
     "data": {
      "text/plain": [
       "Index(['State', 'City', 'Time', 'Dose_Rate', 'Gamma_Count'], dtype='object')"
      ]
     },
     "execution_count": 20,
     "metadata": {},
     "output_type": "execute_result"
    }
   ],
   "source": [
    "data.columns"
   ]
  },
  {
   "cell_type": "code",
   "execution_count": 21,
   "metadata": {},
   "outputs": [
    {
     "data": {
      "text/plain": [
       "Index(['State', 'City', 'lat', 'lng', 'timezone', 'UTC', 'Elevation'], dtype='object')"
      ]
     },
     "execution_count": 21,
     "metadata": {},
     "output_type": "execute_result"
    }
   ],
   "source": [
    "coordinates.columns"
   ]
  },
  {
   "cell_type": "code",
   "execution_count": 40,
   "metadata": {},
   "outputs": [],
   "source": [
    "# save original data columns as pickle file\n",
    "DF[['State', 'City', 'Time', 'Dose_Rate', 'Gamma_Count']].iloc[:1000000,:].to_pickle(path.abspath('../dash_plotly_code/data/data_test.pkl'), protocol=4)"
   ]
  },
  {
   "cell_type": "code",
   "execution_count": 41,
   "metadata": {},
   "outputs": [],
   "source": [
    "# save coordination data\n",
    "coordinates[['State', 'City', 'lat', 'lng', 'Elevation']].to_pickle(path.abspath('../dash_plotly_code/data/coordinates_test.pkl'), protocol=4)"
   ]
  },
  {
   "cell_type": "markdown",
   "metadata": {},
   "source": [
    "# Exploratory Data Analysis"
   ]
  },
  {
   "cell_type": "code",
   "execution_count": null,
   "metadata": {},
   "outputs": [],
   "source": [
    "# import plotly.express as px\n",
    "# fig = px.histogram(DF, x=\"Dose_Rate\")\n",
    "# fig.show()"
   ]
  },
  {
   "cell_type": "code",
   "execution_count": null,
   "metadata": {},
   "outputs": [],
   "source": [
    "# fig = px.histogram(DF, x=\"Gamma_Count\")\n",
    "# fig.show()"
   ]
  },
  {
   "cell_type": "markdown",
   "metadata": {},
   "source": [
    "# Map plot"
   ]
  },
  {
   "cell_type": "code",
   "execution_count": 29,
   "metadata": {},
   "outputs": [],
   "source": [
    "df1 = DF[[i.year == 2020 and\n",
    "         i.month == 5 and\n",
    "         i.day == 12 \n",
    "         for i in DF.Time]]"
   ]
  },
  {
   "cell_type": "code",
   "execution_count": null,
   "metadata": {},
   "outputs": [],
   "source": [
    "df1['hour'] = [i.hour for i in df1.Time]"
   ]
  },
  {
   "cell_type": "code",
   "execution_count": null,
   "metadata": {},
   "outputs": [],
   "source": [
    "df1.head()"
   ]
  },
  {
   "cell_type": "code",
   "execution_count": null,
   "metadata": {},
   "outputs": [],
   "source": [
    "import plotly.express as px\n",
    "\n",
    "metric = 'Gamma_Count'\n",
    "df1_temp = df1.dropna(subset=[metric])\n",
    "\n",
    "fig = px.scatter_geo(df1_temp, color=metric, size=metric,\n",
    "                     lat = 'lat', lon = 'lng', animation_frame ='hour')\n",
    "\n",
    "fig.update_layout(\n",
    "        geo = dict(\n",
    "            scope = 'usa',\n",
    "            landcolor = 'rgb(217, 217, 217)',\n",
    "        )\n",
    "    )\n",
    "\n",
    "fig.show()"
   ]
  },
  {
   "cell_type": "markdown",
   "metadata": {},
   "source": [
    "# Time Series"
   ]
  },
  {
   "cell_type": "code",
   "execution_count": null,
   "metadata": {},
   "outputs": [],
   "source": [
    "df2 = DF[[i in ['AK', 'CA'] for i in DF.State]]"
   ]
  },
  {
   "cell_type": "code",
   "execution_count": null,
   "metadata": {},
   "outputs": [],
   "source": [
    "fig = px.line(df2, x='Time', y='Gamma_Count', color='City', hover_name=\"State\")\n",
    "fig.show()"
   ]
  },
  {
   "cell_type": "code",
   "execution_count": null,
   "metadata": {},
   "outputs": [],
   "source": [
    "df22 = df2.set_index(['Time','State', 'City'])\n",
    "df22 = df22.rolling(360).mean()\n",
    "df22.reset_index(inplace=True)"
   ]
  },
  {
   "cell_type": "code",
   "execution_count": null,
   "metadata": {},
   "outputs": [],
   "source": [
    "fig = px.line(df22, x='Time', y='Gamma_Count', color='City', hover_name=\"City\")\n",
    "fig.show()"
   ]
  },
  {
   "cell_type": "code",
   "execution_count": null,
   "metadata": {},
   "outputs": [],
   "source": []
  },
  {
   "cell_type": "markdown",
   "metadata": {},
   "source": [
    "# treemap"
   ]
  },
  {
   "cell_type": "code",
   "execution_count": 30,
   "metadata": {},
   "outputs": [
    {
     "data": {
      "text/html": [
       "<div>\n",
       "<style scoped>\n",
       "    .dataframe tbody tr th:only-of-type {\n",
       "        vertical-align: middle;\n",
       "    }\n",
       "\n",
       "    .dataframe tbody tr th {\n",
       "        vertical-align: top;\n",
       "    }\n",
       "\n",
       "    .dataframe thead th {\n",
       "        text-align: right;\n",
       "    }\n",
       "</style>\n",
       "<table border=\"1\" class=\"dataframe\">\n",
       "  <thead>\n",
       "    <tr style=\"text-align: right;\">\n",
       "      <th></th>\n",
       "      <th>State</th>\n",
       "      <th>City</th>\n",
       "      <th>Time</th>\n",
       "      <th>Dose_Rate</th>\n",
       "      <th>Gamma_Count</th>\n",
       "      <th>lat</th>\n",
       "      <th>lng</th>\n",
       "      <th>timezone</th>\n",
       "      <th>UTC</th>\n",
       "      <th>Elevation</th>\n",
       "    </tr>\n",
       "  </thead>\n",
       "  <tbody>\n",
       "    <tr>\n",
       "      <th>81185</th>\n",
       "      <td>AK</td>\n",
       "      <td>ANCHORAGE</td>\n",
       "      <td>2020-05-12 00:20:00</td>\n",
       "      <td>31.0</td>\n",
       "      <td>1575.0</td>\n",
       "      <td>61.1508</td>\n",
       "      <td>-149.1091</td>\n",
       "      <td>America/Anchorage</td>\n",
       "      <td>-9</td>\n",
       "      <td>236.45</td>\n",
       "    </tr>\n",
       "    <tr>\n",
       "      <th>81186</th>\n",
       "      <td>AK</td>\n",
       "      <td>ANCHORAGE</td>\n",
       "      <td>2020-05-12 01:20:00</td>\n",
       "      <td>31.0</td>\n",
       "      <td>1583.0</td>\n",
       "      <td>61.1508</td>\n",
       "      <td>-149.1091</td>\n",
       "      <td>America/Anchorage</td>\n",
       "      <td>-9</td>\n",
       "      <td>236.45</td>\n",
       "    </tr>\n",
       "    <tr>\n",
       "      <th>81187</th>\n",
       "      <td>AK</td>\n",
       "      <td>ANCHORAGE</td>\n",
       "      <td>2020-05-12 02:20:00</td>\n",
       "      <td>32.0</td>\n",
       "      <td>1583.0</td>\n",
       "      <td>61.1508</td>\n",
       "      <td>-149.1091</td>\n",
       "      <td>America/Anchorage</td>\n",
       "      <td>-9</td>\n",
       "      <td>236.45</td>\n",
       "    </tr>\n",
       "    <tr>\n",
       "      <th>81188</th>\n",
       "      <td>AK</td>\n",
       "      <td>ANCHORAGE</td>\n",
       "      <td>2020-05-12 03:20:00</td>\n",
       "      <td>31.0</td>\n",
       "      <td>1585.0</td>\n",
       "      <td>61.1508</td>\n",
       "      <td>-149.1091</td>\n",
       "      <td>America/Anchorage</td>\n",
       "      <td>-9</td>\n",
       "      <td>236.45</td>\n",
       "    </tr>\n",
       "    <tr>\n",
       "      <th>81189</th>\n",
       "      <td>AK</td>\n",
       "      <td>ANCHORAGE</td>\n",
       "      <td>2020-05-12 04:21:00</td>\n",
       "      <td>31.0</td>\n",
       "      <td>1588.0</td>\n",
       "      <td>61.1508</td>\n",
       "      <td>-149.1091</td>\n",
       "      <td>America/Anchorage</td>\n",
       "      <td>-9</td>\n",
       "      <td>236.45</td>\n",
       "    </tr>\n",
       "  </tbody>\n",
       "</table>\n",
       "</div>"
      ],
      "text/plain": [
       "      State       City                Time  Dose_Rate  Gamma_Count      lat  \\\n",
       "81185    AK  ANCHORAGE 2020-05-12 00:20:00       31.0       1575.0  61.1508   \n",
       "81186    AK  ANCHORAGE 2020-05-12 01:20:00       31.0       1583.0  61.1508   \n",
       "81187    AK  ANCHORAGE 2020-05-12 02:20:00       32.0       1583.0  61.1508   \n",
       "81188    AK  ANCHORAGE 2020-05-12 03:20:00       31.0       1585.0  61.1508   \n",
       "81189    AK  ANCHORAGE 2020-05-12 04:21:00       31.0       1588.0  61.1508   \n",
       "\n",
       "            lng           timezone  UTC  Elevation  \n",
       "81185 -149.1091  America/Anchorage   -9     236.45  \n",
       "81186 -149.1091  America/Anchorage   -9     236.45  \n",
       "81187 -149.1091  America/Anchorage   -9     236.45  \n",
       "81188 -149.1091  America/Anchorage   -9     236.45  \n",
       "81189 -149.1091  America/Anchorage   -9     236.45  "
      ]
     },
     "execution_count": 30,
     "metadata": {},
     "output_type": "execute_result"
    }
   ],
   "source": [
    "df1.head()"
   ]
  },
  {
   "cell_type": "code",
   "execution_count": 31,
   "metadata": {},
   "outputs": [],
   "source": [
    "df3 = df1.groupby(['State', 'City', 'Elevation'], as_index=False)['Dose_Rate'].median()"
   ]
  },
  {
   "cell_type": "code",
   "execution_count": 32,
   "metadata": {},
   "outputs": [
    {
     "data": {
      "text/html": [
       "<div>\n",
       "<style scoped>\n",
       "    .dataframe tbody tr th:only-of-type {\n",
       "        vertical-align: middle;\n",
       "    }\n",
       "\n",
       "    .dataframe tbody tr th {\n",
       "        vertical-align: top;\n",
       "    }\n",
       "\n",
       "    .dataframe thead th {\n",
       "        text-align: right;\n",
       "    }\n",
       "</style>\n",
       "<table border=\"1\" class=\"dataframe\">\n",
       "  <thead>\n",
       "    <tr style=\"text-align: right;\">\n",
       "      <th></th>\n",
       "      <th>State</th>\n",
       "      <th>City</th>\n",
       "      <th>Elevation</th>\n",
       "      <th>Dose_Rate</th>\n",
       "    </tr>\n",
       "  </thead>\n",
       "  <tbody>\n",
       "    <tr>\n",
       "      <th>0</th>\n",
       "      <td>AK</td>\n",
       "      <td>ANCHORAGE</td>\n",
       "      <td>236.45</td>\n",
       "      <td>31.0</td>\n",
       "    </tr>\n",
       "    <tr>\n",
       "      <th>1</th>\n",
       "      <td>AK</td>\n",
       "      <td>FAIRBANKS</td>\n",
       "      <td>136.27</td>\n",
       "      <td>38.0</td>\n",
       "    </tr>\n",
       "    <tr>\n",
       "      <th>2</th>\n",
       "      <td>AK</td>\n",
       "      <td>JUNEAU</td>\n",
       "      <td>570.19</td>\n",
       "      <td>NaN</td>\n",
       "    </tr>\n",
       "    <tr>\n",
       "      <th>3</th>\n",
       "      <td>AL</td>\n",
       "      <td>BIRMINGHAM</td>\n",
       "      <td>183.58</td>\n",
       "      <td>53.0</td>\n",
       "    </tr>\n",
       "    <tr>\n",
       "      <th>4</th>\n",
       "      <td>AL</td>\n",
       "      <td>MONTGOMERY</td>\n",
       "      <td>79.21</td>\n",
       "      <td>51.0</td>\n",
       "    </tr>\n",
       "  </tbody>\n",
       "</table>\n",
       "</div>"
      ],
      "text/plain": [
       "  State        City  Elevation  Dose_Rate\n",
       "0    AK   ANCHORAGE     236.45       31.0\n",
       "1    AK   FAIRBANKS     136.27       38.0\n",
       "2    AK      JUNEAU     570.19        NaN\n",
       "3    AL  BIRMINGHAM     183.58       53.0\n",
       "4    AL  MONTGOMERY      79.21       51.0"
      ]
     },
     "execution_count": 32,
     "metadata": {},
     "output_type": "execute_result"
    }
   ],
   "source": [
    "df3.head()"
   ]
  },
  {
   "cell_type": "code",
   "execution_count": 35,
   "metadata": {},
   "outputs": [
    {
     "data": {
      "application/vnd.plotly.v1+json": {
       "config": {
        "plotlyServerURL": "https://plot.ly"
       },
       "data": [
        {
         "branchvalues": "total",
         "customdata": [
          [
           42,
           42
          ],
          [
           null,
           null
          ],
          [
           null,
           null
          ],
          [
           70,
           70
          ],
          [
           31,
           31
          ],
          [
           71,
           71
          ],
          [
           71,
           71
          ],
          [
           null,
           null
          ],
          [
           43.5,
           43.5
          ],
          [
           null,
           null
          ],
          [
           null,
           null
          ],
          [
           39,
           39
          ],
          [
           null,
           null
          ],
          [
           null,
           null
          ],
          [
           53,
           53
          ],
          [
           null,
           null
          ],
          [
           null,
           null
          ],
          [
           null,
           null
          ],
          [
           45,
           45
          ],
          [
           65,
           65
          ],
          [
           104,
           104
          ],
          [
           null,
           null
          ],
          [
           43,
           43
          ],
          [
           58,
           58
          ],
          [
           null,
           null
          ],
          [
           null,
           null
          ],
          [
           null,
           null
          ],
          [
           null,
           null
          ],
          [
           null,
           null
          ],
          [
           46,
           46
          ],
          [
           null,
           null
          ],
          [
           39,
           39
          ],
          [
           null,
           null
          ],
          [
           null,
           null
          ],
          [
           null,
           null
          ],
          [
           null,
           null
          ],
          [
           43,
           43
          ],
          [
           null,
           null
          ],
          [
           null,
           null
          ],
          [
           null,
           null
          ],
          [
           null,
           null
          ],
          [
           null,
           null
          ],
          [
           38,
           38
          ],
          [
           null,
           null
          ],
          [
           null,
           null
          ],
          [
           null,
           null
          ],
          [
           null,
           null
          ],
          [
           null,
           null
          ],
          [
           null,
           null
          ],
          [
           null,
           null
          ],
          [
           null,
           null
          ],
          [
           null,
           null
          ],
          [
           33,
           33
          ],
          [
           104.5,
           104.5
          ],
          [
           null,
           null
          ],
          [
           null,
           null
          ],
          [
           40,
           40
          ],
          [
           null,
           null
          ],
          [
           86,
           86
          ],
          [
           null,
           null
          ],
          [
           77,
           77
          ],
          [
           null,
           null
          ],
          [
           60,
           60
          ],
          [
           null,
           null
          ],
          [
           null,
           null
          ],
          [
           null,
           null
          ],
          [
           89,
           89
          ],
          [
           null,
           null
          ],
          [
           75,
           75
          ],
          [
           null,
           null
          ],
          [
           49,
           49
          ],
          [
           63,
           63
          ],
          [
           44.5,
           44.5
          ],
          [
           null,
           null
          ],
          [
           51,
           51
          ],
          [
           33,
           33
          ],
          [
           null,
           null
          ],
          [
           59,
           59
          ],
          [
           67,
           67
          ],
          [
           null,
           null
          ],
          [
           55,
           55
          ],
          [
           null,
           null
          ],
          [
           null,
           null
          ],
          [
           36,
           36
          ],
          [
           58,
           58
          ],
          [
           85,
           85
          ],
          [
           55,
           55
          ],
          [
           58,
           58
          ],
          [
           null,
           null
          ],
          [
           null,
           null
          ],
          [
           83,
           83
          ],
          [
           null,
           null
          ],
          [
           null,
           null
          ],
          [
           null,
           null
          ],
          [
           76,
           76
          ],
          [
           72,
           72
          ],
          [
           71,
           71
          ],
          [
           null,
           null
          ],
          [
           61,
           61
          ],
          [
           null,
           null
          ],
          [
           38,
           38
          ],
          [
           null,
           null
          ],
          [
           101,
           101
          ],
          [
           null,
           null
          ],
          [
           45,
           45
          ],
          [
           null,
           null
          ],
          [
           null,
           null
          ],
          [
           null,
           null
          ],
          [
           85.5,
           85.5
          ],
          [
           null,
           null
          ],
          [
           null,
           null
          ],
          [
           42,
           42
          ],
          [
           39,
           39
          ],
          [
           60,
           60
          ],
          [
           31.5,
           31.5
          ],
          [
           null,
           null
          ],
          [
           null,
           null
          ],
          [
           null,
           null
          ],
          [
           null,
           null
          ],
          [
           29,
           29
          ],
          [
           null,
           null
          ],
          [
           35,
           35
          ],
          [
           90,
           90
          ],
          [
           39,
           39
          ],
          [
           76,
           76
          ],
          [
           null,
           null
          ],
          [
           52.01923076923077,
           52.01923076923077
          ],
          [
           null,
           null
          ],
          [
           null,
           null
          ],
          [
           null,
           null
          ],
          [
           null,
           null
          ],
          [
           null,
           null
          ],
          [
           29,
           29
          ],
          [
           43,
           43
          ],
          [
           null,
           null
          ],
          [
           71,
           71
          ],
          [
           33,
           33
          ],
          [
           null,
           null
          ],
          [
           null,
           null
          ],
          [
           null,
           null
          ],
          [
           null,
           null
          ],
          [
           null,
           null
          ],
          [
           null,
           null
          ],
          [
           39,
           39
          ],
          [
           90,
           90
          ],
          [
           null,
           null
          ],
          [
           null,
           null
          ],
          [
           null,
           null
          ],
          [
           null,
           null
          ],
          [
           null,
           null
          ],
          [
           null,
           null
          ],
          [
           null,
           null
          ],
          [
           null,
           null
          ],
          [
           null,
           null
          ],
          [
           null,
           null
          ],
          [
           null,
           null
          ],
          [
           null,
           null
          ],
          [
           null,
           null
          ],
          [
           null,
           null
          ],
          [
           null,
           null
          ],
          [
           null,
           null
          ],
          [
           null,
           null
          ],
          [
           null,
           null
          ],
          [
           null,
           null
          ],
          [
           null,
           null
          ],
          [
           null,
           null
          ],
          [
           null,
           null
          ],
          [
           null,
           null
          ],
          [
           null,
           null
          ],
          [
           null,
           null
          ],
          [
           null,
           null
          ],
          [
           45,
           45
          ],
          [
           null,
           null
          ],
          [
           null,
           null
          ],
          [
           null,
           null
          ],
          [
           104,
           104
          ]
         ],
         "domain": {
          "x": [
           0,
           1
          ],
          "y": [
           0,
           1
          ]
         },
         "hovertemplate": "labels=%{label}<br>Dose_Rate_sum=%{value}<br>parent=%{parent}<br>id=%{id}<br>Dose_Rate=%{color}<extra></extra>",
         "ids": [
          "NY/ALBANY",
          "NM/ALBUQUERQUE",
          "TX/AMARILLO",
          "CA/ANAHEIM",
          "AK/ANCHORAGE",
          "GA/ATLANTA",
          "GA/AUGUSTA",
          "IL/AURORA",
          "TX/AUSTIN",
          "CA/BAKERSFIELD",
          "MD/BALTIMORE",
          "LA/BATON ROUGE",
          "MI/BAY CITY",
          "MT/BILLINGS",
          "AL/BIRMINGHAM",
          "ND/BISMARCK",
          "PA/BLOOMSBURG",
          "ID/BOISE",
          "VT/BURLINGTON",
          "NM/CARLSBAD",
          "WY/CASPER",
          "WV/CHARLESTON",
          "IL/CHICAGO",
          "OH/CINCINNATI",
          "OH/CLEVELAND",
          "CO/COLORADO SPRINGS",
          "SC/COLUMBIA",
          "OH/COLUMBUS",
          "NH/CONCORD",
          "TX/CORPUS CHRISTI",
          "OR/CORVALLIS",
          "TX/DALLAS",
          "CO/DENVER",
          "IA/DES MOINES",
          "MI/DETROIT",
          "KS/DODGE CITY",
          "DE/DOVER",
          "MN/DULUTH",
          "NJ/EDISON",
          "TX/EL PASO",
          "WA/ELLENSBURG",
          "CA/EUREKA",
          "AK/FAIRBANKS",
          "IA/FORT MADISON",
          "AR/FORT SMITH",
          "TX/FORT WORTH",
          "CO/GRAND JUNCTION",
          "MI/GRAND RAPIDS",
          "NC/GREENSBORO",
          "TX/HARLINGEN",
          "VA/HARRISONBURG",
          "CT/HARTFORD",
          "HI/HONOLULU",
          "ID/IDAHO FALLS",
          "IN/INDIANAPOLIS",
          "MS/JACKSON",
          "MO/JEFFERSON CITY",
          "AK/JUNEAU",
          "MT/KALISPELL",
          "KS/KANSAS CITY",
          "NE/KEARNEY",
          "TN/KNOXVILLE",
          "WI/LA CROSSE",
          "NV/LAS VEGAS",
          "KY/LEXINGTON",
          "NE/LINCOLN",
          "AR/LITTLE ROCK",
          "NY/LOCKPORT",
          "CA/LOS ANGELES",
          "KY/LOUISVILLE",
          "WI/MADISON",
          "TN/MEMPHIS",
          "FL/MIAMI",
          "WI/MILWAUKEE",
          "AL/MONTGOMERY",
          "TN/NASHVILLE",
          "NM/NAVAJO LAKE",
          "NY/NEW YORK CITY",
          "OK/OKLAHOMA CITY",
          "WA/OLYMPIA",
          "NE/OMAHA",
          "FL/ORLANDO",
          "ME/ORONO",
          "KY/PADUCAH",
          "PA/PHILADELPHIA",
          "AZ/PHOENIX",
          "SD/PIERRE",
          "PA/PITTSBURGH",
          "ME/PORTLAND",
          "OR/PORTLAND",
          "NH/PORTSMOUTH",
          "NC/RALEIGH",
          "SD/RAPID CITY",
          "NV/RENO",
          "WA/RICHLAND",
          "VA/RICHMOND",
          "NY/ROCHESTER",
          "CA/SACRAMENTO",
          "UT/SALT LAKE CITY",
          "TX/SAN ANGELO",
          "TX/SAN ANTONIO",
          "CA/SAN BERNARDINO",
          "CA/SAN DIEGO",
          "CA/SAN FRANCISCO",
          "CA/SAN JOSE",
          "PR/SAN JUAN",
          "WA/SEATTLE",
          "WI/SHAWANO",
          "WA/SPOKANE",
          "MO/SPRINGFIELD",
          "UT/ST. GEORGE",
          "MN/ST. PAUL",
          "NY/SYRACUSE",
          "FL/TALLAHASSEE",
          "FL/TAMPA",
          "OH/TOLEDO",
          "AZ/TUCSON",
          "OK/TULSA",
          "VA/VIRGINIA BEACH",
          "DC/WASHINGTON",
          "KS/WICHITA",
          "NC/WILMINGTON",
          "MA/WORCESTER",
          "NY/YAPHANK",
          "AZ/YUMA",
          "AK",
          "AL",
          "AR",
          "AZ",
          "CA",
          "CO",
          "CT",
          "DC",
          "DE",
          "FL",
          "GA",
          "HI",
          "IA",
          "ID",
          "IL",
          "IN",
          "KS",
          "KY",
          "LA",
          "MA",
          "MD",
          "ME",
          "MI",
          "MN",
          "MO",
          "MS",
          "MT",
          "NC",
          "ND",
          "NE",
          "NH",
          "NJ",
          "NM",
          "NV",
          "NY",
          "OH",
          "OK",
          "OR",
          "PA",
          "PR",
          "SC",
          "SD",
          "TN",
          "TX",
          "UT",
          "VA",
          "VT",
          "WA",
          "WI",
          "WV",
          "WY"
         ],
         "labels": [
          "ALBANY",
          "ALBUQUERQUE",
          "AMARILLO",
          "ANAHEIM",
          "ANCHORAGE",
          "ATLANTA",
          "AUGUSTA",
          "AURORA",
          "AUSTIN",
          "BAKERSFIELD",
          "BALTIMORE",
          "BATON ROUGE",
          "BAY CITY",
          "BILLINGS",
          "BIRMINGHAM",
          "BISMARCK",
          "BLOOMSBURG",
          "BOISE",
          "BURLINGTON",
          "CARLSBAD",
          "CASPER",
          "CHARLESTON",
          "CHICAGO",
          "CINCINNATI",
          "CLEVELAND",
          "COLORADO SPRINGS",
          "COLUMBIA",
          "COLUMBUS",
          "CONCORD",
          "CORPUS CHRISTI",
          "CORVALLIS",
          "DALLAS",
          "DENVER",
          "DES MOINES",
          "DETROIT",
          "DODGE CITY",
          "DOVER",
          "DULUTH",
          "EDISON",
          "EL PASO",
          "ELLENSBURG",
          "EUREKA",
          "FAIRBANKS",
          "FORT MADISON",
          "FORT SMITH",
          "FORT WORTH",
          "GRAND JUNCTION",
          "GRAND RAPIDS",
          "GREENSBORO",
          "HARLINGEN",
          "HARRISONBURG",
          "HARTFORD",
          "HONOLULU",
          "IDAHO FALLS",
          "INDIANAPOLIS",
          "JACKSON",
          "JEFFERSON CITY",
          "JUNEAU",
          "KALISPELL",
          "KANSAS CITY",
          "KEARNEY",
          "KNOXVILLE",
          "LA CROSSE",
          "LAS VEGAS",
          "LEXINGTON",
          "LINCOLN",
          "LITTLE ROCK",
          "LOCKPORT",
          "LOS ANGELES",
          "LOUISVILLE",
          "MADISON",
          "MEMPHIS",
          "MIAMI",
          "MILWAUKEE",
          "MONTGOMERY",
          "NASHVILLE",
          "NAVAJO LAKE",
          "NEW YORK CITY",
          "OKLAHOMA CITY",
          "OLYMPIA",
          "OMAHA",
          "ORLANDO",
          "ORONO",
          "PADUCAH",
          "PHILADELPHIA",
          "PHOENIX",
          "PIERRE",
          "PITTSBURGH",
          "PORTLAND",
          "PORTLAND",
          "PORTSMOUTH",
          "RALEIGH",
          "RAPID CITY",
          "RENO",
          "RICHLAND",
          "RICHMOND",
          "ROCHESTER",
          "SACRAMENTO",
          "SALT LAKE CITY",
          "SAN ANGELO",
          "SAN ANTONIO",
          "SAN BERNARDINO",
          "SAN DIEGO",
          "SAN FRANCISCO",
          "SAN JOSE",
          "SAN JUAN",
          "SEATTLE",
          "SHAWANO",
          "SPOKANE",
          "SPRINGFIELD",
          "ST. GEORGE",
          "ST. PAUL",
          "SYRACUSE",
          "TALLAHASSEE",
          "TAMPA",
          "TOLEDO",
          "TUCSON",
          "TULSA",
          "VIRGINIA BEACH",
          "WASHINGTON",
          "WICHITA",
          "WILMINGTON",
          "WORCESTER",
          "YAPHANK",
          "YUMA",
          "AK",
          "AL",
          "AR",
          "AZ",
          "CA",
          "CO",
          "CT",
          "DC",
          "DE",
          "FL",
          "GA",
          "HI",
          "IA",
          "ID",
          "IL",
          "IN",
          "KS",
          "KY",
          "LA",
          "MA",
          "MD",
          "ME",
          "MI",
          "MN",
          "MO",
          "MS",
          "MT",
          "NC",
          "ND",
          "NE",
          "NH",
          "NJ",
          "NM",
          "NV",
          "NY",
          "OH",
          "OK",
          "OR",
          "PA",
          "PR",
          "SC",
          "SD",
          "TN",
          "TX",
          "UT",
          "VA",
          "VT",
          "WA",
          "WI",
          "WV",
          "WY"
         ],
         "marker": {
          "coloraxis": "coloraxis",
          "colors": [
           42,
           null,
           null,
           70,
           31,
           71,
           71,
           null,
           43.5,
           null,
           null,
           39,
           null,
           null,
           53,
           null,
           null,
           null,
           45,
           65,
           104,
           null,
           43,
           58,
           null,
           null,
           null,
           null,
           null,
           46,
           null,
           39,
           null,
           null,
           null,
           null,
           43,
           null,
           null,
           null,
           null,
           null,
           38,
           null,
           null,
           null,
           null,
           null,
           null,
           null,
           null,
           null,
           33,
           104.5,
           null,
           null,
           40,
           null,
           86,
           null,
           77,
           null,
           60,
           null,
           null,
           null,
           89,
           null,
           75,
           null,
           49,
           63,
           44.5,
           null,
           51,
           33,
           null,
           59,
           67,
           null,
           55,
           null,
           null,
           36,
           58,
           85,
           55,
           58,
           null,
           null,
           83,
           null,
           null,
           null,
           76,
           72,
           71,
           null,
           61,
           null,
           38,
           null,
           101,
           null,
           45,
           null,
           null,
           null,
           85.5,
           null,
           null,
           42,
           39,
           60,
           31.5,
           null,
           null,
           null,
           null,
           29,
           null,
           35,
           90,
           39,
           76,
           null,
           52.01923076923077,
           null,
           null,
           null,
           null,
           null,
           29,
           43,
           null,
           71,
           33,
           null,
           null,
           null,
           null,
           null,
           null,
           39,
           90,
           null,
           null,
           null,
           null,
           null,
           null,
           null,
           null,
           null,
           null,
           null,
           null,
           null,
           null,
           null,
           null,
           null,
           null,
           null,
           null,
           null,
           null,
           null,
           null,
           null,
           null,
           45,
           null,
           null,
           null,
           104
          ]
         },
         "name": "",
         "parents": [
          "NY",
          "NM",
          "TX",
          "CA",
          "AK",
          "GA",
          "GA",
          "IL",
          "TX",
          "CA",
          "MD",
          "LA",
          "MI",
          "MT",
          "AL",
          "ND",
          "PA",
          "ID",
          "VT",
          "NM",
          "WY",
          "WV",
          "IL",
          "OH",
          "OH",
          "CO",
          "SC",
          "OH",
          "NH",
          "TX",
          "OR",
          "TX",
          "CO",
          "IA",
          "MI",
          "KS",
          "DE",
          "MN",
          "NJ",
          "TX",
          "WA",
          "CA",
          "AK",
          "IA",
          "AR",
          "TX",
          "CO",
          "MI",
          "NC",
          "TX",
          "VA",
          "CT",
          "HI",
          "ID",
          "IN",
          "MS",
          "MO",
          "AK",
          "MT",
          "KS",
          "NE",
          "TN",
          "WI",
          "NV",
          "KY",
          "NE",
          "AR",
          "NY",
          "CA",
          "KY",
          "WI",
          "TN",
          "FL",
          "WI",
          "AL",
          "TN",
          "NM",
          "NY",
          "OK",
          "WA",
          "NE",
          "FL",
          "ME",
          "KY",
          "PA",
          "AZ",
          "SD",
          "PA",
          "ME",
          "OR",
          "NH",
          "NC",
          "SD",
          "NV",
          "WA",
          "VA",
          "NY",
          "CA",
          "UT",
          "TX",
          "TX",
          "CA",
          "CA",
          "CA",
          "CA",
          "PR",
          "WA",
          "WI",
          "WA",
          "MO",
          "UT",
          "MN",
          "NY",
          "FL",
          "FL",
          "OH",
          "AZ",
          "OK",
          "VA",
          "DC",
          "KS",
          "NC",
          "MA",
          "NY",
          "AZ",
          "",
          "",
          "",
          "",
          "",
          "",
          "",
          "",
          "",
          "",
          "",
          "",
          "",
          "",
          "",
          "",
          "",
          "",
          "",
          "",
          "",
          "",
          "",
          "",
          "",
          "",
          "",
          "",
          "",
          "",
          "",
          "",
          "",
          "",
          "",
          "",
          "",
          "",
          "",
          "",
          "",
          "",
          "",
          "",
          "",
          "",
          "",
          "",
          "",
          "",
          ""
         ],
         "type": "treemap",
         "values": [
          42,
          0,
          0,
          70,
          31,
          71,
          71,
          0,
          43.5,
          0,
          0,
          39,
          0,
          0,
          53,
          0,
          0,
          0,
          45,
          65,
          104,
          0,
          43,
          58,
          0,
          0,
          0,
          0,
          0,
          46,
          0,
          39,
          0,
          0,
          0,
          0,
          43,
          0,
          0,
          0,
          0,
          0,
          38,
          0,
          0,
          0,
          0,
          0,
          0,
          0,
          0,
          0,
          33,
          104.5,
          0,
          0,
          40,
          0,
          86,
          0,
          77,
          0,
          60,
          0,
          0,
          0,
          89,
          0,
          75,
          0,
          49,
          63,
          44.5,
          0,
          51,
          33,
          0,
          59,
          67,
          0,
          55,
          0,
          0,
          36,
          58,
          85,
          55,
          58,
          0,
          0,
          83,
          0,
          0,
          0,
          76,
          72,
          71,
          0,
          61,
          0,
          38,
          0,
          101,
          0,
          45,
          0,
          0,
          0,
          85.5,
          0,
          0,
          42,
          39,
          60,
          31.5,
          0,
          0,
          0,
          0,
          29,
          0,
          35,
          90,
          39,
          76,
          69,
          104,
          89,
          161,
          291,
          0,
          0,
          29,
          43,
          136,
          142,
          33,
          0,
          104.5,
          43,
          0,
          0,
          36,
          39,
          90,
          0,
          0,
          0,
          42,
          40,
          0,
          86,
          35,
          0,
          132,
          83,
          0,
          65,
          0,
          250,
          58,
          67,
          0,
          116,
          0,
          0,
          55,
          96,
          166.5,
          61,
          72,
          45,
          161.5,
          109,
          0,
          104
         ]
        }
       ],
       "layout": {
        "coloraxis": {
         "colorbar": {
          "title": {
           "text": "Dose_Rate"
          }
         },
         "colorscale": [
          [
           0,
           "#0d0887"
          ],
          [
           0.1111111111111111,
           "#46039f"
          ],
          [
           0.2222222222222222,
           "#7201a8"
          ],
          [
           0.3333333333333333,
           "#9c179e"
          ],
          [
           0.4444444444444444,
           "#bd3786"
          ],
          [
           0.5555555555555556,
           "#d8576b"
          ],
          [
           0.6666666666666666,
           "#ed7953"
          ],
          [
           0.7777777777777778,
           "#fb9f3a"
          ],
          [
           0.8888888888888888,
           "#fdca26"
          ],
          [
           1,
           "#f0f921"
          ]
         ]
        },
        "legend": {
         "tracegroupgap": 0
        },
        "margin": {
         "t": 60
        },
        "template": {
         "data": {
          "bar": [
           {
            "error_x": {
             "color": "#2a3f5f"
            },
            "error_y": {
             "color": "#2a3f5f"
            },
            "marker": {
             "line": {
              "color": "#E5ECF6",
              "width": 0.5
             }
            },
            "type": "bar"
           }
          ],
          "barpolar": [
           {
            "marker": {
             "line": {
              "color": "#E5ECF6",
              "width": 0.5
             }
            },
            "type": "barpolar"
           }
          ],
          "carpet": [
           {
            "aaxis": {
             "endlinecolor": "#2a3f5f",
             "gridcolor": "white",
             "linecolor": "white",
             "minorgridcolor": "white",
             "startlinecolor": "#2a3f5f"
            },
            "baxis": {
             "endlinecolor": "#2a3f5f",
             "gridcolor": "white",
             "linecolor": "white",
             "minorgridcolor": "white",
             "startlinecolor": "#2a3f5f"
            },
            "type": "carpet"
           }
          ],
          "choropleth": [
           {
            "colorbar": {
             "outlinewidth": 0,
             "ticks": ""
            },
            "type": "choropleth"
           }
          ],
          "contour": [
           {
            "colorbar": {
             "outlinewidth": 0,
             "ticks": ""
            },
            "colorscale": [
             [
              0,
              "#0d0887"
             ],
             [
              0.1111111111111111,
              "#46039f"
             ],
             [
              0.2222222222222222,
              "#7201a8"
             ],
             [
              0.3333333333333333,
              "#9c179e"
             ],
             [
              0.4444444444444444,
              "#bd3786"
             ],
             [
              0.5555555555555556,
              "#d8576b"
             ],
             [
              0.6666666666666666,
              "#ed7953"
             ],
             [
              0.7777777777777778,
              "#fb9f3a"
             ],
             [
              0.8888888888888888,
              "#fdca26"
             ],
             [
              1,
              "#f0f921"
             ]
            ],
            "type": "contour"
           }
          ],
          "contourcarpet": [
           {
            "colorbar": {
             "outlinewidth": 0,
             "ticks": ""
            },
            "type": "contourcarpet"
           }
          ],
          "heatmap": [
           {
            "colorbar": {
             "outlinewidth": 0,
             "ticks": ""
            },
            "colorscale": [
             [
              0,
              "#0d0887"
             ],
             [
              0.1111111111111111,
              "#46039f"
             ],
             [
              0.2222222222222222,
              "#7201a8"
             ],
             [
              0.3333333333333333,
              "#9c179e"
             ],
             [
              0.4444444444444444,
              "#bd3786"
             ],
             [
              0.5555555555555556,
              "#d8576b"
             ],
             [
              0.6666666666666666,
              "#ed7953"
             ],
             [
              0.7777777777777778,
              "#fb9f3a"
             ],
             [
              0.8888888888888888,
              "#fdca26"
             ],
             [
              1,
              "#f0f921"
             ]
            ],
            "type": "heatmap"
           }
          ],
          "heatmapgl": [
           {
            "colorbar": {
             "outlinewidth": 0,
             "ticks": ""
            },
            "colorscale": [
             [
              0,
              "#0d0887"
             ],
             [
              0.1111111111111111,
              "#46039f"
             ],
             [
              0.2222222222222222,
              "#7201a8"
             ],
             [
              0.3333333333333333,
              "#9c179e"
             ],
             [
              0.4444444444444444,
              "#bd3786"
             ],
             [
              0.5555555555555556,
              "#d8576b"
             ],
             [
              0.6666666666666666,
              "#ed7953"
             ],
             [
              0.7777777777777778,
              "#fb9f3a"
             ],
             [
              0.8888888888888888,
              "#fdca26"
             ],
             [
              1,
              "#f0f921"
             ]
            ],
            "type": "heatmapgl"
           }
          ],
          "histogram": [
           {
            "marker": {
             "colorbar": {
              "outlinewidth": 0,
              "ticks": ""
             }
            },
            "type": "histogram"
           }
          ],
          "histogram2d": [
           {
            "colorbar": {
             "outlinewidth": 0,
             "ticks": ""
            },
            "colorscale": [
             [
              0,
              "#0d0887"
             ],
             [
              0.1111111111111111,
              "#46039f"
             ],
             [
              0.2222222222222222,
              "#7201a8"
             ],
             [
              0.3333333333333333,
              "#9c179e"
             ],
             [
              0.4444444444444444,
              "#bd3786"
             ],
             [
              0.5555555555555556,
              "#d8576b"
             ],
             [
              0.6666666666666666,
              "#ed7953"
             ],
             [
              0.7777777777777778,
              "#fb9f3a"
             ],
             [
              0.8888888888888888,
              "#fdca26"
             ],
             [
              1,
              "#f0f921"
             ]
            ],
            "type": "histogram2d"
           }
          ],
          "histogram2dcontour": [
           {
            "colorbar": {
             "outlinewidth": 0,
             "ticks": ""
            },
            "colorscale": [
             [
              0,
              "#0d0887"
             ],
             [
              0.1111111111111111,
              "#46039f"
             ],
             [
              0.2222222222222222,
              "#7201a8"
             ],
             [
              0.3333333333333333,
              "#9c179e"
             ],
             [
              0.4444444444444444,
              "#bd3786"
             ],
             [
              0.5555555555555556,
              "#d8576b"
             ],
             [
              0.6666666666666666,
              "#ed7953"
             ],
             [
              0.7777777777777778,
              "#fb9f3a"
             ],
             [
              0.8888888888888888,
              "#fdca26"
             ],
             [
              1,
              "#f0f921"
             ]
            ],
            "type": "histogram2dcontour"
           }
          ],
          "mesh3d": [
           {
            "colorbar": {
             "outlinewidth": 0,
             "ticks": ""
            },
            "type": "mesh3d"
           }
          ],
          "parcoords": [
           {
            "line": {
             "colorbar": {
              "outlinewidth": 0,
              "ticks": ""
             }
            },
            "type": "parcoords"
           }
          ],
          "pie": [
           {
            "automargin": true,
            "type": "pie"
           }
          ],
          "scatter": [
           {
            "marker": {
             "colorbar": {
              "outlinewidth": 0,
              "ticks": ""
             }
            },
            "type": "scatter"
           }
          ],
          "scatter3d": [
           {
            "line": {
             "colorbar": {
              "outlinewidth": 0,
              "ticks": ""
             }
            },
            "marker": {
             "colorbar": {
              "outlinewidth": 0,
              "ticks": ""
             }
            },
            "type": "scatter3d"
           }
          ],
          "scattercarpet": [
           {
            "marker": {
             "colorbar": {
              "outlinewidth": 0,
              "ticks": ""
             }
            },
            "type": "scattercarpet"
           }
          ],
          "scattergeo": [
           {
            "marker": {
             "colorbar": {
              "outlinewidth": 0,
              "ticks": ""
             }
            },
            "type": "scattergeo"
           }
          ],
          "scattergl": [
           {
            "marker": {
             "colorbar": {
              "outlinewidth": 0,
              "ticks": ""
             }
            },
            "type": "scattergl"
           }
          ],
          "scattermapbox": [
           {
            "marker": {
             "colorbar": {
              "outlinewidth": 0,
              "ticks": ""
             }
            },
            "type": "scattermapbox"
           }
          ],
          "scatterpolar": [
           {
            "marker": {
             "colorbar": {
              "outlinewidth": 0,
              "ticks": ""
             }
            },
            "type": "scatterpolar"
           }
          ],
          "scatterpolargl": [
           {
            "marker": {
             "colorbar": {
              "outlinewidth": 0,
              "ticks": ""
             }
            },
            "type": "scatterpolargl"
           }
          ],
          "scatterternary": [
           {
            "marker": {
             "colorbar": {
              "outlinewidth": 0,
              "ticks": ""
             }
            },
            "type": "scatterternary"
           }
          ],
          "surface": [
           {
            "colorbar": {
             "outlinewidth": 0,
             "ticks": ""
            },
            "colorscale": [
             [
              0,
              "#0d0887"
             ],
             [
              0.1111111111111111,
              "#46039f"
             ],
             [
              0.2222222222222222,
              "#7201a8"
             ],
             [
              0.3333333333333333,
              "#9c179e"
             ],
             [
              0.4444444444444444,
              "#bd3786"
             ],
             [
              0.5555555555555556,
              "#d8576b"
             ],
             [
              0.6666666666666666,
              "#ed7953"
             ],
             [
              0.7777777777777778,
              "#fb9f3a"
             ],
             [
              0.8888888888888888,
              "#fdca26"
             ],
             [
              1,
              "#f0f921"
             ]
            ],
            "type": "surface"
           }
          ],
          "table": [
           {
            "cells": {
             "fill": {
              "color": "#EBF0F8"
             },
             "line": {
              "color": "white"
             }
            },
            "header": {
             "fill": {
              "color": "#C8D4E3"
             },
             "line": {
              "color": "white"
             }
            },
            "type": "table"
           }
          ]
         },
         "layout": {
          "annotationdefaults": {
           "arrowcolor": "#2a3f5f",
           "arrowhead": 0,
           "arrowwidth": 1
          },
          "coloraxis": {
           "colorbar": {
            "outlinewidth": 0,
            "ticks": ""
           }
          },
          "colorscale": {
           "diverging": [
            [
             0,
             "#8e0152"
            ],
            [
             0.1,
             "#c51b7d"
            ],
            [
             0.2,
             "#de77ae"
            ],
            [
             0.3,
             "#f1b6da"
            ],
            [
             0.4,
             "#fde0ef"
            ],
            [
             0.5,
             "#f7f7f7"
            ],
            [
             0.6,
             "#e6f5d0"
            ],
            [
             0.7,
             "#b8e186"
            ],
            [
             0.8,
             "#7fbc41"
            ],
            [
             0.9,
             "#4d9221"
            ],
            [
             1,
             "#276419"
            ]
           ],
           "sequential": [
            [
             0,
             "#0d0887"
            ],
            [
             0.1111111111111111,
             "#46039f"
            ],
            [
             0.2222222222222222,
             "#7201a8"
            ],
            [
             0.3333333333333333,
             "#9c179e"
            ],
            [
             0.4444444444444444,
             "#bd3786"
            ],
            [
             0.5555555555555556,
             "#d8576b"
            ],
            [
             0.6666666666666666,
             "#ed7953"
            ],
            [
             0.7777777777777778,
             "#fb9f3a"
            ],
            [
             0.8888888888888888,
             "#fdca26"
            ],
            [
             1,
             "#f0f921"
            ]
           ],
           "sequentialminus": [
            [
             0,
             "#0d0887"
            ],
            [
             0.1111111111111111,
             "#46039f"
            ],
            [
             0.2222222222222222,
             "#7201a8"
            ],
            [
             0.3333333333333333,
             "#9c179e"
            ],
            [
             0.4444444444444444,
             "#bd3786"
            ],
            [
             0.5555555555555556,
             "#d8576b"
            ],
            [
             0.6666666666666666,
             "#ed7953"
            ],
            [
             0.7777777777777778,
             "#fb9f3a"
            ],
            [
             0.8888888888888888,
             "#fdca26"
            ],
            [
             1,
             "#f0f921"
            ]
           ]
          },
          "colorway": [
           "#636efa",
           "#EF553B",
           "#00cc96",
           "#ab63fa",
           "#FFA15A",
           "#19d3f3",
           "#FF6692",
           "#B6E880",
           "#FF97FF",
           "#FECB52"
          ],
          "font": {
           "color": "#2a3f5f"
          },
          "geo": {
           "bgcolor": "white",
           "lakecolor": "white",
           "landcolor": "#E5ECF6",
           "showlakes": true,
           "showland": true,
           "subunitcolor": "white"
          },
          "hoverlabel": {
           "align": "left"
          },
          "hovermode": "closest",
          "mapbox": {
           "style": "light"
          },
          "paper_bgcolor": "white",
          "plot_bgcolor": "#E5ECF6",
          "polar": {
           "angularaxis": {
            "gridcolor": "white",
            "linecolor": "white",
            "ticks": ""
           },
           "bgcolor": "#E5ECF6",
           "radialaxis": {
            "gridcolor": "white",
            "linecolor": "white",
            "ticks": ""
           }
          },
          "scene": {
           "xaxis": {
            "backgroundcolor": "#E5ECF6",
            "gridcolor": "white",
            "gridwidth": 2,
            "linecolor": "white",
            "showbackground": true,
            "ticks": "",
            "zerolinecolor": "white"
           },
           "yaxis": {
            "backgroundcolor": "#E5ECF6",
            "gridcolor": "white",
            "gridwidth": 2,
            "linecolor": "white",
            "showbackground": true,
            "ticks": "",
            "zerolinecolor": "white"
           },
           "zaxis": {
            "backgroundcolor": "#E5ECF6",
            "gridcolor": "white",
            "gridwidth": 2,
            "linecolor": "white",
            "showbackground": true,
            "ticks": "",
            "zerolinecolor": "white"
           }
          },
          "shapedefaults": {
           "line": {
            "color": "#2a3f5f"
           }
          },
          "ternary": {
           "aaxis": {
            "gridcolor": "white",
            "linecolor": "white",
            "ticks": ""
           },
           "baxis": {
            "gridcolor": "white",
            "linecolor": "white",
            "ticks": ""
           },
           "bgcolor": "#E5ECF6",
           "caxis": {
            "gridcolor": "white",
            "linecolor": "white",
            "ticks": ""
           }
          },
          "title": {
           "x": 0.05
          },
          "xaxis": {
           "automargin": true,
           "gridcolor": "white",
           "linecolor": "white",
           "ticks": "",
           "title": {
            "standoff": 15
           },
           "zerolinecolor": "white",
           "zerolinewidth": 2
          },
          "yaxis": {
           "automargin": true,
           "gridcolor": "white",
           "linecolor": "white",
           "ticks": "",
           "title": {
            "standoff": 15
           },
           "zerolinecolor": "white",
           "zerolinewidth": 2
          }
         }
        }
       }
      },
      "text/html": [
       "<div>                            <div id=\"0b300a62-b9a5-48c2-9f6c-87b95491d737\" class=\"plotly-graph-div\" style=\"height:525px; width:100%;\"></div>            <script type=\"text/javascript\">                require([\"plotly\"], function(Plotly) {                    window.PLOTLYENV=window.PLOTLYENV || {};                                    if (document.getElementById(\"0b300a62-b9a5-48c2-9f6c-87b95491d737\")) {                    Plotly.newPlot(                        \"0b300a62-b9a5-48c2-9f6c-87b95491d737\",                        [{\"branchvalues\": \"total\", \"customdata\": [[42.0, 42.0], [null, null], [null, null], [70.0, 70.0], [31.0, 31.0], [71.0, 71.0], [71.0, 71.0], [null, null], [43.5, 43.5], [null, null], [null, null], [39.0, 39.0], [null, null], [null, null], [53.0, 53.0], [null, null], [null, null], [null, null], [45.0, 45.0], [65.0, 65.0], [104.0, 104.0], [null, null], [43.0, 43.0], [58.0, 58.0], [null, null], [null, null], [null, null], [null, null], [null, null], [46.0, 46.0], [null, null], [39.0, 39.0], [null, null], [null, null], [null, null], [null, null], [43.0, 43.0], [null, null], [null, null], [null, null], [null, null], [null, null], [38.0, 38.0], [null, null], [null, null], [null, null], [null, null], [null, null], [null, null], [null, null], [null, null], [null, null], [33.0, 33.0], [104.5, 104.5], [null, null], [null, null], [40.0, 40.0], [null, null], [86.0, 86.0], [null, null], [77.0, 77.0], [null, null], [60.0, 60.0], [null, null], [null, null], [null, null], [89.0, 89.0], [null, null], [75.0, 75.0], [null, null], [49.0, 49.0], [63.0, 63.0], [44.5, 44.5], [null, null], [51.0, 51.0], [33.0, 33.0], [null, null], [59.0, 59.0], [67.0, 67.0], [null, null], [55.0, 55.0], [null, null], [null, null], [36.0, 36.0], [58.0, 58.0], [85.0, 85.0], [55.0, 55.0], [58.0, 58.0], [null, null], [null, null], [83.0, 83.0], [null, null], [null, null], [null, null], [76.0, 76.0], [72.0, 72.0], [71.0, 71.0], [null, null], [61.0, 61.0], [null, null], [38.0, 38.0], [null, null], [101.0, 101.0], [null, null], [45.0, 45.0], [null, null], [null, null], [null, null], [85.5, 85.5], [null, null], [null, null], [42.0, 42.0], [39.0, 39.0], [60.0, 60.0], [31.5, 31.5], [null, null], [null, null], [null, null], [null, null], [29.0, 29.0], [null, null], [35.0, 35.0], [90.0, 90.0], [39.0, 39.0], [76.0, 76.0], [null, null], [52.01923076923077, 52.01923076923077], [null, null], [null, null], [null, null], [null, null], [null, null], [29.0, 29.0], [43.0, 43.0], [null, null], [71.0, 71.0], [33.0, 33.0], [null, null], [null, null], [null, null], [null, null], [null, null], [null, null], [39.0, 39.0], [90.0, 90.0], [null, null], [null, null], [null, null], [null, null], [null, null], [null, null], [null, null], [null, null], [null, null], [null, null], [null, null], [null, null], [null, null], [null, null], [null, null], [null, null], [null, null], [null, null], [null, null], [null, null], [null, null], [null, null], [null, null], [null, null], [null, null], [null, null], [45.0, 45.0], [null, null], [null, null], [null, null], [104.0, 104.0]], \"domain\": {\"x\": [0.0, 1.0], \"y\": [0.0, 1.0]}, \"hovertemplate\": \"labels=%{label}<br>Dose_Rate_sum=%{value}<br>parent=%{parent}<br>id=%{id}<br>Dose_Rate=%{color}<extra></extra>\", \"ids\": [\"NY/ALBANY\", \"NM/ALBUQUERQUE\", \"TX/AMARILLO\", \"CA/ANAHEIM\", \"AK/ANCHORAGE\", \"GA/ATLANTA\", \"GA/AUGUSTA\", \"IL/AURORA\", \"TX/AUSTIN\", \"CA/BAKERSFIELD\", \"MD/BALTIMORE\", \"LA/BATON ROUGE\", \"MI/BAY CITY\", \"MT/BILLINGS\", \"AL/BIRMINGHAM\", \"ND/BISMARCK\", \"PA/BLOOMSBURG\", \"ID/BOISE\", \"VT/BURLINGTON\", \"NM/CARLSBAD\", \"WY/CASPER\", \"WV/CHARLESTON\", \"IL/CHICAGO\", \"OH/CINCINNATI\", \"OH/CLEVELAND\", \"CO/COLORADO SPRINGS\", \"SC/COLUMBIA\", \"OH/COLUMBUS\", \"NH/CONCORD\", \"TX/CORPUS CHRISTI\", \"OR/CORVALLIS\", \"TX/DALLAS\", \"CO/DENVER\", \"IA/DES MOINES\", \"MI/DETROIT\", \"KS/DODGE CITY\", \"DE/DOVER\", \"MN/DULUTH\", \"NJ/EDISON\", \"TX/EL PASO\", \"WA/ELLENSBURG\", \"CA/EUREKA\", \"AK/FAIRBANKS\", \"IA/FORT MADISON\", \"AR/FORT SMITH\", \"TX/FORT WORTH\", \"CO/GRAND JUNCTION\", \"MI/GRAND RAPIDS\", \"NC/GREENSBORO\", \"TX/HARLINGEN\", \"VA/HARRISONBURG\", \"CT/HARTFORD\", \"HI/HONOLULU\", \"ID/IDAHO FALLS\", \"IN/INDIANAPOLIS\", \"MS/JACKSON\", \"MO/JEFFERSON CITY\", \"AK/JUNEAU\", \"MT/KALISPELL\", \"KS/KANSAS CITY\", \"NE/KEARNEY\", \"TN/KNOXVILLE\", \"WI/LA CROSSE\", \"NV/LAS VEGAS\", \"KY/LEXINGTON\", \"NE/LINCOLN\", \"AR/LITTLE ROCK\", \"NY/LOCKPORT\", \"CA/LOS ANGELES\", \"KY/LOUISVILLE\", \"WI/MADISON\", \"TN/MEMPHIS\", \"FL/MIAMI\", \"WI/MILWAUKEE\", \"AL/MONTGOMERY\", \"TN/NASHVILLE\", \"NM/NAVAJO LAKE\", \"NY/NEW YORK CITY\", \"OK/OKLAHOMA CITY\", \"WA/OLYMPIA\", \"NE/OMAHA\", \"FL/ORLANDO\", \"ME/ORONO\", \"KY/PADUCAH\", \"PA/PHILADELPHIA\", \"AZ/PHOENIX\", \"SD/PIERRE\", \"PA/PITTSBURGH\", \"ME/PORTLAND\", \"OR/PORTLAND\", \"NH/PORTSMOUTH\", \"NC/RALEIGH\", \"SD/RAPID CITY\", \"NV/RENO\", \"WA/RICHLAND\", \"VA/RICHMOND\", \"NY/ROCHESTER\", \"CA/SACRAMENTO\", \"UT/SALT LAKE CITY\", \"TX/SAN ANGELO\", \"TX/SAN ANTONIO\", \"CA/SAN BERNARDINO\", \"CA/SAN DIEGO\", \"CA/SAN FRANCISCO\", \"CA/SAN JOSE\", \"PR/SAN JUAN\", \"WA/SEATTLE\", \"WI/SHAWANO\", \"WA/SPOKANE\", \"MO/SPRINGFIELD\", \"UT/ST. GEORGE\", \"MN/ST. PAUL\", \"NY/SYRACUSE\", \"FL/TALLAHASSEE\", \"FL/TAMPA\", \"OH/TOLEDO\", \"AZ/TUCSON\", \"OK/TULSA\", \"VA/VIRGINIA BEACH\", \"DC/WASHINGTON\", \"KS/WICHITA\", \"NC/WILMINGTON\", \"MA/WORCESTER\", \"NY/YAPHANK\", \"AZ/YUMA\", \"AK\", \"AL\", \"AR\", \"AZ\", \"CA\", \"CO\", \"CT\", \"DC\", \"DE\", \"FL\", \"GA\", \"HI\", \"IA\", \"ID\", \"IL\", \"IN\", \"KS\", \"KY\", \"LA\", \"MA\", \"MD\", \"ME\", \"MI\", \"MN\", \"MO\", \"MS\", \"MT\", \"NC\", \"ND\", \"NE\", \"NH\", \"NJ\", \"NM\", \"NV\", \"NY\", \"OH\", \"OK\", \"OR\", \"PA\", \"PR\", \"SC\", \"SD\", \"TN\", \"TX\", \"UT\", \"VA\", \"VT\", \"WA\", \"WI\", \"WV\", \"WY\"], \"labels\": [\"ALBANY\", \"ALBUQUERQUE\", \"AMARILLO\", \"ANAHEIM\", \"ANCHORAGE\", \"ATLANTA\", \"AUGUSTA\", \"AURORA\", \"AUSTIN\", \"BAKERSFIELD\", \"BALTIMORE\", \"BATON ROUGE\", \"BAY CITY\", \"BILLINGS\", \"BIRMINGHAM\", \"BISMARCK\", \"BLOOMSBURG\", \"BOISE\", \"BURLINGTON\", \"CARLSBAD\", \"CASPER\", \"CHARLESTON\", \"CHICAGO\", \"CINCINNATI\", \"CLEVELAND\", \"COLORADO SPRINGS\", \"COLUMBIA\", \"COLUMBUS\", \"CONCORD\", \"CORPUS CHRISTI\", \"CORVALLIS\", \"DALLAS\", \"DENVER\", \"DES MOINES\", \"DETROIT\", \"DODGE CITY\", \"DOVER\", \"DULUTH\", \"EDISON\", \"EL PASO\", \"ELLENSBURG\", \"EUREKA\", \"FAIRBANKS\", \"FORT MADISON\", \"FORT SMITH\", \"FORT WORTH\", \"GRAND JUNCTION\", \"GRAND RAPIDS\", \"GREENSBORO\", \"HARLINGEN\", \"HARRISONBURG\", \"HARTFORD\", \"HONOLULU\", \"IDAHO FALLS\", \"INDIANAPOLIS\", \"JACKSON\", \"JEFFERSON CITY\", \"JUNEAU\", \"KALISPELL\", \"KANSAS CITY\", \"KEARNEY\", \"KNOXVILLE\", \"LA CROSSE\", \"LAS VEGAS\", \"LEXINGTON\", \"LINCOLN\", \"LITTLE ROCK\", \"LOCKPORT\", \"LOS ANGELES\", \"LOUISVILLE\", \"MADISON\", \"MEMPHIS\", \"MIAMI\", \"MILWAUKEE\", \"MONTGOMERY\", \"NASHVILLE\", \"NAVAJO LAKE\", \"NEW YORK CITY\", \"OKLAHOMA CITY\", \"OLYMPIA\", \"OMAHA\", \"ORLANDO\", \"ORONO\", \"PADUCAH\", \"PHILADELPHIA\", \"PHOENIX\", \"PIERRE\", \"PITTSBURGH\", \"PORTLAND\", \"PORTLAND\", \"PORTSMOUTH\", \"RALEIGH\", \"RAPID CITY\", \"RENO\", \"RICHLAND\", \"RICHMOND\", \"ROCHESTER\", \"SACRAMENTO\", \"SALT LAKE CITY\", \"SAN ANGELO\", \"SAN ANTONIO\", \"SAN BERNARDINO\", \"SAN DIEGO\", \"SAN FRANCISCO\", \"SAN JOSE\", \"SAN JUAN\", \"SEATTLE\", \"SHAWANO\", \"SPOKANE\", \"SPRINGFIELD\", \"ST. GEORGE\", \"ST. PAUL\", \"SYRACUSE\", \"TALLAHASSEE\", \"TAMPA\", \"TOLEDO\", \"TUCSON\", \"TULSA\", \"VIRGINIA BEACH\", \"WASHINGTON\", \"WICHITA\", \"WILMINGTON\", \"WORCESTER\", \"YAPHANK\", \"YUMA\", \"AK\", \"AL\", \"AR\", \"AZ\", \"CA\", \"CO\", \"CT\", \"DC\", \"DE\", \"FL\", \"GA\", \"HI\", \"IA\", \"ID\", \"IL\", \"IN\", \"KS\", \"KY\", \"LA\", \"MA\", \"MD\", \"ME\", \"MI\", \"MN\", \"MO\", \"MS\", \"MT\", \"NC\", \"ND\", \"NE\", \"NH\", \"NJ\", \"NM\", \"NV\", \"NY\", \"OH\", \"OK\", \"OR\", \"PA\", \"PR\", \"SC\", \"SD\", \"TN\", \"TX\", \"UT\", \"VA\", \"VT\", \"WA\", \"WI\", \"WV\", \"WY\"], \"marker\": {\"coloraxis\": \"coloraxis\", \"colors\": [42.0, null, null, 70.0, 31.0, 71.0, 71.0, null, 43.5, null, null, 39.0, null, null, 53.0, null, null, null, 45.0, 65.0, 104.0, null, 43.0, 58.0, null, null, null, null, null, 46.0, null, 39.0, null, null, null, null, 43.0, null, null, null, null, null, 38.0, null, null, null, null, null, null, null, null, null, 33.0, 104.5, null, null, 40.0, null, 86.0, null, 77.0, null, 60.0, null, null, null, 89.0, null, 75.0, null, 49.0, 63.0, 44.5, null, 51.0, 33.0, null, 59.0, 67.0, null, 55.0, null, null, 36.0, 58.0, 85.0, 55.0, 58.0, null, null, 83.0, null, null, null, 76.0, 72.0, 71.0, null, 61.0, null, 38.0, null, 101.0, null, 45.0, null, null, null, 85.5, null, null, 42.0, 39.0, 60.0, 31.5, null, null, null, null, 29.0, null, 35.0, 90.0, 39.0, 76.0, null, 52.01923076923077, null, null, null, null, null, 29.0, 43.0, null, 71.0, 33.0, null, null, null, null, null, null, 39.0, 90.0, null, null, null, null, null, null, null, null, null, null, null, null, null, null, null, null, null, null, null, null, null, null, null, null, null, null, 45.0, null, null, null, 104.0]}, \"name\": \"\", \"parents\": [\"NY\", \"NM\", \"TX\", \"CA\", \"AK\", \"GA\", \"GA\", \"IL\", \"TX\", \"CA\", \"MD\", \"LA\", \"MI\", \"MT\", \"AL\", \"ND\", \"PA\", \"ID\", \"VT\", \"NM\", \"WY\", \"WV\", \"IL\", \"OH\", \"OH\", \"CO\", \"SC\", \"OH\", \"NH\", \"TX\", \"OR\", \"TX\", \"CO\", \"IA\", \"MI\", \"KS\", \"DE\", \"MN\", \"NJ\", \"TX\", \"WA\", \"CA\", \"AK\", \"IA\", \"AR\", \"TX\", \"CO\", \"MI\", \"NC\", \"TX\", \"VA\", \"CT\", \"HI\", \"ID\", \"IN\", \"MS\", \"MO\", \"AK\", \"MT\", \"KS\", \"NE\", \"TN\", \"WI\", \"NV\", \"KY\", \"NE\", \"AR\", \"NY\", \"CA\", \"KY\", \"WI\", \"TN\", \"FL\", \"WI\", \"AL\", \"TN\", \"NM\", \"NY\", \"OK\", \"WA\", \"NE\", \"FL\", \"ME\", \"KY\", \"PA\", \"AZ\", \"SD\", \"PA\", \"ME\", \"OR\", \"NH\", \"NC\", \"SD\", \"NV\", \"WA\", \"VA\", \"NY\", \"CA\", \"UT\", \"TX\", \"TX\", \"CA\", \"CA\", \"CA\", \"CA\", \"PR\", \"WA\", \"WI\", \"WA\", \"MO\", \"UT\", \"MN\", \"NY\", \"FL\", \"FL\", \"OH\", \"AZ\", \"OK\", \"VA\", \"DC\", \"KS\", \"NC\", \"MA\", \"NY\", \"AZ\", \"\", \"\", \"\", \"\", \"\", \"\", \"\", \"\", \"\", \"\", \"\", \"\", \"\", \"\", \"\", \"\", \"\", \"\", \"\", \"\", \"\", \"\", \"\", \"\", \"\", \"\", \"\", \"\", \"\", \"\", \"\", \"\", \"\", \"\", \"\", \"\", \"\", \"\", \"\", \"\", \"\", \"\", \"\", \"\", \"\", \"\", \"\", \"\", \"\", \"\", \"\"], \"type\": \"treemap\", \"values\": [42.0, 0.0, 0.0, 70.0, 31.0, 71.0, 71.0, 0.0, 43.5, 0.0, 0.0, 39.0, 0.0, 0.0, 53.0, 0.0, 0.0, 0.0, 45.0, 65.0, 104.0, 0.0, 43.0, 58.0, 0.0, 0.0, 0.0, 0.0, 0.0, 46.0, 0.0, 39.0, 0.0, 0.0, 0.0, 0.0, 43.0, 0.0, 0.0, 0.0, 0.0, 0.0, 38.0, 0.0, 0.0, 0.0, 0.0, 0.0, 0.0, 0.0, 0.0, 0.0, 33.0, 104.5, 0.0, 0.0, 40.0, 0.0, 86.0, 0.0, 77.0, 0.0, 60.0, 0.0, 0.0, 0.0, 89.0, 0.0, 75.0, 0.0, 49.0, 63.0, 44.5, 0.0, 51.0, 33.0, 0.0, 59.0, 67.0, 0.0, 55.0, 0.0, 0.0, 36.0, 58.0, 85.0, 55.0, 58.0, 0.0, 0.0, 83.0, 0.0, 0.0, 0.0, 76.0, 72.0, 71.0, 0.0, 61.0, 0.0, 38.0, 0.0, 101.0, 0.0, 45.0, 0.0, 0.0, 0.0, 85.5, 0.0, 0.0, 42.0, 39.0, 60.0, 31.5, 0.0, 0.0, 0.0, 0.0, 29.0, 0.0, 35.0, 90.0, 39.0, 76.0, 69.0, 104.0, 89.0, 161.0, 291.0, 0.0, 0.0, 29.0, 43.0, 136.0, 142.0, 33.0, 0.0, 104.5, 43.0, 0.0, 0.0, 36.0, 39.0, 90.0, 0.0, 0.0, 0.0, 42.0, 40.0, 0.0, 86.0, 35.0, 0.0, 132.0, 83.0, 0.0, 65.0, 0.0, 250.0, 58.0, 67.0, 0.0, 116.0, 0.0, 0.0, 55.0, 96.0, 166.5, 61.0, 72.0, 45.0, 161.5, 109.0, 0.0, 104.0]}],                        {\"coloraxis\": {\"colorbar\": {\"title\": {\"text\": \"Dose_Rate\"}}, \"colorscale\": [[0.0, \"#0d0887\"], [0.1111111111111111, \"#46039f\"], [0.2222222222222222, \"#7201a8\"], [0.3333333333333333, \"#9c179e\"], [0.4444444444444444, \"#bd3786\"], [0.5555555555555556, \"#d8576b\"], [0.6666666666666666, \"#ed7953\"], [0.7777777777777778, \"#fb9f3a\"], [0.8888888888888888, \"#fdca26\"], [1.0, \"#f0f921\"]]}, \"legend\": {\"tracegroupgap\": 0}, \"margin\": {\"t\": 60}, \"template\": {\"data\": {\"bar\": [{\"error_x\": {\"color\": \"#2a3f5f\"}, \"error_y\": {\"color\": \"#2a3f5f\"}, \"marker\": {\"line\": {\"color\": \"#E5ECF6\", \"width\": 0.5}}, \"type\": \"bar\"}], \"barpolar\": [{\"marker\": {\"line\": {\"color\": \"#E5ECF6\", \"width\": 0.5}}, \"type\": \"barpolar\"}], \"carpet\": [{\"aaxis\": {\"endlinecolor\": \"#2a3f5f\", \"gridcolor\": \"white\", \"linecolor\": \"white\", \"minorgridcolor\": \"white\", \"startlinecolor\": \"#2a3f5f\"}, \"baxis\": {\"endlinecolor\": \"#2a3f5f\", \"gridcolor\": \"white\", \"linecolor\": \"white\", \"minorgridcolor\": \"white\", \"startlinecolor\": \"#2a3f5f\"}, \"type\": \"carpet\"}], \"choropleth\": [{\"colorbar\": {\"outlinewidth\": 0, \"ticks\": \"\"}, \"type\": \"choropleth\"}], \"contour\": [{\"colorbar\": {\"outlinewidth\": 0, \"ticks\": \"\"}, \"colorscale\": [[0.0, \"#0d0887\"], [0.1111111111111111, \"#46039f\"], [0.2222222222222222, \"#7201a8\"], [0.3333333333333333, \"#9c179e\"], [0.4444444444444444, \"#bd3786\"], [0.5555555555555556, \"#d8576b\"], [0.6666666666666666, \"#ed7953\"], [0.7777777777777778, \"#fb9f3a\"], [0.8888888888888888, \"#fdca26\"], [1.0, \"#f0f921\"]], \"type\": \"contour\"}], \"contourcarpet\": [{\"colorbar\": {\"outlinewidth\": 0, \"ticks\": \"\"}, \"type\": \"contourcarpet\"}], \"heatmap\": [{\"colorbar\": {\"outlinewidth\": 0, \"ticks\": \"\"}, \"colorscale\": [[0.0, \"#0d0887\"], [0.1111111111111111, \"#46039f\"], [0.2222222222222222, \"#7201a8\"], [0.3333333333333333, \"#9c179e\"], [0.4444444444444444, \"#bd3786\"], [0.5555555555555556, \"#d8576b\"], [0.6666666666666666, \"#ed7953\"], [0.7777777777777778, \"#fb9f3a\"], [0.8888888888888888, \"#fdca26\"], [1.0, \"#f0f921\"]], \"type\": \"heatmap\"}], \"heatmapgl\": [{\"colorbar\": {\"outlinewidth\": 0, \"ticks\": \"\"}, \"colorscale\": [[0.0, \"#0d0887\"], [0.1111111111111111, \"#46039f\"], [0.2222222222222222, \"#7201a8\"], [0.3333333333333333, \"#9c179e\"], [0.4444444444444444, \"#bd3786\"], [0.5555555555555556, \"#d8576b\"], [0.6666666666666666, \"#ed7953\"], [0.7777777777777778, \"#fb9f3a\"], [0.8888888888888888, \"#fdca26\"], [1.0, \"#f0f921\"]], \"type\": \"heatmapgl\"}], \"histogram\": [{\"marker\": {\"colorbar\": {\"outlinewidth\": 0, \"ticks\": \"\"}}, \"type\": \"histogram\"}], \"histogram2d\": [{\"colorbar\": {\"outlinewidth\": 0, \"ticks\": \"\"}, \"colorscale\": [[0.0, \"#0d0887\"], [0.1111111111111111, \"#46039f\"], [0.2222222222222222, \"#7201a8\"], [0.3333333333333333, \"#9c179e\"], [0.4444444444444444, \"#bd3786\"], [0.5555555555555556, \"#d8576b\"], [0.6666666666666666, \"#ed7953\"], [0.7777777777777778, \"#fb9f3a\"], [0.8888888888888888, \"#fdca26\"], [1.0, \"#f0f921\"]], \"type\": \"histogram2d\"}], \"histogram2dcontour\": [{\"colorbar\": {\"outlinewidth\": 0, \"ticks\": \"\"}, \"colorscale\": [[0.0, \"#0d0887\"], [0.1111111111111111, \"#46039f\"], [0.2222222222222222, \"#7201a8\"], [0.3333333333333333, \"#9c179e\"], [0.4444444444444444, \"#bd3786\"], [0.5555555555555556, \"#d8576b\"], [0.6666666666666666, \"#ed7953\"], [0.7777777777777778, \"#fb9f3a\"], [0.8888888888888888, \"#fdca26\"], [1.0, \"#f0f921\"]], \"type\": \"histogram2dcontour\"}], \"mesh3d\": [{\"colorbar\": {\"outlinewidth\": 0, \"ticks\": \"\"}, \"type\": \"mesh3d\"}], \"parcoords\": [{\"line\": {\"colorbar\": {\"outlinewidth\": 0, \"ticks\": \"\"}}, \"type\": \"parcoords\"}], \"pie\": [{\"automargin\": true, \"type\": \"pie\"}], \"scatter\": [{\"marker\": {\"colorbar\": {\"outlinewidth\": 0, \"ticks\": \"\"}}, \"type\": \"scatter\"}], \"scatter3d\": [{\"line\": {\"colorbar\": {\"outlinewidth\": 0, \"ticks\": \"\"}}, \"marker\": {\"colorbar\": {\"outlinewidth\": 0, \"ticks\": \"\"}}, \"type\": \"scatter3d\"}], \"scattercarpet\": [{\"marker\": {\"colorbar\": {\"outlinewidth\": 0, \"ticks\": \"\"}}, \"type\": \"scattercarpet\"}], \"scattergeo\": [{\"marker\": {\"colorbar\": {\"outlinewidth\": 0, \"ticks\": \"\"}}, \"type\": \"scattergeo\"}], \"scattergl\": [{\"marker\": {\"colorbar\": {\"outlinewidth\": 0, \"ticks\": \"\"}}, \"type\": \"scattergl\"}], \"scattermapbox\": [{\"marker\": {\"colorbar\": {\"outlinewidth\": 0, \"ticks\": \"\"}}, \"type\": \"scattermapbox\"}], \"scatterpolar\": [{\"marker\": {\"colorbar\": {\"outlinewidth\": 0, \"ticks\": \"\"}}, \"type\": \"scatterpolar\"}], \"scatterpolargl\": [{\"marker\": {\"colorbar\": {\"outlinewidth\": 0, \"ticks\": \"\"}}, \"type\": \"scatterpolargl\"}], \"scatterternary\": [{\"marker\": {\"colorbar\": {\"outlinewidth\": 0, \"ticks\": \"\"}}, \"type\": \"scatterternary\"}], \"surface\": [{\"colorbar\": {\"outlinewidth\": 0, \"ticks\": \"\"}, \"colorscale\": [[0.0, \"#0d0887\"], [0.1111111111111111, \"#46039f\"], [0.2222222222222222, \"#7201a8\"], [0.3333333333333333, \"#9c179e\"], [0.4444444444444444, \"#bd3786\"], [0.5555555555555556, \"#d8576b\"], [0.6666666666666666, \"#ed7953\"], [0.7777777777777778, \"#fb9f3a\"], [0.8888888888888888, \"#fdca26\"], [1.0, \"#f0f921\"]], \"type\": \"surface\"}], \"table\": [{\"cells\": {\"fill\": {\"color\": \"#EBF0F8\"}, \"line\": {\"color\": \"white\"}}, \"header\": {\"fill\": {\"color\": \"#C8D4E3\"}, \"line\": {\"color\": \"white\"}}, \"type\": \"table\"}]}, \"layout\": {\"annotationdefaults\": {\"arrowcolor\": \"#2a3f5f\", \"arrowhead\": 0, \"arrowwidth\": 1}, \"coloraxis\": {\"colorbar\": {\"outlinewidth\": 0, \"ticks\": \"\"}}, \"colorscale\": {\"diverging\": [[0, \"#8e0152\"], [0.1, \"#c51b7d\"], [0.2, \"#de77ae\"], [0.3, \"#f1b6da\"], [0.4, \"#fde0ef\"], [0.5, \"#f7f7f7\"], [0.6, \"#e6f5d0\"], [0.7, \"#b8e186\"], [0.8, \"#7fbc41\"], [0.9, \"#4d9221\"], [1, \"#276419\"]], \"sequential\": [[0.0, \"#0d0887\"], [0.1111111111111111, \"#46039f\"], [0.2222222222222222, \"#7201a8\"], [0.3333333333333333, \"#9c179e\"], [0.4444444444444444, \"#bd3786\"], [0.5555555555555556, \"#d8576b\"], [0.6666666666666666, \"#ed7953\"], [0.7777777777777778, \"#fb9f3a\"], [0.8888888888888888, \"#fdca26\"], [1.0, \"#f0f921\"]], \"sequentialminus\": [[0.0, \"#0d0887\"], [0.1111111111111111, \"#46039f\"], [0.2222222222222222, \"#7201a8\"], [0.3333333333333333, \"#9c179e\"], [0.4444444444444444, \"#bd3786\"], [0.5555555555555556, \"#d8576b\"], [0.6666666666666666, \"#ed7953\"], [0.7777777777777778, \"#fb9f3a\"], [0.8888888888888888, \"#fdca26\"], [1.0, \"#f0f921\"]]}, \"colorway\": [\"#636efa\", \"#EF553B\", \"#00cc96\", \"#ab63fa\", \"#FFA15A\", \"#19d3f3\", \"#FF6692\", \"#B6E880\", \"#FF97FF\", \"#FECB52\"], \"font\": {\"color\": \"#2a3f5f\"}, \"geo\": {\"bgcolor\": \"white\", \"lakecolor\": \"white\", \"landcolor\": \"#E5ECF6\", \"showlakes\": true, \"showland\": true, \"subunitcolor\": \"white\"}, \"hoverlabel\": {\"align\": \"left\"}, \"hovermode\": \"closest\", \"mapbox\": {\"style\": \"light\"}, \"paper_bgcolor\": \"white\", \"plot_bgcolor\": \"#E5ECF6\", \"polar\": {\"angularaxis\": {\"gridcolor\": \"white\", \"linecolor\": \"white\", \"ticks\": \"\"}, \"bgcolor\": \"#E5ECF6\", \"radialaxis\": {\"gridcolor\": \"white\", \"linecolor\": \"white\", \"ticks\": \"\"}}, \"scene\": {\"xaxis\": {\"backgroundcolor\": \"#E5ECF6\", \"gridcolor\": \"white\", \"gridwidth\": 2, \"linecolor\": \"white\", \"showbackground\": true, \"ticks\": \"\", \"zerolinecolor\": \"white\"}, \"yaxis\": {\"backgroundcolor\": \"#E5ECF6\", \"gridcolor\": \"white\", \"gridwidth\": 2, \"linecolor\": \"white\", \"showbackground\": true, \"ticks\": \"\", \"zerolinecolor\": \"white\"}, \"zaxis\": {\"backgroundcolor\": \"#E5ECF6\", \"gridcolor\": \"white\", \"gridwidth\": 2, \"linecolor\": \"white\", \"showbackground\": true, \"ticks\": \"\", \"zerolinecolor\": \"white\"}}, \"shapedefaults\": {\"line\": {\"color\": \"#2a3f5f\"}}, \"ternary\": {\"aaxis\": {\"gridcolor\": \"white\", \"linecolor\": \"white\", \"ticks\": \"\"}, \"baxis\": {\"gridcolor\": \"white\", \"linecolor\": \"white\", \"ticks\": \"\"}, \"bgcolor\": \"#E5ECF6\", \"caxis\": {\"gridcolor\": \"white\", \"linecolor\": \"white\", \"ticks\": \"\"}}, \"title\": {\"x\": 0.05}, \"xaxis\": {\"automargin\": true, \"gridcolor\": \"white\", \"linecolor\": \"white\", \"ticks\": \"\", \"title\": {\"standoff\": 15}, \"zerolinecolor\": \"white\", \"zerolinewidth\": 2}, \"yaxis\": {\"automargin\": true, \"gridcolor\": \"white\", \"linecolor\": \"white\", \"ticks\": \"\", \"title\": {\"standoff\": 15}, \"zerolinecolor\": \"white\", \"zerolinewidth\": 2}}}},                        {\"responsive\": true}                    ).then(function(){\n",
       "                            \n",
       "var gd = document.getElementById('0b300a62-b9a5-48c2-9f6c-87b95491d737');\n",
       "var x = new MutationObserver(function (mutations, observer) {{\n",
       "        var display = window.getComputedStyle(gd).display;\n",
       "        if (!display || display === 'none') {{\n",
       "            console.log([gd, 'removed!']);\n",
       "            Plotly.purge(gd);\n",
       "            observer.disconnect();\n",
       "        }}\n",
       "}});\n",
       "\n",
       "// Listen for the removal of the full notebook cells\n",
       "var notebookContainer = gd.closest('#notebook-container');\n",
       "if (notebookContainer) {{\n",
       "    x.observe(notebookContainer, {childList: true});\n",
       "}}\n",
       "\n",
       "// Listen for the clearing of the current output cell\n",
       "var outputEl = gd.closest('.output');\n",
       "if (outputEl) {{\n",
       "    x.observe(outputEl, {childList: true});\n",
       "}}\n",
       "\n",
       "                        })                };                });            </script>        </div>"
      ]
     },
     "metadata": {},
     "output_type": "display_data"
    }
   ],
   "source": [
    "import numpy as np\n",
    "import plotly.express as px\n",
    "fig = px.treemap(df3, path=['State', 'City'], values='Dose_Rate',\n",
    "                  color='Dose_Rate', hover_data=['Dose_Rate'])\n",
    "fig.show()"
   ]
  },
  {
   "cell_type": "code",
   "execution_count": null,
   "metadata": {},
   "outputs": [],
   "source": []
  },
  {
   "cell_type": "markdown",
   "metadata": {},
   "source": [
    "# Metric vs. Elevation"
   ]
  },
  {
   "cell_type": "code",
   "execution_count": null,
   "metadata": {},
   "outputs": [],
   "source": [
    "df4 = DF.groupby(['City','State','Elevation'])['Gamma_Count', 'Dose_Rate'].median()\n",
    "df4 = df4.reset_index()"
   ]
  },
  {
   "cell_type": "code",
   "execution_count": null,
   "metadata": {},
   "outputs": [],
   "source": [
    "df4.head()"
   ]
  },
  {
   "cell_type": "code",
   "execution_count": null,
   "metadata": {},
   "outputs": [],
   "source": [
    "import plotly.express as px\n",
    "\n",
    "fig = px.scatter(df4, x=\"Elevation\", y=\"Gamma_Count\", marginal_y=\"box\",\n",
    "           marginal_x=\"box\", template=\"simple_white\", hover_data=['City'])\n",
    "fig.show()"
   ]
  },
  {
   "cell_type": "code",
   "execution_count": null,
   "metadata": {},
   "outputs": [],
   "source": [
    "import plotly.express as px\n",
    "\n",
    "fig = px.scatter(df4, x=\"Gamma_Count\", y=\"Dose_Rate\", marginal_y=\"box\",\n",
    "           marginal_x=\"box\", template=\"simple_white\", hover_data=['City'])\n",
    "fig.show()"
   ]
  },
  {
   "cell_type": "code",
   "execution_count": null,
   "metadata": {},
   "outputs": [],
   "source": []
  },
  {
   "cell_type": "code",
   "execution_count": null,
   "metadata": {},
   "outputs": [],
   "source": []
  },
  {
   "cell_type": "markdown",
   "metadata": {},
   "source": [
    "# Bar plots"
   ]
  },
  {
   "cell_type": "code",
   "execution_count": null,
   "metadata": {},
   "outputs": [],
   "source": [
    "metric = 'Gamma_Count'\n",
    "df1_temp = df1.dropna(subset=[metric]).groupby(['City'])[metric].median().sort_values(ascending=True).reset_index()"
   ]
  },
  {
   "cell_type": "code",
   "execution_count": null,
   "metadata": {},
   "outputs": [],
   "source": [
    "\n",
    "fig = px.bar(df1_temp, x=metric, y=\"City\", orientation='h')\n",
    "fig.show() "
   ]
  },
  {
   "cell_type": "code",
   "execution_count": null,
   "metadata": {},
   "outputs": [],
   "source": []
  },
  {
   "cell_type": "code",
   "execution_count": null,
   "metadata": {},
   "outputs": [],
   "source": []
  },
  {
   "cell_type": "code",
   "execution_count": null,
   "metadata": {},
   "outputs": [],
   "source": []
  }
 ],
 "metadata": {
  "kernelspec": {
   "display_name": "Python 3",
   "language": "python",
   "name": "python3"
  },
  "language_info": {
   "codemirror_mode": {
    "name": "ipython",
    "version": 3
   },
   "file_extension": ".py",
   "mimetype": "text/x-python",
   "name": "python",
   "nbconvert_exporter": "python",
   "pygments_lexer": "ipython3",
   "version": "3.8.3"
  },
  "toc": {
   "base_numbering": 1,
   "nav_menu": {},
   "number_sections": true,
   "sideBar": true,
   "skip_h1_title": false,
   "title_cell": "Table of Contents",
   "title_sidebar": "Contents",
   "toc_cell": false,
   "toc_position": {},
   "toc_section_display": true,
   "toc_window_display": true
  },
  "varInspector": {
   "cols": {
    "lenName": 16,
    "lenType": 16,
    "lenVar": 40
   },
   "kernels_config": {
    "python": {
     "delete_cmd_postfix": "",
     "delete_cmd_prefix": "del ",
     "library": "var_list.py",
     "varRefreshCmd": "print(var_dic_list())"
    },
    "r": {
     "delete_cmd_postfix": ") ",
     "delete_cmd_prefix": "rm(",
     "library": "var_list.r",
     "varRefreshCmd": "cat(var_dic_list()) "
    }
   },
   "types_to_exclude": [
    "module",
    "function",
    "builtin_function_or_method",
    "instance",
    "_Feature"
   ],
   "window_display": false
  }
 },
 "nbformat": 4,
 "nbformat_minor": 4
}
