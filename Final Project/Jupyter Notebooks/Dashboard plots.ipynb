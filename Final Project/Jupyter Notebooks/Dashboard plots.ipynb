{
 "cells": [
  {
   "cell_type": "code",
   "execution_count": 1,
   "metadata": {},
   "outputs": [
    {
     "ename": "ModuleNotFoundError",
     "evalue": "No module named 'cufflinks'",
     "output_type": "error",
     "traceback": [
      "\u001b[1;31m---------------------------------------------------------------------------\u001b[0m",
      "\u001b[1;31mModuleNotFoundError\u001b[0m                       Traceback (most recent call last)",
      "\u001b[1;32m<ipython-input-1-a943971a2c14>\u001b[0m in \u001b[0;36m<module>\u001b[1;34m\u001b[0m\n\u001b[0;32m      8\u001b[0m \u001b[1;32mimport\u001b[0m \u001b[0mpandas\u001b[0m \u001b[1;32mas\u001b[0m \u001b[0mpd\u001b[0m\u001b[1;33m\u001b[0m\u001b[1;33m\u001b[0m\u001b[0m\n\u001b[0;32m      9\u001b[0m \u001b[1;32mfrom\u001b[0m \u001b[0mdash\u001b[0m\u001b[1;33m.\u001b[0m\u001b[0mdependencies\u001b[0m \u001b[1;32mimport\u001b[0m \u001b[0mInput\u001b[0m\u001b[1;33m,\u001b[0m \u001b[0mOutput\u001b[0m\u001b[1;33m,\u001b[0m \u001b[0mState\u001b[0m\u001b[1;33m\u001b[0m\u001b[1;33m\u001b[0m\u001b[0m\n\u001b[1;32m---> 10\u001b[1;33m \u001b[1;32mimport\u001b[0m \u001b[0mcufflinks\u001b[0m \u001b[1;32mas\u001b[0m \u001b[0mcf\u001b[0m\u001b[1;33m\u001b[0m\u001b[1;33m\u001b[0m\u001b[0m\n\u001b[0m",
      "\u001b[1;31mModuleNotFoundError\u001b[0m: No module named 'cufflinks'"
     ]
    }
   ],
   "source": [
    "import os\n",
    "import pathlib\n",
    "import re\n",
    "\n",
    "import dash\n",
    "import dash_core_components as dcc\n",
    "import dash_html_components as html\n",
    "import pandas as pd\n",
    "from dash.dependencies import Input, Output, State\n",
    "import cufflinks as cf"
   ]
  },
  {
   "cell_type": "code",
   "execution_count": 2,
   "metadata": {},
   "outputs": [],
   "source": [
    "DEFAULT_OPACITY = 0.8\n",
    "\n",
    "mapbox_access_token = \"pk.eyJ1IjoicGxvdGx5bWFwYm94IiwiYSI6ImNrOWJqb2F4djBnMjEzbG50amg0dnJieG4ifQ.Zme1-Uzoi75IaFbieBDl3A\"\n",
    "mapbox_style = \"mapbox://styles/plotlymapbox/cjvprkf3t1kns1cqjxuxmwixz\"\n",
    "\n",
    "base_url = \"https://raw.githubusercontent.com/jackparmer/mapbox-counties/master/\"\n",
    "\n",
    "BINS = [\n",
    "    \"0-2\",\n",
    "    \"2.1-4\",\n",
    "    \"4.1-6\",\n",
    "    \"6.1-8\",\n",
    "    \"8.1-10\",\n",
    "    \"10.1-12\",\n",
    "    \"12.1-14\",\n",
    "    \"14.1-16\",\n",
    "    \"16.1-18\",\n",
    "    \"18.1-20\",\n",
    "    \"20.1-22\",\n",
    "    \"22.1-24\",\n",
    "    \"24.1-26\",\n",
    "    \"26.1-28\",\n",
    "    \"28.1-30\",\n",
    "    \">30\",\n",
    "]\n",
    "\n",
    "DEFAULT_COLORSCALE = [\n",
    "    \"#f2fffb\",\n",
    "    \"#bbffeb\",\n",
    "    \"#98ffe0\",\n",
    "    \"#79ffd6\",\n",
    "    \"#6df0c8\",\n",
    "    \"#69e7c0\",\n",
    "    \"#59dab2\",\n",
    "    \"#45d0a5\",\n",
    "    \"#31c194\",\n",
    "    \"#2bb489\",\n",
    "    \"#25a27b\",\n",
    "    \"#1e906d\",\n",
    "    \"#188463\",\n",
    "    \"#157658\",\n",
    "    \"#11684d\",\n",
    "    \"#10523e\",\n",
    "]"
   ]
  },
  {
   "cell_type": "code",
   "execution_count": 15,
   "metadata": {},
   "outputs": [],
   "source": [
    "cm = dict(zip(BINS, DEFAULT_COLORSCALE))\n",
    "bin = \"0-2\""
   ]
  },
  {
   "cell_type": "code",
   "execution_count": 16,
   "metadata": {},
   "outputs": [],
   "source": [
    "year = 2003\n",
    "geo_layer = dict(\n",
    "    sourcetype=\"geojson\",\n",
    "    source=base_url + str(year) + \"/\" + bin + \".geojson\",\n",
    "    type=\"fill\",\n",
    "    color=cm[bin],\n",
    "    opacity=DEFAULT_OPACITY,\n",
    "    # CHANGE THIS\n",
    "    fill=dict(outlinecolor=\"#afafaf\"),\n",
    ")"
   ]
  },
  {
   "cell_type": "code",
   "execution_count": 18,
   "metadata": {},
   "outputs": [],
   "source": [
    "lat = figure[\"layout\"][\"mapbox\"][\"center\"][\"lat\"]\n",
    "lon = figure[\"layout\"][\"mapbox\"][\"center\"][\"lon\"]\n",
    "zoom = figure[\"layout\"][\"mapbox\"][\"zoom\"]"
   ]
  },
  {
   "cell_type": "code",
   "execution_count": null,
   "metadata": {},
   "outputs": [],
   "source": [
    "layout[\"mapbox\"][\"layers\"].append(geo_layer)"
   ]
  },
  {
   "cell_type": "code",
   "execution_count": 6,
   "metadata": {},
   "outputs": [
    {
     "data": {
      "text/plain": [
       "Graph(id='county-choropleth', figure={'layout': {'mapbox': {'layers': [], 'accesstoken': 'pk.eyJ1IjoicGxvdGx5bWFwYm94IiwiYSI6ImNrOWJqb2F4djBnMjEzbG50amg0dnJieG4ifQ.Zme1-Uzoi75IaFbieBDl3A', 'style': 'mapbox://styles/plotlymapbox/cjvprkf3t1kns1cqjxuxmwixz', 'center': {'lat': 38.7249, 'lon': -95.61446}, 'pitch': 0, 'zoom': 3.5}, 'autosize': True}})"
      ]
     },
     "execution_count": 6,
     "metadata": {},
     "output_type": "execute_result"
    }
   ],
   "source": [
    "dcc.Graph(\n",
    "    id=\"county-choropleth\",\n",
    "    figure=dict(\n",
    "        layout=dict(\n",
    "            mapbox=dict(\n",
    "                layers=[],\n",
    "                accesstoken=mapbox_access_token,\n",
    "                style=mapbox_style,\n",
    "                center=dict(\n",
    "                    lat=38.72490, lon=-95.61446\n",
    "                ),\n",
    "                pitch=0,\n",
    "                zoom=3.5,\n",
    "            ),\n",
    "            autosize=True,\n",
    "        ),\n",
    "    ),\n",
    ")"
   ]
  },
  {
   "cell_type": "code",
   "execution_count": 9,
   "metadata": {},
   "outputs": [],
   "source": [
    "fp = r'C:\\Users\\rmartinez4\\Box\\Personal Git\\Data-Visualization-DSE241\\Final Project\\dash_plotly_code\\example\\data\\lat_lon_counties.csv'\n",
    "df_lat_lon = pd.read_csv(fp)"
   ]
  },
  {
   "cell_type": "code",
   "execution_count": 10,
   "metadata": {},
   "outputs": [],
   "source": [
    "data = [\n",
    "    dict(\n",
    "        lat=df_lat_lon[\"Latitude \"],\n",
    "        lon=df_lat_lon[\"Longitude\"],\n",
    "        text=df_lat_lon[\"Hover\"],\n",
    "        type=\"scattermapbox\",\n",
    "        hoverinfo=\"text\",\n",
    "        marker=dict(size=5, color=\"white\", opacity=0),\n",
    "    )\n",
    "]"
   ]
  },
  {
   "cell_type": "code",
   "execution_count": 17,
   "metadata": {},
   "outputs": [],
   "source": [
    "lat = 38.72490\n",
    "lon = -95.61446\n",
    "zoom = 3.5"
   ]
  },
  {
   "cell_type": "code",
   "execution_count": 19,
   "metadata": {},
   "outputs": [],
   "source": [
    "annotations = [\n",
    "    dict(\n",
    "        showarrow=False,\n",
    "        align=\"right\",\n",
    "        text=\"<b>Age-adjusted death rate<br>per county per year</b>\",\n",
    "        font=dict(color=\"#2cfec1\"),\n",
    "        bgcolor=\"#1f2630\",\n",
    "        x=0.95,\n",
    "        y=0.95,\n",
    "    )\n",
    "]"
   ]
  },
  {
   "cell_type": "code",
   "execution_count": 20,
   "metadata": {},
   "outputs": [],
   "source": [
    "layout = dict(\n",
    "    mapbox=dict(\n",
    "        layers=[],\n",
    "        accesstoken=mapbox_access_token,\n",
    "        style=mapbox_style,\n",
    "        center=dict(lat=lat, lon=lon),\n",
    "        zoom=zoom,\n",
    "    ),\n",
    "    hovermode=\"closest\",\n",
    "    margin=dict(r=0, l=0, t=0, b=0),\n",
    "    annotations=annotations,\n",
    "    dragmode=\"lasso\",\n",
    ")"
   ]
  },
  {
   "cell_type": "code",
   "execution_count": 23,
   "metadata": {},
   "outputs": [],
   "source": [
    "test = dcc.Graph(figure = dict(data=data, layout=layout))"
   ]
  },
  {
   "cell_type": "code",
   "execution_count": 25,
   "metadata": {},
   "outputs": [
    {
     "ename": "AttributeError",
     "evalue": "'Graph' object has no attribute 'show'",
     "output_type": "error",
     "traceback": [
      "\u001b[1;31m---------------------------------------------------------------------------\u001b[0m",
      "\u001b[1;31mAttributeError\u001b[0m                            Traceback (most recent call last)",
      "\u001b[1;32m<ipython-input-25-892cec191f70>\u001b[0m in \u001b[0;36m<module>\u001b[1;34m\u001b[0m\n\u001b[1;32m----> 1\u001b[1;33m \u001b[0mtest\u001b[0m\u001b[1;33m.\u001b[0m\u001b[0mshow\u001b[0m\u001b[1;33m(\u001b[0m\u001b[1;33m)\u001b[0m\u001b[1;33m\u001b[0m\u001b[1;33m\u001b[0m\u001b[0m\n\u001b[0m",
      "\u001b[1;31mAttributeError\u001b[0m: 'Graph' object has no attribute 'show'"
     ]
    }
   ],
   "source": [
    "test.show()"
   ]
  },
  {
   "cell_type": "code",
   "execution_count": null,
   "metadata": {},
   "outputs": [],
   "source": []
  }
 ],
 "metadata": {
  "kernelspec": {
   "display_name": "Python 3",
   "language": "python",
   "name": "python3"
  },
  "language_info": {
   "codemirror_mode": {
    "name": "ipython",
    "version": 3
   },
   "file_extension": ".py",
   "mimetype": "text/x-python",
   "name": "python",
   "nbconvert_exporter": "python",
   "pygments_lexer": "ipython3",
   "version": "3.8.3"
  },
  "toc": {
   "base_numbering": 1,
   "nav_menu": {},
   "number_sections": true,
   "sideBar": true,
   "skip_h1_title": false,
   "title_cell": "Table of Contents",
   "title_sidebar": "Contents",
   "toc_cell": false,
   "toc_position": {},
   "toc_section_display": true,
   "toc_window_display": false
  },
  "varInspector": {
   "cols": {
    "lenName": 16,
    "lenType": 16,
    "lenVar": 40
   },
   "kernels_config": {
    "python": {
     "delete_cmd_postfix": "",
     "delete_cmd_prefix": "del ",
     "library": "var_list.py",
     "varRefreshCmd": "print(var_dic_list())"
    },
    "r": {
     "delete_cmd_postfix": ") ",
     "delete_cmd_prefix": "rm(",
     "library": "var_list.r",
     "varRefreshCmd": "cat(var_dic_list()) "
    }
   },
   "types_to_exclude": [
    "module",
    "function",
    "builtin_function_or_method",
    "instance",
    "_Feature"
   ],
   "window_display": false
  }
 },
 "nbformat": 4,
 "nbformat_minor": 4
}
