{
 "cells": [
  {
   "cell_type": "code",
   "execution_count": 24,
   "metadata": {},
   "outputs": [
    {
     "name": "stdout",
     "output_type": "stream",
     "text": [
      "Dash app running on http://127.0.0.1:805/\n"
     ]
    }
   ],
   "source": [
    "import plotly.express as px\n",
    "from jupyter_dash import JupyterDash\n",
    "import dash_core_components as dcc\n",
    "import dash_html_components as html\n",
    "import dash_bootstrap_components as dbc\n",
    "from dash.dependencies import Input, Output\n",
    "import plotly.express as px\n",
    "\n",
    "# Iris bar figure\n",
    "def drawFigure():\n",
    "    return  html.Div([\n",
    "        dbc.Card(\n",
    "            dbc.CardBody([\n",
    "                dcc.Graph(\n",
    "                    figure=px.bar(\n",
    "                        df, x=\"sepal_width\", y=\"sepal_length\", color=\"species\"\n",
    "                    ).update_layout(\n",
    "                        template='plotly_dark',\n",
    "                        plot_bgcolor= 'rgba(0, 0, 0, 0)',\n",
    "                        paper_bgcolor= 'rgba(0, 0, 0, 0)',\n",
    "                    ),\n",
    "                    config={\n",
    "                        'displayModeBar': False\n",
    "                    }\n",
    "                ) \n",
    "            ])\n",
    "        ),  \n",
    "    ])\n",
    "\n",
    "# Text field\n",
    "def drawText():\n",
    "    return html.Div([\n",
    "        dbc.Card(\n",
    "            dbc.CardBody([\n",
    "                html.Div([\n",
    "                    html.H2(\"Text\"),\n",
    "                ], style={'textAlign': 'center'}) \n",
    "            ])\n",
    "        ),\n",
    "    ])\n",
    "\n",
    "# Data\n",
    "df = px.data.iris()\n",
    "\n",
    "# Build App\n",
    "app = JupyterDash(external_stylesheets=[dbc.themes.SLATE])\n",
    "\n",
    "app.layout = html.Div([\n",
    "    dbc.Card(\n",
    "        dbc.CardBody([\n",
    "            dbc.Row([\n",
    "                dbc.Col([\n",
    "                    drawText()\n",
    "                ], width=9),\n",
    "                dbc.Col([\n",
    "                    drawText()\n",
    "                ], width=3),\n",
    "            ], align='center'), \n",
    "            html.Br(),\n",
    "            dbc.Row([\n",
    "                dbc.Col([\n",
    "                    drawFigure() \n",
    "                ], width=8),\n",
    "                dbc.Col([\n",
    "                    drawFigure()\n",
    "                ], width=4),\n",
    "            ], align='center'), \n",
    "            html.Br(),\n",
    "            dbc.Row([\n",
    "                dbc.Col([\n",
    "                    drawFigure()\n",
    "                ], width=6),\n",
    "                dbc.Col([\n",
    "                    drawFigure()\n",
    "                ], width=6),\n",
    "            ], align='center'),   \n",
    "            html.Br(),\n",
    "            dbc.Row([\n",
    "                dbc.Col([\n",
    "                    drawFigure()\n",
    "                ], width=12)\n",
    "            ], align='center'),  \n",
    "        ]), color = 'dark'\n",
    "    )\n",
    "])\n",
    "\n",
    "# Run app and display result inline in the notebook\n",
    "app.run_server(mode='external', port='805')"
   ]
  },
  {
   "cell_type": "code",
   "execution_count": null,
   "metadata": {},
   "outputs": [],
   "source": []
  }
 ],
 "metadata": {
  "kernelspec": {
   "display_name": "Python 3",
   "language": "python",
   "name": "python3"
  },
  "language_info": {
   "codemirror_mode": {
    "name": "ipython",
    "version": 3
   },
   "file_extension": ".py",
   "mimetype": "text/x-python",
   "name": "python",
   "nbconvert_exporter": "python",
   "pygments_lexer": "ipython3",
   "version": "3.8.3"
  },
  "toc": {
   "base_numbering": 1,
   "nav_menu": {},
   "number_sections": true,
   "sideBar": true,
   "skip_h1_title": false,
   "title_cell": "Table of Contents",
   "title_sidebar": "Contents",
   "toc_cell": false,
   "toc_position": {},
   "toc_section_display": true,
   "toc_window_display": false
  },
  "varInspector": {
   "cols": {
    "lenName": 16,
    "lenType": 16,
    "lenVar": 40
   },
   "kernels_config": {
    "python": {
     "delete_cmd_postfix": "",
     "delete_cmd_prefix": "del ",
     "library": "var_list.py",
     "varRefreshCmd": "print(var_dic_list())"
    },
    "r": {
     "delete_cmd_postfix": ") ",
     "delete_cmd_prefix": "rm(",
     "library": "var_list.r",
     "varRefreshCmd": "cat(var_dic_list()) "
    }
   },
   "types_to_exclude": [
    "module",
    "function",
    "builtin_function_or_method",
    "instance",
    "_Feature"
   ],
   "window_display": false
  }
 },
 "nbformat": 4,
 "nbformat_minor": 4
}
