{
 "cells": [
  {
   "cell_type": "code",
   "execution_count": 185,
   "id": "eastern-bronze",
   "metadata": {},
   "outputs": [],
   "source": [
    "import warnings\n",
    "warnings.filterwarnings('ignore')\n",
    "\n",
    "from dateutil.relativedelta import relativedelta\n",
    "from datetime import datetime, timedelta\n",
    "from os.path import join\n",
    "import pandas as pd\n",
    "import numpy as np\n",
    "import pathlib\n",
    "\n",
    "from dash.dependencies import Input, Output, State\n",
    "from dash.exceptions import PreventUpdate\n",
    "import dash_bootstrap_components as dbc\n",
    "import dash_html_components as html\n",
    "import dash_core_components as dcc\n",
    "import plotly.express as px\n",
    "import dash"
   ]
  },
  {
   "cell_type": "code",
   "execution_count": 190,
   "id": "postal-webster",
   "metadata": {},
   "outputs": [
    {
     "name": "stdout",
     "output_type": "stream",
     "text": [
      "Wall time: 2.34 s\n"
     ]
    }
   ],
   "source": [
    "%%time\n",
    "APP_PATH = r'C:\\Users\\rmartinez4\\Box\\Personal Git\\Data-Visualization-DSE241\\Final Project\\dash_plotly_code'\n",
    "\n",
    "df_data = pd.read_pickle(join(APP_PATH, join('data', 'data.pkl'))) \n",
    "df_coord = pd.read_pickle(join(APP_PATH, join('data', 'coordinates.pkl'))) "
   ]
  },
  {
   "cell_type": "code",
   "execution_count": 191,
   "id": "furnished-response",
   "metadata": {},
   "outputs": [
    {
     "name": "stdout",
     "output_type": "stream",
     "text": [
      "(11594073, 5)\n",
      "Wall time: 996 µs\n"
     ]
    },
    {
     "data": {
      "text/html": [
       "<div>\n",
       "<style scoped>\n",
       "    .dataframe tbody tr th:only-of-type {\n",
       "        vertical-align: middle;\n",
       "    }\n",
       "\n",
       "    .dataframe tbody tr th {\n",
       "        vertical-align: top;\n",
       "    }\n",
       "\n",
       "    .dataframe thead th {\n",
       "        text-align: right;\n",
       "    }\n",
       "</style>\n",
       "<table border=\"1\" class=\"dataframe\">\n",
       "  <thead>\n",
       "    <tr style=\"text-align: right;\">\n",
       "      <th></th>\n",
       "      <th>State</th>\n",
       "      <th>City</th>\n",
       "      <th>Time</th>\n",
       "      <th>Dose_Rate</th>\n",
       "      <th>Gamma_Count</th>\n",
       "    </tr>\n",
       "  </thead>\n",
       "  <tbody>\n",
       "    <tr>\n",
       "      <th>0</th>\n",
       "      <td>AK</td>\n",
       "      <td>ANCHORAGE</td>\n",
       "      <td>2008-06-04 15:49:00</td>\n",
       "      <td>NaN</td>\n",
       "      <td>1322.0</td>\n",
       "    </tr>\n",
       "    <tr>\n",
       "      <th>1</th>\n",
       "      <td>AK</td>\n",
       "      <td>ANCHORAGE</td>\n",
       "      <td>2008-06-04 16:49:00</td>\n",
       "      <td>NaN</td>\n",
       "      <td>1215.0</td>\n",
       "    </tr>\n",
       "    <tr>\n",
       "      <th>2</th>\n",
       "      <td>AK</td>\n",
       "      <td>ANCHORAGE</td>\n",
       "      <td>2008-06-04 17:50:00</td>\n",
       "      <td>NaN</td>\n",
       "      <td>1223.0</td>\n",
       "    </tr>\n",
       "    <tr>\n",
       "      <th>3</th>\n",
       "      <td>AK</td>\n",
       "      <td>ANCHORAGE</td>\n",
       "      <td>2008-06-04 18:50:00</td>\n",
       "      <td>NaN</td>\n",
       "      <td>1238.0</td>\n",
       "    </tr>\n",
       "    <tr>\n",
       "      <th>4</th>\n",
       "      <td>AK</td>\n",
       "      <td>ANCHORAGE</td>\n",
       "      <td>2008-06-04 19:50:00</td>\n",
       "      <td>NaN</td>\n",
       "      <td>1266.0</td>\n",
       "    </tr>\n",
       "  </tbody>\n",
       "</table>\n",
       "</div>"
      ],
      "text/plain": [
       "  State       City                Time  Dose_Rate  Gamma_Count\n",
       "0    AK  ANCHORAGE 2008-06-04 15:49:00        NaN       1322.0\n",
       "1    AK  ANCHORAGE 2008-06-04 16:49:00        NaN       1215.0\n",
       "2    AK  ANCHORAGE 2008-06-04 17:50:00        NaN       1223.0\n",
       "3    AK  ANCHORAGE 2008-06-04 18:50:00        NaN       1238.0\n",
       "4    AK  ANCHORAGE 2008-06-04 19:50:00        NaN       1266.0"
      ]
     },
     "execution_count": 191,
     "metadata": {},
     "output_type": "execute_result"
    }
   ],
   "source": [
    "%%time\n",
    "print(df_data.shape)\n",
    "df_data.head()"
   ]
  },
  {
   "cell_type": "code",
   "execution_count": 192,
   "id": "expensive-processing",
   "metadata": {},
   "outputs": [],
   "source": [
    "df_test = df_data[df_data.State=='CA']"
   ]
  },
  {
   "cell_type": "code",
   "execution_count": 193,
   "id": "dominant-david",
   "metadata": {},
   "outputs": [
    {
     "data": {
      "text/plain": [
       "array(['ANAHEIM', 'BAKERSFIELD', 'EUREKA', 'FRESNO', 'LOS ANGELES',\n",
       "       'RIVERSIDE', 'SACRAMENTO', 'SAN BERNARDINO', 'SAN DIEGO',\n",
       "       'SAN FRANCISCO', 'SAN JOSE'], dtype=object)"
      ]
     },
     "execution_count": 193,
     "metadata": {},
     "output_type": "execute_result"
    }
   ],
   "source": [
    "df_test.City.unique()"
   ]
  },
  {
   "cell_type": "code",
   "execution_count": 169,
   "id": "metallic-story",
   "metadata": {},
   "outputs": [
    {
     "name": "stdout",
     "output_type": "stream",
     "text": [
      "Wall time: 0 ns\n"
     ]
    },
    {
     "data": {
      "text/plain": [
       "11594073"
      ]
     },
     "execution_count": 169,
     "metadata": {},
     "output_type": "execute_result"
    }
   ],
   "source": [
    "%%time\n",
    "len(df_data)"
   ]
  },
  {
   "cell_type": "code",
   "execution_count": 170,
   "id": "regular-soccer",
   "metadata": {},
   "outputs": [],
   "source": [
    "# df_coord.head()"
   ]
  },
  {
   "cell_type": "code",
   "execution_count": 171,
   "id": "behavioral-cooperative",
   "metadata": {},
   "outputs": [
    {
     "name": "stdout",
     "output_type": "stream",
     "text": [
      "Wall time: 858 ms\n"
     ]
    }
   ],
   "source": [
    "%%time\n",
    "test = set(df_data.State)"
   ]
  },
  {
   "cell_type": "code",
   "execution_count": 172,
   "id": "adjusted-facing",
   "metadata": {},
   "outputs": [
    {
     "name": "stdout",
     "output_type": "stream",
     "text": [
      "Wall time: 319 ms\n"
     ]
    }
   ],
   "source": [
    "%%time\n",
    "test = df_data.State.unique()"
   ]
  },
  {
   "cell_type": "code",
   "execution_count": 188,
   "id": "declared-prophet",
   "metadata": {},
   "outputs": [
    {
     "name": "stdout",
     "output_type": "stream",
     "text": [
      "(1309660, 5)\n",
      "Wall time: 866 ms\n"
     ]
    },
    {
     "data": {
      "text/html": [
       "<div>\n",
       "<style scoped>\n",
       "    .dataframe tbody tr th:only-of-type {\n",
       "        vertical-align: middle;\n",
       "    }\n",
       "\n",
       "    .dataframe tbody tr th {\n",
       "        vertical-align: top;\n",
       "    }\n",
       "\n",
       "    .dataframe thead th {\n",
       "        text-align: right;\n",
       "    }\n",
       "</style>\n",
       "<table border=\"1\" class=\"dataframe\">\n",
       "  <thead>\n",
       "    <tr style=\"text-align: right;\">\n",
       "      <th></th>\n",
       "      <th>State</th>\n",
       "      <th>City</th>\n",
       "      <th>Time</th>\n",
       "      <th>Dose_Rate</th>\n",
       "      <th>Gamma_Count</th>\n",
       "    </tr>\n",
       "  </thead>\n",
       "  <tbody>\n",
       "    <tr>\n",
       "      <th>0</th>\n",
       "      <td>AK</td>\n",
       "      <td>ANCHORAGE</td>\n",
       "      <td>2008-06-04 15:49:00</td>\n",
       "      <td>NaN</td>\n",
       "      <td>1322.0</td>\n",
       "    </tr>\n",
       "    <tr>\n",
       "      <th>1</th>\n",
       "      <td>AK</td>\n",
       "      <td>ANCHORAGE</td>\n",
       "      <td>2008-06-04 16:49:00</td>\n",
       "      <td>NaN</td>\n",
       "      <td>1215.0</td>\n",
       "    </tr>\n",
       "    <tr>\n",
       "      <th>2</th>\n",
       "      <td>AK</td>\n",
       "      <td>ANCHORAGE</td>\n",
       "      <td>2008-06-04 17:50:00</td>\n",
       "      <td>NaN</td>\n",
       "      <td>1223.0</td>\n",
       "    </tr>\n",
       "    <tr>\n",
       "      <th>3</th>\n",
       "      <td>AK</td>\n",
       "      <td>ANCHORAGE</td>\n",
       "      <td>2008-06-04 18:50:00</td>\n",
       "      <td>NaN</td>\n",
       "      <td>1238.0</td>\n",
       "    </tr>\n",
       "    <tr>\n",
       "      <th>4</th>\n",
       "      <td>AK</td>\n",
       "      <td>ANCHORAGE</td>\n",
       "      <td>2008-06-04 19:50:00</td>\n",
       "      <td>NaN</td>\n",
       "      <td>1266.0</td>\n",
       "    </tr>\n",
       "  </tbody>\n",
       "</table>\n",
       "</div>"
      ],
      "text/plain": [
       "  State       City                Time  Dose_Rate  Gamma_Count\n",
       "0    AK  ANCHORAGE 2008-06-04 15:49:00        NaN       1322.0\n",
       "1    AK  ANCHORAGE 2008-06-04 16:49:00        NaN       1215.0\n",
       "2    AK  ANCHORAGE 2008-06-04 17:50:00        NaN       1223.0\n",
       "3    AK  ANCHORAGE 2008-06-04 18:50:00        NaN       1238.0\n",
       "4    AK  ANCHORAGE 2008-06-04 19:50:00        NaN       1266.0"
      ]
     },
     "execution_count": 188,
     "metadata": {},
     "output_type": "execute_result"
    }
   ],
   "source": [
    "%%time\n",
    "dff = df_data.merge(pd.DataFrame({'State':['CA','AK']}), how='inner')\n",
    "print(dff.shape)\n",
    "dff.head()"
   ]
  },
  {
   "cell_type": "code",
   "execution_count": 189,
   "id": "tired-administrator",
   "metadata": {},
   "outputs": [
    {
     "data": {
      "text/plain": [
       "array(['ANCHORAGE', 'FAIRBANKS', 'JUNEAU', 'ANAHEIM', 'BAKERSFIELD',\n",
       "       'EUREKA', 'FRESNO', 'LOS ANGELES', 'RIVERSIDE', 'SACRAMENTO',\n",
       "       'SAN BERNARDINO', 'SAN DIEGO', 'SAN FRANCISCO', 'SAN JOSE'],\n",
       "      dtype=object)"
      ]
     },
     "execution_count": 189,
     "metadata": {},
     "output_type": "execute_result"
    }
   ],
   "source": [
    "dff.City.unique()"
   ]
  },
  {
   "cell_type": "code",
   "execution_count": 174,
   "id": "faced-carolina",
   "metadata": {},
   "outputs": [
    {
     "name": "stdout",
     "output_type": "stream",
     "text": [
      "Wall time: 917 ms\n"
     ]
    }
   ],
   "source": [
    "%%time\n",
    "dff = df_data.merge(pd.DataFrame({'State':['CA','AK']}), how='inner')"
   ]
  },
  {
   "cell_type": "code",
   "execution_count": 175,
   "id": "optimum-cabinet",
   "metadata": {},
   "outputs": [
    {
     "name": "stdout",
     "output_type": "stream",
     "text": [
      "2006-06-12 11:02:00 2020-12-31 15:59:00\n"
     ]
    }
   ],
   "source": [
    "print(dff.Time.min(), dff.Time.max())"
   ]
  },
  {
   "cell_type": "code",
   "execution_count": 176,
   "id": "viral-davis",
   "metadata": {},
   "outputs": [
    {
     "name": "stdout",
     "output_type": "stream",
     "text": [
      "Wall time: 541 ms\n"
     ]
    }
   ],
   "source": [
    "%%time\n",
    "dff = dff.set_index(['Time','State', 'City'])"
   ]
  },
  {
   "cell_type": "code",
   "execution_count": null,
   "id": "excellent-father",
   "metadata": {},
   "outputs": [],
   "source": []
  },
  {
   "cell_type": "code",
   "execution_count": 177,
   "id": "molecular-validity",
   "metadata": {},
   "outputs": [
    {
     "data": {
      "text/html": [
       "<div>\n",
       "<style scoped>\n",
       "    .dataframe tbody tr th:only-of-type {\n",
       "        vertical-align: middle;\n",
       "    }\n",
       "\n",
       "    .dataframe tbody tr th {\n",
       "        vertical-align: top;\n",
       "    }\n",
       "\n",
       "    .dataframe thead th {\n",
       "        text-align: right;\n",
       "    }\n",
       "</style>\n",
       "<table border=\"1\" class=\"dataframe\">\n",
       "  <thead>\n",
       "    <tr style=\"text-align: right;\">\n",
       "      <th></th>\n",
       "      <th></th>\n",
       "      <th></th>\n",
       "      <th>Dose_Rate</th>\n",
       "      <th>Gamma_Count</th>\n",
       "    </tr>\n",
       "    <tr>\n",
       "      <th>Time</th>\n",
       "      <th>State</th>\n",
       "      <th>City</th>\n",
       "      <th></th>\n",
       "      <th></th>\n",
       "    </tr>\n",
       "  </thead>\n",
       "  <tbody>\n",
       "    <tr>\n",
       "      <th>2008-06-04 15:49:00</th>\n",
       "      <th>AK</th>\n",
       "      <th>ANCHORAGE</th>\n",
       "      <td>NaN</td>\n",
       "      <td>1322.0</td>\n",
       "    </tr>\n",
       "    <tr>\n",
       "      <th>2008-06-04 16:49:00</th>\n",
       "      <th>AK</th>\n",
       "      <th>ANCHORAGE</th>\n",
       "      <td>NaN</td>\n",
       "      <td>1215.0</td>\n",
       "    </tr>\n",
       "    <tr>\n",
       "      <th>2008-06-04 17:50:00</th>\n",
       "      <th>AK</th>\n",
       "      <th>ANCHORAGE</th>\n",
       "      <td>NaN</td>\n",
       "      <td>1223.0</td>\n",
       "    </tr>\n",
       "    <tr>\n",
       "      <th>2008-06-04 18:50:00</th>\n",
       "      <th>AK</th>\n",
       "      <th>ANCHORAGE</th>\n",
       "      <td>NaN</td>\n",
       "      <td>1238.0</td>\n",
       "    </tr>\n",
       "    <tr>\n",
       "      <th>2008-06-04 19:50:00</th>\n",
       "      <th>AK</th>\n",
       "      <th>ANCHORAGE</th>\n",
       "      <td>NaN</td>\n",
       "      <td>1266.0</td>\n",
       "    </tr>\n",
       "  </tbody>\n",
       "</table>\n",
       "</div>"
      ],
      "text/plain": [
       "                                     Dose_Rate  Gamma_Count\n",
       "Time                State City                             \n",
       "2008-06-04 15:49:00 AK    ANCHORAGE        NaN       1322.0\n",
       "2008-06-04 16:49:00 AK    ANCHORAGE        NaN       1215.0\n",
       "2008-06-04 17:50:00 AK    ANCHORAGE        NaN       1223.0\n",
       "2008-06-04 18:50:00 AK    ANCHORAGE        NaN       1238.0\n",
       "2008-06-04 19:50:00 AK    ANCHORAGE        NaN       1266.0"
      ]
     },
     "execution_count": 177,
     "metadata": {},
     "output_type": "execute_result"
    }
   ],
   "source": [
    "dff.head()"
   ]
  },
  {
   "cell_type": "code",
   "execution_count": 182,
   "id": "appreciated-mainland",
   "metadata": {},
   "outputs": [
    {
     "name": "stdout",
     "output_type": "stream",
     "text": [
      "Wall time: 235 ms\n"
     ]
    }
   ],
   "source": [
    "%%time\n",
    "dff2 = dff.rolling(int(50000)).mean().reset_index()"
   ]
  },
  {
   "cell_type": "code",
   "execution_count": 184,
   "id": "appropriate-exhaust",
   "metadata": {},
   "outputs": [
    {
     "name": "stdout",
     "output_type": "stream",
     "text": [
      "Wall time: 1.44 s\n"
     ]
    }
   ],
   "source": [
    "%%time\n",
    "dff = dff.dropna(subset=['Gamma_Count'])"
   ]
  },
  {
   "cell_type": "code",
   "execution_count": 36,
   "id": "talented-depression",
   "metadata": {},
   "outputs": [
    {
     "name": "stdout",
     "output_type": "stream",
     "text": [
      "Wall time: 45 ms\n"
     ]
    },
    {
     "data": {
      "text/plain": [
       "Timestamp('2020-12-31 19:12:00')"
      ]
     },
     "execution_count": 36,
     "metadata": {},
     "output_type": "execute_result"
    }
   ],
   "source": [
    "%%time \n",
    "end_date = df_data.Time.max()\n",
    "end_date"
   ]
  },
  {
   "cell_type": "code",
   "execution_count": 23,
   "id": "usual-hebrew",
   "metadata": {},
   "outputs": [
    {
     "name": "stdout",
     "output_type": "stream",
     "text": [
      "Wall time: 1min 20s\n"
     ]
    }
   ],
   "source": [
    "%%time \n",
    "end_date = max(df_data.Time)"
   ]
  },
  {
   "cell_type": "code",
   "execution_count": 33,
   "id": "offshore-indonesia",
   "metadata": {},
   "outputs": [
    {
     "name": "stdout",
     "output_type": "stream",
     "text": [
      "Wall time: 4.77 s\n"
     ]
    },
    {
     "data": {
      "text/plain": [
       "Timestamp('2020-12-31 19:12:00')"
      ]
     },
     "execution_count": 33,
     "metadata": {},
     "output_type": "execute_result"
    }
   ],
   "source": [
    "%%time\n",
    "df_data.sort_values('Time').iloc[-1].Time"
   ]
  },
  {
   "cell_type": "code",
   "execution_count": 24,
   "id": "aboriginal-corpus",
   "metadata": {},
   "outputs": [
    {
     "name": "stdout",
     "output_type": "stream",
     "text": [
      "Wall time: 0 ns\n"
     ]
    }
   ],
   "source": [
    "%%time\n",
    "start_date = end_date - relativedelta(years=1)"
   ]
  },
  {
   "cell_type": "code",
   "execution_count": 19,
   "id": "determined-burke",
   "metadata": {},
   "outputs": [
    {
     "name": "stdout",
     "output_type": "stream",
     "text": [
      "2019-12-31 19:12:00 2020-12-31 19:12:00\n"
     ]
    }
   ],
   "source": [
    "print(start_date, end_date)"
   ]
  },
  {
   "cell_type": "code",
   "execution_count": null,
   "id": "standing-arkansas",
   "metadata": {},
   "outputs": [],
   "source": []
  },
  {
   "cell_type": "code",
   "execution_count": 25,
   "id": "former-syndication",
   "metadata": {},
   "outputs": [],
   "source": [
    "groupby_value='day'"
   ]
  },
  {
   "cell_type": "code",
   "execution_count": 89,
   "id": "retained-running",
   "metadata": {},
   "outputs": [
    {
     "name": "stdout",
     "output_type": "stream",
     "text": [
      "Wall time: 373 ms\n"
     ]
    },
    {
     "data": {
      "text/plain": [
       "(1035372, 5)"
      ]
     },
     "execution_count": 89,
     "metadata": {},
     "output_type": "execute_result"
    }
   ],
   "source": [
    "%%time\n",
    "dff = df_data.loc[(df_data.Time > start_date) & (df_data.Time <= end_date)]\n",
    "dff.shape"
   ]
  },
  {
   "cell_type": "code",
   "execution_count": 66,
   "id": "aboriginal-mistress",
   "metadata": {},
   "outputs": [
    {
     "name": "stdout",
     "output_type": "stream",
     "text": [
      "Wall time: 7.99 s\n"
     ]
    }
   ],
   "source": [
    "%%time\n",
    "dff[groupby_value] = [getattr(i, groupby_value) for i in dff.Time] "
   ]
  },
  {
   "cell_type": "code",
   "execution_count": 67,
   "id": "critical-testing",
   "metadata": {},
   "outputs": [
    {
     "name": "stdout",
     "output_type": "stream",
     "text": [
      "Wall time: 612 ms\n"
     ]
    }
   ],
   "source": [
    "%%time\n",
    "cols = ['State', 'City', groupby_value]    \n",
    "dff_1 = dff.groupby(cols, as_index=False)['Dose_Rate', 'Gamma_Count'].median()"
   ]
  },
  {
   "cell_type": "code",
   "execution_count": null,
   "id": "recent-tract",
   "metadata": {},
   "outputs": [],
   "source": []
  },
  {
   "cell_type": "code",
   "execution_count": 68,
   "id": "tutorial-spine",
   "metadata": {},
   "outputs": [
    {
     "data": {
      "text/html": [
       "<div>\n",
       "<style scoped>\n",
       "    .dataframe tbody tr th:only-of-type {\n",
       "        vertical-align: middle;\n",
       "    }\n",
       "\n",
       "    .dataframe tbody tr th {\n",
       "        vertical-align: top;\n",
       "    }\n",
       "\n",
       "    .dataframe thead th {\n",
       "        text-align: right;\n",
       "    }\n",
       "</style>\n",
       "<table border=\"1\" class=\"dataframe\">\n",
       "  <thead>\n",
       "    <tr style=\"text-align: right;\">\n",
       "      <th></th>\n",
       "      <th>State</th>\n",
       "      <th>City</th>\n",
       "      <th>day</th>\n",
       "      <th>Dose_Rate</th>\n",
       "      <th>Gamma_Count</th>\n",
       "    </tr>\n",
       "  </thead>\n",
       "  <tbody>\n",
       "    <tr>\n",
       "      <th>0</th>\n",
       "      <td>AK</td>\n",
       "      <td>ANCHORAGE</td>\n",
       "      <td>1</td>\n",
       "      <td>33.0</td>\n",
       "      <td>1641.0</td>\n",
       "    </tr>\n",
       "    <tr>\n",
       "      <th>1</th>\n",
       "      <td>AK</td>\n",
       "      <td>ANCHORAGE</td>\n",
       "      <td>2</td>\n",
       "      <td>33.0</td>\n",
       "      <td>1670.0</td>\n",
       "    </tr>\n",
       "    <tr>\n",
       "      <th>2</th>\n",
       "      <td>AK</td>\n",
       "      <td>ANCHORAGE</td>\n",
       "      <td>3</td>\n",
       "      <td>33.0</td>\n",
       "      <td>1646.0</td>\n",
       "    </tr>\n",
       "    <tr>\n",
       "      <th>3</th>\n",
       "      <td>AK</td>\n",
       "      <td>ANCHORAGE</td>\n",
       "      <td>4</td>\n",
       "      <td>32.0</td>\n",
       "      <td>1626.0</td>\n",
       "    </tr>\n",
       "    <tr>\n",
       "      <th>4</th>\n",
       "      <td>AK</td>\n",
       "      <td>ANCHORAGE</td>\n",
       "      <td>5</td>\n",
       "      <td>32.0</td>\n",
       "      <td>1647.0</td>\n",
       "    </tr>\n",
       "    <tr>\n",
       "      <th>...</th>\n",
       "      <td>...</td>\n",
       "      <td>...</td>\n",
       "      <td>...</td>\n",
       "      <td>...</td>\n",
       "      <td>...</td>\n",
       "    </tr>\n",
       "    <tr>\n",
       "      <th>4316</th>\n",
       "      <td>WY</td>\n",
       "      <td>CASPER</td>\n",
       "      <td>27</td>\n",
       "      <td>100.0</td>\n",
       "      <td>5502.0</td>\n",
       "    </tr>\n",
       "    <tr>\n",
       "      <th>4317</th>\n",
       "      <td>WY</td>\n",
       "      <td>CASPER</td>\n",
       "      <td>28</td>\n",
       "      <td>99.0</td>\n",
       "      <td>5420.0</td>\n",
       "    </tr>\n",
       "    <tr>\n",
       "      <th>4318</th>\n",
       "      <td>WY</td>\n",
       "      <td>CASPER</td>\n",
       "      <td>29</td>\n",
       "      <td>101.0</td>\n",
       "      <td>5522.0</td>\n",
       "    </tr>\n",
       "    <tr>\n",
       "      <th>4319</th>\n",
       "      <td>WY</td>\n",
       "      <td>CASPER</td>\n",
       "      <td>30</td>\n",
       "      <td>102.0</td>\n",
       "      <td>5451.5</td>\n",
       "    </tr>\n",
       "    <tr>\n",
       "      <th>4320</th>\n",
       "      <td>WY</td>\n",
       "      <td>CASPER</td>\n",
       "      <td>31</td>\n",
       "      <td>100.0</td>\n",
       "      <td>5412.0</td>\n",
       "    </tr>\n",
       "  </tbody>\n",
       "</table>\n",
       "<p>4321 rows × 5 columns</p>\n",
       "</div>"
      ],
      "text/plain": [
       "     State       City  day  Dose_Rate  Gamma_Count\n",
       "0       AK  ANCHORAGE    1       33.0       1641.0\n",
       "1       AK  ANCHORAGE    2       33.0       1670.0\n",
       "2       AK  ANCHORAGE    3       33.0       1646.0\n",
       "3       AK  ANCHORAGE    4       32.0       1626.0\n",
       "4       AK  ANCHORAGE    5       32.0       1647.0\n",
       "...    ...        ...  ...        ...          ...\n",
       "4316    WY     CASPER   27      100.0       5502.0\n",
       "4317    WY     CASPER   28       99.0       5420.0\n",
       "4318    WY     CASPER   29      101.0       5522.0\n",
       "4319    WY     CASPER   30      102.0       5451.5\n",
       "4320    WY     CASPER   31      100.0       5412.0\n",
       "\n",
       "[4321 rows x 5 columns]"
      ]
     },
     "execution_count": 68,
     "metadata": {},
     "output_type": "execute_result"
    }
   ],
   "source": [
    "dff_1"
   ]
  },
  {
   "cell_type": "code",
   "execution_count": 90,
   "id": "minimal-jordan",
   "metadata": {},
   "outputs": [
    {
     "name": "stdout",
     "output_type": "stream",
     "text": [
      "(1035372, 5)\n"
     ]
    },
    {
     "data": {
      "text/html": [
       "<div>\n",
       "<style scoped>\n",
       "    .dataframe tbody tr th:only-of-type {\n",
       "        vertical-align: middle;\n",
       "    }\n",
       "\n",
       "    .dataframe tbody tr th {\n",
       "        vertical-align: top;\n",
       "    }\n",
       "\n",
       "    .dataframe thead th {\n",
       "        text-align: right;\n",
       "    }\n",
       "</style>\n",
       "<table border=\"1\" class=\"dataframe\">\n",
       "  <thead>\n",
       "    <tr style=\"text-align: right;\">\n",
       "      <th></th>\n",
       "      <th>State</th>\n",
       "      <th>City</th>\n",
       "      <th>Time</th>\n",
       "      <th>Dose_Rate</th>\n",
       "      <th>Gamma_Count</th>\n",
       "    </tr>\n",
       "  </thead>\n",
       "  <tbody>\n",
       "    <tr>\n",
       "      <th>78091</th>\n",
       "      <td>AK</td>\n",
       "      <td>ANCHORAGE</td>\n",
       "      <td>2019-12-31 20:05:00</td>\n",
       "      <td>38.0</td>\n",
       "      <td>1815.0</td>\n",
       "    </tr>\n",
       "    <tr>\n",
       "      <th>78092</th>\n",
       "      <td>AK</td>\n",
       "      <td>ANCHORAGE</td>\n",
       "      <td>2019-12-31 21:05:00</td>\n",
       "      <td>43.0</td>\n",
       "      <td>1982.0</td>\n",
       "    </tr>\n",
       "    <tr>\n",
       "      <th>78093</th>\n",
       "      <td>AK</td>\n",
       "      <td>ANCHORAGE</td>\n",
       "      <td>2019-12-31 22:05:00</td>\n",
       "      <td>43.0</td>\n",
       "      <td>2155.0</td>\n",
       "    </tr>\n",
       "    <tr>\n",
       "      <th>78094</th>\n",
       "      <td>AK</td>\n",
       "      <td>ANCHORAGE</td>\n",
       "      <td>2019-12-31 23:05:00</td>\n",
       "      <td>44.0</td>\n",
       "      <td>2503.0</td>\n",
       "    </tr>\n",
       "    <tr>\n",
       "      <th>78095</th>\n",
       "      <td>AK</td>\n",
       "      <td>ANCHORAGE</td>\n",
       "      <td>2020-01-01 00:06:00</td>\n",
       "      <td>48.0</td>\n",
       "      <td>2583.0</td>\n",
       "    </tr>\n",
       "  </tbody>\n",
       "</table>\n",
       "</div>"
      ],
      "text/plain": [
       "      State       City                Time  Dose_Rate  Gamma_Count\n",
       "78091    AK  ANCHORAGE 2019-12-31 20:05:00       38.0       1815.0\n",
       "78092    AK  ANCHORAGE 2019-12-31 21:05:00       43.0       1982.0\n",
       "78093    AK  ANCHORAGE 2019-12-31 22:05:00       43.0       2155.0\n",
       "78094    AK  ANCHORAGE 2019-12-31 23:05:00       44.0       2503.0\n",
       "78095    AK  ANCHORAGE 2020-01-01 00:06:00       48.0       2583.0"
      ]
     },
     "execution_count": 90,
     "metadata": {},
     "output_type": "execute_result"
    }
   ],
   "source": [
    "print(dff.shape)\n",
    "dff.head()"
   ]
  },
  {
   "cell_type": "code",
   "execution_count": 93,
   "id": "overhead-richards",
   "metadata": {},
   "outputs": [],
   "source": [
    "dff['groupy_time'] = getattr(dff.Time.dt, 'year')"
   ]
  },
  {
   "cell_type": "code",
   "execution_count": 95,
   "id": "indian-township",
   "metadata": {},
   "outputs": [
    {
     "name": "stdout",
     "output_type": "stream",
     "text": [
      "(1035372, 6)\n"
     ]
    },
    {
     "data": {
      "text/html": [
       "<div>\n",
       "<style scoped>\n",
       "    .dataframe tbody tr th:only-of-type {\n",
       "        vertical-align: middle;\n",
       "    }\n",
       "\n",
       "    .dataframe tbody tr th {\n",
       "        vertical-align: top;\n",
       "    }\n",
       "\n",
       "    .dataframe thead th {\n",
       "        text-align: right;\n",
       "    }\n",
       "</style>\n",
       "<table border=\"1\" class=\"dataframe\">\n",
       "  <thead>\n",
       "    <tr style=\"text-align: right;\">\n",
       "      <th></th>\n",
       "      <th>State</th>\n",
       "      <th>City</th>\n",
       "      <th>Time</th>\n",
       "      <th>Dose_Rate</th>\n",
       "      <th>Gamma_Count</th>\n",
       "      <th>groupy_time</th>\n",
       "    </tr>\n",
       "  </thead>\n",
       "  <tbody>\n",
       "    <tr>\n",
       "      <th>78091</th>\n",
       "      <td>AK</td>\n",
       "      <td>ANCHORAGE</td>\n",
       "      <td>2019-12-31 20:05:00</td>\n",
       "      <td>38.0</td>\n",
       "      <td>1815.0</td>\n",
       "      <td>2019</td>\n",
       "    </tr>\n",
       "    <tr>\n",
       "      <th>78092</th>\n",
       "      <td>AK</td>\n",
       "      <td>ANCHORAGE</td>\n",
       "      <td>2019-12-31 21:05:00</td>\n",
       "      <td>43.0</td>\n",
       "      <td>1982.0</td>\n",
       "      <td>2019</td>\n",
       "    </tr>\n",
       "    <tr>\n",
       "      <th>78093</th>\n",
       "      <td>AK</td>\n",
       "      <td>ANCHORAGE</td>\n",
       "      <td>2019-12-31 22:05:00</td>\n",
       "      <td>43.0</td>\n",
       "      <td>2155.0</td>\n",
       "      <td>2019</td>\n",
       "    </tr>\n",
       "    <tr>\n",
       "      <th>78094</th>\n",
       "      <td>AK</td>\n",
       "      <td>ANCHORAGE</td>\n",
       "      <td>2019-12-31 23:05:00</td>\n",
       "      <td>44.0</td>\n",
       "      <td>2503.0</td>\n",
       "      <td>2019</td>\n",
       "    </tr>\n",
       "    <tr>\n",
       "      <th>78095</th>\n",
       "      <td>AK</td>\n",
       "      <td>ANCHORAGE</td>\n",
       "      <td>2020-01-01 00:06:00</td>\n",
       "      <td>48.0</td>\n",
       "      <td>2583.0</td>\n",
       "      <td>2020</td>\n",
       "    </tr>\n",
       "  </tbody>\n",
       "</table>\n",
       "</div>"
      ],
      "text/plain": [
       "      State       City                Time  Dose_Rate  Gamma_Count  \\\n",
       "78091    AK  ANCHORAGE 2019-12-31 20:05:00       38.0       1815.0   \n",
       "78092    AK  ANCHORAGE 2019-12-31 21:05:00       43.0       1982.0   \n",
       "78093    AK  ANCHORAGE 2019-12-31 22:05:00       43.0       2155.0   \n",
       "78094    AK  ANCHORAGE 2019-12-31 23:05:00       44.0       2503.0   \n",
       "78095    AK  ANCHORAGE 2020-01-01 00:06:00       48.0       2583.0   \n",
       "\n",
       "       groupy_time  \n",
       "78091         2019  \n",
       "78092         2019  \n",
       "78093         2019  \n",
       "78094         2019  \n",
       "78095         2020  "
      ]
     },
     "execution_count": 95,
     "metadata": {},
     "output_type": "execute_result"
    }
   ],
   "source": [
    "print(dff.shape)\n",
    "dff.head()"
   ]
  },
  {
   "cell_type": "code",
   "execution_count": 78,
   "id": "transsexual-lyric",
   "metadata": {},
   "outputs": [
    {
     "name": "stdout",
     "output_type": "stream",
     "text": [
      "Wall time: 770 ms\n"
     ]
    }
   ],
   "source": [
    "%%time\n",
    "cols = ['State', 'City', dff.Time.dt.month]    \n",
    "dff_2 = dff.groupby(cols, as_index=False)['Dose_Rate', 'Gamma_Count'].median()"
   ]
  },
  {
   "cell_type": "code",
   "execution_count": 79,
   "id": "attractive-bracket",
   "metadata": {},
   "outputs": [
    {
     "data": {
      "text/html": [
       "<div>\n",
       "<style scoped>\n",
       "    .dataframe tbody tr th:only-of-type {\n",
       "        vertical-align: middle;\n",
       "    }\n",
       "\n",
       "    .dataframe tbody tr th {\n",
       "        vertical-align: top;\n",
       "    }\n",
       "\n",
       "    .dataframe thead th {\n",
       "        text-align: right;\n",
       "    }\n",
       "</style>\n",
       "<table border=\"1\" class=\"dataframe\">\n",
       "  <thead>\n",
       "    <tr style=\"text-align: right;\">\n",
       "      <th></th>\n",
       "      <th>State</th>\n",
       "      <th>City</th>\n",
       "      <th>Dose_Rate</th>\n",
       "      <th>Gamma_Count</th>\n",
       "    </tr>\n",
       "  </thead>\n",
       "  <tbody>\n",
       "    <tr>\n",
       "      <th>0</th>\n",
       "      <td>AK</td>\n",
       "      <td>ANCHORAGE</td>\n",
       "      <td>33.0</td>\n",
       "      <td>1676.0</td>\n",
       "    </tr>\n",
       "    <tr>\n",
       "      <th>1</th>\n",
       "      <td>AK</td>\n",
       "      <td>ANCHORAGE</td>\n",
       "      <td>32.0</td>\n",
       "      <td>1562.0</td>\n",
       "    </tr>\n",
       "    <tr>\n",
       "      <th>2</th>\n",
       "      <td>AK</td>\n",
       "      <td>ANCHORAGE</td>\n",
       "      <td>30.0</td>\n",
       "      <td>1494.0</td>\n",
       "    </tr>\n",
       "    <tr>\n",
       "      <th>3</th>\n",
       "      <td>AK</td>\n",
       "      <td>ANCHORAGE</td>\n",
       "      <td>32.0</td>\n",
       "      <td>1601.0</td>\n",
       "    </tr>\n",
       "    <tr>\n",
       "      <th>4</th>\n",
       "      <td>AK</td>\n",
       "      <td>ANCHORAGE</td>\n",
       "      <td>31.0</td>\n",
       "      <td>1608.0</td>\n",
       "    </tr>\n",
       "    <tr>\n",
       "      <th>...</th>\n",
       "      <td>...</td>\n",
       "      <td>...</td>\n",
       "      <td>...</td>\n",
       "      <td>...</td>\n",
       "    </tr>\n",
       "    <tr>\n",
       "      <th>1612</th>\n",
       "      <td>WY</td>\n",
       "      <td>CASPER</td>\n",
       "      <td>101.0</td>\n",
       "      <td>5584.0</td>\n",
       "    </tr>\n",
       "    <tr>\n",
       "      <th>1613</th>\n",
       "      <td>WY</td>\n",
       "      <td>CASPER</td>\n",
       "      <td>100.0</td>\n",
       "      <td>5622.0</td>\n",
       "    </tr>\n",
       "    <tr>\n",
       "      <th>1614</th>\n",
       "      <td>WY</td>\n",
       "      <td>CASPER</td>\n",
       "      <td>101.0</td>\n",
       "      <td>5625.0</td>\n",
       "    </tr>\n",
       "    <tr>\n",
       "      <th>1615</th>\n",
       "      <td>WY</td>\n",
       "      <td>CASPER</td>\n",
       "      <td>103.0</td>\n",
       "      <td>5563.0</td>\n",
       "    </tr>\n",
       "    <tr>\n",
       "      <th>1616</th>\n",
       "      <td>WY</td>\n",
       "      <td>CASPER</td>\n",
       "      <td>103.0</td>\n",
       "      <td>5452.0</td>\n",
       "    </tr>\n",
       "  </tbody>\n",
       "</table>\n",
       "<p>1617 rows × 4 columns</p>\n",
       "</div>"
      ],
      "text/plain": [
       "     State       City  Dose_Rate  Gamma_Count\n",
       "0       AK  ANCHORAGE       33.0       1676.0\n",
       "1       AK  ANCHORAGE       32.0       1562.0\n",
       "2       AK  ANCHORAGE       30.0       1494.0\n",
       "3       AK  ANCHORAGE       32.0       1601.0\n",
       "4       AK  ANCHORAGE       31.0       1608.0\n",
       "...    ...        ...        ...          ...\n",
       "1612    WY     CASPER      101.0       5584.0\n",
       "1613    WY     CASPER      100.0       5622.0\n",
       "1614    WY     CASPER      101.0       5625.0\n",
       "1615    WY     CASPER      103.0       5563.0\n",
       "1616    WY     CASPER      103.0       5452.0\n",
       "\n",
       "[1617 rows x 4 columns]"
      ]
     },
     "execution_count": 79,
     "metadata": {},
     "output_type": "execute_result"
    }
   ],
   "source": [
    "dff_2"
   ]
  },
  {
   "cell_type": "code",
   "execution_count": null,
   "id": "seeing-study",
   "metadata": {},
   "outputs": [],
   "source": []
  },
  {
   "cell_type": "code",
   "execution_count": null,
   "id": "christian-shakespeare",
   "metadata": {},
   "outputs": [],
   "source": []
  },
  {
   "cell_type": "code",
   "execution_count": 96,
   "id": "frozen-salmon",
   "metadata": {},
   "outputs": [],
   "source": [
    "def merge_coordinates(data):\n",
    "    dff = pd.merge(data, df_coord, on=['City', 'State'], how='inner')\n",
    "    return dff"
   ]
  },
  {
   "cell_type": "code",
   "execution_count": 100,
   "id": "yellow-camera",
   "metadata": {},
   "outputs": [
    {
     "name": "stdout",
     "output_type": "stream",
     "text": [
      "Wall time: 751 ms\n"
     ]
    },
    {
     "data": {
      "text/html": [
       "<div>\n",
       "<style scoped>\n",
       "    .dataframe tbody tr th:only-of-type {\n",
       "        vertical-align: middle;\n",
       "    }\n",
       "\n",
       "    .dataframe tbody tr th {\n",
       "        vertical-align: top;\n",
       "    }\n",
       "\n",
       "    .dataframe thead th {\n",
       "        text-align: right;\n",
       "    }\n",
       "</style>\n",
       "<table border=\"1\" class=\"dataframe\">\n",
       "  <thead>\n",
       "    <tr style=\"text-align: right;\">\n",
       "      <th></th>\n",
       "      <th>State</th>\n",
       "      <th>City</th>\n",
       "      <th>Time</th>\n",
       "      <th>Dose_Rate</th>\n",
       "      <th>Gamma_Count</th>\n",
       "      <th>groupy_time</th>\n",
       "      <th>lat</th>\n",
       "      <th>lng</th>\n",
       "      <th>Elevation</th>\n",
       "    </tr>\n",
       "  </thead>\n",
       "  <tbody>\n",
       "    <tr>\n",
       "      <th>0</th>\n",
       "      <td>AK</td>\n",
       "      <td>ANCHORAGE</td>\n",
       "      <td>2019-12-31 20:05:00</td>\n",
       "      <td>38.0</td>\n",
       "      <td>1815.0</td>\n",
       "      <td>2019</td>\n",
       "      <td>61.1508</td>\n",
       "      <td>-149.1091</td>\n",
       "      <td>236.45</td>\n",
       "    </tr>\n",
       "    <tr>\n",
       "      <th>1</th>\n",
       "      <td>AK</td>\n",
       "      <td>ANCHORAGE</td>\n",
       "      <td>2019-12-31 21:05:00</td>\n",
       "      <td>43.0</td>\n",
       "      <td>1982.0</td>\n",
       "      <td>2019</td>\n",
       "      <td>61.1508</td>\n",
       "      <td>-149.1091</td>\n",
       "      <td>236.45</td>\n",
       "    </tr>\n",
       "    <tr>\n",
       "      <th>2</th>\n",
       "      <td>AK</td>\n",
       "      <td>ANCHORAGE</td>\n",
       "      <td>2019-12-31 22:05:00</td>\n",
       "      <td>43.0</td>\n",
       "      <td>2155.0</td>\n",
       "      <td>2019</td>\n",
       "      <td>61.1508</td>\n",
       "      <td>-149.1091</td>\n",
       "      <td>236.45</td>\n",
       "    </tr>\n",
       "    <tr>\n",
       "      <th>3</th>\n",
       "      <td>AK</td>\n",
       "      <td>ANCHORAGE</td>\n",
       "      <td>2019-12-31 23:05:00</td>\n",
       "      <td>44.0</td>\n",
       "      <td>2503.0</td>\n",
       "      <td>2019</td>\n",
       "      <td>61.1508</td>\n",
       "      <td>-149.1091</td>\n",
       "      <td>236.45</td>\n",
       "    </tr>\n",
       "    <tr>\n",
       "      <th>4</th>\n",
       "      <td>AK</td>\n",
       "      <td>ANCHORAGE</td>\n",
       "      <td>2020-01-01 00:06:00</td>\n",
       "      <td>48.0</td>\n",
       "      <td>2583.0</td>\n",
       "      <td>2020</td>\n",
       "      <td>61.1508</td>\n",
       "      <td>-149.1091</td>\n",
       "      <td>236.45</td>\n",
       "    </tr>\n",
       "  </tbody>\n",
       "</table>\n",
       "</div>"
      ],
      "text/plain": [
       "  State       City                Time  Dose_Rate  Gamma_Count  groupy_time  \\\n",
       "0    AK  ANCHORAGE 2019-12-31 20:05:00       38.0       1815.0         2019   \n",
       "1    AK  ANCHORAGE 2019-12-31 21:05:00       43.0       1982.0         2019   \n",
       "2    AK  ANCHORAGE 2019-12-31 22:05:00       43.0       2155.0         2019   \n",
       "3    AK  ANCHORAGE 2019-12-31 23:05:00       44.0       2503.0         2019   \n",
       "4    AK  ANCHORAGE 2020-01-01 00:06:00       48.0       2583.0         2020   \n",
       "\n",
       "       lat       lng  Elevation  \n",
       "0  61.1508 -149.1091     236.45  \n",
       "1  61.1508 -149.1091     236.45  \n",
       "2  61.1508 -149.1091     236.45  \n",
       "3  61.1508 -149.1091     236.45  \n",
       "4  61.1508 -149.1091     236.45  "
      ]
     },
     "execution_count": 100,
     "metadata": {},
     "output_type": "execute_result"
    }
   ],
   "source": [
    "%%time\n",
    "test_merge = merge_coordinates(dff)\n",
    "\n",
    "test_merge.head()"
   ]
  },
  {
   "cell_type": "code",
   "execution_count": 101,
   "id": "respected-builder",
   "metadata": {},
   "outputs": [
    {
     "name": "stdout",
     "output_type": "stream",
     "text": [
      "Wall time: 6.73 s\n"
     ]
    }
   ],
   "source": [
    "%%time\n",
    "test_merge = merge_coordinates(dff).to_json(date_format='iso', orient='split')"
   ]
  },
  {
   "cell_type": "code",
   "execution_count": null,
   "id": "mechanical-wealth",
   "metadata": {},
   "outputs": [],
   "source": []
  },
  {
   "cell_type": "code",
   "execution_count": null,
   "id": "acknowledged-pressure",
   "metadata": {},
   "outputs": [],
   "source": []
  },
  {
   "cell_type": "code",
   "execution_count": null,
   "id": "incident-gamma",
   "metadata": {},
   "outputs": [],
   "source": []
  },
  {
   "cell_type": "code",
   "execution_count": null,
   "id": "polish-jungle",
   "metadata": {},
   "outputs": [],
   "source": []
  }
 ],
 "metadata": {
  "kernelspec": {
   "display_name": "Python 3",
   "language": "python",
   "name": "python3"
  },
  "language_info": {
   "codemirror_mode": {
    "name": "ipython",
    "version": 3
   },
   "file_extension": ".py",
   "mimetype": "text/x-python",
   "name": "python",
   "nbconvert_exporter": "python",
   "pygments_lexer": "ipython3",
   "version": "3.7.9"
  },
  "toc": {
   "base_numbering": 1,
   "nav_menu": {},
   "number_sections": true,
   "sideBar": true,
   "skip_h1_title": false,
   "title_cell": "Table of Contents",
   "title_sidebar": "Contents",
   "toc_cell": false,
   "toc_position": {},
   "toc_section_display": true,
   "toc_window_display": false
  },
  "varInspector": {
   "cols": {
    "lenName": 16,
    "lenType": 16,
    "lenVar": 40
   },
   "kernels_config": {
    "python": {
     "delete_cmd_postfix": "",
     "delete_cmd_prefix": "del ",
     "library": "var_list.py",
     "varRefreshCmd": "print(var_dic_list())"
    },
    "r": {
     "delete_cmd_postfix": ") ",
     "delete_cmd_prefix": "rm(",
     "library": "var_list.r",
     "varRefreshCmd": "cat(var_dic_list()) "
    }
   },
   "types_to_exclude": [
    "module",
    "function",
    "builtin_function_or_method",
    "instance",
    "_Feature"
   ],
   "window_display": false
  }
 },
 "nbformat": 4,
 "nbformat_minor": 5
}
